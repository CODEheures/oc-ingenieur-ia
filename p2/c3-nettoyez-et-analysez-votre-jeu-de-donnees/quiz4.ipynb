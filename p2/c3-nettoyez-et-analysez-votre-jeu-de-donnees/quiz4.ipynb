{
 "cells": [
  {
   "cell_type": "code",
   "execution_count": 1,
   "id": "586f1929-4f9e-43b7-a19b-d1e8a38de581",
   "metadata": {},
   "outputs": [
    {
     "data": {
      "text/html": [
       "<div>\n",
       "<style scoped>\n",
       "    .dataframe tbody tr th:only-of-type {\n",
       "        vertical-align: middle;\n",
       "    }\n",
       "\n",
       "    .dataframe tbody tr th {\n",
       "        vertical-align: top;\n",
       "    }\n",
       "\n",
       "    .dataframe thead th {\n",
       "        text-align: right;\n",
       "    }\n",
       "</style>\n",
       "<table border=\"1\" class=\"dataframe\">\n",
       "  <thead>\n",
       "    <tr style=\"text-align: right;\">\n",
       "      <th></th>\n",
       "      <th>Position</th>\n",
       "      <th>Sexe</th>\n",
       "      <th>Temps</th>\n",
       "      <th>Dept</th>\n",
       "      <th>Temps_secondes</th>\n",
       "      <th>Age</th>\n",
       "    </tr>\n",
       "  </thead>\n",
       "  <tbody>\n",
       "    <tr>\n",
       "      <th>0</th>\n",
       "      <td>1</td>\n",
       "      <td>M</td>\n",
       "      <td>00:32:23</td>\n",
       "      <td>76</td>\n",
       "      <td>1643543</td>\n",
       "      <td>40</td>\n",
       "    </tr>\n",
       "    <tr>\n",
       "      <th>1</th>\n",
       "      <td>2</td>\n",
       "      <td>M</td>\n",
       "      <td>00:32:40</td>\n",
       "      <td>27</td>\n",
       "      <td>1643560</td>\n",
       "      <td>34</td>\n",
       "    </tr>\n",
       "    <tr>\n",
       "      <th>2</th>\n",
       "      <td>3</td>\n",
       "      <td>M</td>\n",
       "      <td>00:33:15</td>\n",
       "      <td>76</td>\n",
       "      <td>1643595</td>\n",
       "      <td>44</td>\n",
       "    </tr>\n",
       "    <tr>\n",
       "      <th>3</th>\n",
       "      <td>4</td>\n",
       "      <td>M</td>\n",
       "      <td>00:33:23</td>\n",
       "      <td>76</td>\n",
       "      <td>1643603</td>\n",
       "      <td>46</td>\n",
       "    </tr>\n",
       "    <tr>\n",
       "      <th>4</th>\n",
       "      <td>5</td>\n",
       "      <td>M</td>\n",
       "      <td>00:33:29</td>\n",
       "      <td>76</td>\n",
       "      <td>1643609</td>\n",
       "      <td>26</td>\n",
       "    </tr>\n",
       "  </tbody>\n",
       "</table>\n",
       "</div>"
      ],
      "text/plain": [
       "   Position Sexe     Temps  Dept  Temps_secondes  Age\n",
       "0         1    M  00:32:23    76         1643543   40\n",
       "1         2    M  00:32:40    27         1643560   34\n",
       "2         3    M  00:33:15    76         1643595   44\n",
       "3         4    M  00:33:23    76         1643603   46\n",
       "4         5    M  00:33:29    76         1643609   26"
      ]
     },
     "execution_count": 1,
     "metadata": {},
     "output_type": "execute_result"
    }
   ],
   "source": [
    "import pandas as pd\n",
    "\n",
    "df = pd.read_csv('quiz4.csv')\n",
    "df.head()"
   ]
  },
  {
   "cell_type": "code",
   "execution_count": 5,
   "id": "0a360f83-216b-4a3c-b9ff-99219761969c",
   "metadata": {},
   "outputs": [
    {
     "data": {
      "text/html": [
       "<div>\n",
       "<style scoped>\n",
       "    .dataframe tbody tr th:only-of-type {\n",
       "        vertical-align: middle;\n",
       "    }\n",
       "\n",
       "    .dataframe tbody tr th {\n",
       "        vertical-align: top;\n",
       "    }\n",
       "\n",
       "    .dataframe thead th {\n",
       "        text-align: right;\n",
       "    }\n",
       "</style>\n",
       "<table border=\"1\" class=\"dataframe\">\n",
       "  <thead>\n",
       "    <tr style=\"text-align: right;\">\n",
       "      <th></th>\n",
       "      <th>Position</th>\n",
       "      <th>Age</th>\n",
       "    </tr>\n",
       "  </thead>\n",
       "  <tbody>\n",
       "    <tr>\n",
       "      <th>0</th>\n",
       "      <td>1</td>\n",
       "      <td>40</td>\n",
       "    </tr>\n",
       "    <tr>\n",
       "      <th>1</th>\n",
       "      <td>2</td>\n",
       "      <td>34</td>\n",
       "    </tr>\n",
       "    <tr>\n",
       "      <th>2</th>\n",
       "      <td>3</td>\n",
       "      <td>44</td>\n",
       "    </tr>\n",
       "    <tr>\n",
       "      <th>3</th>\n",
       "      <td>4</td>\n",
       "      <td>46</td>\n",
       "    </tr>\n",
       "    <tr>\n",
       "      <th>4</th>\n",
       "      <td>5</td>\n",
       "      <td>26</td>\n",
       "    </tr>\n",
       "  </tbody>\n",
       "</table>\n",
       "</div>"
      ],
      "text/plain": [
       "   Position  Age\n",
       "0         1   40\n",
       "1         2   34\n",
       "2         3   44\n",
       "3         4   46\n",
       "4         5   26"
      ]
     },
     "execution_count": 5,
     "metadata": {},
     "output_type": "execute_result"
    }
   ],
   "source": [
    "subset1 = df.loc[:, ['Position', 'Age']].copy()\n",
    "subset1.head()"
   ]
  },
  {
   "cell_type": "code",
   "execution_count": 7,
   "id": "0e0b068b-f90a-4ff5-9dd0-c3a146844c73",
   "metadata": {},
   "outputs": [
    {
     "data": {
      "image/png": "[encoded data removed]",
      "text/plain": [
       "<Figure size 640x480 with 1 Axes>"
      ]
     },
     "metadata": {},
     "output_type": "display_data"
    }
   ],
   "source": [
    "import matplotlib.pyplot as plt\n",
    "\n",
    "plt.scatter(subset1['Position'], subset1['Age'])\n",
    "plt.show()"
   ]
  },
  {
   "cell_type": "code",
   "execution_count": 8,
   "id": "7bf5af8a-2e5d-4b45-a466-e61e899d5c28",
   "metadata": {},
   "outputs": [
    {
     "name": "stdout",
     "output_type": "stream",
     "text": [
      "170.5 41.95\n"
     ]
    }
   ],
   "source": [
    "import scipy.stats as st\n",
    "\n",
    "meanPosition = subset1['Position'].mean()\n",
    "meanAge = subset1['Age'].mean()\n",
    "\n",
    "print(meanPosition, meanAge)"
   ]
  },
  {
   "cell_type": "code",
   "execution_count": 11,
   "id": "bcb013a4-a601-4f12-931b-687967607c5a",
   "metadata": {},
   "outputs": [],
   "source": [
    "covarPosition = ((subset1['Position'] - meanPosition)*(subset1['Age'] - meanAge)).sum() / len(subset1)"
   ]
  },
  {
   "cell_type": "code",
   "execution_count": 12,
   "id": "9d003a7a-e6b5-43db-adc7-6194278fb389",
   "metadata": {},
   "outputs": [
    {
     "data": {
      "text/plain": [
       "125.69558823529412"
      ]
     },
     "execution_count": 12,
     "metadata": {},
     "output_type": "execute_result"
    }
   ],
   "source": [
    "covarPosition"
   ]
  },
  {
   "cell_type": "code",
   "execution_count": 13,
   "id": "a344aacb-e9ad-44c4-bd37-309ec924c746",
   "metadata": {},
   "outputs": [
    {
     "name": "stdout",
     "output_type": "stream",
     "text": [
      "98.29377735475764 12.092093762596358\n"
     ]
    }
   ],
   "source": [
    "stdPosition = subset1['Position'].std()\n",
    "stdAge = subset1['Age'].std()\n",
    "print(stdPosition, stdAge)"
   ]
  },
  {
   "cell_type": "code",
   "execution_count": 14,
   "id": "9154cda3-4b23-4a1f-bbf8-2e8891795a8b",
   "metadata": {},
   "outputs": [
    {
     "name": "stdout",
     "output_type": "stream",
     "text": [
      "0.10575295310185807\n"
     ]
    }
   ],
   "source": [
    "pearson = covarPosition/(stdPosition * stdAge)\n",
    "print(pearson)"
   ]
  },
  {
   "cell_type": "code",
   "execution_count": 15,
   "id": "c72766a0-021e-4507-867c-d9d81a232e03",
   "metadata": {},
   "outputs": [
    {
     "name": "stdout",
     "output_type": "stream",
     "text": [
      "0.10606490871572782\n"
     ]
    }
   ],
   "source": [
    "print(st.pearsonr(subset1['Position'], subset1['Age'])[0])"
   ]
  },
  {
   "cell_type": "code",
   "execution_count": 32,
   "id": "a333416d-30d4-46ed-84e5-34f812c5e2a2",
   "metadata": {},
   "outputs": [
    {
     "data": {
      "text/html": [
       "<div>\n",
       "<style scoped>\n",
       "    .dataframe tbody tr th:only-of-type {\n",
       "        vertical-align: middle;\n",
       "    }\n",
       "\n",
       "    .dataframe tbody tr th {\n",
       "        vertical-align: top;\n",
       "    }\n",
       "\n",
       "    .dataframe thead th {\n",
       "        text-align: right;\n",
       "    }\n",
       "</style>\n",
       "<table border=\"1\" class=\"dataframe\">\n",
       "  <thead>\n",
       "    <tr style=\"text-align: right;\">\n",
       "      <th></th>\n",
       "      <th>Position</th>\n",
       "      <th>Age</th>\n",
       "      <th>tranche</th>\n",
       "    </tr>\n",
       "  </thead>\n",
       "  <tbody>\n",
       "    <tr>\n",
       "      <th>0</th>\n",
       "      <td>1</td>\n",
       "      <td>40</td>\n",
       "      <td>(30, 40]</td>\n",
       "    </tr>\n",
       "    <tr>\n",
       "      <th>1</th>\n",
       "      <td>2</td>\n",
       "      <td>34</td>\n",
       "      <td>(30, 40]</td>\n",
       "    </tr>\n",
       "    <tr>\n",
       "      <th>2</th>\n",
       "      <td>3</td>\n",
       "      <td>44</td>\n",
       "      <td>(40, 50]</td>\n",
       "    </tr>\n",
       "    <tr>\n",
       "      <th>3</th>\n",
       "      <td>4</td>\n",
       "      <td>46</td>\n",
       "      <td>(40, 50]</td>\n",
       "    </tr>\n",
       "    <tr>\n",
       "      <th>4</th>\n",
       "      <td>5</td>\n",
       "      <td>26</td>\n",
       "      <td>(20, 30]</td>\n",
       "    </tr>\n",
       "  </tbody>\n",
       "</table>\n",
       "</div>"
      ],
      "text/plain": [
       "   Position  Age   tranche\n",
       "0         1   40  (30, 40]\n",
       "1         2   34  (30, 40]\n",
       "2         3   44  (40, 50]\n",
       "3         4   46  (40, 50]\n",
       "4         5   26  (20, 30]"
      ]
     },
     "execution_count": 32,
     "metadata": {},
     "output_type": "execute_result"
    }
   ],
   "source": [
    "import numpy as np\n",
    "\n",
    "tranches = np.arange(10,90,10)\n",
    "subset1['tranche'] = pd.cut(subset1['Age'], tranches)\n",
    "subset1.head()"
   ]
  },
  {
   "cell_type": "code",
   "execution_count": 34,
   "id": "c1b72c2f-812d-41fb-a1c0-b638786f07ae",
   "metadata": {},
   "outputs": [
    {
     "data": {
      "text/plain": [
       "<AxesSubplot:title={'center':'Position'}, xlabel='tranche'>"
      ]
     },
     "execution_count": 34,
     "metadata": {},
     "output_type": "execute_result"
    },
    {
     "data": {
      "image/png": "[encoded data removed]",
      "text/plain": [
       "<Figure size 1000x500 with 1 Axes>"
      ]
     },
     "metadata": {},
     "output_type": "display_data"
    }
   ],
   "source": [
    "subset1.boxplot(column='Position', by='tranche', figsize=(10,5), showfliers=False)"
   ]
  },
  {
   "cell_type": "code",
   "execution_count": 36,
   "id": "af02144b-d008-422f-b12c-bde07a30205e",
   "metadata": {},
   "outputs": [
    {
     "name": "stdout",
     "output_type": "stream",
     "text": [
      "Age            0.862177\n",
      "intercept    134.331691\n",
      "dtype: float64\n",
      "0.8621766194622952 134.33169081355675\n"
     ]
    }
   ],
   "source": [
    "import statsmodels.api as sm\n",
    "Y = subset1['Position']\n",
    "X = subset1[['Age']]\n",
    "X = X.copy()\n",
    "X['intercept'] = 1.\n",
    "result = sm.OLS(Y, X).fit()\n",
    "print(result.params)\n",
    "a,b = result.params['Age'], result.params['intercept']\n",
    "print (a,b)"
   ]
  },
  {
   "cell_type": "code",
   "execution_count": 38,
   "id": "08fc86f7-92a7-4ee0-8b61-529a000e7fa8",
   "metadata": {},
   "outputs": [
    {
     "data": {
      "image/png": "[encoded data removed]",
      "text/plain": [
       "<Figure size 640x480 with 1 Axes>"
      ]
     },
     "metadata": {},
     "output_type": "display_data"
    }
   ],
   "source": [
    "plt.scatter(subset1['Age'], subset1['Position'])\n",
    "plt.plot(np.arange(18,74,1), [a*x + b for x in np.arange(18,74,1)])\n",
    "plt.show()"
   ]
  },
  {
   "cell_type": "code",
   "execution_count": 39,
   "id": "dd918e5f-fbc9-45f2-b633-a2c0cae5e226",
   "metadata": {},
   "outputs": [
    {
     "data": {
      "text/plain": [
       "0.011183687089763793"
      ]
     },
     "execution_count": 39,
     "metadata": {},
     "output_type": "execute_result"
    }
   ],
   "source": [
    "r2 = pearson*pearson\n",
    "r2"
   ]
  },
  {
   "cell_type": "code",
   "execution_count": 41,
   "id": "7c9e80a6-9bdd-42dd-b4c7-0d161329cec9",
   "metadata": {},
   "outputs": [
    {
     "data": {
      "text/html": [
       "<div>\n",
       "<style scoped>\n",
       "    .dataframe tbody tr th:only-of-type {\n",
       "        vertical-align: middle;\n",
       "    }\n",
       "\n",
       "    .dataframe tbody tr th {\n",
       "        vertical-align: top;\n",
       "    }\n",
       "\n",
       "    .dataframe thead th {\n",
       "        text-align: right;\n",
       "    }\n",
       "</style>\n",
       "<table border=\"1\" class=\"dataframe\">\n",
       "  <thead>\n",
       "    <tr style=\"text-align: right;\">\n",
       "      <th></th>\n",
       "      <th>Sexe</th>\n",
       "      <th>Temps_secondes</th>\n",
       "    </tr>\n",
       "  </thead>\n",
       "  <tbody>\n",
       "    <tr>\n",
       "      <th>0</th>\n",
       "      <td>M</td>\n",
       "      <td>1643543</td>\n",
       "    </tr>\n",
       "    <tr>\n",
       "      <th>1</th>\n",
       "      <td>M</td>\n",
       "      <td>1643560</td>\n",
       "    </tr>\n",
       "    <tr>\n",
       "      <th>2</th>\n",
       "      <td>M</td>\n",
       "      <td>1643595</td>\n",
       "    </tr>\n",
       "    <tr>\n",
       "      <th>3</th>\n",
       "      <td>M</td>\n",
       "      <td>1643603</td>\n",
       "    </tr>\n",
       "    <tr>\n",
       "      <th>4</th>\n",
       "      <td>M</td>\n",
       "      <td>1643609</td>\n",
       "    </tr>\n",
       "  </tbody>\n",
       "</table>\n",
       "</div>"
      ],
      "text/plain": [
       "  Sexe  Temps_secondes\n",
       "0    M         1643543\n",
       "1    M         1643560\n",
       "2    M         1643595\n",
       "3    M         1643603\n",
       "4    M         1643609"
      ]
     },
     "execution_count": 41,
     "metadata": {},
     "output_type": "execute_result"
    }
   ],
   "source": [
    "subset2 = df.loc[:, ['Sexe','Temps_secondes']].copy()\n",
    "subset2.head()"
   ]
  },
  {
   "cell_type": "code",
   "execution_count": 43,
   "id": "091ad9b5-4a7c-4dc1-92b8-7c1840ab8f4a",
   "metadata": {},
   "outputs": [
    {
     "data": {
      "text/plain": [
       "<AxesSubplot:title={'center':'Temps_secondes'}, xlabel='Sexe'>"
      ]
     },
     "execution_count": 43,
     "metadata": {},
     "output_type": "execute_result"
    },
    {
     "data": {
      "image/png": "[encoded data removed]",
      "text/plain": [
       "<Figure size 640x480 with 1 Axes>"
      ]
     },
     "metadata": {},
     "output_type": "display_data"
    }
   ],
   "source": [
    "subset2.boxplot(column='Temps_secondes', by='Sexe', vert=False, patch_artist=True)"
   ]
  },
  {
   "cell_type": "code",
   "execution_count": 47,
   "id": "f2cfa6d1-d67e-493a-8212-612afb7b78c4",
   "metadata": {},
   "outputs": [],
   "source": [
    "mu = subset2['Temps_secondes'].mean()"
   ]
  },
  {
   "cell_type": "code",
   "execution_count": 48,
   "id": "ddd8b747-3e1b-45f6-8d61-5a035bfcd8f4",
   "metadata": {},
   "outputs": [
    {
     "data": {
      "text/plain": [
       "1644553.1235294119"
      ]
     },
     "execution_count": 48,
     "metadata": {},
     "output_type": "execute_result"
    }
   ],
   "source": [
    "mu"
   ]
  },
  {
   "cell_type": "code",
   "execution_count": 49,
   "id": "b125769f-c797-4d3c-9b0b-f44854eefb2c",
   "metadata": {},
   "outputs": [],
   "source": [
    "alphaMale = mu - subset2.loc[subset2['Sexe']=='M', 'Temps_secondes'].mean()"
   ]
  },
  {
   "cell_type": "code",
   "execution_count": 50,
   "id": "2abc2175-8737-4b95-a387-342197178200",
   "metadata": {},
   "outputs": [],
   "source": [
    "alphaFemale = mu - subset2.loc[subset2['Sexe']=='F', 'Temps_secondes'].mean()"
   ]
  },
  {
   "cell_type": "code",
   "execution_count": 51,
   "id": "f99c31ce-e683-4da3-9157-146a20d6e992",
   "metadata": {},
   "outputs": [
    {
     "name": "stdout",
     "output_type": "stream",
     "text": [
      "141.3372390891891 -380.9960358054377\n"
     ]
    }
   ],
   "source": [
    "print(alphaMale, alphaFemale)"
   ]
  },
  {
   "cell_type": "code",
   "execution_count": 52,
   "id": "cf01cfa2-d96c-4ea0-920f-653e134a9296",
   "metadata": {},
   "outputs": [],
   "source": [
    "effectifMale = len(subset2.loc[subset2['Sexe']=='M'])"
   ]
  },
  {
   "cell_type": "code",
   "execution_count": 54,
   "id": "f80a38fd-c660-4333-ae61-bed72691f541",
   "metadata": {},
   "outputs": [],
   "source": [
    "effectifFemale = len(subset2.loc[subset2['Sexe']=='F'])"
   ]
  },
  {
   "cell_type": "code",
   "execution_count": 55,
   "id": "931e95bb-2b7a-4afe-899f-ee9e84616725",
   "metadata": {},
   "outputs": [
    {
     "data": {
      "text/plain": [
       "92"
      ]
     },
     "execution_count": 55,
     "metadata": {},
     "output_type": "execute_result"
    }
   ],
   "source": [
    "effectifFemale"
   ]
  },
  {
   "cell_type": "code",
   "execution_count": 57,
   "id": "00ce56d8-1a46-4609-815f-6a4acb19e8fa",
   "metadata": {},
   "outputs": [],
   "source": [
    "meanMale = subset2.loc[subset2['Sexe']=='M', 'Temps_secondes'].mean()\n",
    "meanFemale = subset2.loc[subset2['Sexe']=='F', 'Temps_secondes'].mean()"
   ]
  },
  {
   "cell_type": "code",
   "execution_count": 72,
   "id": "e0a0f70c-2f03-45e9-9ccb-561881e09cf1",
   "metadata": {},
   "outputs": [],
   "source": [
    "SCE = effectifMale*(meanMale - mu)**2 + effectifFemale*(meanFemale - mu)**2"
   ]
  },
  {
   "cell_type": "code",
   "execution_count": 73,
   "id": "e194ef4f-b9a2-4b03-b84f-987ce33d344b",
   "metadata": {},
   "outputs": [
    {
     "data": {
      "text/plain": [
       "18308635.453582115"
      ]
     },
     "execution_count": 73,
     "metadata": {},
     "output_type": "execute_result"
    }
   ],
   "source": [
    "SCE"
   ]
  },
  {
   "cell_type": "code",
   "execution_count": 80,
   "id": "5f4e76ed-1450-4857-9594-263ac4fef8e2",
   "metadata": {},
   "outputs": [],
   "source": [
    "variationsMale = (((subset2.loc[subset2['Sexe']=='M', 'Temps_secondes'] - mu)**2).sum())"
   ]
  },
  {
   "cell_type": "code",
   "execution_count": 81,
   "id": "05562d1e-6c78-4865-a45f-1a85a083fef8",
   "metadata": {},
   "outputs": [],
   "source": [
    "variationsFemale = (((subset2.loc[subset2['Sexe']=='F', 'Temps_secondes'] - mu)**2).sum())"
   ]
  },
  {
   "cell_type": "code",
   "execution_count": 82,
   "id": "fbd72185-9a92-4375-8e9a-9429f31b8e0d",
   "metadata": {},
   "outputs": [],
   "source": [
    "SCT = variationsMale + variationsFemale"
   ]
  },
  {
   "cell_type": "code",
   "execution_count": 83,
   "id": "24dee6c4-0c67-4fc5-b749-51d8c92a385b",
   "metadata": {},
   "outputs": [
    {
     "data": {
      "text/plain": [
       "89745936.8117647"
      ]
     },
     "execution_count": 83,
     "metadata": {},
     "output_type": "execute_result"
    }
   ],
   "source": [
    "SCT"
   ]
  },
  {
   "cell_type": "code",
   "execution_count": 84,
   "id": "ab45c9af-2909-4ea3-a7f1-0da094589024",
   "metadata": {},
   "outputs": [],
   "source": [
    "eta_squared = SCE / SCT"
   ]
  },
  {
   "cell_type": "code",
   "execution_count": 85,
   "id": "501deffb-d394-49cb-b7dc-71f90049d236",
   "metadata": {},
   "outputs": [
    {
     "data": {
      "text/plain": [
       "0.20400517398334245"
      ]
     },
     "execution_count": 85,
     "metadata": {},
     "output_type": "execute_result"
    }
   ],
   "source": [
    "eta_squared"
   ]
  },
  {
   "cell_type": "code",
   "execution_count": 86,
   "id": "330b6bec-f7f4-46cf-94eb-58ea16f340fa",
   "metadata": {},
   "outputs": [
    {
     "name": "stdout",
     "output_type": "stream",
     "text": [
      "89745936.8117657 18308635.453582115\n"
     ]
    },
    {
     "data": {
      "text/plain": [
       "0.20400517398334017"
      ]
     },
     "execution_count": 86,
     "metadata": {},
     "output_type": "execute_result"
    }
   ],
   "source": [
    "X = \"Sexe\" # qualitative\n",
    "Y = \"Temps_secondes\" # quantitative\n",
    "\n",
    "sous_echantillon = subset2.copy()\n",
    "\n",
    "def eta_squared(x,y):\n",
    "    moyenne_y = y.mean()\n",
    "    classes = []\n",
    "    for classe in x.unique():\n",
    "        yi_classe = y[x==classe]\n",
    "        classes.append({'ni': len(yi_classe),\n",
    "                        'moyenne_classe': yi_classe.mean()})\n",
    "    SCT = sum([(yj-moyenne_y)**2 for yj in y])\n",
    "    SCE = sum([c['ni']*(c['moyenne_classe']-moyenne_y)**2 for c in classes])\n",
    "    print(SCT, SCE)\n",
    "    return SCE/SCT\n",
    "    \n",
    "eta_squared(sous_echantillon[X],sous_echantillon[Y])"
   ]
  },
  {
   "cell_type": "code",
   "execution_count": null,
   "id": "497851bf-3232-45f1-acd6-d56dd47045b6",
   "metadata": {},
   "outputs": [],
   "source": []
  }
 ],
 "metadata": {
  "kernelspec": {
   "display_name": "Python 3 (ipykernel)",
   "language": "python",
   "name": "python3"
  },
  "language_info": {
   "codemirror_mode": {
    "name": "ipython",
    "version": 3
   },
   "file_extension": ".py",
   "mimetype": "text/x-python",
   "name": "python",
   "nbconvert_exporter": "python",
   "pygments_lexer": "ipython3",
   "version": "3.9.13"
  }
 },
 "nbformat": 4,
 "nbformat_minor": 5
}
