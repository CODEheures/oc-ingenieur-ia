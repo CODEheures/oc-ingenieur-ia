{
 "cells": [
  {
   "cell_type": "code",
   "execution_count": 150,
   "id": "8fc3bd57-873d-47d6-9012-676a1c4f4096",
   "metadata": {},
   "outputs": [
    {
     "data": {
      "text/html": [
       "<div>\n",
       "<style scoped>\n",
       "    .dataframe tbody tr th:only-of-type {\n",
       "        vertical-align: middle;\n",
       "    }\n",
       "\n",
       "    .dataframe tbody tr th {\n",
       "        vertical-align: top;\n",
       "    }\n",
       "\n",
       "    .dataframe thead th {\n",
       "        text-align: right;\n",
       "    }\n",
       "</style>\n",
       "<table border=\"1\" class=\"dataframe\">\n",
       "  <thead>\n",
       "    <tr style=\"text-align: right;\">\n",
       "      <th></th>\n",
       "      <th>date_operation</th>\n",
       "      <th>libelle</th>\n",
       "      <th>montant</th>\n",
       "      <th>solde_avt_ope</th>\n",
       "      <th>categ</th>\n",
       "    </tr>\n",
       "  </thead>\n",
       "  <tbody>\n",
       "    <tr>\n",
       "      <th>0</th>\n",
       "      <td>2023-03-31</td>\n",
       "      <td>DON XX XX XX XX XX XX XX</td>\n",
       "      <td>-1.44</td>\n",
       "      <td>1515.25</td>\n",
       "      <td>AUTRE</td>\n",
       "    </tr>\n",
       "    <tr>\n",
       "      <th>1</th>\n",
       "      <td>2023-04-03</td>\n",
       "      <td>CARTE XX XX RAPT XX</td>\n",
       "      <td>-24.00</td>\n",
       "      <td>1513.81</td>\n",
       "      <td>TRANSPORT</td>\n",
       "    </tr>\n",
       "    <tr>\n",
       "      <th>2</th>\n",
       "      <td>2023-04-03</td>\n",
       "      <td>CARTE XX XX RAPT XX</td>\n",
       "      <td>-73.00</td>\n",
       "      <td>1489.81</td>\n",
       "      <td>TRANSPORT</td>\n",
       "    </tr>\n",
       "    <tr>\n",
       "      <th>3</th>\n",
       "      <td>2023-04-03</td>\n",
       "      <td>VIREMENT XX XX XX XX XX XX XX XX XX XX XX XX</td>\n",
       "      <td>676.00</td>\n",
       "      <td>1416.81</td>\n",
       "      <td>AUTRE</td>\n",
       "    </tr>\n",
       "    <tr>\n",
       "      <th>4</th>\n",
       "      <td>2023-04-03</td>\n",
       "      <td>VIREMENT XX XX XX XX XX XX</td>\n",
       "      <td>4.80</td>\n",
       "      <td>2092.81</td>\n",
       "      <td>AUTRE</td>\n",
       "    </tr>\n",
       "  </tbody>\n",
       "</table>\n",
       "</div>"
      ],
      "text/plain": [
       "  date_operation                                       libelle  montant  \\\n",
       "0     2023-03-31                      DON XX XX XX XX XX XX XX    -1.44   \n",
       "1     2023-04-03                           CARTE XX XX RAPT XX   -24.00   \n",
       "2     2023-04-03                           CARTE XX XX RAPT XX   -73.00   \n",
       "3     2023-04-03  VIREMENT XX XX XX XX XX XX XX XX XX XX XX XX   676.00   \n",
       "4     2023-04-03                    VIREMENT XX XX XX XX XX XX     4.80   \n",
       "\n",
       "   solde_avt_ope      categ  \n",
       "0        1515.25      AUTRE  \n",
       "1        1513.81  TRANSPORT  \n",
       "2        1489.81  TRANSPORT  \n",
       "3        1416.81      AUTRE  \n",
       "4        2092.81      AUTRE  "
      ]
     },
     "execution_count": 150,
     "metadata": {},
     "output_type": "execute_result"
    }
   ],
   "source": [
    "import pandas as pd\n",
    "\n",
    "df = pd.read_csv('operations.csv', parse_dates=['date_operation'], dtype={'categ': 'category'})\n",
    "\n",
    "df.head()"
   ]
  },
  {
   "cell_type": "code",
   "execution_count": 151,
   "id": "c2b1f2e5-3c56-4664-ac15-ca24870b1e10",
   "metadata": {},
   "outputs": [],
   "source": [
    "courses = df.loc[df['categ']=='COURSES'].copy()\n",
    "courses.drop_duplicates(subset=['date_operation', 'libelle', 'montant', 'solde_avt_ope'], inplace=True)"
   ]
  },
  {
   "cell_type": "code",
   "execution_count": 152,
   "id": "d37e40c7-e7a0-4d85-abe3-1789e9cc8263",
   "metadata": {},
   "outputs": [
    {
     "data": {
      "text/html": [
       "<div>\n",
       "<style scoped>\n",
       "    .dataframe tbody tr th:only-of-type {\n",
       "        vertical-align: middle;\n",
       "    }\n",
       "\n",
       "    .dataframe tbody tr th {\n",
       "        vertical-align: top;\n",
       "    }\n",
       "\n",
       "    .dataframe thead th {\n",
       "        text-align: right;\n",
       "    }\n",
       "</style>\n",
       "<table border=\"1\" class=\"dataframe\">\n",
       "  <thead>\n",
       "    <tr style=\"text-align: right;\">\n",
       "      <th></th>\n",
       "      <th>date_operation</th>\n",
       "      <th>libelle</th>\n",
       "      <th>montant</th>\n",
       "      <th>solde_avt_ope</th>\n",
       "      <th>categ</th>\n",
       "    </tr>\n",
       "  </thead>\n",
       "  <tbody>\n",
       "    <tr>\n",
       "      <th>9</th>\n",
       "      <td>2023-04-05</td>\n",
       "      <td>CARTE XX XX LES ANCIENS ROBINSON XX</td>\n",
       "      <td>-6.80</td>\n",
       "      <td>2049.00</td>\n",
       "      <td>COURSES</td>\n",
       "    </tr>\n",
       "    <tr>\n",
       "      <th>19</th>\n",
       "      <td>2023-04-10</td>\n",
       "      <td>CARTE XX XX LES ANCIENS ROBINSON XX</td>\n",
       "      <td>-42.42</td>\n",
       "      <td>2885.70</td>\n",
       "      <td>COURSES</td>\n",
       "    </tr>\n",
       "    <tr>\n",
       "      <th>43</th>\n",
       "      <td>2023-04-25</td>\n",
       "      <td>CARTE XX XX LES ANCIENS ROBINSON XX</td>\n",
       "      <td>-32.67</td>\n",
       "      <td>3647.67</td>\n",
       "      <td>COURSES</td>\n",
       "    </tr>\n",
       "    <tr>\n",
       "      <th>46</th>\n",
       "      <td>2023-04-26</td>\n",
       "      <td>CARTE XX XX LA LOUVE XX XX</td>\n",
       "      <td>-1.90</td>\n",
       "      <td>3605.00</td>\n",
       "      <td>COURSES</td>\n",
       "    </tr>\n",
       "    <tr>\n",
       "      <th>47</th>\n",
       "      <td>2023-04-28</td>\n",
       "      <td>CARTE XX XX LES ANCIENS ROBINSON XX</td>\n",
       "      <td>-9.11</td>\n",
       "      <td>3603.10</td>\n",
       "      <td>COURSES</td>\n",
       "    </tr>\n",
       "  </tbody>\n",
       "</table>\n",
       "</div>"
      ],
      "text/plain": [
       "   date_operation                              libelle  montant  \\\n",
       "9      2023-04-05  CARTE XX XX LES ANCIENS ROBINSON XX    -6.80   \n",
       "19     2023-04-10  CARTE XX XX LES ANCIENS ROBINSON XX   -42.42   \n",
       "43     2023-04-25  CARTE XX XX LES ANCIENS ROBINSON XX   -32.67   \n",
       "46     2023-04-26           CARTE XX XX LA LOUVE XX XX    -1.90   \n",
       "47     2023-04-28  CARTE XX XX LES ANCIENS ROBINSON XX    -9.11   \n",
       "\n",
       "    solde_avt_ope    categ  \n",
       "9         2049.00  COURSES  \n",
       "19        2885.70  COURSES  \n",
       "43        3647.67  COURSES  \n",
       "46        3605.00  COURSES  \n",
       "47        3603.10  COURSES  "
      ]
     },
     "execution_count": 152,
     "metadata": {},
     "output_type": "execute_result"
    }
   ],
   "source": [
    "courses.head()"
   ]
  },
  {
   "cell_type": "code",
   "execution_count": 153,
   "id": "88729e9d-5215-4f09-93d0-c690f77f6a1c",
   "metadata": {},
   "outputs": [],
   "source": [
    "courses['attente'] = 0"
   ]
  },
  {
   "cell_type": "code",
   "execution_count": 154,
   "id": "642ddb6f-b45e-4e71-9293-dd34e79d4d7d",
   "metadata": {},
   "outputs": [],
   "source": [
    "import numpy as np\n",
    "courses['tempo_index'] = np.arange(len(courses))"
   ]
  },
  {
   "cell_type": "code",
   "execution_count": 155,
   "id": "e550e533-c40b-429a-b43f-4b70742c9578",
   "metadata": {},
   "outputs": [
    {
     "data": {
      "text/html": [
       "<div>\n",
       "<style scoped>\n",
       "    .dataframe tbody tr th:only-of-type {\n",
       "        vertical-align: middle;\n",
       "    }\n",
       "\n",
       "    .dataframe tbody tr th {\n",
       "        vertical-align: top;\n",
       "    }\n",
       "\n",
       "    .dataframe thead th {\n",
       "        text-align: right;\n",
       "    }\n",
       "</style>\n",
       "<table border=\"1\" class=\"dataframe\">\n",
       "  <thead>\n",
       "    <tr style=\"text-align: right;\">\n",
       "      <th></th>\n",
       "      <th>date_operation</th>\n",
       "      <th>libelle</th>\n",
       "      <th>montant</th>\n",
       "      <th>solde_avt_ope</th>\n",
       "      <th>categ</th>\n",
       "      <th>attente</th>\n",
       "      <th>tempo_index</th>\n",
       "    </tr>\n",
       "  </thead>\n",
       "  <tbody>\n",
       "    <tr>\n",
       "      <th>9</th>\n",
       "      <td>2023-04-05</td>\n",
       "      <td>CARTE XX XX LES ANCIENS ROBINSON XX</td>\n",
       "      <td>-6.80</td>\n",
       "      <td>2049.00</td>\n",
       "      <td>COURSES</td>\n",
       "      <td>0</td>\n",
       "      <td>0</td>\n",
       "    </tr>\n",
       "    <tr>\n",
       "      <th>19</th>\n",
       "      <td>2023-04-10</td>\n",
       "      <td>CARTE XX XX LES ANCIENS ROBINSON XX</td>\n",
       "      <td>-42.42</td>\n",
       "      <td>2885.70</td>\n",
       "      <td>COURSES</td>\n",
       "      <td>0</td>\n",
       "      <td>1</td>\n",
       "    </tr>\n",
       "    <tr>\n",
       "      <th>43</th>\n",
       "      <td>2023-04-25</td>\n",
       "      <td>CARTE XX XX LES ANCIENS ROBINSON XX</td>\n",
       "      <td>-32.67</td>\n",
       "      <td>3647.67</td>\n",
       "      <td>COURSES</td>\n",
       "      <td>0</td>\n",
       "      <td>2</td>\n",
       "    </tr>\n",
       "    <tr>\n",
       "      <th>46</th>\n",
       "      <td>2023-04-26</td>\n",
       "      <td>CARTE XX XX LA LOUVE XX XX</td>\n",
       "      <td>-1.90</td>\n",
       "      <td>3605.00</td>\n",
       "      <td>COURSES</td>\n",
       "      <td>0</td>\n",
       "      <td>3</td>\n",
       "    </tr>\n",
       "    <tr>\n",
       "      <th>47</th>\n",
       "      <td>2023-04-28</td>\n",
       "      <td>CARTE XX XX LES ANCIENS ROBINSON XX</td>\n",
       "      <td>-9.11</td>\n",
       "      <td>3603.10</td>\n",
       "      <td>COURSES</td>\n",
       "      <td>0</td>\n",
       "      <td>4</td>\n",
       "    </tr>\n",
       "  </tbody>\n",
       "</table>\n",
       "</div>"
      ],
      "text/plain": [
       "   date_operation                              libelle  montant  \\\n",
       "9      2023-04-05  CARTE XX XX LES ANCIENS ROBINSON XX    -6.80   \n",
       "19     2023-04-10  CARTE XX XX LES ANCIENS ROBINSON XX   -42.42   \n",
       "43     2023-04-25  CARTE XX XX LES ANCIENS ROBINSON XX   -32.67   \n",
       "46     2023-04-26           CARTE XX XX LA LOUVE XX XX    -1.90   \n",
       "47     2023-04-28  CARTE XX XX LES ANCIENS ROBINSON XX    -9.11   \n",
       "\n",
       "    solde_avt_ope    categ  attente  tempo_index  \n",
       "9         2049.00  COURSES        0            0  \n",
       "19        2885.70  COURSES        0            1  \n",
       "43        3647.67  COURSES        0            2  \n",
       "46        3605.00  COURSES        0            3  \n",
       "47        3603.10  COURSES        0            4  "
      ]
     },
     "execution_count": 155,
     "metadata": {},
     "output_type": "execute_result"
    }
   ],
   "source": [
    "courses.head()"
   ]
  },
  {
   "cell_type": "code",
   "execution_count": 156,
   "id": "087146e4-1c86-4dfe-93af-072384c2c893",
   "metadata": {},
   "outputs": [],
   "source": [
    "courses['date_previous'] = courses.shift(1)['date_operation']"
   ]
  },
  {
   "cell_type": "code",
   "execution_count": 157,
   "id": "d85d1e8b-5fed-48e3-a762-be37a571f64c",
   "metadata": {},
   "outputs": [],
   "source": [
    "courses['attente'] = courses['date_operation'] - courses['date_previous']"
   ]
  },
  {
   "cell_type": "code",
   "execution_count": 158,
   "id": "dc8c42b5-a904-4d81-acc5-dfd0ebdc851e",
   "metadata": {},
   "outputs": [
    {
     "data": {
      "text/plain": [
       "date_operation     datetime64[ns]\n",
       "libelle                    object\n",
       "montant                   float64\n",
       "solde_avt_ope             float64\n",
       "categ                    category\n",
       "attente           timedelta64[ns]\n",
       "tempo_index                 int32\n",
       "date_previous      datetime64[ns]\n",
       "dtype: object"
      ]
     },
     "execution_count": 158,
     "metadata": {},
     "output_type": "execute_result"
    }
   ],
   "source": [
    "courses.dtypes"
   ]
  },
  {
   "cell_type": "code",
   "execution_count": 159,
   "id": "f9155b99-6441-4eaa-97ef-0b4207ecf501",
   "metadata": {},
   "outputs": [
    {
     "data": {
      "text/html": [
       "<div>\n",
       "<style scoped>\n",
       "    .dataframe tbody tr th:only-of-type {\n",
       "        vertical-align: middle;\n",
       "    }\n",
       "\n",
       "    .dataframe tbody tr th {\n",
       "        vertical-align: top;\n",
       "    }\n",
       "\n",
       "    .dataframe thead th {\n",
       "        text-align: right;\n",
       "    }\n",
       "</style>\n",
       "<table border=\"1\" class=\"dataframe\">\n",
       "  <thead>\n",
       "    <tr style=\"text-align: right;\">\n",
       "      <th></th>\n",
       "      <th>date_operation</th>\n",
       "      <th>libelle</th>\n",
       "      <th>montant</th>\n",
       "      <th>solde_avt_ope</th>\n",
       "      <th>categ</th>\n",
       "      <th>attente</th>\n",
       "      <th>tempo_index</th>\n",
       "      <th>date_previous</th>\n",
       "    </tr>\n",
       "  </thead>\n",
       "  <tbody>\n",
       "    <tr>\n",
       "      <th>9</th>\n",
       "      <td>2023-04-05</td>\n",
       "      <td>CARTE XX XX LES ANCIENS ROBINSON XX</td>\n",
       "      <td>-6.80</td>\n",
       "      <td>2049.00</td>\n",
       "      <td>COURSES</td>\n",
       "      <td>NaT</td>\n",
       "      <td>0</td>\n",
       "      <td>NaT</td>\n",
       "    </tr>\n",
       "    <tr>\n",
       "      <th>19</th>\n",
       "      <td>2023-04-10</td>\n",
       "      <td>CARTE XX XX LES ANCIENS ROBINSON XX</td>\n",
       "      <td>-42.42</td>\n",
       "      <td>2885.70</td>\n",
       "      <td>COURSES</td>\n",
       "      <td>5 days</td>\n",
       "      <td>1</td>\n",
       "      <td>2023-04-05</td>\n",
       "    </tr>\n",
       "    <tr>\n",
       "      <th>43</th>\n",
       "      <td>2023-04-25</td>\n",
       "      <td>CARTE XX XX LES ANCIENS ROBINSON XX</td>\n",
       "      <td>-32.67</td>\n",
       "      <td>3647.67</td>\n",
       "      <td>COURSES</td>\n",
       "      <td>15 days</td>\n",
       "      <td>2</td>\n",
       "      <td>2023-04-10</td>\n",
       "    </tr>\n",
       "    <tr>\n",
       "      <th>46</th>\n",
       "      <td>2023-04-26</td>\n",
       "      <td>CARTE XX XX LA LOUVE XX XX</td>\n",
       "      <td>-1.90</td>\n",
       "      <td>3605.00</td>\n",
       "      <td>COURSES</td>\n",
       "      <td>1 days</td>\n",
       "      <td>3</td>\n",
       "      <td>2023-04-25</td>\n",
       "    </tr>\n",
       "    <tr>\n",
       "      <th>47</th>\n",
       "      <td>2023-04-28</td>\n",
       "      <td>CARTE XX XX LES ANCIENS ROBINSON XX</td>\n",
       "      <td>-9.11</td>\n",
       "      <td>3603.10</td>\n",
       "      <td>COURSES</td>\n",
       "      <td>2 days</td>\n",
       "      <td>4</td>\n",
       "      <td>2023-04-26</td>\n",
       "    </tr>\n",
       "  </tbody>\n",
       "</table>\n",
       "</div>"
      ],
      "text/plain": [
       "   date_operation                              libelle  montant  \\\n",
       "9      2023-04-05  CARTE XX XX LES ANCIENS ROBINSON XX    -6.80   \n",
       "19     2023-04-10  CARTE XX XX LES ANCIENS ROBINSON XX   -42.42   \n",
       "43     2023-04-25  CARTE XX XX LES ANCIENS ROBINSON XX   -32.67   \n",
       "46     2023-04-26           CARTE XX XX LA LOUVE XX XX    -1.90   \n",
       "47     2023-04-28  CARTE XX XX LES ANCIENS ROBINSON XX    -9.11   \n",
       "\n",
       "    solde_avt_ope    categ attente  tempo_index date_previous  \n",
       "9         2049.00  COURSES     NaT            0           NaT  \n",
       "19        2885.70  COURSES  5 days            1    2023-04-05  \n",
       "43        3647.67  COURSES 15 days            2    2023-04-10  \n",
       "46        3605.00  COURSES  1 days            3    2023-04-25  \n",
       "47        3603.10  COURSES  2 days            4    2023-04-26  "
      ]
     },
     "execution_count": 159,
     "metadata": {},
     "output_type": "execute_result"
    }
   ],
   "source": [
    "courses.head()"
   ]
  },
  {
   "cell_type": "code",
   "execution_count": 160,
   "id": "3035faa5-d3a8-4020-8c70-934f1a1f75a7",
   "metadata": {},
   "outputs": [],
   "source": [
    "montants = -courses.groupby('date_operation')['montant'].sum()"
   ]
  },
  {
   "cell_type": "code",
   "execution_count": 161,
   "id": "964f91cb-e49e-4a95-be2b-f35f3c961f2f",
   "metadata": {},
   "outputs": [],
   "source": [
    "attentes = courses.groupby('date_operation')['attente'].first()"
   ]
  },
  {
   "cell_type": "code",
   "execution_count": 162,
   "id": "528e3168-1b22-405a-a97b-a7271198cc26",
   "metadata": {},
   "outputs": [
    {
     "data": {
      "text/plain": [
       "date_operation\n",
       "2023-04-05     6.80\n",
       "2023-04-10    42.42\n",
       "2023-04-25    32.67\n",
       "2023-04-26     1.90\n",
       "2023-04-28     9.11\n",
       "2023-05-02    12.24\n",
       "2023-05-04    17.16\n",
       "2023-05-05     3.48\n",
       "2023-05-10    42.45\n",
       "2023-05-15    46.51\n",
       "2023-05-23     4.41\n",
       "2023-05-29    22.59\n",
       "2023-05-31     6.89\n",
       "2023-06-12    13.02\n",
       "2023-06-16     4.39\n",
       "2023-06-19    27.76\n",
       "2023-06-26    34.28\n",
       "2023-06-28    12.49\n",
       "2023-07-13     9.88\n",
       "2023-07-25    60.16\n",
       "2023-07-31    24.37\n",
       "2023-08-07    21.73\n",
       "2023-08-17    28.11\n",
       "2023-08-22    10.91\n",
       "2023-08-28    29.18\n",
       "2023-08-31    26.19\n",
       "2023-09-04    13.59\n",
       "2023-09-11     9.60\n",
       "2023-09-18    20.59\n",
       "2023-09-20     2.56\n",
       "2023-09-26    13.29\n",
       "Name: montant, dtype: float64"
      ]
     },
     "execution_count": 162,
     "metadata": {},
     "output_type": "execute_result"
    }
   ],
   "source": [
    "montants"
   ]
  },
  {
   "cell_type": "code",
   "execution_count": 163,
   "id": "b27d3f6f-fbe9-469d-ba86-c8db87573798",
   "metadata": {},
   "outputs": [
    {
     "data": {
      "text/plain": [
       "date_operation\n",
       "2023-04-05       NaT\n",
       "2023-04-10    5 days\n",
       "2023-04-25   15 days\n",
       "2023-04-26    1 days\n",
       "2023-04-28    2 days\n",
       "2023-05-02    4 days\n",
       "2023-05-04    2 days\n",
       "2023-05-05    1 days\n",
       "2023-05-10    5 days\n",
       "2023-05-15    5 days\n",
       "2023-05-23    8 days\n",
       "2023-05-29    6 days\n",
       "2023-05-31    2 days\n",
       "2023-06-12   12 days\n",
       "2023-06-16    4 days\n",
       "2023-06-19    3 days\n",
       "2023-06-26    7 days\n",
       "2023-06-28    2 days\n",
       "2023-07-13   15 days\n",
       "2023-07-25   12 days\n",
       "2023-07-31    6 days\n",
       "2023-08-07    7 days\n",
       "2023-08-17   10 days\n",
       "2023-08-22    5 days\n",
       "2023-08-28    6 days\n",
       "2023-08-31    3 days\n",
       "2023-09-04    4 days\n",
       "2023-09-11    7 days\n",
       "2023-09-18    7 days\n",
       "2023-09-20    2 days\n",
       "2023-09-26    6 days\n",
       "Name: attente, dtype: timedelta64[ns]"
      ]
     },
     "execution_count": 163,
     "metadata": {},
     "output_type": "execute_result"
    }
   ],
   "source": [
    "attentes"
   ]
  },
  {
   "cell_type": "code",
   "execution_count": 167,
   "id": "2267fe86-49bd-4d6d-b62d-e37590ae4264",
   "metadata": {},
   "outputs": [],
   "source": [
    "courses_2 = pd.DataFrame({'montant': montants.values, 'attente': attentes.values})"
   ]
  },
  {
   "cell_type": "code",
   "execution_count": 170,
   "id": "10ddfdec-e149-4590-aaef-fad263dee278",
   "metadata": {},
   "outputs": [],
   "source": [
    "courses_2.sort_index(inplace=True)\n",
    "courses_2.dropna(inplace=True)"
   ]
  },
  {
   "cell_type": "code",
   "execution_count": 171,
   "id": "c648bbb0-8ed6-4d47-85e1-e8f47c2f9dbb",
   "metadata": {},
   "outputs": [
    {
     "data": {
      "text/html": [
       "<div>\n",
       "<style scoped>\n",
       "    .dataframe tbody tr th:only-of-type {\n",
       "        vertical-align: middle;\n",
       "    }\n",
       "\n",
       "    .dataframe tbody tr th {\n",
       "        vertical-align: top;\n",
       "    }\n",
       "\n",
       "    .dataframe thead th {\n",
       "        text-align: right;\n",
       "    }\n",
       "</style>\n",
       "<table border=\"1\" class=\"dataframe\">\n",
       "  <thead>\n",
       "    <tr style=\"text-align: right;\">\n",
       "      <th></th>\n",
       "      <th>montant</th>\n",
       "      <th>attente</th>\n",
       "    </tr>\n",
       "  </thead>\n",
       "  <tbody>\n",
       "    <tr>\n",
       "      <th>1</th>\n",
       "      <td>42.42</td>\n",
       "      <td>5 days</td>\n",
       "    </tr>\n",
       "    <tr>\n",
       "      <th>2</th>\n",
       "      <td>32.67</td>\n",
       "      <td>15 days</td>\n",
       "    </tr>\n",
       "    <tr>\n",
       "      <th>3</th>\n",
       "      <td>1.90</td>\n",
       "      <td>1 days</td>\n",
       "    </tr>\n",
       "    <tr>\n",
       "      <th>4</th>\n",
       "      <td>9.11</td>\n",
       "      <td>2 days</td>\n",
       "    </tr>\n",
       "    <tr>\n",
       "      <th>5</th>\n",
       "      <td>12.24</td>\n",
       "      <td>4 days</td>\n",
       "    </tr>\n",
       "  </tbody>\n",
       "</table>\n",
       "</div>"
      ],
      "text/plain": [
       "   montant attente\n",
       "1    42.42  5 days\n",
       "2    32.67 15 days\n",
       "3     1.90  1 days\n",
       "4     9.11  2 days\n",
       "5    12.24  4 days"
      ]
     },
     "execution_count": 171,
     "metadata": {},
     "output_type": "execute_result"
    }
   ],
   "source": [
    "courses_2.head()"
   ]
  },
  {
   "cell_type": "code",
   "execution_count": 173,
   "id": "5478cbab-0f10-44e2-8997-0af85e499ef1",
   "metadata": {},
   "outputs": [
    {
     "data": {
      "text/plain": [
       "montant            float64\n",
       "attente    timedelta64[ns]\n",
       "dtype: object"
      ]
     },
     "execution_count": 173,
     "metadata": {},
     "output_type": "execute_result"
    }
   ],
   "source": [
    "courses_2.dtypes"
   ]
  },
  {
   "cell_type": "code",
   "execution_count": 174,
   "id": "e06e046a-ef38-49fd-9c5f-6b6b2193f340",
   "metadata": {},
   "outputs": [
    {
     "name": "stdout",
     "output_type": "stream",
     "text": [
      "attente       1.344952\n",
      "intercept    12.330276\n",
      "dtype: float64\n"
     ]
    },
    {
     "data": {
      "image/png": "[encoded data removed]",
      "text/plain": [
       "<Figure size 640x480 with 1 Axes>"
      ]
     },
     "metadata": {},
     "output_type": "display_data"
    }
   ],
   "source": [
    "import matplotlib.pyplot as plt\n",
    "import statsmodels.api as sm\n",
    "\n",
    "Y = courses_2['montant']\n",
    "courses_2['attente'] = courses_2['attente'] / np.timedelta64(1, \"D\")\n",
    "X = courses_2[['attente']] \n",
    "X = X.copy()\n",
    "X['intercept']=1.\n",
    "result = sm.OLS(Y,X).fit()\n",
    "print(result.params)\n",
    "a,b = result.params['attente'], result.params['intercept']\n",
    "\n",
    "plt.figure()\n",
    "plt.scatter(courses_2['attente'], courses_2['montant'])\n",
    "plt.plot(np.arange(15), [a*x+b for x in np.arange(15)])\n",
    "plt.xlabel('Attente en Jours')\n",
    "plt.ylabel('Montant en €')\n",
    "plt.show()"
   ]
  },
  {
   "cell_type": "code",
   "execution_count": null,
   "id": "7f2cf07f-b5f5-48d3-9fa0-1f0f67bb24c3",
   "metadata": {},
   "outputs": [],
   "source": []
  }
 ],
 "metadata": {
  "kernelspec": {
   "display_name": "Python 3 (ipykernel)",
   "language": "python",
   "name": "python3"
  },
  "language_info": {
   "codemirror_mode": {
    "name": "ipython",
    "version": 3
   },
   "file_extension": ".py",
   "mimetype": "text/x-python",
   "name": "python",
   "nbconvert_exporter": "python",
   "pygments_lexer": "ipython3",
   "version": "3.9.13"
  }
 },
 "nbformat": 4,
 "nbformat_minor": 5
}
