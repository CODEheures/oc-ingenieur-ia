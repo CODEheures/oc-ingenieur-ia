{
 "cells": [
  {
   "cell_type": "markdown",
   "id": "8377eecc-155e-4f76-970b-9d5e4994880a",
   "metadata": {},
   "source": [
    "# QUIZ P2 Cours 2\n",
    "## 1. Import fichier csv"
   ]
  },
  {
   "cell_type": "code",
   "execution_count": 20,
   "id": "d797edfd-6c9f-45b6-864c-1013e38eafd5",
   "metadata": {},
   "outputs": [
    {
     "data": {
      "text/html": [
       "<div>\n",
       "<style scoped>\n",
       "    .dataframe tbody tr th:only-of-type {\n",
       "        vertical-align: middle;\n",
       "    }\n",
       "\n",
       "    .dataframe tbody tr th {\n",
       "        vertical-align: top;\n",
       "    }\n",
       "\n",
       "    .dataframe thead th {\n",
       "        text-align: right;\n",
       "    }\n",
       "</style>\n",
       "<table border=\"1\" class=\"dataframe\">\n",
       "  <thead>\n",
       "    <tr style=\"text-align: right;\">\n",
       "      <th></th>\n",
       "      <th>Position</th>\n",
       "      <th>Sexe</th>\n",
       "      <th>Temps</th>\n",
       "      <th>Dept</th>\n",
       "      <th>Temps_secondes</th>\n",
       "      <th>Age</th>\n",
       "    </tr>\n",
       "  </thead>\n",
       "  <tbody>\n",
       "    <tr>\n",
       "      <th>0</th>\n",
       "      <td>1</td>\n",
       "      <td>M</td>\n",
       "      <td>00:32:23</td>\n",
       "      <td>76</td>\n",
       "      <td>779543</td>\n",
       "      <td>40.0</td>\n",
       "    </tr>\n",
       "    <tr>\n",
       "      <th>1</th>\n",
       "      <td>2</td>\n",
       "      <td>M</td>\n",
       "      <td>00:32:40</td>\n",
       "      <td>27</td>\n",
       "      <td>779560</td>\n",
       "      <td>34.0</td>\n",
       "    </tr>\n",
       "    <tr>\n",
       "      <th>2</th>\n",
       "      <td>3</td>\n",
       "      <td>M</td>\n",
       "      <td>00:33:15</td>\n",
       "      <td>76</td>\n",
       "      <td>779595</td>\n",
       "      <td>44.0</td>\n",
       "    </tr>\n",
       "    <tr>\n",
       "      <th>3</th>\n",
       "      <td>4</td>\n",
       "      <td>M</td>\n",
       "      <td>00:33:23</td>\n",
       "      <td>76</td>\n",
       "      <td>779603</td>\n",
       "      <td>46.0</td>\n",
       "    </tr>\n",
       "    <tr>\n",
       "      <th>4</th>\n",
       "      <td>5</td>\n",
       "      <td>M</td>\n",
       "      <td>00:33:29</td>\n",
       "      <td>76</td>\n",
       "      <td>779609</td>\n",
       "      <td>26.0</td>\n",
       "    </tr>\n",
       "  </tbody>\n",
       "</table>\n",
       "</div>"
      ],
      "text/plain": [
       "   Position Sexe     Temps  Dept  Temps_secondes   Age\n",
       "0         1    M  00:32:23    76          779543  40.0\n",
       "1         2    M  00:32:40    27          779560  34.0\n",
       "2         3    M  00:33:15    76          779595  44.0\n",
       "3         4    M  00:33:23    76          779603  46.0\n",
       "4         5    M  00:33:29    76          779609  26.0"
      ]
     },
     "execution_count": 20,
     "metadata": {},
     "output_type": "execute_result"
    }
   ],
   "source": [
    "import pandas as pd\n",
    "import numpy as np\n",
    "\n",
    "df = pd.read_csv(\"course_quiz_p2.csv\")\n",
    "df.head()"
   ]
  },
  {
   "cell_type": "code",
   "execution_count": 35,
   "id": "c1ca2a22-25c7-4f27-9004-77e9f1860404",
   "metadata": {},
   "outputs": [
    {
     "data": {
      "text/plain": [
       "(340, 6)"
      ]
     },
     "execution_count": 35,
     "metadata": {},
     "output_type": "execute_result"
    }
   ],
   "source": [
    "df.shape"
   ]
  },
  {
   "cell_type": "code",
   "execution_count": 21,
   "id": "3d8aaaea-3d54-4c3f-838f-0e5465446c87",
   "metadata": {},
   "outputs": [
    {
     "data": {
      "text/plain": [
       "array([76, 27, 14, 78], dtype=int64)"
      ]
     },
     "execution_count": 21,
     "metadata": {},
     "output_type": "execute_result"
    }
   ],
   "source": [
    "df['Dept'].unique()"
   ]
  },
  {
   "cell_type": "code",
   "execution_count": 22,
   "id": "b3e09b1f-e3e5-451d-afa0-96f2447ac1fa",
   "metadata": {},
   "outputs": [
    {
     "data": {
      "text/plain": [
       "Position          0\n",
       "Sexe              2\n",
       "Temps             0\n",
       "Dept              0\n",
       "Temps_secondes    0\n",
       "Age               4\n",
       "dtype: int64"
      ]
     },
     "execution_count": 22,
     "metadata": {},
     "output_type": "execute_result"
    }
   ],
   "source": [
    "df.isnull().sum()"
   ]
  },
  {
   "cell_type": "code",
   "execution_count": 23,
   "id": "f9ff1e47-1fdf-4257-96b6-b917df4dc221",
   "metadata": {},
   "outputs": [
    {
     "data": {
      "text/plain": [
       "Position            int64\n",
       "Sexe               object\n",
       "Temps              object\n",
       "Dept                int64\n",
       "Temps_secondes      int64\n",
       "Age               float64\n",
       "dtype: object"
      ]
     },
     "execution_count": 23,
     "metadata": {},
     "output_type": "execute_result"
    }
   ],
   "source": [
    "df.dtypes"
   ]
  },
  {
   "cell_type": "code",
   "execution_count": 26,
   "id": "b6c96ada-c0cc-450e-b2f2-025553966619",
   "metadata": {},
   "outputs": [
    {
     "data": {
      "text/plain": [
       "Position               251\n",
       "Sexe                     M\n",
       "Temps             54min47s\n",
       "Dept                    27\n",
       "Temps_secondes      780887\n",
       "Age                   42.0\n",
       "Name: 250, dtype: object"
      ]
     },
     "execution_count": 26,
     "metadata": {},
     "output_type": "execute_result"
    }
   ],
   "source": [
    "df.loc[250, :]"
   ]
  },
  {
   "cell_type": "code",
   "execution_count": 27,
   "id": "f7f71ded-c9c8-4e27-9278-d35659822319",
   "metadata": {},
   "outputs": [],
   "source": [
    "df['Temps'] = pd.to_datetime(df['Temps'], format=\"%H:%M:%S\", errors=\"coerce\")"
   ]
  },
  {
   "cell_type": "code",
   "execution_count": 28,
   "id": "ca9c6220-7998-44e4-b0fe-330dbb52cece",
   "metadata": {},
   "outputs": [
    {
     "data": {
      "text/html": [
       "<div>\n",
       "<style scoped>\n",
       "    .dataframe tbody tr th:only-of-type {\n",
       "        vertical-align: middle;\n",
       "    }\n",
       "\n",
       "    .dataframe tbody tr th {\n",
       "        vertical-align: top;\n",
       "    }\n",
       "\n",
       "    .dataframe thead th {\n",
       "        text-align: right;\n",
       "    }\n",
       "</style>\n",
       "<table border=\"1\" class=\"dataframe\">\n",
       "  <thead>\n",
       "    <tr style=\"text-align: right;\">\n",
       "      <th></th>\n",
       "      <th>Position</th>\n",
       "      <th>Sexe</th>\n",
       "      <th>Temps</th>\n",
       "      <th>Dept</th>\n",
       "      <th>Temps_secondes</th>\n",
       "      <th>Age</th>\n",
       "    </tr>\n",
       "  </thead>\n",
       "  <tbody>\n",
       "    <tr>\n",
       "      <th>0</th>\n",
       "      <td>1</td>\n",
       "      <td>M</td>\n",
       "      <td>1900-01-01 00:32:23</td>\n",
       "      <td>76</td>\n",
       "      <td>779543</td>\n",
       "      <td>40.0</td>\n",
       "    </tr>\n",
       "    <tr>\n",
       "      <th>1</th>\n",
       "      <td>2</td>\n",
       "      <td>M</td>\n",
       "      <td>1900-01-01 00:32:40</td>\n",
       "      <td>27</td>\n",
       "      <td>779560</td>\n",
       "      <td>34.0</td>\n",
       "    </tr>\n",
       "    <tr>\n",
       "      <th>2</th>\n",
       "      <td>3</td>\n",
       "      <td>M</td>\n",
       "      <td>1900-01-01 00:33:15</td>\n",
       "      <td>76</td>\n",
       "      <td>779595</td>\n",
       "      <td>44.0</td>\n",
       "    </tr>\n",
       "    <tr>\n",
       "      <th>3</th>\n",
       "      <td>4</td>\n",
       "      <td>M</td>\n",
       "      <td>1900-01-01 00:33:23</td>\n",
       "      <td>76</td>\n",
       "      <td>779603</td>\n",
       "      <td>46.0</td>\n",
       "    </tr>\n",
       "    <tr>\n",
       "      <th>4</th>\n",
       "      <td>5</td>\n",
       "      <td>M</td>\n",
       "      <td>1900-01-01 00:33:29</td>\n",
       "      <td>76</td>\n",
       "      <td>779609</td>\n",
       "      <td>26.0</td>\n",
       "    </tr>\n",
       "  </tbody>\n",
       "</table>\n",
       "</div>"
      ],
      "text/plain": [
       "   Position Sexe               Temps  Dept  Temps_secondes   Age\n",
       "0         1    M 1900-01-01 00:32:23    76          779543  40.0\n",
       "1         2    M 1900-01-01 00:32:40    27          779560  34.0\n",
       "2         3    M 1900-01-01 00:33:15    76          779595  44.0\n",
       "3         4    M 1900-01-01 00:33:23    76          779603  46.0\n",
       "4         5    M 1900-01-01 00:33:29    76          779609  26.0"
      ]
     },
     "execution_count": 28,
     "metadata": {},
     "output_type": "execute_result"
    }
   ],
   "source": [
    "df.head()"
   ]
  },
  {
   "cell_type": "code",
   "execution_count": 29,
   "id": "b9d9b411-ce41-4045-a336-175b5610fa5f",
   "metadata": {},
   "outputs": [
    {
     "data": {
      "text/html": [
       "<div>\n",
       "<style scoped>\n",
       "    .dataframe tbody tr th:only-of-type {\n",
       "        vertical-align: middle;\n",
       "    }\n",
       "\n",
       "    .dataframe tbody tr th {\n",
       "        vertical-align: top;\n",
       "    }\n",
       "\n",
       "    .dataframe thead th {\n",
       "        text-align: right;\n",
       "    }\n",
       "</style>\n",
       "<table border=\"1\" class=\"dataframe\">\n",
       "  <thead>\n",
       "    <tr style=\"text-align: right;\">\n",
       "      <th></th>\n",
       "      <th>Position</th>\n",
       "      <th>Sexe</th>\n",
       "      <th>Temps</th>\n",
       "      <th>Dept</th>\n",
       "      <th>Temps_secondes</th>\n",
       "      <th>Age</th>\n",
       "    </tr>\n",
       "  </thead>\n",
       "  <tbody>\n",
       "    <tr>\n",
       "      <th>250</th>\n",
       "      <td>251</td>\n",
       "      <td>M</td>\n",
       "      <td>NaT</td>\n",
       "      <td>27</td>\n",
       "      <td>780887</td>\n",
       "      <td>42.0</td>\n",
       "    </tr>\n",
       "  </tbody>\n",
       "</table>\n",
       "</div>"
      ],
      "text/plain": [
       "     Position Sexe Temps  Dept  Temps_secondes   Age\n",
       "250       251    M   NaT    27          780887  42.0"
      ]
     },
     "execution_count": 29,
     "metadata": {},
     "output_type": "execute_result"
    }
   ],
   "source": [
    "df.loc[df['Temps'].isnull(), :]"
   ]
  },
  {
   "cell_type": "code",
   "execution_count": 30,
   "id": "c19727dc-a227-4d05-9b5d-d9b203fbe061",
   "metadata": {},
   "outputs": [
    {
     "data": {
      "text/html": [
       "<div>\n",
       "<style scoped>\n",
       "    .dataframe tbody tr th:only-of-type {\n",
       "        vertical-align: middle;\n",
       "    }\n",
       "\n",
       "    .dataframe tbody tr th {\n",
       "        vertical-align: top;\n",
       "    }\n",
       "\n",
       "    .dataframe thead th {\n",
       "        text-align: right;\n",
       "    }\n",
       "</style>\n",
       "<table border=\"1\" class=\"dataframe\">\n",
       "  <thead>\n",
       "    <tr style=\"text-align: right;\">\n",
       "      <th></th>\n",
       "      <th>Position</th>\n",
       "      <th>Dept</th>\n",
       "      <th>Temps_secondes</th>\n",
       "      <th>Age</th>\n",
       "    </tr>\n",
       "  </thead>\n",
       "  <tbody>\n",
       "    <tr>\n",
       "      <th>count</th>\n",
       "      <td>340.000000</td>\n",
       "      <td>340.000000</td>\n",
       "      <td>340.000000</td>\n",
       "      <td>336.000000</td>\n",
       "    </tr>\n",
       "    <tr>\n",
       "      <th>mean</th>\n",
       "      <td>177.061765</td>\n",
       "      <td>56.991176</td>\n",
       "      <td>780553.123529</td>\n",
       "      <td>42.145833</td>\n",
       "    </tr>\n",
       "    <tr>\n",
       "      <th>std</th>\n",
       "      <td>166.584054</td>\n",
       "      <td>25.059279</td>\n",
       "      <td>514.526264</td>\n",
       "      <td>13.963690</td>\n",
       "    </tr>\n",
       "    <tr>\n",
       "      <th>min</th>\n",
       "      <td>-100.000000</td>\n",
       "      <td>14.000000</td>\n",
       "      <td>779543.000000</td>\n",
       "      <td>18.000000</td>\n",
       "    </tr>\n",
       "    <tr>\n",
       "      <th>25%</th>\n",
       "      <td>85.750000</td>\n",
       "      <td>27.000000</td>\n",
       "      <td>780200.500000</td>\n",
       "      <td>34.000000</td>\n",
       "    </tr>\n",
       "    <tr>\n",
       "      <th>50%</th>\n",
       "      <td>170.500000</td>\n",
       "      <td>76.000000</td>\n",
       "      <td>780536.500000</td>\n",
       "      <td>41.500000</td>\n",
       "    </tr>\n",
       "    <tr>\n",
       "      <th>75%</th>\n",
       "      <td>255.250000</td>\n",
       "      <td>76.000000</td>\n",
       "      <td>780906.500000</td>\n",
       "      <td>49.250000</td>\n",
       "    </tr>\n",
       "    <tr>\n",
       "      <th>max</th>\n",
       "      <td>2640.000000</td>\n",
       "      <td>78.000000</td>\n",
       "      <td>781831.000000</td>\n",
       "      <td>174.000000</td>\n",
       "    </tr>\n",
       "  </tbody>\n",
       "</table>\n",
       "</div>"
      ],
      "text/plain": [
       "          Position        Dept  Temps_secondes         Age\n",
       "count   340.000000  340.000000      340.000000  336.000000\n",
       "mean    177.061765   56.991176   780553.123529   42.145833\n",
       "std     166.584054   25.059279      514.526264   13.963690\n",
       "min    -100.000000   14.000000   779543.000000   18.000000\n",
       "25%      85.750000   27.000000   780200.500000   34.000000\n",
       "50%     170.500000   76.000000   780536.500000   41.500000\n",
       "75%     255.250000   76.000000   780906.500000   49.250000\n",
       "max    2640.000000   78.000000   781831.000000  174.000000"
      ]
     },
     "execution_count": 30,
     "metadata": {},
     "output_type": "execute_result"
    }
   ],
   "source": [
    "df.describe()"
   ]
  },
  {
   "cell_type": "code",
   "execution_count": 34,
   "id": "7bd10ab2-f9ff-411d-9994-7d33f34c0d8c",
   "metadata": {},
   "outputs": [
    {
     "data": {
      "text/html": [
       "<div>\n",
       "<style scoped>\n",
       "    .dataframe tbody tr th:only-of-type {\n",
       "        vertical-align: middle;\n",
       "    }\n",
       "\n",
       "    .dataframe tbody tr th {\n",
       "        vertical-align: top;\n",
       "    }\n",
       "\n",
       "    .dataframe thead th {\n",
       "        text-align: right;\n",
       "    }\n",
       "</style>\n",
       "<table border=\"1\" class=\"dataframe\">\n",
       "  <thead>\n",
       "    <tr style=\"text-align: right;\">\n",
       "      <th></th>\n",
       "      <th>Position</th>\n",
       "      <th>Sexe</th>\n",
       "      <th>Temps</th>\n",
       "      <th>Dept</th>\n",
       "      <th>Temps_secondes</th>\n",
       "      <th>Age</th>\n",
       "    </tr>\n",
       "  </thead>\n",
       "  <tbody>\n",
       "    <tr>\n",
       "      <th>43</th>\n",
       "      <td>-100</td>\n",
       "      <td>M</td>\n",
       "      <td>1900-01-01 00:39:39</td>\n",
       "      <td>27</td>\n",
       "      <td>779979</td>\n",
       "      <td>31.0</td>\n",
       "    </tr>\n",
       "  </tbody>\n",
       "</table>\n",
       "</div>"
      ],
      "text/plain": [
       "    Position Sexe               Temps  Dept  Temps_secondes   Age\n",
       "43      -100    M 1900-01-01 00:39:39    27          779979  31.0"
      ]
     },
     "execution_count": 34,
     "metadata": {},
     "output_type": "execute_result"
    }
   ],
   "source": [
    "df.loc[df['Position'] < 0, :]"
   ]
  },
  {
   "cell_type": "code",
   "execution_count": 36,
   "id": "d1dd5143-6a69-4bd7-a6fd-1699ab863aa0",
   "metadata": {},
   "outputs": [
    {
     "data": {
      "text/html": [
       "<div>\n",
       "<style scoped>\n",
       "    .dataframe tbody tr th:only-of-type {\n",
       "        vertical-align: middle;\n",
       "    }\n",
       "\n",
       "    .dataframe tbody tr th {\n",
       "        vertical-align: top;\n",
       "    }\n",
       "\n",
       "    .dataframe thead th {\n",
       "        text-align: right;\n",
       "    }\n",
       "</style>\n",
       "<table border=\"1\" class=\"dataframe\">\n",
       "  <thead>\n",
       "    <tr style=\"text-align: right;\">\n",
       "      <th></th>\n",
       "      <th>Position</th>\n",
       "      <th>Sexe</th>\n",
       "      <th>Temps</th>\n",
       "      <th>Dept</th>\n",
       "      <th>Temps_secondes</th>\n",
       "      <th>Age</th>\n",
       "    </tr>\n",
       "  </thead>\n",
       "  <tbody>\n",
       "    <tr>\n",
       "      <th>264</th>\n",
       "      <td>2640</td>\n",
       "      <td>M</td>\n",
       "      <td>1900-01-01 00:56:21</td>\n",
       "      <td>76</td>\n",
       "      <td>780981</td>\n",
       "      <td>51.0</td>\n",
       "    </tr>\n",
       "  </tbody>\n",
       "</table>\n",
       "</div>"
      ],
      "text/plain": [
       "     Position Sexe               Temps  Dept  Temps_secondes   Age\n",
       "264      2640    M 1900-01-01 00:56:21    76          780981  51.0"
      ]
     },
     "execution_count": 36,
     "metadata": {},
     "output_type": "execute_result"
    }
   ],
   "source": [
    "df.loc[df['Position'] > 340, :]"
   ]
  },
  {
   "cell_type": "code",
   "execution_count": 37,
   "id": "a3314858-a0e6-458a-923f-ad119a555158",
   "metadata": {},
   "outputs": [
    {
     "data": {
      "text/html": [
       "<div>\n",
       "<style scoped>\n",
       "    .dataframe tbody tr th:only-of-type {\n",
       "        vertical-align: middle;\n",
       "    }\n",
       "\n",
       "    .dataframe tbody tr th {\n",
       "        vertical-align: top;\n",
       "    }\n",
       "\n",
       "    .dataframe thead th {\n",
       "        text-align: right;\n",
       "    }\n",
       "</style>\n",
       "<table border=\"1\" class=\"dataframe\">\n",
       "  <thead>\n",
       "    <tr style=\"text-align: right;\">\n",
       "      <th></th>\n",
       "      <th>Position</th>\n",
       "      <th>Sexe</th>\n",
       "      <th>Temps</th>\n",
       "      <th>Dept</th>\n",
       "      <th>Temps_secondes</th>\n",
       "      <th>Age</th>\n",
       "    </tr>\n",
       "  </thead>\n",
       "  <tbody>\n",
       "    <tr>\n",
       "      <th>302</th>\n",
       "      <td>303</td>\n",
       "      <td>M</td>\n",
       "      <td>1900-01-01 01:00:04</td>\n",
       "      <td>76</td>\n",
       "      <td>781204</td>\n",
       "      <td>174.0</td>\n",
       "    </tr>\n",
       "  </tbody>\n",
       "</table>\n",
       "</div>"
      ],
      "text/plain": [
       "     Position Sexe               Temps  Dept  Temps_secondes    Age\n",
       "302       303    M 1900-01-01 01:00:04    76          781204  174.0"
      ]
     },
     "execution_count": 37,
     "metadata": {},
     "output_type": "execute_result"
    }
   ],
   "source": [
    "df.loc[df['Age'] > 80, :]"
   ]
  },
  {
   "cell_type": "code",
   "execution_count": 42,
   "id": "9503049b-3829-42f9-83d6-f59d47c2c708",
   "metadata": {},
   "outputs": [
    {
     "data": {
      "text/html": [
       "<div>\n",
       "<style scoped>\n",
       "    .dataframe tbody tr th:only-of-type {\n",
       "        vertical-align: middle;\n",
       "    }\n",
       "\n",
       "    .dataframe tbody tr th {\n",
       "        vertical-align: top;\n",
       "    }\n",
       "\n",
       "    .dataframe thead th {\n",
       "        text-align: right;\n",
       "    }\n",
       "</style>\n",
       "<table border=\"1\" class=\"dataframe\">\n",
       "  <thead>\n",
       "    <tr style=\"text-align: right;\">\n",
       "      <th></th>\n",
       "      <th>Position</th>\n",
       "      <th>Sexe</th>\n",
       "      <th>Temps</th>\n",
       "      <th>Dept</th>\n",
       "      <th>Temps_secondes</th>\n",
       "      <th>Age</th>\n",
       "    </tr>\n",
       "  </thead>\n",
       "  <tbody>\n",
       "  </tbody>\n",
       "</table>\n",
       "</div>"
      ],
      "text/plain": [
       "Empty DataFrame\n",
       "Columns: [Position, Sexe, Temps, Dept, Temps_secondes, Age]\n",
       "Index: []"
      ]
     },
     "execution_count": 42,
     "metadata": {},
     "output_type": "execute_result"
    }
   ],
   "source": [
    "df.loc[df[['Position']].duplicated(keep=False), :]"
   ]
  },
  {
   "cell_type": "code",
   "execution_count": 44,
   "id": "c64dd20a-7749-4e82-8cb0-d29465eaf86f",
   "metadata": {},
   "outputs": [
    {
     "data": {
      "text/plain": [
       "array(['M', 'F', 'O', nan], dtype=object)"
      ]
     },
     "execution_count": 44,
     "metadata": {},
     "output_type": "execute_result"
    }
   ],
   "source": [
    "df['Sexe'].unique()"
   ]
  },
  {
   "cell_type": "code",
   "execution_count": null,
   "id": "3d4ae005-b47a-49dd-9446-71e9d26314a9",
   "metadata": {},
   "outputs": [],
   "source": []
  }
 ],
 "metadata": {
  "kernelspec": {
   "display_name": "Python 3 (ipykernel)",
   "language": "python",
   "name": "python3"
  },
  "language_info": {
   "codemirror_mode": {
    "name": "ipython",
    "version": 3
   },
   "file_extension": ".py",
   "mimetype": "text/x-python",
   "name": "python",
   "nbconvert_exporter": "python",
   "pygments_lexer": "ipython3",
   "version": "3.9.13"
  }
 },
 "nbformat": 4,
 "nbformat_minor": 5
}
