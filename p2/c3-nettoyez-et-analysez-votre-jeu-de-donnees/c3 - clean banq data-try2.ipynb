{
 "cells": [
  {
   "cell_type": "markdown",
   "id": "ee2e2cd2-02b1-4513-887a-b23e0101a871",
   "metadata": {},
   "source": [
    "# Analyse d'un relevé de comptes\n",
    "\n",
    "## Import"
   ]
  },
  {
   "cell_type": "code",
   "execution_count": 259,
   "id": "3ed056b7",
   "metadata": {},
   "outputs": [],
   "source": [
    "import pandas as pd\n",
    "import numpy as np\n",
    "df = pd.read_csv(\"operations.csv\")"
   ]
  },
  {
   "cell_type": "markdown",
   "id": "b9a05e2e-16e9-4acd-b6bd-36a23528c79a",
   "metadata": {
    "jp-MarkdownHeadingCollapsed": true,
    "tags": []
   },
   "source": [
    "## 1. Structure"
   ]
  },
  {
   "cell_type": "code",
   "execution_count": 260,
   "id": "a1357015-8cec-465f-9a80-f2a6d79937af",
   "metadata": {},
   "outputs": [
    {
     "data": {
      "text/plain": [
       "(309, 5)"
      ]
     },
     "execution_count": 260,
     "metadata": {},
     "output_type": "execute_result"
    }
   ],
   "source": [
    "df.shape"
   ]
  },
  {
   "cell_type": "code",
   "execution_count": 261,
   "id": "4452c56a-7123-44fe-8643-242c2692a4e6",
   "metadata": {},
   "outputs": [
    {
     "data": {
      "text/html": [
       "<div>\n",
       "<style scoped>\n",
       "    .dataframe tbody tr th:only-of-type {\n",
       "        vertical-align: middle;\n",
       "    }\n",
       "\n",
       "    .dataframe tbody tr th {\n",
       "        vertical-align: top;\n",
       "    }\n",
       "\n",
       "    .dataframe thead th {\n",
       "        text-align: right;\n",
       "    }\n",
       "</style>\n",
       "<table border=\"1\" class=\"dataframe\">\n",
       "  <thead>\n",
       "    <tr style=\"text-align: right;\">\n",
       "      <th></th>\n",
       "      <th>date_operation</th>\n",
       "      <th>libelle</th>\n",
       "      <th>montant</th>\n",
       "      <th>solde_avt_ope</th>\n",
       "      <th>categ</th>\n",
       "    </tr>\n",
       "  </thead>\n",
       "  <tbody>\n",
       "    <tr>\n",
       "      <th>0</th>\n",
       "      <td>2023-03-31</td>\n",
       "      <td>DON XX XX XX XX XX XX XX</td>\n",
       "      <td>-1.44</td>\n",
       "      <td>1515.25</td>\n",
       "      <td>AUTRE</td>\n",
       "    </tr>\n",
       "    <tr>\n",
       "      <th>1</th>\n",
       "      <td>2023-04-03</td>\n",
       "      <td>CARTE XX XX RAPT XX</td>\n",
       "      <td>-24.00</td>\n",
       "      <td>1513.81</td>\n",
       "      <td>TRANSPORT</td>\n",
       "    </tr>\n",
       "    <tr>\n",
       "      <th>2</th>\n",
       "      <td>2023-04-03</td>\n",
       "      <td>CARTE XX XX RAPT XX</td>\n",
       "      <td>-73.00</td>\n",
       "      <td>1489.81</td>\n",
       "      <td>TRANSPORT</td>\n",
       "    </tr>\n",
       "    <tr>\n",
       "      <th>3</th>\n",
       "      <td>2023-04-03</td>\n",
       "      <td>VIREMENT XX XX XX XX XX XX XX XX XX XX XX XX</td>\n",
       "      <td>676.00</td>\n",
       "      <td>1416.81</td>\n",
       "      <td>AUTRE</td>\n",
       "    </tr>\n",
       "    <tr>\n",
       "      <th>4</th>\n",
       "      <td>2023-04-03</td>\n",
       "      <td>VIREMENT XX XX XX XX XX XX</td>\n",
       "      <td>4.80</td>\n",
       "      <td>2092.81</td>\n",
       "      <td>AUTRE</td>\n",
       "    </tr>\n",
       "  </tbody>\n",
       "</table>\n",
       "</div>"
      ],
      "text/plain": [
       "  date_operation                                       libelle  montant  \\\n",
       "0     2023-03-31                      DON XX XX XX XX XX XX XX    -1.44   \n",
       "1     2023-04-03                           CARTE XX XX RAPT XX   -24.00   \n",
       "2     2023-04-03                           CARTE XX XX RAPT XX   -73.00   \n",
       "3     2023-04-03  VIREMENT XX XX XX XX XX XX XX XX XX XX XX XX   676.00   \n",
       "4     2023-04-03                    VIREMENT XX XX XX XX XX XX     4.80   \n",
       "\n",
       "   solde_avt_ope      categ  \n",
       "0        1515.25      AUTRE  \n",
       "1        1513.81  TRANSPORT  \n",
       "2        1489.81  TRANSPORT  \n",
       "3        1416.81      AUTRE  \n",
       "4        2092.81      AUTRE  "
      ]
     },
     "execution_count": 261,
     "metadata": {},
     "output_type": "execute_result"
    }
   ],
   "source": [
    "df.head()"
   ]
  },
  {
   "cell_type": "code",
   "execution_count": 262,
   "id": "e23636fc-06a8-4a82-9657-3ca5b3a47680",
   "metadata": {},
   "outputs": [
    {
     "data": {
      "text/plain": [
       "date_operation     object\n",
       "libelle            object\n",
       "montant           float64\n",
       "solde_avt_ope     float64\n",
       "categ              object\n",
       "dtype: object"
      ]
     },
     "execution_count": 262,
     "metadata": {},
     "output_type": "execute_result"
    }
   ],
   "source": [
    "df.dtypes"
   ]
  },
  {
   "cell_type": "markdown",
   "id": "87a5ef68-7ecb-4aba-86ea-86adcb302635",
   "metadata": {
    "jp-MarkdownHeadingCollapsed": true,
    "tags": []
   },
   "source": [
    "## 2. Ajustement des types"
   ]
  },
  {
   "cell_type": "code",
   "execution_count": 263,
   "id": "18bc6ba5-10e6-4897-8f4c-b5c24b775292",
   "metadata": {},
   "outputs": [],
   "source": [
    "df['date_operation'] = pd.to_datetime(df['date_operation'])"
   ]
  },
  {
   "cell_type": "code",
   "execution_count": 264,
   "id": "cb6458af-db8a-441a-8a49-da11688d511e",
   "metadata": {},
   "outputs": [
    {
     "data": {
      "text/plain": [
       "date_operation    datetime64[ns]\n",
       "libelle                   object\n",
       "montant                  float64\n",
       "solde_avt_ope            float64\n",
       "categ                     object\n",
       "dtype: object"
      ]
     },
     "execution_count": 264,
     "metadata": {},
     "output_type": "execute_result"
    }
   ],
   "source": [
    "df.dtypes"
   ]
  },
  {
   "cell_type": "markdown",
   "id": "f019fb25-0ef7-4d7c-a950-36a7b90d8ec7",
   "metadata": {
    "jp-MarkdownHeadingCollapsed": true,
    "tags": []
   },
   "source": [
    "## 3. Recherche des valeurs manquantes"
   ]
  },
  {
   "cell_type": "code",
   "execution_count": 265,
   "id": "b0c31af3-e490-4211-8a5f-03c0d250be79",
   "metadata": {},
   "outputs": [
    {
     "data": {
      "text/plain": [
       "date_operation    0\n",
       "libelle           0\n",
       "montant           2\n",
       "solde_avt_ope     0\n",
       "categ             1\n",
       "dtype: int64"
      ]
     },
     "execution_count": 265,
     "metadata": {},
     "output_type": "execute_result"
    }
   ],
   "source": [
    "df.isnull().sum()"
   ]
  },
  {
   "cell_type": "markdown",
   "id": "15d26851-0316-44f0-b422-4a627a89000f",
   "metadata": {},
   "source": [
    "### 3.1 Montants nulls"
   ]
  },
  {
   "cell_type": "code",
   "execution_count": 266,
   "id": "999bf47f-1472-402c-9366-a6839b61c5d0",
   "metadata": {},
   "outputs": [],
   "source": [
    "montants_nulls = df.loc[df['montant'].isnull(), :]"
   ]
  },
  {
   "cell_type": "code",
   "execution_count": 267,
   "id": "4bad11ed-b490-49a7-9c7d-e64c6e317561",
   "metadata": {},
   "outputs": [
    {
     "data": {
      "text/html": [
       "<div>\n",
       "<style scoped>\n",
       "    .dataframe tbody tr th:only-of-type {\n",
       "        vertical-align: middle;\n",
       "    }\n",
       "\n",
       "    .dataframe tbody tr th {\n",
       "        vertical-align: top;\n",
       "    }\n",
       "\n",
       "    .dataframe thead th {\n",
       "        text-align: right;\n",
       "    }\n",
       "</style>\n",
       "<table border=\"1\" class=\"dataframe\">\n",
       "  <thead>\n",
       "    <tr style=\"text-align: right;\">\n",
       "      <th></th>\n",
       "      <th>date_operation</th>\n",
       "      <th>libelle</th>\n",
       "      <th>montant</th>\n",
       "      <th>solde_avt_ope</th>\n",
       "      <th>categ</th>\n",
       "    </tr>\n",
       "  </thead>\n",
       "  <tbody>\n",
       "    <tr>\n",
       "      <th>107</th>\n",
       "      <td>2023-06-12</td>\n",
       "      <td>CARTE XX XX LES ANCIENS ROBINSON XX</td>\n",
       "      <td>NaN</td>\n",
       "      <td>4667.19</td>\n",
       "      <td>COURSES</td>\n",
       "    </tr>\n",
       "    <tr>\n",
       "      <th>269</th>\n",
       "      <td>2023-09-11</td>\n",
       "      <td>CARTE XX XX XX XX</td>\n",
       "      <td>NaN</td>\n",
       "      <td>3401.93</td>\n",
       "      <td>AUTRE</td>\n",
       "    </tr>\n",
       "  </tbody>\n",
       "</table>\n",
       "</div>"
      ],
      "text/plain": [
       "    date_operation                              libelle  montant  \\\n",
       "107     2023-06-12  CARTE XX XX LES ANCIENS ROBINSON XX      NaN   \n",
       "269     2023-09-11                    CARTE XX XX XX XX      NaN   \n",
       "\n",
       "     solde_avt_ope    categ  \n",
       "107        4667.19  COURSES  \n",
       "269        3401.93    AUTRE  "
      ]
     },
     "execution_count": 267,
     "metadata": {},
     "output_type": "execute_result"
    }
   ],
   "source": [
    "montants_nulls"
   ]
  },
  {
   "cell_type": "code",
   "execution_count": 268,
   "id": "123cb6e9-9f99-42fd-950b-90d90c3108d9",
   "metadata": {},
   "outputs": [
    {
     "data": {
      "text/plain": [
       "Int64Index([107, 269], dtype='int64')"
      ]
     },
     "execution_count": 268,
     "metadata": {},
     "output_type": "execute_result"
    }
   ],
   "source": [
    "montants_nulls.index"
   ]
  },
  {
   "cell_type": "code",
   "execution_count": 269,
   "id": "d9e44d8f-ab41-465f-9879-93ab3002a608",
   "metadata": {},
   "outputs": [
    {
     "name": "stdout",
     "output_type": "stream",
     "text": [
      "Nouveau montant index 107: -26.58\n",
      "Nouveau montant index 269: -12.0\n"
     ]
    }
   ],
   "source": [
    "for index in montants_nulls.index:\n",
    "    df.loc[index, 'montant'] = np.round(df.loc[index+1, 'solde_avt_ope'] - df.loc[index, 'solde_avt_ope'], 2)\n",
    "    nouveau_montant = df.loc[index, 'montant']\n",
    "    print(f'Nouveau montant index {index}: {nouveau_montant}')\n"
   ]
  },
  {
   "cell_type": "markdown",
   "id": "826900aa-bb31-461c-adb5-ba86cc1d6299",
   "metadata": {},
   "source": [
    "### 3.2 Category manquante"
   ]
  },
  {
   "cell_type": "code",
   "execution_count": 270,
   "id": "edd88ae2-f096-4950-9c21-54caf4906977",
   "metadata": {},
   "outputs": [
    {
     "data": {
      "text/plain": [
       "156    NaN\n",
       "Name: categ, dtype: object"
      ]
     },
     "execution_count": 270,
     "metadata": {},
     "output_type": "execute_result"
    }
   ],
   "source": [
    "categories_null = df.loc[df['categ'].isnull(), 'categ']\n",
    "categories_null"
   ]
  },
  {
   "cell_type": "code",
   "execution_count": 271,
   "id": "dba1ef69-e194-4ec9-b157-15939bc37f36",
   "metadata": {},
   "outputs": [],
   "source": [
    "same_categ = df.loc[df['libelle'].str.contains(\"TELEPHONE\") & df['categ'].notnull(), 'categ'].iloc[0]\n",
    "df.loc[df['categ'].isnull(), 'categ'] = same_categ"
   ]
  },
  {
   "cell_type": "markdown",
   "id": "e324d4e6-0143-4a34-817b-b802d586589d",
   "metadata": {},
   "source": [
    "### 3.3 Vérification plus de valeur null"
   ]
  },
  {
   "cell_type": "code",
   "execution_count": 272,
   "id": "7c87c6cd-9dc8-4644-b076-14022df0d15f",
   "metadata": {},
   "outputs": [
    {
     "data": {
      "text/plain": [
       "Series([], dtype: int64)"
      ]
     },
     "execution_count": 272,
     "metadata": {},
     "output_type": "execute_result"
    }
   ],
   "source": [
    "df.isnull().sum().loc[lambda x : x > 0]"
   ]
  },
  {
   "cell_type": "markdown",
   "id": "172fd429-2b9f-4f1a-b0aa-9069840de734",
   "metadata": {
    "jp-MarkdownHeadingCollapsed": true,
    "tags": []
   },
   "source": [
    "## 4. Doublons"
   ]
  },
  {
   "cell_type": "code",
   "execution_count": 273,
   "id": "ff4b8123-e215-40bb-bac3-697a32e68f1b",
   "metadata": {},
   "outputs": [
    {
     "data": {
      "text/html": [
       "<div>\n",
       "<style scoped>\n",
       "    .dataframe tbody tr th:only-of-type {\n",
       "        vertical-align: middle;\n",
       "    }\n",
       "\n",
       "    .dataframe tbody tr th {\n",
       "        vertical-align: top;\n",
       "    }\n",
       "\n",
       "    .dataframe thead th {\n",
       "        text-align: right;\n",
       "    }\n",
       "</style>\n",
       "<table border=\"1\" class=\"dataframe\">\n",
       "  <thead>\n",
       "    <tr style=\"text-align: right;\">\n",
       "      <th></th>\n",
       "      <th>date_operation</th>\n",
       "      <th>libelle</th>\n",
       "      <th>montant</th>\n",
       "      <th>solde_avt_ope</th>\n",
       "      <th>categ</th>\n",
       "    </tr>\n",
       "  </thead>\n",
       "  <tbody>\n",
       "    <tr>\n",
       "      <th>43</th>\n",
       "      <td>2023-04-25</td>\n",
       "      <td>CARTE XX XX LES ANCIENS ROBINSON XX</td>\n",
       "      <td>-32.67</td>\n",
       "      <td>3647.67</td>\n",
       "      <td>COURSES</td>\n",
       "    </tr>\n",
       "    <tr>\n",
       "      <th>44</th>\n",
       "      <td>2023-04-25</td>\n",
       "      <td>CARTE XX XX LES ANCIENS ROBINSON XX</td>\n",
       "      <td>-32.67</td>\n",
       "      <td>3647.67</td>\n",
       "      <td>COURSES</td>\n",
       "    </tr>\n",
       "  </tbody>\n",
       "</table>\n",
       "</div>"
      ],
      "text/plain": [
       "   date_operation                              libelle  montant  \\\n",
       "43     2023-04-25  CARTE XX XX LES ANCIENS ROBINSON XX   -32.67   \n",
       "44     2023-04-25  CARTE XX XX LES ANCIENS ROBINSON XX   -32.67   \n",
       "\n",
       "    solde_avt_ope    categ  \n",
       "43        3647.67  COURSES  \n",
       "44        3647.67  COURSES  "
      ]
     },
     "execution_count": 273,
     "metadata": {},
     "output_type": "execute_result"
    }
   ],
   "source": [
    "df.loc[df[['date_operation', 'libelle', 'montant', 'solde_avt_ope']].duplicated(keep=False), :]"
   ]
  },
  {
   "cell_type": "code",
   "execution_count": 274,
   "id": "f05e352e-fd12-4fad-8896-e395d88a9e34",
   "metadata": {},
   "outputs": [],
   "source": [
    "df.drop_duplicates(subset=['date_operation', 'libelle', 'montant', 'solde_avt_ope'], keep='last', inplace=True)"
   ]
  },
  {
   "cell_type": "markdown",
   "id": "359ccd0c-3e21-4538-869d-5dbe86d6123a",
   "metadata": {},
   "source": [
    "Vérification"
   ]
  },
  {
   "cell_type": "code",
   "execution_count": 275,
   "id": "110225a5-7f89-4009-acfb-0877fd0fb5fb",
   "metadata": {},
   "outputs": [
    {
     "data": {
      "text/html": [
       "<div>\n",
       "<style scoped>\n",
       "    .dataframe tbody tr th:only-of-type {\n",
       "        vertical-align: middle;\n",
       "    }\n",
       "\n",
       "    .dataframe tbody tr th {\n",
       "        vertical-align: top;\n",
       "    }\n",
       "\n",
       "    .dataframe thead th {\n",
       "        text-align: right;\n",
       "    }\n",
       "</style>\n",
       "<table border=\"1\" class=\"dataframe\">\n",
       "  <thead>\n",
       "    <tr style=\"text-align: right;\">\n",
       "      <th></th>\n",
       "      <th>date_operation</th>\n",
       "      <th>libelle</th>\n",
       "      <th>montant</th>\n",
       "      <th>solde_avt_ope</th>\n",
       "      <th>categ</th>\n",
       "    </tr>\n",
       "  </thead>\n",
       "  <tbody>\n",
       "  </tbody>\n",
       "</table>\n",
       "</div>"
      ],
      "text/plain": [
       "Empty DataFrame\n",
       "Columns: [date_operation, libelle, montant, solde_avt_ope, categ]\n",
       "Index: []"
      ]
     },
     "execution_count": 275,
     "metadata": {},
     "output_type": "execute_result"
    }
   ],
   "source": [
    "df.loc[df[['date_operation', 'libelle', 'montant', 'solde_avt_ope']].duplicated(keep=False), :]"
   ]
  },
  {
   "cell_type": "markdown",
   "id": "f489d93d-8c94-4bf4-9229-42992124e4dd",
   "metadata": {
    "tags": []
   },
   "source": [
    "## 5. Valeurs abbérantes"
   ]
  },
  {
   "cell_type": "code",
   "execution_count": 276,
   "id": "056ca251-afa8-41dc-b57e-d9a44c522b3c",
   "metadata": {},
   "outputs": [
    {
     "data": {
      "text/html": [
       "<div>\n",
       "<style scoped>\n",
       "    .dataframe tbody tr th:only-of-type {\n",
       "        vertical-align: middle;\n",
       "    }\n",
       "\n",
       "    .dataframe tbody tr th {\n",
       "        vertical-align: top;\n",
       "    }\n",
       "\n",
       "    .dataframe thead th {\n",
       "        text-align: right;\n",
       "    }\n",
       "</style>\n",
       "<table border=\"1\" class=\"dataframe\">\n",
       "  <thead>\n",
       "    <tr style=\"text-align: right;\">\n",
       "      <th></th>\n",
       "      <th>montant</th>\n",
       "      <th>solde_avt_ope</th>\n",
       "    </tr>\n",
       "  </thead>\n",
       "  <tbody>\n",
       "    <tr>\n",
       "      <th>count</th>\n",
       "      <td>308.000000</td>\n",
       "      <td>308.000000</td>\n",
       "    </tr>\n",
       "    <tr>\n",
       "      <th>mean</th>\n",
       "      <td>-45.782013</td>\n",
       "      <td>3395.301071</td>\n",
       "    </tr>\n",
       "    <tr>\n",
       "      <th>std</th>\n",
       "      <td>872.818105</td>\n",
       "      <td>667.109412</td>\n",
       "    </tr>\n",
       "    <tr>\n",
       "      <th>min</th>\n",
       "      <td>-15000.000000</td>\n",
       "      <td>1416.810000</td>\n",
       "    </tr>\n",
       "    <tr>\n",
       "      <th>25%</th>\n",
       "      <td>-20.447500</td>\n",
       "      <td>3010.737500</td>\n",
       "    </tr>\n",
       "    <tr>\n",
       "      <th>50%</th>\n",
       "      <td>-9.600000</td>\n",
       "      <td>3452.465000</td>\n",
       "    </tr>\n",
       "    <tr>\n",
       "      <th>75%</th>\n",
       "      <td>-2.715000</td>\n",
       "      <td>3787.232500</td>\n",
       "    </tr>\n",
       "    <tr>\n",
       "      <th>max</th>\n",
       "      <td>1071.600000</td>\n",
       "      <td>4709.310000</td>\n",
       "    </tr>\n",
       "  </tbody>\n",
       "</table>\n",
       "</div>"
      ],
      "text/plain": [
       "            montant  solde_avt_ope\n",
       "count    308.000000     308.000000\n",
       "mean     -45.782013    3395.301071\n",
       "std      872.818105     667.109412\n",
       "min   -15000.000000    1416.810000\n",
       "25%      -20.447500    3010.737500\n",
       "50%       -9.600000    3452.465000\n",
       "75%       -2.715000    3787.232500\n",
       "max     1071.600000    4709.310000"
      ]
     },
     "execution_count": 276,
     "metadata": {},
     "output_type": "execute_result"
    }
   ],
   "source": [
    "df.describe()"
   ]
  },
  {
   "cell_type": "code",
   "execution_count": 277,
   "id": "6d929532-4731-454c-81f8-e4d0ded5d830",
   "metadata": {},
   "outputs": [
    {
     "data": {
      "text/html": [
       "<div>\n",
       "<style scoped>\n",
       "    .dataframe tbody tr th:only-of-type {\n",
       "        vertical-align: middle;\n",
       "    }\n",
       "\n",
       "    .dataframe tbody tr th {\n",
       "        vertical-align: top;\n",
       "    }\n",
       "\n",
       "    .dataframe thead th {\n",
       "        text-align: right;\n",
       "    }\n",
       "</style>\n",
       "<table border=\"1\" class=\"dataframe\">\n",
       "  <thead>\n",
       "    <tr style=\"text-align: right;\">\n",
       "      <th></th>\n",
       "      <th>date_operation</th>\n",
       "      <th>libelle</th>\n",
       "      <th>montant</th>\n",
       "      <th>solde_avt_ope</th>\n",
       "      <th>categ</th>\n",
       "    </tr>\n",
       "  </thead>\n",
       "  <tbody>\n",
       "    <tr>\n",
       "      <th>199</th>\n",
       "      <td>2023-08-03</td>\n",
       "      <td>CARTE XX XX XX XX</td>\n",
       "      <td>-15000.0</td>\n",
       "      <td>3797.35</td>\n",
       "      <td>AUTRE</td>\n",
       "    </tr>\n",
       "  </tbody>\n",
       "</table>\n",
       "</div>"
      ],
      "text/plain": [
       "    date_operation            libelle  montant  solde_avt_ope  categ\n",
       "199     2023-08-03  CARTE XX XX XX XX -15000.0        3797.35  AUTRE"
      ]
     },
     "execution_count": 277,
     "metadata": {},
     "output_type": "execute_result"
    }
   ],
   "source": [
    "df.loc[np.abs(df['montant']) > 10000]"
   ]
  },
  {
   "cell_type": "code",
   "execution_count": 278,
   "id": "ad6944df-c7ce-4b55-b835-e60069d507ec",
   "metadata": {},
   "outputs": [
    {
     "data": {
      "text/html": [
       "<div>\n",
       "<style scoped>\n",
       "    .dataframe tbody tr th:only-of-type {\n",
       "        vertical-align: middle;\n",
       "    }\n",
       "\n",
       "    .dataframe tbody tr th {\n",
       "        vertical-align: top;\n",
       "    }\n",
       "\n",
       "    .dataframe thead th {\n",
       "        text-align: right;\n",
       "    }\n",
       "</style>\n",
       "<table border=\"1\" class=\"dataframe\">\n",
       "  <thead>\n",
       "    <tr style=\"text-align: right;\">\n",
       "      <th></th>\n",
       "      <th>date_operation</th>\n",
       "      <th>libelle</th>\n",
       "      <th>montant</th>\n",
       "      <th>solde_avt_ope</th>\n",
       "      <th>categ</th>\n",
       "    </tr>\n",
       "  </thead>\n",
       "  <tbody>\n",
       "    <tr>\n",
       "      <th>198</th>\n",
       "      <td>2023-08-03</td>\n",
       "      <td>VIREMENT XX XX XX XX XX XX XX XX XX XX XX XX</td>\n",
       "      <td>676.00</td>\n",
       "      <td>3121.35</td>\n",
       "      <td>AUTRE</td>\n",
       "    </tr>\n",
       "    <tr>\n",
       "      <th>199</th>\n",
       "      <td>2023-08-03</td>\n",
       "      <td>CARTE XX XX XX XX</td>\n",
       "      <td>-15000.00</td>\n",
       "      <td>3797.35</td>\n",
       "      <td>AUTRE</td>\n",
       "    </tr>\n",
       "    <tr>\n",
       "      <th>200</th>\n",
       "      <td>2023-08-03</td>\n",
       "      <td>CARTE XX XX L'EPICERIE DEMBAS XX XX</td>\n",
       "      <td>-10.51</td>\n",
       "      <td>3782.96</td>\n",
       "      <td>AUTRE</td>\n",
       "    </tr>\n",
       "  </tbody>\n",
       "</table>\n",
       "</div>"
      ],
      "text/plain": [
       "    date_operation                                       libelle   montant  \\\n",
       "198     2023-08-03  VIREMENT XX XX XX XX XX XX XX XX XX XX XX XX    676.00   \n",
       "199     2023-08-03                             CARTE XX XX XX XX -15000.00   \n",
       "200     2023-08-03           CARTE XX XX L'EPICERIE DEMBAS XX XX    -10.51   \n",
       "\n",
       "     solde_avt_ope  categ  \n",
       "198        3121.35  AUTRE  \n",
       "199        3797.35  AUTRE  \n",
       "200        3782.96  AUTRE  "
      ]
     },
     "execution_count": 278,
     "metadata": {},
     "output_type": "execute_result"
    }
   ],
   "source": [
    "df.loc[198:200, :]"
   ]
  },
  {
   "cell_type": "code",
   "execution_count": 279,
   "id": "5b3e8cdb-d0f3-4e3f-80c8-258a03a07e44",
   "metadata": {},
   "outputs": [],
   "source": [
    "index = df.loc[np.abs(df['montant']) > 10000].index[0]\n",
    "df.loc[index, 'montant'] = df.loc[index+1, 'solde_avt_ope'] - df.loc[index, 'solde_avt_ope']"
   ]
  },
  {
   "cell_type": "markdown",
   "id": "4a90bcb6-e6a8-46cc-bde2-9d45378f1180",
   "metadata": {},
   "source": [
    "Vérification"
   ]
  },
  {
   "cell_type": "code",
   "execution_count": 280,
   "id": "4976701d-b181-4e5a-852a-057053f9a5dc",
   "metadata": {},
   "outputs": [
    {
     "data": {
      "text/html": [
       "<div>\n",
       "<style scoped>\n",
       "    .dataframe tbody tr th:only-of-type {\n",
       "        vertical-align: middle;\n",
       "    }\n",
       "\n",
       "    .dataframe tbody tr th {\n",
       "        vertical-align: top;\n",
       "    }\n",
       "\n",
       "    .dataframe thead th {\n",
       "        text-align: right;\n",
       "    }\n",
       "</style>\n",
       "<table border=\"1\" class=\"dataframe\">\n",
       "  <thead>\n",
       "    <tr style=\"text-align: right;\">\n",
       "      <th></th>\n",
       "      <th>date_operation</th>\n",
       "      <th>libelle</th>\n",
       "      <th>montant</th>\n",
       "      <th>solde_avt_ope</th>\n",
       "      <th>categ</th>\n",
       "    </tr>\n",
       "  </thead>\n",
       "  <tbody>\n",
       "  </tbody>\n",
       "</table>\n",
       "</div>"
      ],
      "text/plain": [
       "Empty DataFrame\n",
       "Columns: [date_operation, libelle, montant, solde_avt_ope, categ]\n",
       "Index: []"
      ]
     },
     "execution_count": 280,
     "metadata": {},
     "output_type": "execute_result"
    }
   ],
   "source": [
    "df.loc[np.abs(df['montant']) > 10000]"
   ]
  },
  {
   "cell_type": "code",
   "execution_count": 281,
   "id": "09103f27-1d35-4631-840f-4d1d1c5bc700",
   "metadata": {},
   "outputs": [
    {
     "data": {
      "text/plain": [
       "date_operation    0\n",
       "libelle           0\n",
       "montant           0\n",
       "solde_avt_ope     0\n",
       "categ             0\n",
       "dtype: int64"
      ]
     },
     "execution_count": 281,
     "metadata": {},
     "output_type": "execute_result"
    }
   ],
   "source": [
    "df.isnull().sum()"
   ]
  },
  {
   "cell_type": "markdown",
   "id": "6aa71688-909f-4e34-9749-d4b96e24e075",
   "metadata": {
    "jp-MarkdownHeadingCollapsed": true,
    "tags": []
   },
   "source": [
    "## 6. Représentations graphiques"
   ]
  },
  {
   "cell_type": "markdown",
   "id": "a0fb7f7a-c0ac-4d73-a1a5-dbb6d2afca82",
   "metadata": {},
   "source": [
    "### Catégories"
   ]
  },
  {
   "cell_type": "code",
   "execution_count": 282,
   "id": "f90224ea-a9fe-4f16-b409-332f8633b0f7",
   "metadata": {},
   "outputs": [
    {
     "data": {
      "text/plain": [
       "date_operation    datetime64[ns]\n",
       "libelle                   object\n",
       "montant                  float64\n",
       "solde_avt_ope            float64\n",
       "categ                     object\n",
       "dtype: object"
      ]
     },
     "execution_count": 282,
     "metadata": {},
     "output_type": "execute_result"
    }
   ],
   "source": [
    "df.dtypes"
   ]
  },
  {
   "cell_type": "code",
   "execution_count": 283,
   "id": "273360d4-798c-44f6-b49a-8413879de554",
   "metadata": {},
   "outputs": [],
   "source": [
    "df['categ'] = df['categ'].astype('category')"
   ]
  },
  {
   "cell_type": "code",
   "execution_count": 284,
   "id": "16e9610f-d8d5-4228-9e0f-5f6c399dd421",
   "metadata": {},
   "outputs": [
    {
     "data": {
      "text/plain": [
       "date_operation    datetime64[ns]\n",
       "libelle                   object\n",
       "montant                  float64\n",
       "solde_avt_ope            float64\n",
       "categ                   category\n",
       "dtype: object"
      ]
     },
     "execution_count": 284,
     "metadata": {},
     "output_type": "execute_result"
    }
   ],
   "source": [
    "df.dtypes"
   ]
  },
  {
   "cell_type": "code",
   "execution_count": 285,
   "id": "c63202c4-c969-491b-b584-089efc25f3a6",
   "metadata": {},
   "outputs": [
    {
     "data": {
      "text/plain": [
       "<AxesSubplot:>"
      ]
     },
     "execution_count": 285,
     "metadata": {},
     "output_type": "execute_result"
    },
    {
     "data": {
      "image/png": "[encoded data removed]",
      "text/plain": [
       "<Figure size 800x400 with 1 Axes>"
      ]
     },
     "metadata": {},
     "output_type": "display_data"
    }
   ],
   "source": [
    "df['categ'].value_counts(normalize=True).plot.bar(figsize=(8,4), legend=True)"
   ]
  },
  {
   "cell_type": "code",
   "execution_count": 286,
   "id": "a2a11fab-5aa9-43a3-ae57-2ce81922d907",
   "metadata": {},
   "outputs": [
    {
     "data": {
      "text/plain": [
       "<AxesSubplot:ylabel='categ'>"
      ]
     },
     "execution_count": 286,
     "metadata": {},
     "output_type": "execute_result"
    },
    {
     "data": {
      "image/png": "[encoded data removed]",
      "text/plain": [
       "<Figure size 640x480 with 1 Axes>"
      ]
     },
     "metadata": {},
     "output_type": "display_data"
    }
   ],
   "source": [
    "df['categ'].value_counts(normalize=True).plot.pie()"
   ]
  },
  {
   "cell_type": "code",
   "execution_count": 287,
   "id": "89f2122e-0ac5-4c67-95c1-3b4d2b999883",
   "metadata": {},
   "outputs": [],
   "source": [
    "df['quartile_date'] = np.int8((df['date_operation'].dt.day - 1 )/ 31 * 4) + 1"
   ]
  },
  {
   "cell_type": "code",
   "execution_count": 288,
   "id": "94b456eb-99ee-4a54-b4b0-6b22e6194cb8",
   "metadata": {},
   "outputs": [
    {
     "data": {
      "text/plain": [
       "<AxesSubplot:>"
      ]
     },
     "execution_count": 288,
     "metadata": {},
     "output_type": "execute_result"
    },
    {
     "data": {
      "image/png": "[encoded data removed]",
      "text/plain": [
       "<Figure size 640x480 with 1 Axes>"
      ]
     },
     "metadata": {},
     "output_type": "display_data"
    }
   ],
   "source": [
    "df['quartile_date'].value_counts(normalize=True).plot.bar(width=0.1, grid=True)"
   ]
  },
  {
   "cell_type": "code",
   "execution_count": 289,
   "id": "82fed92c-29bc-4a93-9dae-01b1a458f291",
   "metadata": {},
   "outputs": [
    {
     "data": {
      "text/plain": [
       "<AxesSubplot:>"
      ]
     },
     "execution_count": 289,
     "metadata": {},
     "output_type": "execute_result"
    },
    {
     "data": {
      "image/png": "[encoded data removed]",
      "text/plain": [
       "<Figure size 640x480 with 1 Axes>"
      ]
     },
     "metadata": {},
     "output_type": "display_data"
    }
   ],
   "source": [
    "df[\"montant\"].hist(density=True)"
   ]
  },
  {
   "cell_type": "code",
   "execution_count": 290,
   "id": "f5797257-5cd0-45e3-902a-9c6c0af21110",
   "metadata": {},
   "outputs": [
    {
     "data": {
      "text/plain": [
       "<AxesSubplot:>"
      ]
     },
     "execution_count": 290,
     "metadata": {},
     "output_type": "execute_result"
    },
    {
     "data": {
      "image/png": "[encoded data removed]",
      "text/plain": [
       "<Figure size 640x480 with 1 Axes>"
      ]
     },
     "metadata": {},
     "output_type": "display_data"
    }
   ],
   "source": [
    "df.loc[df.montant.abs() < 100, 'montant'].hist(density=True,bins=20)"
   ]
  },
  {
   "cell_type": "markdown",
   "id": "37487d2d-b32f-49e7-b43b-164b881c2880",
   "metadata": {
    "jp-MarkdownHeadingCollapsed": true,
    "tags": []
   },
   "source": [
    "## 7. Représentation en tableau"
   ]
  },
  {
   "cell_type": "code",
   "execution_count": 291,
   "id": "f292629a-98ed-4c41-97cd-100286966cf8",
   "metadata": {},
   "outputs": [],
   "source": [
    "quartile_data_tabs = pd.DataFrame()\n",
    "quartile_data_tabs['quartile'] = df['quartile_date'].value_counts().index\n",
    "quartile_data_tabs['effectif'] = df['quartile_date'].value_counts().values"
   ]
  },
  {
   "cell_type": "code",
   "execution_count": 292,
   "id": "b2c797a6-8d24-4370-b3cb-8790c67a27c8",
   "metadata": {},
   "outputs": [
    {
     "data": {
      "text/html": [
       "<div>\n",
       "<style scoped>\n",
       "    .dataframe tbody tr th:only-of-type {\n",
       "        vertical-align: middle;\n",
       "    }\n",
       "\n",
       "    .dataframe tbody tr th {\n",
       "        vertical-align: top;\n",
       "    }\n",
       "\n",
       "    .dataframe thead th {\n",
       "        text-align: right;\n",
       "    }\n",
       "</style>\n",
       "<table border=\"1\" class=\"dataframe\">\n",
       "  <thead>\n",
       "    <tr style=\"text-align: right;\">\n",
       "      <th></th>\n",
       "      <th>quartile</th>\n",
       "      <th>effectif</th>\n",
       "    </tr>\n",
       "  </thead>\n",
       "  <tbody>\n",
       "    <tr>\n",
       "      <th>0</th>\n",
       "      <td>1</td>\n",
       "      <td>86</td>\n",
       "    </tr>\n",
       "    <tr>\n",
       "      <th>1</th>\n",
       "      <td>2</td>\n",
       "      <td>76</td>\n",
       "    </tr>\n",
       "    <tr>\n",
       "      <th>2</th>\n",
       "      <td>3</td>\n",
       "      <td>75</td>\n",
       "    </tr>\n",
       "    <tr>\n",
       "      <th>3</th>\n",
       "      <td>4</td>\n",
       "      <td>71</td>\n",
       "    </tr>\n",
       "  </tbody>\n",
       "</table>\n",
       "</div>"
      ],
      "text/plain": [
       "   quartile  effectif\n",
       "0         1        86\n",
       "1         2        76\n",
       "2         3        75\n",
       "3         4        71"
      ]
     },
     "execution_count": 292,
     "metadata": {},
     "output_type": "execute_result"
    }
   ],
   "source": [
    "quartile_data_tabs.head()"
   ]
  },
  {
   "cell_type": "code",
   "execution_count": 293,
   "id": "a9c33a9c-f19d-4e25-baa9-bed76c3fa5c2",
   "metadata": {},
   "outputs": [
    {
     "data": {
      "text/html": [
       "<div>\n",
       "<style scoped>\n",
       "    .dataframe tbody tr th:only-of-type {\n",
       "        vertical-align: middle;\n",
       "    }\n",
       "\n",
       "    .dataframe tbody tr th {\n",
       "        vertical-align: top;\n",
       "    }\n",
       "\n",
       "    .dataframe thead th {\n",
       "        text-align: right;\n",
       "    }\n",
       "</style>\n",
       "<table border=\"1\" class=\"dataframe\">\n",
       "  <thead>\n",
       "    <tr style=\"text-align: right;\">\n",
       "      <th></th>\n",
       "      <th>quartile</th>\n",
       "      <th>effectif</th>\n",
       "      <th>frequence</th>\n",
       "    </tr>\n",
       "  </thead>\n",
       "  <tbody>\n",
       "    <tr>\n",
       "      <th>0</th>\n",
       "      <td>1</td>\n",
       "      <td>86</td>\n",
       "      <td>0.279221</td>\n",
       "    </tr>\n",
       "    <tr>\n",
       "      <th>1</th>\n",
       "      <td>2</td>\n",
       "      <td>76</td>\n",
       "      <td>0.246753</td>\n",
       "    </tr>\n",
       "    <tr>\n",
       "      <th>2</th>\n",
       "      <td>3</td>\n",
       "      <td>75</td>\n",
       "      <td>0.243506</td>\n",
       "    </tr>\n",
       "    <tr>\n",
       "      <th>3</th>\n",
       "      <td>4</td>\n",
       "      <td>71</td>\n",
       "      <td>0.230519</td>\n",
       "    </tr>\n",
       "  </tbody>\n",
       "</table>\n",
       "</div>"
      ],
      "text/plain": [
       "   quartile  effectif  frequence\n",
       "0         1        86   0.279221\n",
       "1         2        76   0.246753\n",
       "2         3        75   0.243506\n",
       "3         4        71   0.230519"
      ]
     },
     "execution_count": 293,
     "metadata": {},
     "output_type": "execute_result"
    }
   ],
   "source": [
    "quartile_data_tabs['frequence'] = quartile_data_tabs['effectif'] / len(df)\n",
    "quartile_data_tabs.head()"
   ]
  },
  {
   "cell_type": "code",
   "execution_count": 294,
   "id": "0c54cc56-b5d0-4f84-9901-173528fc2c03",
   "metadata": {},
   "outputs": [
    {
     "data": {
      "text/html": [
       "<div>\n",
       "<style scoped>\n",
       "    .dataframe tbody tr th:only-of-type {\n",
       "        vertical-align: middle;\n",
       "    }\n",
       "\n",
       "    .dataframe tbody tr th {\n",
       "        vertical-align: top;\n",
       "    }\n",
       "\n",
       "    .dataframe thead th {\n",
       "        text-align: right;\n",
       "    }\n",
       "</style>\n",
       "<table border=\"1\" class=\"dataframe\">\n",
       "  <thead>\n",
       "    <tr style=\"text-align: right;\">\n",
       "      <th></th>\n",
       "      <th>quartile</th>\n",
       "      <th>effectif</th>\n",
       "      <th>frequence</th>\n",
       "      <th>frequence_cumule</th>\n",
       "    </tr>\n",
       "  </thead>\n",
       "  <tbody>\n",
       "    <tr>\n",
       "      <th>0</th>\n",
       "      <td>1</td>\n",
       "      <td>86</td>\n",
       "      <td>0.279221</td>\n",
       "      <td>0.279221</td>\n",
       "    </tr>\n",
       "    <tr>\n",
       "      <th>1</th>\n",
       "      <td>2</td>\n",
       "      <td>76</td>\n",
       "      <td>0.246753</td>\n",
       "      <td>0.525974</td>\n",
       "    </tr>\n",
       "    <tr>\n",
       "      <th>2</th>\n",
       "      <td>3</td>\n",
       "      <td>75</td>\n",
       "      <td>0.243506</td>\n",
       "      <td>0.769481</td>\n",
       "    </tr>\n",
       "    <tr>\n",
       "      <th>3</th>\n",
       "      <td>4</td>\n",
       "      <td>71</td>\n",
       "      <td>0.230519</td>\n",
       "      <td>1.000000</td>\n",
       "    </tr>\n",
       "  </tbody>\n",
       "</table>\n",
       "</div>"
      ],
      "text/plain": [
       "   quartile  effectif  frequence  frequence_cumule\n",
       "0         1        86   0.279221          0.279221\n",
       "1         2        76   0.246753          0.525974\n",
       "2         3        75   0.243506          0.769481\n",
       "3         4        71   0.230519          1.000000"
      ]
     },
     "execution_count": 294,
     "metadata": {},
     "output_type": "execute_result"
    }
   ],
   "source": [
    "quartile_data_tabs.sort_values('quartile', inplace=True)\n",
    "quartile_data_tabs['frequence_cumule'] = quartile_data_tabs['frequence'].cumsum()\n",
    "quartile_data_tabs.head()"
   ]
  },
  {
   "cell_type": "markdown",
   "id": "049a2bb5-8e1a-4fb3-85fb-b11f302e8265",
   "metadata": {},
   "source": [
    "## 8. Stats"
   ]
  },
  {
   "cell_type": "code",
   "execution_count": 295,
   "id": "2f0b313a-e0c7-434e-a009-8a165159d6f1",
   "metadata": {},
   "outputs": [
    {
     "data": {
      "text/plain": [
       "0   -1.6\n",
       "Name: montant, dtype: float64"
      ]
     },
     "execution_count": 295,
     "metadata": {},
     "output_type": "execute_result"
    }
   ],
   "source": [
    "df['montant'].mode()"
   ]
  },
  {
   "cell_type": "code",
   "execution_count": 296,
   "id": "6a9daf19-e3cc-4266-8fbe-26766293cf33",
   "metadata": {},
   "outputs": [
    {
     "data": {
      "text/plain": [
       "2.8725649350649407"
      ]
     },
     "execution_count": 296,
     "metadata": {},
     "output_type": "execute_result"
    }
   ],
   "source": [
    "df['montant'].mean()"
   ]
  },
  {
   "cell_type": "code",
   "execution_count": 297,
   "id": "e88bf5fa-240a-4099-b558-ae8b552f6b81",
   "metadata": {},
   "outputs": [
    {
     "data": {
      "text/plain": [
       "-9.6"
      ]
     },
     "execution_count": 297,
     "metadata": {},
     "output_type": "execute_result"
    }
   ],
   "source": [
    "df['montant'].median()"
   ]
  },
  {
   "cell_type": "code",
   "execution_count": 298,
   "id": "eb7e998a-752f-4a22-9b0d-e5de681c585c",
   "metadata": {},
   "outputs": [
    {
     "data": {
      "text/html": [
       "<div>\n",
       "<style scoped>\n",
       "    .dataframe tbody tr th:only-of-type {\n",
       "        vertical-align: middle;\n",
       "    }\n",
       "\n",
       "    .dataframe tbody tr th {\n",
       "        vertical-align: top;\n",
       "    }\n",
       "\n",
       "    .dataframe thead th {\n",
       "        text-align: right;\n",
       "    }\n",
       "</style>\n",
       "<table border=\"1\" class=\"dataframe\">\n",
       "  <thead>\n",
       "    <tr style=\"text-align: right;\">\n",
       "      <th></th>\n",
       "      <th>mean</th>\n",
       "      <th>median</th>\n",
       "    </tr>\n",
       "    <tr>\n",
       "      <th>categ</th>\n",
       "      <th></th>\n",
       "      <th></th>\n",
       "    </tr>\n",
       "  </thead>\n",
       "  <tbody>\n",
       "    <tr>\n",
       "      <th>AUTRE</th>\n",
       "      <td>23.433208</td>\n",
       "      <td>-8.31</td>\n",
       "    </tr>\n",
       "    <tr>\n",
       "      <th>COTISATION BANCAIRE</th>\n",
       "      <td>-1.885714</td>\n",
       "      <td>-1.92</td>\n",
       "    </tr>\n",
       "    <tr>\n",
       "      <th>COURSES</th>\n",
       "      <td>-16.341282</td>\n",
       "      <td>-12.24</td>\n",
       "    </tr>\n",
       "    <tr>\n",
       "      <th>FACTURE TELEPHONE</th>\n",
       "      <td>-12.045714</td>\n",
       "      <td>-7.02</td>\n",
       "    </tr>\n",
       "    <tr>\n",
       "      <th>LOYER</th>\n",
       "      <td>-345.000000</td>\n",
       "      <td>-345.00</td>\n",
       "    </tr>\n",
       "    <tr>\n",
       "      <th>RESTAURANT</th>\n",
       "      <td>-10.332500</td>\n",
       "      <td>-10.10</td>\n",
       "    </tr>\n",
       "    <tr>\n",
       "      <th>TRANSPORT</th>\n",
       "      <td>-52.997143</td>\n",
       "      <td>-53.10</td>\n",
       "    </tr>\n",
       "  </tbody>\n",
       "</table>\n",
       "</div>"
      ],
      "text/plain": [
       "                           mean  median\n",
       "categ                                  \n",
       "AUTRE                 23.433208   -8.31\n",
       "COTISATION BANCAIRE   -1.885714   -1.92\n",
       "COURSES              -16.341282  -12.24\n",
       "FACTURE TELEPHONE    -12.045714   -7.02\n",
       "LOYER               -345.000000 -345.00\n",
       "RESTAURANT           -10.332500  -10.10\n",
       "TRANSPORT            -52.997143  -53.10"
      ]
     },
     "execution_count": 298,
     "metadata": {},
     "output_type": "execute_result"
    }
   ],
   "source": [
    "df.groupby('categ')['montant'].agg(['mean', 'median'])"
   ]
  },
  {
   "cell_type": "code",
   "execution_count": 299,
   "id": "f6e012d8-cc09-42a4-ac51-8dcc39013a2d",
   "metadata": {},
   "outputs": [
    {
     "name": "stdout",
     "output_type": "stream",
     "text": [
      "--------------------\n",
      "AUTRE\n",
      "Moyenne: 23.433207547169836\n",
      "Medianne: 23.433207547169836\n",
      "Mode: 0   -1.6\n",
      "Name: montant, dtype: float64\n",
      "Variance: 40593.3078598051\n",
      "Variance corrigée: 40401.82999254187\n",
      "Ecart type: 201.47780984467025\n",
      "Skewness: 3.1215325222336423\n",
      "Kurtosis: 12.716537970826295\n"
     ]
    },
    {
     "data": {
      "image/png": "[encoded data removed]",
      "text/plain": [
       "<Figure size 640x480 with 1 Axes>"
      ]
     },
     "metadata": {},
     "output_type": "display_data"
    },
    {
     "name": "stdout",
     "output_type": "stream",
     "text": [
      "--------------------\n",
      "TRANSPORT\n",
      "Moyenne: -52.99714285714286\n",
      "Medianne: -52.99714285714286\n",
      "Mode: 0   -73.0\n",
      "Name: montant, dtype: float64\n",
      "Variance: 2315.267711428572\n",
      "Variance corrigée: 2205.016868027212\n",
      "Ecart type: 48.11722884194987\n",
      "Skewness: -1.248265076217821\n",
      "Kurtosis: 2.1922705326917495\n"
     ]
    },
    {
     "data": {
      "image/png": "[encoded data removed]",
      "text/plain": [
       "<Figure size 640x480 with 1 Axes>"
      ]
     },
     "metadata": {},
     "output_type": "display_data"
    },
    {
     "name": "stdout",
     "output_type": "stream",
     "text": [
      "--------------------\n",
      "FACTURE TELEPHONE\n",
      "Moyenne: -12.045714285714283\n",
      "Medianne: -12.045714285714283\n",
      "Mode: 0   -7.02\n",
      "1   -6.38\n",
      "Name: montant, dtype: float64\n",
      "Variance: 122.52222857142853\n",
      "Variance corrigée: 105.01905306122445\n",
      "Ecart type: 11.068975949537\n",
      "Skewness: -2.3876514564281526\n",
      "Kurtosis: 5.798563367885492\n"
     ]
    },
    {
     "data": {
      "image/png": "[encoded data removed]",
      "text/plain": [
       "<Figure size 640x480 with 1 Axes>"
      ]
     },
     "metadata": {},
     "output_type": "display_data"
    },
    {
     "name": "stdout",
     "output_type": "stream",
     "text": [
      "--------------------\n",
      "COURSES\n",
      "Moyenne: -16.341282051282054\n",
      "Medianne: -16.341282051282054\n",
      "Mode: 0    -60.16\n",
      "1    -42.45\n",
      "2    -42.42\n",
      "3    -33.55\n",
      "4    -32.67\n",
      "5    -29.18\n",
      "6    -28.11\n",
      "7    -27.68\n",
      "8    -26.58\n",
      "9    -26.19\n",
      "10   -23.43\n",
      "11   -22.59\n",
      "12   -21.73\n",
      "13   -20.59\n",
      "14   -18.45\n",
      "15   -17.16\n",
      "16   -13.59\n",
      "17   -12.96\n",
      "18   -12.49\n",
      "19   -12.24\n",
      "20   -10.91\n",
      "21   -10.36\n",
      "22    -9.88\n",
      "23    -9.60\n",
      "24    -9.31\n",
      "25    -9.11\n",
      "26    -6.89\n",
      "27    -6.80\n",
      "28    -6.60\n",
      "29    -5.88\n",
      "30    -4.63\n",
      "31    -4.41\n",
      "32    -4.39\n",
      "33    -3.48\n",
      "34    -2.93\n",
      "35    -2.56\n",
      "36    -2.51\n",
      "37    -1.90\n",
      "38    -0.94\n",
      "Name: montant, dtype: float64\n",
      "Variance: 181.68391673414305\n",
      "Variance corrigée: 177.0253547666009\n",
      "Ecart type: 13.479017647222777\n",
      "Skewness: -1.2467488306456977\n",
      "Kurtosis: 1.604730494087499\n"
     ]
    },
    {
     "data": {
      "image/png": "[encoded data removed]",
      "text/plain": [
       "<Figure size 640x480 with 1 Axes>"
      ]
     },
     "metadata": {},
     "output_type": "display_data"
    },
    {
     "name": "stdout",
     "output_type": "stream",
     "text": [
      "--------------------\n",
      "COTISATION BANCAIRE\n",
      "Moyenne: -1.8857142857142857\n",
      "Medianne: -1.8857142857142857\n",
      "Mode: 0   -1.92\n",
      "Name: montant, dtype: float64\n",
      "Variance: 0.0018285714285714218\n",
      "Variance corrigée: 0.0015673469387755044\n",
      "Ecart type: 0.04276179870598782\n",
      "Skewness: 0.37416573867739106\n",
      "Kurtosis: -2.800000000000003\n"
     ]
    },
    {
     "data": {
      "image/png": "[encoded data removed]",
      "text/plain": [
       "<Figure size 640x480 with 1 Axes>"
      ]
     },
     "metadata": {},
     "output_type": "display_data"
    },
    {
     "name": "stdout",
     "output_type": "stream",
     "text": [
      "--------------------\n",
      "RESTAURANT\n",
      "Moyenne: -10.332500000000001\n",
      "Medianne: -10.332500000000001\n",
      "Mode: 0   -9.2\n",
      "Name: montant, dtype: float64\n",
      "Variance: 3.0434066666666677\n",
      "Variance corrigée: 2.853193750000001\n",
      "Ecart type: 1.7445362325462512\n",
      "Skewness: -0.8883503487158837\n",
      "Kurtosis: 0.5988855591691937\n"
     ]
    },
    {
     "data": {
      "image/png": "[encoded data removed]",
      "text/plain": [
       "<Figure size 640x480 with 1 Axes>"
      ]
     },
     "metadata": {},
     "output_type": "display_data"
    },
    {
     "name": "stdout",
     "output_type": "stream",
     "text": [
      "--------------------\n",
      "LOYER\n",
      "Moyenne: -345.0\n",
      "Medianne: -345.0\n",
      "Mode: 0   -345.0\n",
      "Name: montant, dtype: float64\n",
      "Variance: 0.0\n",
      "Variance corrigée: 0.0\n",
      "Ecart type: 0.0\n",
      "Skewness: 0\n",
      "Kurtosis: 0\n"
     ]
    },
    {
     "data": {
      "image/png": "[encoded data removed]",
      "text/plain": [
       "<Figure size 640x480 with 1 Axes>"
      ]
     },
     "metadata": {},
     "output_type": "display_data"
    }
   ],
   "source": [
    "import matplotlib.pyplot as plt\n",
    "for category in df['categ'].unique():\n",
    "    print('-'*20)\n",
    "    print(category)\n",
    "    subset = df.loc[df['categ']==category, :]\n",
    "    mean = subset['montant'].mean()\n",
    "    median = subset['montant'].mean()\n",
    "    mode = subset['montant'].mode()\n",
    "    variance = subset['montant'].var()\n",
    "    varianceCorrige = subset['montant'].var(ddof=0)\n",
    "    ecartType = subset['montant'].std()\n",
    "    skewness = subset['montant'].skew()\n",
    "    kurtosis = subset['montant'].kurtosis()\n",
    "    print(f'Moyenne: {mean}')\n",
    "    print(f'Medianne: {median}')\n",
    "    print(f'Mode: {mode}')\n",
    "    print(f'Variance: {variance}')\n",
    "    print(f'Variance corrigée: {varianceCorrige}')\n",
    "    print(f'Ecart type: {ecartType}')\n",
    "    print(f'Skewness: {skewness}')\n",
    "    print(f'Kurtosis: {kurtosis}')\n",
    "    subset['montant'].hist()\n",
    "    plt.show()"
   ]
  },
  {
   "cell_type": "code",
   "execution_count": 300,
   "id": "51b38073-30a9-45d8-bd1d-07339d23316d",
   "metadata": {},
   "outputs": [
    {
     "data": {
      "image/png": "[encoded data removed]",
      "text/plain": [
       "<Figure size 1200x400 with 1 Axes>"
      ]
     },
     "metadata": {},
     "output_type": "display_data"
    }
   ],
   "source": [
    "df.boxplot(column=\"montant\", vert=False, figsize=(12,4))\n",
    "plt.show()"
   ]
  },
  {
   "cell_type": "code",
   "execution_count": 301,
   "id": "4e00c169-dd63-45a2-84c9-311a10fb2337",
   "metadata": {},
   "outputs": [
    {
     "data": {
      "image/png": "[encoded data removed]",
      "text/plain": [
       "<Figure size 1200x400 with 1 Axes>"
      ]
     },
     "metadata": {},
     "output_type": "display_data"
    }
   ],
   "source": [
    "df.boxplot(column=\"montant\", vert=False, figsize=(12,4), showfliers=False)\n",
    "plt.show()"
   ]
  },
  {
   "cell_type": "markdown",
   "id": "cdb4428b-c62f-444e-9558-dc18b5205837",
   "metadata": {},
   "source": [
    "## Lorenz"
   ]
  },
  {
   "cell_type": "code",
   "execution_count": 302,
   "id": "d4569c0a-9f9f-4584-8fd0-6870807f4bbd",
   "metadata": {},
   "outputs": [
    {
     "name": "stdout",
     "output_type": "stream",
     "text": [
      "291\n",
      "-0.003436426116838488\n",
      "1.0034364261168385\n"
     ]
    },
    {
     "data": {
      "image/png": "[encoded data removed]",
      "text/plain": [
       "<Figure size 640x480 with 1 Axes>"
      ]
     },
     "metadata": {},
     "output_type": "display_data"
    }
   ],
   "source": [
    "depenses = df[df['montant'] < 0]\n",
    "dep = -depenses['montant'].values\n",
    "n = len(dep)\n",
    "print(n)\n",
    "lorenz = np.cumsum(np.sort(dep)) / dep.sum()\n",
    "lorenz = np.append([0],lorenz) # La courbe de Lorenz commence à 0\n",
    "print(0-1/n)\n",
    "print(1+1/n)\n",
    "xaxis = np.linspace(0-1/n,1+1/n,n+1) #Il y a un segment de taille n pour chaque individu, plus 1 segment supplémentaire d'ordonnée 0. Le premier segment commence à 0-1/n, et le dernier termine à 1+1/n.\n",
    "plt.plot(xaxis,lorenz,drawstyle='steps-post')\n",
    "plt.show()"
   ]
  },
  {
   "cell_type": "code",
   "execution_count": 303,
   "id": "6a6073af-dc33-4091-9b9c-25f4a4525b3b",
   "metadata": {},
   "outputs": [
    {
     "data": {
      "text/plain": [
       "0.7204386813739185"
      ]
     },
     "execution_count": 303,
     "metadata": {},
     "output_type": "execute_result"
    }
   ],
   "source": [
    "AUC = (lorenz.sum() -lorenz[-1]/2 -lorenz[0]/2)/n # Surface sous la courbe de Lorenz. Le premier segment (lorenz[0]) est à moitié en dessous de 0, on le coupe donc en 2, on fait de même pour le dernier segment lorenz[-1] qui est à moitié au dessus de 1.\n",
    "S = 0.5 - AUC # surface entre la première bissectrice et le courbe de Lorenz\n",
    "gini = 2*S\n",
    "gini"
   ]
  },
  {
   "cell_type": "markdown",
   "id": "6396f479-6a8b-402f-ae83-d75cbfec893c",
   "metadata": {},
   "source": [
    "## Analyse bivariée"
   ]
  },
  {
   "cell_type": "code",
   "execution_count": 304,
   "id": "c9852f28-86ee-474b-8830-ad9255784404",
   "metadata": {},
   "outputs": [
    {
     "data": {
      "image/png": "[encoded data removed]",
      "text/plain": [
       "<Figure size 640x480 with 1 Axes>"
      ]
     },
     "metadata": {},
     "output_type": "display_data"
    }
   ],
   "source": [
    "plt.scatter(df.loc[df['montant'] < 0, 'solde_avt_ope'], -df.loc[df['montant'] < 0, 'montant'])\n",
    "plt.show()"
   ]
  },
  {
   "cell_type": "code",
   "execution_count": 305,
   "id": "a947ba9d-3813-4d8b-b453-75589212758a",
   "metadata": {},
   "outputs": [
    {
     "data": {
      "text/html": [
       "<div>\n",
       "<style scoped>\n",
       "    .dataframe tbody tr th:only-of-type {\n",
       "        vertical-align: middle;\n",
       "    }\n",
       "\n",
       "    .dataframe tbody tr th {\n",
       "        vertical-align: top;\n",
       "    }\n",
       "\n",
       "    .dataframe thead th {\n",
       "        text-align: right;\n",
       "    }\n",
       "</style>\n",
       "<table border=\"1\" class=\"dataframe\">\n",
       "  <thead>\n",
       "    <tr style=\"text-align: right;\">\n",
       "      <th></th>\n",
       "      <th>date_operation</th>\n",
       "      <th>libelle</th>\n",
       "      <th>montant</th>\n",
       "      <th>solde_avt_ope</th>\n",
       "      <th>categ</th>\n",
       "      <th>quartile_date</th>\n",
       "    </tr>\n",
       "  </thead>\n",
       "  <tbody>\n",
       "    <tr>\n",
       "      <th>0</th>\n",
       "      <td>2023-03-31</td>\n",
       "      <td>DON XX XX XX XX XX XX XX</td>\n",
       "      <td>-1.44</td>\n",
       "      <td>1515.25</td>\n",
       "      <td>AUTRE</td>\n",
       "      <td>4</td>\n",
       "    </tr>\n",
       "    <tr>\n",
       "      <th>1</th>\n",
       "      <td>2023-04-03</td>\n",
       "      <td>CARTE XX XX RAPT XX</td>\n",
       "      <td>-24.00</td>\n",
       "      <td>1513.81</td>\n",
       "      <td>TRANSPORT</td>\n",
       "      <td>1</td>\n",
       "    </tr>\n",
       "    <tr>\n",
       "      <th>2</th>\n",
       "      <td>2023-04-03</td>\n",
       "      <td>CARTE XX XX RAPT XX</td>\n",
       "      <td>-73.00</td>\n",
       "      <td>1489.81</td>\n",
       "      <td>TRANSPORT</td>\n",
       "      <td>1</td>\n",
       "    </tr>\n",
       "    <tr>\n",
       "      <th>3</th>\n",
       "      <td>2023-04-03</td>\n",
       "      <td>VIREMENT XX XX XX XX XX XX XX XX XX XX XX XX</td>\n",
       "      <td>676.00</td>\n",
       "      <td>1416.81</td>\n",
       "      <td>AUTRE</td>\n",
       "      <td>1</td>\n",
       "    </tr>\n",
       "    <tr>\n",
       "      <th>4</th>\n",
       "      <td>2023-04-03</td>\n",
       "      <td>VIREMENT XX XX XX XX XX XX</td>\n",
       "      <td>4.80</td>\n",
       "      <td>2092.81</td>\n",
       "      <td>AUTRE</td>\n",
       "      <td>1</td>\n",
       "    </tr>\n",
       "  </tbody>\n",
       "</table>\n",
       "</div>"
      ],
      "text/plain": [
       "  date_operation                                       libelle  montant  \\\n",
       "0     2023-03-31                      DON XX XX XX XX XX XX XX    -1.44   \n",
       "1     2023-04-03                           CARTE XX XX RAPT XX   -24.00   \n",
       "2     2023-04-03                           CARTE XX XX RAPT XX   -73.00   \n",
       "3     2023-04-03  VIREMENT XX XX XX XX XX XX XX XX XX XX XX XX   676.00   \n",
       "4     2023-04-03                    VIREMENT XX XX XX XX XX XX     4.80   \n",
       "\n",
       "   solde_avt_ope      categ  quartile_date  \n",
       "0        1515.25      AUTRE              4  \n",
       "1        1513.81  TRANSPORT              1  \n",
       "2        1489.81  TRANSPORT              1  \n",
       "3        1416.81      AUTRE              1  \n",
       "4        2092.81      AUTRE              1  "
      ]
     },
     "execution_count": 305,
     "metadata": {},
     "output_type": "execute_result"
    }
   ],
   "source": [
    "df.head()"
   ]
  },
  {
   "cell_type": "code",
   "execution_count": 363,
   "id": "bd978842-0644-4790-b032-3f0037601cdc",
   "metadata": {},
   "outputs": [],
   "source": [
    "df_depenses = df.loc[df['montant'] < 0].copy()\n",
    "df_depenses['montant'] = -df_depenses['montant']"
   ]
  },
  {
   "cell_type": "code",
   "execution_count": 364,
   "id": "0f72bbd1-cf8b-4e02-b420-038c11907bf9",
   "metadata": {},
   "outputs": [
    {
     "name": "stdout",
     "output_type": "stream",
     "text": [
      "1489.81 4709.31\n"
     ]
    }
   ],
   "source": [
    "# df['category']=pd.cut(x=df['age'], bins=[0,14,24,64,100],labels=category)\n",
    "bins_min = df_depenses['solde_avt_ope'].min()\n",
    "bins_max = df_depenses['solde_avt_ope'].max()\n",
    "print(bins_min, bins_max)"
   ]
  },
  {
   "cell_type": "code",
   "execution_count": 365,
   "id": "6a93e787-aa6f-4ea6-929c-65c168066d4d",
   "metadata": {},
   "outputs": [
    {
     "data": {
      "text/plain": [
       "array([1250, 1750, 2250, 2750, 3250, 3750, 4250, 4750])"
      ]
     },
     "execution_count": 365,
     "metadata": {},
     "output_type": "execute_result"
    }
   ],
   "source": [
    "bins = np.arange(1250,5000, 500)\n",
    "bins"
   ]
  },
  {
   "cell_type": "code",
   "execution_count": 366,
   "id": "8b5965a7-ebf6-43fc-be39-7f4f4713ec33",
   "metadata": {},
   "outputs": [],
   "source": [
    "labels=[1500,2000,2500,3000,3500,4000,4500]"
   ]
  },
  {
   "cell_type": "code",
   "execution_count": 367,
   "id": "757eefdf-3489-467e-8005-2138cd7b1816",
   "metadata": {},
   "outputs": [],
   "source": [
    "df_depenses['sold_group'] = pd.cut(df_depenses['solde_avt_ope'], bins, labels=labels)"
   ]
  },
  {
   "cell_type": "code",
   "execution_count": 368,
   "id": "07972917-456d-4c3b-95b2-8da0a915abf3",
   "metadata": {},
   "outputs": [
    {
     "data": {
      "text/html": [
       "<div>\n",
       "<style scoped>\n",
       "    .dataframe tbody tr th:only-of-type {\n",
       "        vertical-align: middle;\n",
       "    }\n",
       "\n",
       "    .dataframe tbody tr th {\n",
       "        vertical-align: top;\n",
       "    }\n",
       "\n",
       "    .dataframe thead th {\n",
       "        text-align: right;\n",
       "    }\n",
       "</style>\n",
       "<table border=\"1\" class=\"dataframe\">\n",
       "  <thead>\n",
       "    <tr style=\"text-align: right;\">\n",
       "      <th></th>\n",
       "      <th>date_operation</th>\n",
       "      <th>libelle</th>\n",
       "      <th>montant</th>\n",
       "      <th>solde_avt_ope</th>\n",
       "      <th>categ</th>\n",
       "      <th>quartile_date</th>\n",
       "      <th>sold_group</th>\n",
       "    </tr>\n",
       "  </thead>\n",
       "  <tbody>\n",
       "    <tr>\n",
       "      <th>0</th>\n",
       "      <td>2023-03-31</td>\n",
       "      <td>DON XX XX XX XX XX XX XX</td>\n",
       "      <td>1.44</td>\n",
       "      <td>1515.25</td>\n",
       "      <td>AUTRE</td>\n",
       "      <td>4</td>\n",
       "      <td>1500</td>\n",
       "    </tr>\n",
       "    <tr>\n",
       "      <th>1</th>\n",
       "      <td>2023-04-03</td>\n",
       "      <td>CARTE XX XX RAPT XX</td>\n",
       "      <td>24.00</td>\n",
       "      <td>1513.81</td>\n",
       "      <td>TRANSPORT</td>\n",
       "      <td>1</td>\n",
       "      <td>1500</td>\n",
       "    </tr>\n",
       "    <tr>\n",
       "      <th>2</th>\n",
       "      <td>2023-04-03</td>\n",
       "      <td>CARTE XX XX RAPT XX</td>\n",
       "      <td>73.00</td>\n",
       "      <td>1489.81</td>\n",
       "      <td>TRANSPORT</td>\n",
       "      <td>1</td>\n",
       "      <td>1500</td>\n",
       "    </tr>\n",
       "    <tr>\n",
       "      <th>5</th>\n",
       "      <td>2023-04-03</td>\n",
       "      <td>CARTE XX XX XX XX</td>\n",
       "      <td>14.39</td>\n",
       "      <td>2097.61</td>\n",
       "      <td>AUTRE</td>\n",
       "      <td>1</td>\n",
       "      <td>2000</td>\n",
       "    </tr>\n",
       "    <tr>\n",
       "      <th>6</th>\n",
       "      <td>2023-04-05</td>\n",
       "      <td>CARTE XX XX XX XX XX</td>\n",
       "      <td>15.20</td>\n",
       "      <td>2083.22</td>\n",
       "      <td>AUTRE</td>\n",
       "      <td>1</td>\n",
       "      <td>2000</td>\n",
       "    </tr>\n",
       "  </tbody>\n",
       "</table>\n",
       "</div>"
      ],
      "text/plain": [
       "  date_operation                   libelle  montant  solde_avt_ope      categ  \\\n",
       "0     2023-03-31  DON XX XX XX XX XX XX XX     1.44        1515.25      AUTRE   \n",
       "1     2023-04-03       CARTE XX XX RAPT XX    24.00        1513.81  TRANSPORT   \n",
       "2     2023-04-03       CARTE XX XX RAPT XX    73.00        1489.81  TRANSPORT   \n",
       "5     2023-04-03         CARTE XX XX XX XX    14.39        2097.61      AUTRE   \n",
       "6     2023-04-05      CARTE XX XX XX XX XX    15.20        2083.22      AUTRE   \n",
       "\n",
       "   quartile_date sold_group  \n",
       "0              4       1500  \n",
       "1              1       1500  \n",
       "2              1       1500  \n",
       "5              1       2000  \n",
       "6              1       2000  "
      ]
     },
     "execution_count": 368,
     "metadata": {},
     "output_type": "execute_result"
    }
   ],
   "source": [
    "df_depenses.head()"
   ]
  },
  {
   "cell_type": "code",
   "execution_count": 369,
   "id": "90aee388-bbbb-4904-9009-60a289a4281a",
   "metadata": {},
   "outputs": [
    {
     "data": {
      "text/plain": [
       "[1500, 2000, 2500, 3000, 3500, 4000, 4500]"
      ]
     },
     "execution_count": 369,
     "metadata": {},
     "output_type": "execute_result"
    }
   ],
   "source": [
    "labels"
   ]
  },
  {
   "cell_type": "code",
   "execution_count": 370,
   "id": "f0780040-506a-44a1-8347-149350a63222",
   "metadata": {},
   "outputs": [
    {
     "data": {
      "text/plain": [
       "array([0., 0., 0., 0., 0., 0., 0.])"
      ]
     },
     "execution_count": 370,
     "metadata": {},
     "output_type": "execute_result"
    }
   ],
   "source": [
    "np.zeros(len(labels))"
   ]
  },
  {
   "cell_type": "code",
   "execution_count": 371,
   "id": "0942c4dd-b412-44ca-89c4-413d224b0959",
   "metadata": {},
   "outputs": [
    {
     "data": {
      "text/plain": [
       "66"
      ]
     },
     "execution_count": 371,
     "metadata": {},
     "output_type": "execute_result"
    }
   ],
   "source": [
    "df_depenses['sold_group'].value_counts()[3000]"
   ]
  },
  {
   "cell_type": "code",
   "execution_count": 388,
   "id": "ada29ae4-8ff1-446f-8e36-36e1c3a00de0",
   "metadata": {},
   "outputs": [
    {
     "name": "stdout",
     "output_type": "stream",
     "text": [
      "1500 3\n",
      "2000 13\n",
      "2500 23\n",
      "3000 66\n",
      "3500 105\n",
      "4000 60\n",
      "4500 21\n"
     ]
    },
    {
     "data": {
      "image/png": "[encoded data removed]",
      "text/plain": [
       "<Figure size 1000x500 with 1 Axes>"
      ]
     },
     "metadata": {},
     "output_type": "display_data"
    }
   ],
   "source": [
    "df_depenses.boxplot(column='montant', by='sold_group', figsize=(10,5), showfliers=False, positions=labels, widths=400)\n",
    "for label in labels:\n",
    "    print(label, df_depenses['sold_group'].value_counts()[label])\n",
    "    n = df_depenses['sold_group'].value_counts()[label]\n",
    "    plt.text(label-90, -2, f'(n={n})')\n",
    "plt.show()"
   ]
  },
  {
   "cell_type": "code",
   "execution_count": 389,
   "id": "ab4d2bfc-49b9-4178-ab6b-8fcd0967660b",
   "metadata": {},
   "outputs": [],
   "source": [
    "import scipy.stats as st"
   ]
  },
  {
   "cell_type": "code",
   "execution_count": 392,
   "id": "7e62acf9-5257-4ded-8ad3-a930eff00115",
   "metadata": {},
   "outputs": [
    {
     "data": {
      "text/plain": [
       "PearsonRResult(statistic=0.010068819133759187, pvalue=0.864203121377216)"
      ]
     },
     "execution_count": 392,
     "metadata": {},
     "output_type": "execute_result"
    }
   ],
   "source": [
    "st.pearsonr(df_depenses['solde_avt_ope'], df_depenses['montant'])"
   ]
  },
  {
   "cell_type": "code",
   "execution_count": 394,
   "id": "57ebd41f-987f-4d7f-8f50-d6644ecbd802",
   "metadata": {},
   "outputs": [
    {
     "data": {
      "text/plain": [
       "array([[422791.93532421,    484.95954155],\n",
       "       [   484.95954155,   5486.90249853]])"
      ]
     },
     "execution_count": 394,
     "metadata": {},
     "output_type": "execute_result"
    }
   ],
   "source": [
    "np.cov(df_depenses['solde_avt_ope'], df_depenses['montant'], ddof=0)"
   ]
  },
  {
   "cell_type": "code",
   "execution_count": null,
   "id": "d061fd2e-916d-47f9-a326-d52654afb765",
   "metadata": {},
   "outputs": [],
   "source": []
  }
 ],
 "metadata": {
  "kernelspec": {
   "display_name": "Python 3 (ipykernel)",
   "language": "python",
   "name": "python3"
  },
  "language_info": {
   "codemirror_mode": {
    "name": "ipython",
    "version": 3
   },
   "file_extension": ".py",
   "mimetype": "text/x-python",
   "name": "python",
   "nbconvert_exporter": "python",
   "pygments_lexer": "ipython3",
   "version": "3.9.13"
  }
 },
 "nbformat": 4,
 "nbformat_minor": 5
}
