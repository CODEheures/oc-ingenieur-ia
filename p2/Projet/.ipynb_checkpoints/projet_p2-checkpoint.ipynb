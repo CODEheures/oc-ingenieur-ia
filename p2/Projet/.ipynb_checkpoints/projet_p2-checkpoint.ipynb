{
 "cells": [
  {
   "cell_type": "code",
   "execution_count": null,
   "id": "562833aa-6ec7-4e70-821b-c20a656055a9",
   "metadata": {},
   "outputs": [],
   "source": [
    "import io\n",
    "import requests\n",
    "\n",
    "import numpy as np\n",
    "import pandas as pd\n",
    "import matplotlib.pyplot as plt\n",
    "import seaborn as sns\n",
    "\n",
    "import folium\n",
    "from folium import plugins as foliumPlugins"
   ]
  },
  {
   "cell_type": "code",
   "execution_count": null,
   "id": "bad97d63-20a8-459f-b493-06dddbdb7687",
   "metadata": {},
   "outputs": [],
   "source": [
    "sns.set()"
   ]
  },
  {
   "cell_type": "code",
   "execution_count": null,
   "id": "ba7ee762-33c4-4de4-a344-0f7ff7869896",
   "metadata": {},
   "outputs": [],
   "source": [
    "# Request zip on AWS\n",
    "print('load data from AWS')\n",
    "file_url = 'https://s3-eu-west-1.amazonaws.com/static.oc-static.com/prod/courses/files/AI+Engineer/Project+2+Participez+%C3%A0+un+concours+sur+la+Smart+City/p2-arbres-fr.csv'\n",
    "response = requests.get(file_url)\n",
    "\n",
    "# Read it in pandas\n",
    "print('Read csv by pandas')\n",
    "df = pd.read_csv(io.BytesIO(response.content), sep=';')\n",
    "df_save = df.copy()"
   ]
  },
  {
   "cell_type": "markdown",
   "id": "00f1ac1b-af28-4054-b1a9-86db7c4e8128",
   "metadata": {
    "tags": []
   },
   "source": [
    "# 1. Présentation générale du jeu de données"
   ]
  },
  {
   "cell_type": "markdown",
   "id": "9516d34b-f644-49f0-aa65-7610a865c0c9",
   "metadata": {},
   "source": [
    "## 1.1. Apperçu des données"
   ]
  },
  {
   "cell_type": "code",
   "execution_count": null,
   "id": "90d53713-2a7b-4c5e-b7d7-65f767ed3f7b",
   "metadata": {
    "tags": []
   },
   "outputs": [],
   "source": [
    "df.head()"
   ]
  },
  {
   "cell_type": "markdown",
   "id": "18b65ca5-9dc0-43ca-84aa-7b9486784ab5",
   "metadata": {
    "tags": []
   },
   "source": [
    "## 1.2. Caractéristiques des données\n",
    "\n",
    "### 1.2.1. Lignes (individus) / Colonnes (variables)"
   ]
  },
  {
   "cell_type": "code",
   "execution_count": null,
   "id": "be0b926e-2c83-4907-8493-38f3e6328705",
   "metadata": {},
   "outputs": [],
   "source": [
    "individus = df.shape[0]\n",
    "variables = df.shape[1]\n",
    "print(f'Les données contiennent {individus} lignes et {variables} colonnes')"
   ]
  },
  {
   "cell_type": "code",
   "execution_count": null,
   "id": "f13decf5-8224-4015-a571-ab1e3b560cfe",
   "metadata": {},
   "outputs": [],
   "source": [
    "columns = df.columns\n",
    "columns\n",
    "print('Liste des colonnes: ')\n",
    "print('- ', end='')\n",
    "print(*columns, sep = '\\n- ')"
   ]
  },
  {
   "cell_type": "markdown",
   "id": "ae3dd059-c57b-476b-8de8-d92838e2c385",
   "metadata": {},
   "source": [
    "### 1.2.2. Type des données"
   ]
  },
  {
   "cell_type": "code",
   "execution_count": null,
   "id": "9bc2837c-c551-482c-93bc-7b68f92b40e0",
   "metadata": {},
   "outputs": [],
   "source": [
    "df.dtypes"
   ]
  },
  {
   "cell_type": "markdown",
   "id": "9c2f8d76-a305-401b-a2cc-8ec872dc697c",
   "metadata": {},
   "source": [
    "Pas de problème dans les types de données. Les variables quantitatives sont bien reconnues en tant que valeurs numériques"
   ]
  },
  {
   "cell_type": "markdown",
   "id": "8636b413-6a69-476b-a7a8-f08e1c036e56",
   "metadata": {},
   "source": [
    "### 1.2.3. Données dupliquées"
   ]
  },
  {
   "cell_type": "code",
   "execution_count": null,
   "id": "eb14c77a-62ff-40d9-9f61-20d01d82fa77",
   "metadata": {},
   "outputs": [],
   "source": [
    "df.loc[df.duplicated(keep=False, subset=['id_emplacement','geo_point_2d_a', 'geo_point_2d_b']),:]"
   ]
  },
  {
   "cell_type": "markdown",
   "id": "b77df145-e909-4fa0-b518-e4d6b86eb880",
   "metadata": {},
   "source": [
    "Un arbre est dupliqué (même id emplacement, même geo point). Le premier contenant moins d'informations est supprimé."
   ]
  },
  {
   "cell_type": "code",
   "execution_count": null,
   "id": "5ff490a4-48b8-4837-bb65-07694aa77a8c",
   "metadata": {},
   "outputs": [],
   "source": [
    "df = df[df.index != 189133]"
   ]
  },
  {
   "cell_type": "markdown",
   "id": "b6ea66db-f1fe-43ea-9dd3-f846c8197bec",
   "metadata": {},
   "source": [
    "### 1.2.4. Données manquantes"
   ]
  },
  {
   "cell_type": "code",
   "execution_count": null,
   "id": "5c7be34d-d270-47c8-ba9d-0d7df0cf6d96",
   "metadata": {},
   "outputs": [],
   "source": [
    "df.isna().mean().sort_values(ascending=False)"
   ]
  },
  {
   "cell_type": "code",
   "execution_count": null,
   "id": "74ad589a-8b66-4281-a789-061a477ae550",
   "metadata": {},
   "outputs": [],
   "source": [
    "plt.figure(figsize=(14,6))\n",
    "(df.isna().mean().sort_values(ascending=False)*100).plot.bar()\n",
    "plt.title('% des données manquantes par colonne')\n",
    "plt.ylabel('%')\n",
    "plt.show()"
   ]
  },
  {
   "cell_type": "code",
   "execution_count": null,
   "id": "5176b8a8-0c29-44a1-9d7a-557ae3009bda",
   "metadata": {},
   "outputs": [],
   "source": [
    "plt.figure()\n",
    "df_stade_developpement = df.groupby(['stade_developpement'], dropna=False).size()\n",
    "df_stade_developpement = df_stade_developpement.reset_index()\n",
    "df_stade_developpement.loc[df_stade_developpement['stade_developpement'] == 'A', 'stade_developpement'] = 'Adulte'\n",
    "df_stade_developpement.loc[df_stade_developpement['stade_developpement'] == 'J', 'stade_developpement'] = 'Jeune'\n",
    "df_stade_developpement.loc[df_stade_developpement['stade_developpement'] == 'JA', 'stade_developpement'] = 'Jeune arbre'\n",
    "df_stade_developpement.loc[df_stade_developpement['stade_developpement'] == 'M', 'stade_developpement'] = 'Mature'\n",
    "df_stade_developpement.loc[df_stade_developpement['stade_developpement'].isna(), 'stade_developpement'] = 'Inconnu'\n",
    "df_stade_developpement.set_index('stade_developpement', inplace=True)\n",
    "df_stade_developpement.squeeze().plot.pie(label='', autopct='%1.1f%%')\n",
    "plt.title('Stades de développement')\n",
    "plt.show()"
   ]
  },
  {
   "cell_type": "code",
   "execution_count": null,
   "id": "b9ebe3c8-b822-4321-8975-d53211eb159a",
   "metadata": {},
   "outputs": [],
   "source": [
    "plt.figure()\n",
    "df_remarquable = df.groupby(['remarquable'], dropna=False).size()\n",
    "df_remarquable = df_remarquable.reset_index()\n",
    "df_remarquable.loc[df_remarquable['remarquable'] == 0, 'remarquable'] = 'Non'\n",
    "df_remarquable.loc[df_remarquable['remarquable'] == 1, 'remarquable'] = 'Oui'\n",
    "df_remarquable.loc[df_remarquable['remarquable'].isna(), 'remarquable'] = 'Inconnu'\n",
    "df_remarquable.set_index('remarquable', inplace=True)\n",
    "df_remarquable.squeeze().plot.pie(label='', autopct='%1.1f%%')\n",
    "plt.title('Arbres remarquables')\n",
    "plt.show()"
   ]
  },
  {
   "cell_type": "code",
   "execution_count": null,
   "id": "39bff515-d509-4896-a8ea-fb590b6e66b8",
   "metadata": {},
   "outputs": [],
   "source": [
    "df['type_emplacement'].unique()"
   ]
  },
  {
   "cell_type": "markdown",
   "id": "4180cec5-f2a7-483a-acc4-9127a21bd583",
   "metadata": {
    "tags": []
   },
   "source": [
    "# 2. Démarche méthodologique d’analyse de données\n",
    "\n",
    "1. <ins>Néttoyage du jeu de données</ins>\n",
    "    - Colonnes vides / inutiles / hors sujet / hors compétence\n",
    "    - Valeurs abérantes\n",
    "2. <ins>Analyse univariée des colonnes circonference et hauteur</ins>\n",
    "    - Description, min, max, ecart type, quartiles\n",
    "    - Histogramme distributions / concentrations\n",
    "    - Boite à moustache des dispersions"
   ]
  },
  {
   "cell_type": "markdown",
   "id": "694967cb-2f08-47a4-845c-1e01e7b1bedd",
   "metadata": {
    "tags": []
   },
   "source": [
    "## 2.1. Néttoyage du jeu de données\n",
    "- La colonne id est inutile pour l'analyse et sera supprimée\n",
    "- La colonne \"numero\" est vide elle sera exclue\n",
    "- La colonne \"type_emplacement\" ne possède qu'une même valeur unique pour tous les individus: \"Arbre\". Elle n'a aucune utilité et sera supprimée\n",
    "- Les colonnes \"geo_point_2d_\" seront exclues du jeu de données car je n'ai pas de connaissance dans ce domaine\n",
    "- Les colonnes \"complement_adresse\" et \"variete\" sont très vides avec un taux respectif de seulement 15%, 19% de données remplies. Elles seront supprimées\n",
    "- La colonne \"remarquable\" n'est remplie qu'à 69% et cette donnée binaire n'est pas imputable, elles sera supprimée.\n",
    "- La colonne \"stade_developpement\" est aussi assez vide avec un taux respectif de 67% de données remplies. Cette donnée catégorielle est peut-être imputable en cherchant par apprentissage (kmeans) avec les variables diametre/espece (hors sujet de cette etude). Cette colonne sera supprimée\n",
    "- Les colonnes \"domanialite\", \"libelle_francais\", \"genre\" et \"espece\" contiennent quelques valeurs vides (< 0.8%), non imputables, les lignes seront supprimées en fonction de l'analyse faite.<br> Exemple: si l'analyse est bivariée et concerne le diamètre par domanialité, alors les lignes dont la domanialité n'est pas connues seront supprimées)"
   ]
  },
  {
   "cell_type": "code",
   "execution_count": null,
   "id": "e41a95a1-2480-4b70-83ba-dd3e79405316",
   "metadata": {},
   "outputs": [],
   "source": [
    "df.drop(['id', 'numero', 'type_emplacement', 'geo_point_2d_a', 'geo_point_2d_b', 'complement_addresse', 'variete', 'remarquable', 'stade_developpement'], axis=1, inplace=True)"
   ]
  },
  {
   "cell_type": "code",
   "execution_count": null,
   "id": "752677c4-1650-418f-ad6e-f3e939b3faa5",
   "metadata": {},
   "outputs": [],
   "source": [
    "df.describe()"
   ]
  },
  {
   "cell_type": "markdown",
   "id": "8759f69b-2873-4ad8-8cbf-4d7af2b3e626",
   "metadata": {},
   "source": [
    "Pour les 2 colonnes les valeurs min et max sont aberrantes (circonference et hauteur nulle, circonference de 250m et hauteur de 881km)\n",
    "Avec un peu de recherche (https://www.unjourdeplusaparis.com/paris-vert/arbres-remarquables-paris) on apprend que pour Paris\n",
    "\n",
    "- La circonférence du plus gros arbre est de 7m\n",
    "- La hauteur du plus grand arbre est 35m\n",
    "\n",
    "On pourrait utiliser ces valeurs, mais je vais filtrer mon jeu de données en utilisant les quartiles"
   ]
  },
  {
   "cell_type": "code",
   "execution_count": null,
   "id": "27fb57ac-a6f7-4a4a-b48b-4fa918f076bf",
   "metadata": {},
   "outputs": [],
   "source": [
    "circonference_min = df['circonference_cm'].quantile(0.25)  - 1.5 * (df['circonference_cm'].quantile(0.75) - df['circonference_cm'].quantile(0.25))\n",
    "circonference_max = df['circonference_cm'].quantile(0.75)  + 1.5 * (df['circonference_cm'].quantile(0.75) - df['circonference_cm'].quantile(0.25))\n",
    "\n",
    "hauteur_min = df['hauteur_m'].quantile(0.25)  - 1.5 * (df['hauteur_m'].quantile(0.75) - df['hauteur_m'].quantile(0.25))\n",
    "hauteur_max = df['hauteur_m'].quantile(0.75)  + 1.5 * (df['hauteur_m'].quantile(0.75) - df['hauteur_m'].quantile(0.25))\n",
    "\n",
    "filtre_circonference = (df['circonference_cm'] > 0) & (df['circonference_cm'] > circonference_min) & (df['circonference_cm'] < circonference_max)\n",
    "filtre_hauteur = (df['hauteur_m'] > 0) & (df['hauteur_m'] > hauteur_min) & (df['hauteur_m'] < hauteur_max)"
   ]
  },
  {
   "cell_type": "markdown",
   "id": "7f14b749-519a-4b62-83c0-12a9e2e2c3c7",
   "metadata": {},
   "source": [
    "Liste de arbres dont la circonférence est considérée abérantes (=0 ou au-dessous de  Q1−1.5IQ ou au-dessus de Q3+1.5IQ)"
   ]
  },
  {
   "cell_type": "code",
   "execution_count": null,
   "id": "266ff9a1-bb96-448c-abf0-61d28d4d1ede",
   "metadata": {},
   "outputs": [],
   "source": [
    "df.loc[~filtre_circonference, :].sort_values('circonference_cm', ascending=False)"
   ]
  },
  {
   "cell_type": "markdown",
   "id": "d0be3585-1605-4004-a039-ab187b8129f6",
   "metadata": {},
   "source": [
    "Liste des arbres dont la hauteur est considérée comme abérante (=0 ou au-dessous de  Q1−1.5IQ ou au-dessus de Q3+1.5IQ)"
   ]
  },
  {
   "cell_type": "code",
   "execution_count": null,
   "id": "e9cec9f8-8d1b-4ce5-98e2-eb2592da46cf",
   "metadata": {},
   "outputs": [],
   "source": [
    "df.loc[~filtre_hauteur, :].sort_values('hauteur_m', ascending=False)"
   ]
  },
  {
   "cell_type": "markdown",
   "id": "89f0f758-9fd4-4f95-bbd3-edb031a15d65",
   "metadata": {},
   "source": [
    "## 2.2. Analyse univariée des colonnes circonference et hauteur"
   ]
  },
  {
   "cell_type": "code",
   "execution_count": null,
   "id": "24e83dd2-199c-47fa-8720-901dfa20b739",
   "metadata": {},
   "outputs": [],
   "source": [
    "df_circonference_filtered = df.loc[filtre_circonference, :]\n",
    "df_circonference_filtered['circonference_cm'].describe()"
   ]
  },
  {
   "cell_type": "code",
   "execution_count": null,
   "id": "956cad2b-28d7-4fd6-bb19-4b49401b49ec",
   "metadata": {},
   "outputs": [],
   "source": [
    "df_hauteur_filtered = df.loc[filtre_hauteur, :]\n",
    "df_hauteur_filtered['hauteur_m'].describe()"
   ]
  },
  {
   "cell_type": "code",
   "execution_count": null,
   "id": "4724ff36-0cd7-44bb-a073-483fdcfff056",
   "metadata": {},
   "outputs": [],
   "source": [
    "# Histogrammes circonferences et hauteurs\n",
    "plt.figure(figsize=(10,5))\n",
    "medianprops = {'color':\"black\"}\n",
    "meanprops = {'marker':'o', 'markeredgecolor':'black',\n",
    "            'markerfacecolor':'firebrick'}\n",
    "\n",
    "circonference_skew = df_circonference_filtered['circonference_cm'].skew()\n",
    "circonference_kurtosis = df_circonference_filtered['circonference_cm'].kurtosis()\n",
    "hauteur_skew = df_hauteur_filtered['hauteur_m'].skew()\n",
    "hauteur_kurtosis = df_hauteur_filtered['hauteur_m'].kurtosis()\n",
    "\n",
    "plt.subplot(2,1,1)\n",
    "plt.title('Repartition')\n",
    "plt.hist(df_circonference_filtered['circonference_cm'].values, bins=20)\n",
    "plt.ylabel('Nb Individus')\n",
    "plt.xlabel('Circonférence(cm)')\n",
    "plt.text(180,30000,f'skew: {circonference_skew:0.2f}, kurtosis: {circonference_kurtosis:0.2f}')\n",
    "\n",
    "plt.subplot(2,1,2)\n",
    "plt.hist(df_hauteur_filtered['hauteur_m'].values, bins=20)\n",
    "plt.ylabel('Nb Individus')\n",
    "plt.xlabel('Hauteur(m)')\n",
    "plt.subplots_adjust(hspace=0.5)\n",
    "plt.text(16.5,28000,f'skew: {hauteur_skew:0.2f}, kurtosis: {hauteur_kurtosis:0.2f}')\n",
    "plt.show()"
   ]
  },
  {
   "cell_type": "markdown",
   "id": "d54b4e75-b61c-4771-ae05-8869798e00f0",
   "metadata": {},
   "source": [
    "- La distribution de la circonférence est étalée à droite avec une concentration légèrement moindre qu'une distribution normale \n",
    "- La distribution de la hauteur est presque centrée avec une concentration beaucoup moins accentuée qu'une distribution normale et des valeurs manquantes sur la courbe"
   ]
  },
  {
   "cell_type": "code",
   "execution_count": null,
   "id": "625b7b17-9f28-42d9-8b19-e28816e837c8",
   "metadata": {},
   "outputs": [],
   "source": [
    "# Box plots circonferences et hauteurs\n",
    "plt.figure(figsize=(10,4))\n",
    "medianprops = {'color':\"black\"}\n",
    "meanprops = {'marker':'o', 'markeredgecolor':'black',\n",
    "            'markerfacecolor':'firebrick'}\n",
    "\n",
    "circonference_mean = df_circonference_filtered['circonference_cm'].mean()\n",
    "circonference_median = df_circonference_filtered['circonference_cm'].median()\n",
    "hauteur_mean = df_hauteur_filtered['hauteur_m'].mean()\n",
    "hauteur_median = df_hauteur_filtered['hauteur_m'].median()\n",
    "\n",
    "plt.subplot(2,1,1)\n",
    "plt.title('Dispersions')\n",
    "plt.boxplot(df_circonference_filtered['circonference_cm'].values, labels=['Circonférence (cm)'], showfliers=False, meanprops=meanprops, vert=False, patch_artist=True, showmeans=True)\n",
    "plt.text(50,0.6,f'médiane: {circonference_median:0.1f}, moyenne: {circonference_mean:0.1f}, ')\n",
    "plt.subplot(2,1,2)\n",
    "plt.boxplot(df_hauteur_filtered['hauteur_m'].values, labels=['Hauteur (m)'], showfliers=False, meanprops=meanprops, vert=False, patch_artist=True, showmeans=True)\n",
    "plt.text(6,0.6,f'médiane: {hauteur_median:0.1f}, moyenne: {hauteur_mean:0.1f}')\n",
    "plt.subplots_adjust(hspace=0.5)\n",
    "plt.show()"
   ]
  },
  {
   "cell_type": "markdown",
   "id": "094cea6b-9977-4f17-824a-6d07dc4ea5d1",
   "metadata": {
    "tags": []
   },
   "source": [
    "# 3. Synthèse de l'analyse de données"
   ]
  },
  {
   "cell_type": "markdown",
   "id": "30981b71-d8bb-42b5-82ae-9c7d6f5ef384",
   "metadata": {},
   "source": [
    "Le jeu de données comporte 200137 individus avec 18 colonnes.\n",
    "\n",
    "La plupart de celles-ci sont qualitatives: emplacement ou espèce par exemple. \n",
    "\n",
    "Deux d'entre elles sont quantitatives: la circonférence et la hauteur des arbres.\n",
    "\n",
    "L'analyse est effectuée sur ces deux valeurs numériques.\n",
    "\n",
    "Après nettoyage des données manquantes, dupliquées et aberrantes basée sur la méthode des quartiles ou nulle:\n",
    "- L'analyse de la circonférence se base sur 170681 individus.\n",
    "- L'analyse de la hauteur se base sur 157015 individus.\n",
    "\n",
    "<i>Il est noté à nouveau ici que les valeurs aberrantes auraient pu être écartées de manière encore plus franche, en utilisant des données issues de site web, publiant les valeurs maximum de circonférence/diamètre/hauteur des arbres à Paris</i>\n",
    "\n",
    "<b>Concernant la circonférence des arbres:</b>\n",
    "\n",
    "La moyenne (87cm) est proche de la médiane (80cm). Cela signifie que peu d'arbres sont hors de la norme (outliers).\n",
    "<br>La dispersion s'étale principalement entre 45cm et 120cm. \n",
    "<br>C'est une dispersion plutot étalée à droite comme le montre le graphe en bar. On voit donc que les grandes circonférences sont moins représentées. <br>Cela signifie que les espèces présentes à Paris sont des espèces qui ne sont pas des espèces à fortes circonférence et/ou qu'il y a une majorité de jeunes arbres (le camenbert de repartition des individus par age nous le laisse penser, mais ce n'est pas franc car 34% n'y sont pas classés)\n",
    "<br>Pour essayer de déduire si l'une ou l'autre des hypothèses ci dessus est vraie, il faudrait faire une analyse bivariée (circonférence/age - circonférence/espece)\n",
    "<br>On note aussi que l'étalement est aussi plus applati qu'une courbe de distribution normale.\n",
    "\n",
    "<b>Concernant la hauteur des arbres:</b>\n",
    "\n",
    "La moyenne (10m) est égale de la médiane (10m). Très peu d'arbres sont hors de la norme (outliers).\n",
    "<br>La dispersion s'etale principalement entre 6m et 14m. Elle représente mal une courbe normale de distribution car on y voit 3 valeurs sur-réprésentées. Soit les mesures sont estimées (et ne reflètent donc pas la réalité, auquel cas le graphe en bar devrait etre réduit à 6 ou 7 valeurs au lieu de 20), soit, comme pour la circonférence, les espèces et tranches d'age représentés jouent un rôle prépondérant. \n",
    "\n"
   ]
  },
  {
   "cell_type": "markdown",
   "id": "71abfb97-b5db-4def-8cef-c7aeb3d090e1",
   "metadata": {
    "tags": []
   },
   "source": [
    "# BONUS: Quelques dispersions et répartitions"
   ]
  },
  {
   "cell_type": "markdown",
   "id": "fa2d370a-a59e-49f5-b429-c9aefad28417",
   "metadata": {
    "tags": []
   },
   "source": [
    "## 1. Circonférence en fonction de la hauteur"
   ]
  },
  {
   "cell_type": "code",
   "execution_count": null,
   "id": "61ff303e-8c9f-46a4-a021-61b39abe28e7",
   "metadata": {},
   "outputs": [],
   "source": [
    "df_c_h = df.loc[filtre_circonference & filtre_hauteur, ['circonference_cm', 'hauteur_m']]\n",
    "plt.figure(figsize=(10,6))\n",
    "plt.scatter(df_c_h['hauteur_m'], df_c_h['circonference_cm'], marker='+', s=5, linewidths=0.5)\n",
    "plt.title('Dispersion des circonférences en fonction des hauteurs')\n",
    "plt.xlabel('Hauteur (m)')\n",
    "plt.ylabel('Circonférence (cm)')\n",
    "plt.show()"
   ]
  },
  {
   "cell_type": "markdown",
   "id": "fbe9fc54-2c68-40ef-ac04-725985078760",
   "metadata": {},
   "source": [
    "## 2. Quantité par domanialité"
   ]
  },
  {
   "cell_type": "code",
   "execution_count": null,
   "id": "9525e490-b9b0-45ca-8029-0716ed255c90",
   "metadata": {},
   "outputs": [],
   "source": [
    "# Repartition\n",
    "rep_domanialite = df.groupby(['domanialite'], dropna=True).size().sort_values(ascending=False)\n",
    "\n",
    "# Graph\n",
    "plt.figure(figsize=(8,4))\n",
    "bar = plt.bar(rep_domanialite.index, rep_domanialite.values)\n",
    "plt.xticks(rotation=90)\n",
    "plt.title('Répartition des arbres par domanialité')\n",
    "plt.xticks(fontsize=8)\n",
    "plt.yticks(fontsize=8)\n",
    "plt.grid(axis='x')\n",
    "for rect in bar:\n",
    "    height = rect.get_height()\n",
    "    plt.text(rect.get_x() + rect.get_width() / 2.0, height, f'{height/len(df)*100:.0f}%', ha='center', va='bottom', fontsize=8)"
   ]
  },
  {
   "cell_type": "markdown",
   "id": "c2c9945a-9129-4523-9ae6-bfdfe66f885b",
   "metadata": {},
   "source": [
    "Plus de la moitié des arbres sont en Alignement et un presque un quart de ceux-ci dans les jardins.\n",
    "\n",
    "## 3. Quantité par Arrondissement"
   ]
  },
  {
   "cell_type": "code",
   "execution_count": null,
   "id": "ec71a8b2-dab9-4f64-83b1-e0cd9ea35af6",
   "metadata": {},
   "outputs": [],
   "source": [
    "# Répartition\n",
    "rep_arrondissement = df.groupby(['arrondissement'], dropna=True).size().sort_values(ascending=False)\n",
    "\n",
    "# Graph\n",
    "sns.set()\n",
    "plt.figure(figsize=(8,4))\n",
    "bar = plt.bar(rep_arrondissement.index, rep_arrondissement.values)\n",
    "plt.xticks(rotation=90)\n",
    "plt.title('Répartition des arbres par arrondissement')\n",
    "plt.xticks(fontsize=8)\n",
    "plt.yticks(fontsize=8)\n",
    "plt.grid(axis='x')\n",
    "for rect in bar:\n",
    "    height = rect.get_height()\n",
    "    plt.text(rect.get_x() + rect.get_width() / 2.0, height, f'{height/len(df)*100:.0f}%', ha='center', va='bottom', fontsize=8)"
   ]
  },
  {
   "cell_type": "markdown",
   "id": "631092c2-9848-4ac8-bd89-ae3827548976",
   "metadata": {},
   "source": [
    "Paris 15ième arrive en tête avec 9% des arbres de la ville\n",
    "\n",
    "## 4. Les 10 espèces les plus présentes"
   ]
  },
  {
   "cell_type": "code",
   "execution_count": null,
   "id": "44f80448-78b7-4455-aae8-ed5ed7265cef",
   "metadata": {},
   "outputs": [],
   "source": [
    "# Répartition\n",
    "rep_libelle_francais_top_10 = df.groupby(['libelle_francais'], dropna=True).size().sort_values(ascending=False).head(10)\n",
    "\n",
    "# Graph\n",
    "plt.figure(figsize=(8,4))\n",
    "bar = plt.bar(rep_libelle_francais_top_10.index, rep_libelle_francais_top_10.values)\n",
    "plt.xticks(rotation=90)\n",
    "plt.title('Les 10 espèces les plus présentes')\n",
    "plt.xticks(fontsize=8)\n",
    "plt.yticks(fontsize=8)\n",
    "plt.grid(axis='x')\n",
    "for rect in bar:\n",
    "    height = rect.get_height()\n",
    "    plt.text(rect.get_x() + rect.get_width() / 2.0, height, f'{height/len(df)*100:.0f}%', ha='center', va='bottom', fontsize=8)"
   ]
  },
  {
   "cell_type": "markdown",
   "id": "a4956bfe-6d80-418d-be39-3d6ec6ffff59",
   "metadata": {},
   "source": [
    "Les platanes sont largement en tête avec 21%. Les maronniers, tilleuils et érables sont aussi fortement représentés"
   ]
  },
  {
   "cell_type": "markdown",
   "id": "422da757-c031-419c-a828-0621fbe9ea55",
   "metadata": {},
   "source": [
    "## 5. Affichage des arbres sur la carte\n",
    "\n",
    "**ATTENTION L'EXECUTION ET L'AFFICHAGE PEUVENT PRENDRE PLUSIEURS MINUTES**"
   ]
  },
  {
   "cell_type": "code",
   "execution_count": null,
   "id": "212acf84-9acd-4bef-bc32-dccf6baa2e37",
   "metadata": {},
   "outputs": [],
   "source": [
    "generate_this_cell = False\n",
    "\n",
    "# Centrage map sur Paris\n",
    "paris_map = folium.Map(location = [48.85, 2.32], zoom_start = 12)\n",
    "\n",
    "# Creation du cluster de markers\n",
    "clustered_map = foliumPlugins.MarkerCluster().add_to(paris_map)\n",
    "\n",
    "if generate_this_cell:\n",
    "    # Ajouts des points geo2d au cluster\n",
    "    for lat, lng, label, in zip(df_save['geo_point_2d_a'], df_save['geo_point_2d_b'], df_save['lieu']):\n",
    "        folium.Marker(\n",
    "            location=[lat, lng],\n",
    "            icon=None,\n",
    "             popup=label,\n",
    "         ).add_to(clustered_map)\n",
    "\n",
    "    # Affichage map\n",
    "    paris_map\n",
    "else:\n",
    "    print('Set variable named \"generate_this_cell\" to True to view result')"
   ]
  },
  {
   "cell_type": "markdown",
   "id": "22bbdb99-77fd-4097-948f-147da9756506",
   "metadata": {},
   "source": [
    "## 6. Trajet minimum à partir d'un critère"
   ]
  },
  {
   "cell_type": "code",
   "execution_count": null,
   "id": "72beb1c8-9615-441b-9626-c4d2b2c7024b",
   "metadata": {},
   "outputs": [],
   "source": [
    "from typing import Tuple\n",
    "from pandas import DataFrame\n",
    "\n",
    "# Fonction qui transfert la 1er ligne du dataframe origin à la fin du dataframe output (vide origin en remplissant output)\n",
    "def transfert_nearest(origin: DataFrame, output: DataFrame) -> Tuple[DataFrame, DataFrame]:\n",
    "    output = pd.concat([output, origin.head(1)], ignore_index=True)\n",
    "    origin.drop(index=origin.head(1).index, inplace=True)\n",
    "    return origin, output\n",
    "\n",
    "# Fonction qui crée une map à partir du DataFrame classé\n",
    "def create_map(sorted_dataframe: DataFrame):\n",
    "    # Création Map et centrage map sur le 1er point\n",
    "    created_map = folium.Map(location = [sorted_dataframe['geo_point_2d_a'].iloc[0],\n",
    "                                         sorted_dataframe['geo_point_2d_b'].iloc[0]],\n",
    "                             zoom_start = 18)\n",
    "\n",
    "    # Ajouts de la polyline à la map\n",
    "    points = []\n",
    "    for lat, lng, index in zip(sorted_dataframe['geo_point_2d_a'],\n",
    "                               sorted_dataframe['geo_point_2d_b'],\n",
    "                               sorted_dataframe.index):\n",
    "        points.append((lat, lng))\n",
    "    \n",
    "    folium.PolyLine(points).add_to(created_map)\n",
    "    \n",
    "    # result map\n",
    "    return created_map\n",
    "\n",
    "\n",
    "# Fonction qui calcul le trajet le plus court en fonction de critères et qui retourne la map\n",
    "def display_map(use_filter):\n",
    "    \n",
    "    # initialisation: \n",
    "    #   origin est une copy filtrée des data d'origine\n",
    "    #   output est le dataframe de sorti classé par chemin de proche en proche\n",
    "    origin = df_save.loc[df_save[use_filter['name']].isin(use_filter['values']), :].copy()\n",
    "    print(f'Nombre d\\'arbres sur le chemin: {len(origin)}')\n",
    "    origin.sort_values(['geo_point_2d_b', 'geo_point_2d_a'], ascending=True, inplace=True, ignore_index=True)\n",
    "    output = pd.DataFrame()\n",
    "    \n",
    "    # Transfert du 1er point de origin vers output\n",
    "    origin, output = transfert_nearest(origin, output)\n",
    "\n",
    "    # Boucle de calcul du prochain point le plus proche, et transfert de celui-ci de origin dans output\n",
    "    # On s'arrete quand origin est vide\n",
    "    while len(origin) > 0:\n",
    "        print(f'\\rreste à traiter: {len(origin)}    ', end='', flush=True)\n",
    "        ref_a = output['geo_point_2d_a'].iloc[-1]\n",
    "        ref_b = output['geo_point_2d_b'].iloc[-1]\n",
    "        origin['distance'] = (origin['geo_point_2d_a'] - ref_a)**2 + (origin['geo_point_2d_b'] - ref_b)**2\n",
    "        origin.sort_values(['distance'], ascending=True, inplace=True, ignore_index=True)\n",
    "        origin, output = transfert_nearest(origin, output)\n",
    "    \n",
    "    print('\\r                      ', end='', flush=True)\n",
    "        \n",
    "    # Création Map et centrage map sur le 1er point\n",
    "    return create_map(output)\n",
    "\n",
    "# Exemple de filtrage possible\n",
    "filter1 = {'name': 'libelle_francais', 'values': ['Noyer']} # Pin, Chêne, Charme, If\n",
    "filter2 = {'name': 'arrondissement', 'values': ['PARIS 7E ARRDT']}\n",
    "filter3 = {'name': 'domanialite', 'values': ['CIMETIERE']} # PERIPHERIQUE\n",
    "\n",
    "\n",
    "# Affichage du chemin filtré\n",
    "display_map(filter2)"
   ]
  },
  {
   "cell_type": "code",
   "execution_count": null,
   "id": "31be20d3-d564-48d9-b657-3306346c1e02",
   "metadata": {},
   "outputs": [],
   "source": []
  }
 ],
 "metadata": {
  "kernelspec": {
   "display_name": "Python 3 (ipykernel)",
   "language": "python",
   "name": "python3"
  },
  "language_info": {
   "codemirror_mode": {
    "name": "ipython",
    "version": 3
   },
   "file_extension": ".py",
   "mimetype": "text/x-python",
   "name": "python",
   "nbconvert_exporter": "python",
   "pygments_lexer": "ipython3",
   "version": "3.9.16"
  }
 },
 "nbformat": 4,
 "nbformat_minor": 5
}
