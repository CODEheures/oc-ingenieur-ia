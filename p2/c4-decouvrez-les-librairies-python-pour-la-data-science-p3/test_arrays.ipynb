{
 "cells": [
  {
   "cell_type": "code",
   "execution_count": 53,
   "id": "49e20291-e739-4890-affa-e570faf26394",
   "metadata": {},
   "outputs": [
    {
     "name": "stdout",
     "output_type": "stream",
     "text": [
      "999999 999999\n"
     ]
    }
   ],
   "source": [
    "import numpy as np\n",
    "\n",
    "liste = []\n",
    "for i in range(1_000_000):\n",
    "    liste.append(i)\n",
    "\n",
    "listenp = np.arange(1_000_000)   \n",
    "    \n",
    "print(liste[999_999], listenp[999_999])"
   ]
  },
  {
   "cell_type": "code",
   "execution_count": 54,
   "id": "fd7e4b7f-86f8-49b4-93ff-9ba70708aa8b",
   "metadata": {},
   "outputs": [
    {
     "name": "stdout",
     "output_type": "stream",
     "text": [
      "137 ms ± 14.8 ms per loop (mean ± std. dev. of 7 runs, 10 loops each)\n"
     ]
    }
   ],
   "source": [
    "%%timeit\n",
    "for k,v in enumerate(liste):\n",
    "    liste[k]=v+1"
   ]
  },
  {
   "cell_type": "code",
   "execution_count": 55,
   "id": "f3f60f86-d994-4c3c-9cd2-986d91f5bcf9",
   "metadata": {},
   "outputs": [
    {
     "name": "stdout",
     "output_type": "stream",
     "text": [
      "459 µs ± 2.76 µs per loop (mean ± std. dev. of 7 runs, 1000 loops each)\n"
     ]
    }
   ],
   "source": [
    "%%timeit\n",
    "listenp[:] += 1"
   ]
  },
  {
   "cell_type": "code",
   "execution_count": 52,
   "id": "31e5a6c2-07a0-4db4-b3f6-d0522c3dff18",
   "metadata": {},
   "outputs": [
    {
     "name": "stdout",
     "output_type": "stream",
     "text": [
      "1000000 1000000\n"
     ]
    }
   ],
   "source": [
    "print(liste[999_999], listenp[999_999])"
   ]
  },
  {
   "cell_type": "code",
   "execution_count": 56,
   "id": "72802308-f30e-4462-b6b5-93691a2db3ee",
   "metadata": {},
   "outputs": [
    {
     "name": "stdout",
     "output_type": "stream",
     "text": [
      "[9.  9.5]\n"
     ]
    }
   ],
   "source": [
    "a = np.linspace(5, 10, 11)\n",
    "print(a[-3:-1])"
   ]
  },
  {
   "cell_type": "code",
   "execution_count": 57,
   "id": "7677ba0b-6ae1-4dd0-9ea3-8e5610a1086e",
   "metadata": {},
   "outputs": [
    {
     "data": {
      "text/plain": [
       "array([ 6.,  8., 10.])"
      ]
     },
     "execution_count": 57,
     "metadata": {},
     "output_type": "execute_result"
    }
   ],
   "source": [
    "a[a % 2 == 0]"
   ]
  },
  {
   "cell_type": "code",
   "execution_count": 60,
   "id": "0d933ab7-da4a-4d02-adb0-1d757377beaa",
   "metadata": {},
   "outputs": [
    {
     "data": {
      "text/plain": [
       "(3, 2, 2)"
      ]
     },
     "execution_count": 60,
     "metadata": {},
     "output_type": "execute_result"
    }
   ],
   "source": [
    "b = np.array([[[1, 2],[4, 5]],\n",
    "        [[6, 7],[8, 9]],\n",
    "        [[10, 11],[12, 13]]])\n",
    "b.shape"
   ]
  },
  {
   "cell_type": "code",
   "execution_count": 63,
   "id": "82a6bf41-1284-4d6a-ab0d-3a389ebb5c7f",
   "metadata": {},
   "outputs": [
    {
     "data": {
      "text/plain": [
       "array([[10, 11],\n",
       "       [12, 13]])"
      ]
     },
     "execution_count": 63,
     "metadata": {},
     "output_type": "execute_result"
    }
   ],
   "source": [
    "b[2,:,:]"
   ]
  },
  {
   "cell_type": "code",
   "execution_count": null,
   "id": "d9e58756-aec1-4c65-8b0f-a131c47d791d",
   "metadata": {},
   "outputs": [],
   "source": []
  }
 ],
 "metadata": {
  "kernelspec": {
   "display_name": "Python 3 (ipykernel)",
   "language": "python",
   "name": "python3"
  },
  "language_info": {
   "codemirror_mode": {
    "name": "ipython",
    "version": 3
   },
   "file_extension": ".py",
   "mimetype": "text/x-python",
   "name": "python",
   "nbconvert_exporter": "python",
   "pygments_lexer": "ipython3",
   "version": "3.9.13"
  }
 },
 "nbformat": 4,
 "nbformat_minor": 5
}
