{
 "cells": [
  {
   "cell_type": "code",
   "execution_count": 1,
   "id": "f64b5da6",
   "metadata": {},
   "outputs": [
    {
     "name": "stdout",
     "output_type": "stream",
     "text": [
      "['pile', 'pile', 'pile', 'pile', 'pile', 'pile', 'pile', 'pile', 'pile', 'pile', 'pile', 'pile', 'pile', 'pile', 'pile', 'pile', 'pile', 'pile', 'pile', 'pile', 'pile', 'pile', 'pile', 'pile', 'pile', 'pile', 'pile', 'pile', 'pile', 'pile', 'pile', 'pile', 'pile', 'pile', 'pile', 'pile', 'pile', 'pile', 'pile', 'pile', 'pile', 'pile', 'pile', 'pile', 'pile', 'pile', 'pile', 'pile', 'pile', 'face', 'face', 'face', 'face', 'face', 'face', 'face', 'face', 'face', 'face', 'face', 'face', 'face', 'face', 'face', 'face', 'face', 'face', 'face', 'face', 'face', 'face', 'face', 'face', 'face', 'face', 'face', 'face', 'face', 'face', 'face', 'face', 'face', 'face', 'face', 'face', 'face', 'face', 'face', 'face', 'face', 'face', 'face', 'face', 'face', 'face', 'face', 'face', 'face', 'face', 'face']\n",
      "['pile', 'pile', 'pile', 'pile', 'pile', 'pile', 'pile', 'pile', 'pile', 'face', 'face', 'face', 'face', 'face', 'face', 'face', 'face', 'face', 'face', 'face', 'face', 'face', 'face', 'face', 'face', 'face', 'face', 'face', 'face', 'face', 'face', 'face', 'face', 'face', 'face', 'face', 'face', 'face', 'face', 'face', 'face', 'face', 'face', 'face', 'face', 'face', 'face', 'face', 'face', 'face', 'face', 'face', 'face', 'face', 'face', 'face', 'face', 'face', 'face', 'face', 'face', 'face', 'face', 'face', 'face', 'face', 'face', 'face', 'face', 'face', 'face', 'face', 'face', 'face', 'face', 'face', 'face', 'face', 'face', 'face', 'face', 'face', 'face', 'face', 'face', 'face', 'face', 'face', 'face', 'face', 'face', 'face', 'face', 'face', 'face', 'face', 'face', 'face', 'face', 'face']\n",
      "['pile', 'pile', 'pile', 'pile', 'pile', 'pile', 'pile', 'pile', 'pile', 'pile', 'pile', 'pile', 'pile', 'pile', 'pile', 'pile', 'pile', 'pile', 'pile', 'pile', 'pile', 'pile', 'pile', 'pile', 'pile', 'pile', 'pile', 'pile', 'pile', 'pile', 'pile', 'pile', 'pile', 'pile', 'pile', 'pile', 'pile', 'pile', 'pile', 'pile', 'pile', 'pile', 'pile', 'pile', 'pile', 'pile', 'pile', 'pile', 'pile', 'pile', 'pile', 'pile', 'pile', 'pile', 'pile', 'pile', 'pile', 'pile', 'pile', 'pile', 'pile', 'pile', 'pile', 'pile', 'pile', 'pile', 'pile', 'pile', 'pile', 'pile', 'pile', 'pile', 'pile', 'pile', 'face', 'face', 'face', 'face', 'face', 'face', 'face', 'face', 'face', 'face', 'face', 'face', 'face', 'face', 'face', 'face', 'face', 'face', 'face', 'face', 'face', 'face', 'face', 'face', 'face', 'face']\n"
     ]
    }
   ],
   "source": [
    "import random\n",
    "\n",
    "def createPiece(probalitePile = 50):\n",
    "    piece = []\n",
    "    for i in range(probalitePile):\n",
    "        piece.append('pile')\n",
    "    for i in range(100 - probalitePile):\n",
    "        piece.append('face')\n",
    "    return piece\n",
    "\n",
    "pieces = {'p49': createPiece(49), 'p9': createPiece(9), 'p74': createPiece(74)}\n",
    "print(pieces['p49'])\n",
    "print(pieces['p9'])\n",
    "print(pieces['p74'])"
   ]
  },
  {
   "cell_type": "code",
   "execution_count": 2,
   "id": "a17cbbea",
   "metadata": {},
   "outputs": [],
   "source": [
    "def jeuA(solde):\n",
    "    \n",
    "    result = random.choice(pieces['p49']) \n",
    "    if result == 'pile':\n",
    "        solde += 1\n",
    "    else:\n",
    "        solde -= 1\n",
    "    \n",
    "    return solde\n",
    "    "
   ]
  },
  {
   "cell_type": "code",
   "execution_count": 3,
   "id": "d11794ae",
   "metadata": {},
   "outputs": [],
   "source": [
    "def jeuB(solde):\n",
    "    if (solde % 3 == 0):\n",
    "        piece = pieces['p9']\n",
    "    else:\n",
    "        piece = pieces['p74']\n",
    "\n",
    "    result = random.choice(piece) \n",
    "    if result == 'pile':\n",
    "        solde += 1\n",
    "    else:\n",
    "        solde -= 1\n",
    "    \n",
    "    return solde"
   ]
  },
  {
   "cell_type": "code",
   "execution_count": 4,
   "id": "0852089b",
   "metadata": {},
   "outputs": [
    {
     "name": "stdout",
     "output_type": "stream",
     "text": [
      "jeuA: 946\n",
      "jeuB: 926\n"
     ]
    }
   ],
   "source": [
    "solde = 1000\n",
    "for i in range(10000):\n",
    "    solde = jeuA(solde)\n",
    "print(f'jeuA: {solde}')\n",
    "\n",
    "solde = 1000\n",
    "for i in range(10000):\n",
    "    solde = jeuB(solde)\n",
    "print(f'jeuB: {solde}')"
   ]
  },
  {
   "cell_type": "code",
   "execution_count": 5,
   "id": "b975fc7d",
   "metadata": {},
   "outputs": [
    {
     "name": "stdout",
     "output_type": "stream",
     "text": [
      "6656\n"
     ]
    }
   ],
   "source": [
    "solde = 1000\n",
    "for i in range(1000000):\n",
    "    result = random.choice(['face', 'pile'])\n",
    "    if result == 'pile':\n",
    "        solde = jeuA(solde)\n",
    "    else:\n",
    "        solde = jeuB(solde)\n",
    "print(solde)"
   ]
  },
  {
   "cell_type": "code",
   "execution_count": 69,
   "id": "33d43254",
   "metadata": {},
   "outputs": [
    {
     "name": "stdout",
     "output_type": "stream",
     "text": [
      "[133, 213, 867, 171, 619, 62, 45, 523, 490, 324]\n"
     ]
    }
   ],
   "source": [
    "# range(p) produit une suite d'entiers de 0 a p-1\n",
    "population = range(1000) \n",
    "\n",
    "# Nombre de tickets souhaités \n",
    "N = 10\n",
    "\n",
    "print(random.sample(population, k=N))"
   ]
  },
  {
   "cell_type": "code",
   "execution_count": 70,
   "id": "e4e05170",
   "metadata": {},
   "outputs": [
    {
     "data": {
      "text/plain": [
       "1"
      ]
     },
     "execution_count": 70,
     "metadata": {},
     "output_type": "execute_result"
    }
   ],
   "source": [
    "import numpy\n",
    "numpy.abs(-1)"
   ]
  },
  {
   "cell_type": "code",
   "execution_count": null,
   "id": "811adb39",
   "metadata": {},
   "outputs": [],
   "source": []
  }
 ],
 "metadata": {
  "kernelspec": {
   "display_name": "Python 3 (ipykernel)",
   "language": "python",
   "name": "python3"
  },
  "language_info": {
   "codemirror_mode": {
    "name": "ipython",
    "version": 3
   },
   "file_extension": ".py",
   "mimetype": "text/x-python",
   "name": "python",
   "nbconvert_exporter": "python",
   "pygments_lexer": "ipython3",
   "version": "3.9.13"
  }
 },
 "nbformat": 4,
 "nbformat_minor": 5
}
