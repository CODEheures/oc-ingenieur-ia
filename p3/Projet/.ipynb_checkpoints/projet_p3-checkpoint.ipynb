{
 "cells": [
  {
   "cell_type": "markdown",
   "id": "d3cb197c-feba-4a91-a596-fb93a4ef06a3",
   "metadata": {},
   "source": [
    "# Imports"
   ]
  },
  {
   "cell_type": "code",
   "execution_count": null,
   "id": "50b8be4b-26ab-4353-b359-9778a61d3a46",
   "metadata": {},
   "outputs": [],
   "source": [
    "import io\n",
    "import shutil\n",
    "import glob\n",
    "import requests\n",
    "from zipfile import ZipFile\n",
    "from tempfile import mkdtemp\n",
    "\n",
    "import pandas as pd\n",
    "import numpy as np"
   ]
  },
  {
   "cell_type": "markdown",
   "id": "703f4d0d-0659-40d0-b335-7f0476853ea1",
   "metadata": {},
   "source": [
    "# Lecture du dataset"
   ]
  },
  {
   "cell_type": "code",
   "execution_count": null,
   "id": "89d8a2cc-1476-43ed-be92-63ae6e244671",
   "metadata": {},
   "outputs": [],
   "source": [
    "# Request zip on AWS\n",
    "print('load data from AWS')\n",
    "zip_file_url = 'https://s3-eu-west-1.amazonaws.com/static.oc-static.com/prod/courses/files/parcours-data-scientist/P2/fr.openfoodfacts.org.products.csv.zip'\n",
    "response = requests.get(zip_file_url,)\n",
    "\n",
    "# Unzip file\n",
    "tempDir = mkdtemp()\n",
    "print(f'extract to temp dir: {tempDir}')\n",
    "\n",
    "with ZipFile(io.BytesIO(response.content), 'r') as zip_ref:\n",
    "    zip_ref.extractall(tempDir)\n",
    "    \n",
    "csv = glob.glob(tempDir + '\\*.csv')[0]\n",
    "\n",
    "# Read it in pandas\n",
    "print('Read csv by pandas')\n",
    "df = pd.read_csv(csv, delimiter='\\t',\n",
    "                 parse_dates=True,\n",
    "                 dtype={'code': 'str',\n",
    "                        'manufacturing_places': 'str',\n",
    "                        'manufacturing_places_tags': 'str',\n",
    "                        'emb_codes': 'str',\n",
    "                        'emb_codes_tags': 'str',\n",
    "                        'cities': 'str',\n",
    "                        'cities_tags': 'str',\n",
    "                        'allergens': 'str',\n",
    "                        'allergens_fr': 'str',\n",
    "                        'traces': 'str',\n",
    "                        'traces_tags': 'str',\n",
    "                        'traces_fr': 'str',\n",
    "                        'ingredients_from_palm_oil_tags': 'str',\n",
    "                        'first_packaging_code_geo': 'str'\n",
    "                       })\n",
    "\n",
    "# Delete temp directory\n",
    "print('Delete temp Dir')\n",
    "shutil.rmtree(tempDir, ignore_errors=True)\n",
    "\n",
    "# Display head of dataframe\n",
    "df.head()"
   ]
  },
  {
   "cell_type": "code",
   "execution_count": null,
   "id": "cac6ba5d-b534-41e7-bfb1-f194b4fd999e",
   "metadata": {},
   "outputs": [],
   "source": [
    "pd.to_numeric(df['created_t'], errors='coerce')\n",
    "pd.to_numeric(df['last_modified_t'], errors='coerce')"
   ]
  },
  {
   "cell_type": "markdown",
   "id": "b7538475-e69a-4447-bd53-543f6cf89b4d",
   "metadata": {},
   "source": [
    "# Fast Describe"
   ]
  },
  {
   "cell_type": "code",
   "execution_count": null,
   "id": "bcc4c2c5-cc6a-4736-9713-83917e40e5ef",
   "metadata": {},
   "outputs": [],
   "source": [
    "df.shape"
   ]
  },
  {
   "cell_type": "markdown",
   "id": "3cfd4679-0545-4488-9734-7ac317324024",
   "metadata": {},
   "source": [
    "## Remove empties and unused columns"
   ]
  },
  {
   "cell_type": "code",
   "execution_count": null,
   "id": "4e00a91e-76ca-43cb-8c68-32caafd8ba89",
   "metadata": {},
   "outputs": [],
   "source": [
    "empties_columns = df.loc[:, df.isna().sum(axis=0) > df.shape[0]*0.7].columns.to_list()"
   ]
  },
  {
   "cell_type": "code",
   "execution_count": null,
   "id": "aa60959c-d875-4a22-844b-75c4b5ad6cc5",
   "metadata": {},
   "outputs": [],
   "source": [
    "unused_columns = ['creator',\n",
    "                  'created_t',\n",
    "                  'created_datetime',\n",
    "                  'last_modified_t',\n",
    "                  'last_modified_datetime'\n",
    "                 ]"
   ]
  },
  {
   "cell_type": "code",
   "execution_count": null,
   "id": "99a9d9f9-554e-4fba-bef0-b7d49b2d4b92",
   "metadata": {},
   "outputs": [],
   "source": [
    "df_subset = df.drop(empties_columns + unused_columns, axis=1)"
   ]
  },
  {
   "cell_type": "code",
   "execution_count": null,
   "id": "a8af9dc6-de5c-435a-a4c7-03905a0e84ae",
   "metadata": {},
   "outputs": [],
   "source": [
    "df_subset.shape"
   ]
  },
  {
   "cell_type": "code",
   "execution_count": null,
   "id": "f8849025-fa13-46f6-9ffb-e415110cc488",
   "metadata": {},
   "outputs": [],
   "source": [
    "df_subset.isna().mean().sort_values(ascending=False)"
   ]
  },
  {
   "cell_type": "code",
   "execution_count": null,
   "id": "7b58d5e1-4758-40ba-a410-ff2091f50fb7",
   "metadata": {},
   "outputs": [],
   "source": [
    "df_subset.loc[:, 'caprylic-acid_100g']"
   ]
  },
  {
   "cell_type": "code",
   "execution_count": null,
   "id": "ed0c4921-405f-4dbd-81e2-5f4e46da7b1c",
   "metadata": {},
   "outputs": [],
   "source": []
  }
 ],
 "metadata": {
  "kernelspec": {
   "display_name": "Python 3 (ipykernel)",
   "language": "python",
   "name": "python3"
  },
  "language_info": {
   "codemirror_mode": {
    "name": "ipython",
    "version": 3
   },
   "file_extension": ".py",
   "mimetype": "text/x-python",
   "name": "python",
   "nbconvert_exporter": "python",
   "pygments_lexer": "ipython3",
   "version": "3.9.16"
  }
 },
 "nbformat": 4,
 "nbformat_minor": 5
}
