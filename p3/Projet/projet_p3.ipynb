{
 "cells": [
  {
   "cell_type": "code",
   "execution_count": null,
   "id": "ea606561-09ef-4675-a36a-67772dbf51e0",
   "metadata": {},
   "outputs": [],
   "source": [
    "# Uncomment next line to recreate requirements.txt\n",
    "# ! pip list --format=freeze > requirements.txt\n",
    "# install packages\n",
    "! pip install -r requirements.txt > log_install.txt"
   ]
  },
  {
   "cell_type": "markdown",
   "id": "d3cb197c-feba-4a91-a596-fb93a4ef06a3",
   "metadata": {
    "tags": []
   },
   "source": [
    "# Imports"
   ]
  },
  {
   "cell_type": "code",
   "execution_count": null,
   "id": "50b8be4b-26ab-4353-b359-9778a61d3a46",
   "metadata": {},
   "outputs": [],
   "source": [
    "import io\n",
    "import os\n",
    "import shutil\n",
    "import glob\n",
    "import requests\n",
    "import pickle\n",
    "from zipfile import ZipFile\n",
    "from tempfile import mkdtemp\n",
    "\n",
    "import pandas as pd\n",
    "import numpy as np\n",
    "import matplotlib.pyplot as plt\n",
    "import seaborn as sns\n",
    "import ipywidgets as widgets\n",
    "from IPython.display import display\n",
    "\n",
    "from sklearn import linear_model\n",
    "from sklearn.preprocessing import StandardScaler\n",
    "from sklearn.decomposition import PCA\n",
    "from sklearn.impute import KNNImputer\n",
    "\n",
    "sns.set()"
   ]
  },
  {
   "cell_type": "markdown",
   "id": "448278e5-a485-4f6e-bcbb-dad5b9fe3ed0",
   "metadata": {
    "tags": []
   },
   "source": [
    "# Fonctions"
   ]
  },
  {
   "cell_type": "code",
   "execution_count": null,
   "id": "da271828-7cf4-46b2-8822-71d2a154a693",
   "metadata": {},
   "outputs": [],
   "source": [
    "# Chargement du dataset csv depuis un zip en ligne\n",
    "def load(url: str) -> pd.DataFrame:\n",
    "    filename = 'data.csv'\n",
    "\n",
    "    if not os.path.isfile(filename): \n",
    "        # Request zip on AWS\n",
    "        print(f'load data from {url}')\n",
    "        response = requests.get(url)\n",
    "\n",
    "        # Unzip file\n",
    "        temp_dir = mkdtemp()\n",
    "        print(f'extract to temp dir: {temp_dir}')\n",
    "\n",
    "        with ZipFile(io.BytesIO(response.content), 'r') as zip_ref:\n",
    "            zip_ref.extractall(temp_dir)\n",
    "\n",
    "        # Copy file to current dir\n",
    "        print(f'Copy csv to current directory')\n",
    "        csv = glob.glob(os.path.join(temp_dir, '*.csv'))[0]\n",
    "        shutil.copyfile(csv, filename)\n",
    "        \n",
    "        # Delete temp directory\n",
    "        print('Delete temp Dir')\n",
    "        shutil.rmtree(temp_dir, ignore_errors=True)\n",
    "    else:\n",
    "        print(f'{filename} already exist! Using it to load dataframe. (Delete it to reload from AWS S3 repository)')\n",
    "\n",
    "\n",
    "    # Read it in pandas\n",
    "    print('Read csv by pandas')\n",
    "    df = pd.read_csv(filename, delimiter='\\t',\n",
    "                     parse_dates=True,\n",
    "                     low_memory=False)\n",
    "\n",
    "    print('Dataset ready to explore')\n",
    "    return df\n",
    "\n",
    "# Affichage des infos du dataset\n",
    "def infos(df: pd.DataFrame):\n",
    "    memory_gb = np.round(df.memory_usage(deep=True).sum()/(1024**3),2)\n",
    "    nb_lignes = df.shape[0]\n",
    "    nb_columns = df.shape[1]\n",
    "    print(f'A ce stade le dataset contient {nb_lignes} lignes et {nb_columns} colonnes. (conso mémoire {memory_gb}Gb)')\n",
    "    \n",
    "# Graphe des taux de remplissage\n",
    "def remplissage(df: pd.DataFrame):\n",
    "    df_na = pd.DataFrame(((1- df.isna().mean()) * 100).round(0)).rename(columns={0: 'mean'})\n",
    "    ax = sns.barplot(data=df_na, x='mean', y=df_na.index, palette='ocean', order=df_na.sort_values(by='mean', ascending=False).index)\n",
    "    ax.bar_label(ax.containers[0], fmt='%.0f%%', padding=-35, c=\"white\")\n",
    "    plt.title('Taux de remplissage des colonnes')\n",
    "\n",
    "\n",
    "# Extraction d'une serie depuis un champ contenant une liste\n",
    "def extract_serie(dataFrame: pd.DataFrame, column: str) -> pd.Series:\n",
    "    words = pd.Series(dtype=np.int32)\n",
    "    for value in dataFrame.loc[:, column].dropna():\n",
    "        if type(value) == str:\n",
    "            splitted_values = value.split(',')\n",
    "            for splitted_value in splitted_values:\n",
    "                if splitted_value in words.keys():\n",
    "                    words[splitted_value] += 1\n",
    "                else:\n",
    "                    words[splitted_value] = 0\n",
    "    \n",
    "    return words.sort_values(ascending=False)        \n",
    "\n",
    "# Scaler de données\n",
    "def scale(values: np.ndarray) -> np.ndarray:\n",
    "    scaler = StandardScaler()\n",
    "    scaled_values = scaler.fit_transform(values)\n",
    "    pd.DataFrame(scaled_values).describe().round(2)\n",
    "    return scaled_values\n",
    "\n",
    "# Acp\n",
    "def acp(scaled_values: np.ndarray, n_components = 2) -> {'pca': PCA, 'X_proj': np.ndarray}:\n",
    "    pca = PCA(n_components=n_components)\n",
    "    pca.fit(scaled_values)\n",
    "    return {'pca': pca, 'X_proj': pca.transform(scaled_values)}\n",
    "\n",
    "# Affichage de 'éboulie des valeurs propres\n",
    "def acp_eboulis(pca: PCA):\n",
    "    scree = (pca.explained_variance_ratio_*100).round(2)\n",
    "    scree_cum = scree.cumsum()\n",
    "    x = range(1, len(scree)+1)\n",
    "    plt.bar(height=scree, x=x)\n",
    "    plt.plot(x, scree_cum, '-o', c='r')\n",
    "    plt.title('Eboulis des valeurs propres')    \n",
    "    \n",
    "# Cercle des correlations\n",
    "def correlation_graph(pca, \n",
    "                      x_y, \n",
    "                      features) : \n",
    "    \"\"\"Affiche le graphe des correlations\n",
    "\n",
    "    Positional arguments : \n",
    "    -----------------------------------\n",
    "    pca : sklearn.decomposition.PCA : notre objet PCA qui a été fit\n",
    "    x_y : list ou tuple : le couple x,y des plans à afficher, exemple [0,1] pour F1, F2\n",
    "    features : list ou tuple : la liste des features (ie des dimensions) à représenter\n",
    "    \"\"\"\n",
    "\n",
    "    # Extrait x et y \n",
    "    x,y=x_y\n",
    "\n",
    "    # Taille de l'image (en inches)\n",
    "    fig, ax = plt.subplots(figsize=(10, 9))\n",
    "\n",
    "    # Pour chaque composante : \n",
    "    for i in range(0, pca.components_.shape[1]):\n",
    "\n",
    "        # Les flèches\n",
    "        ax.arrow(0,0, \n",
    "                pca.components_[x, i],  \n",
    "                pca.components_[y, i],  \n",
    "                head_width=0.07,\n",
    "                head_length=0.07, \n",
    "                width=0.02, )\n",
    "\n",
    "        # Les labels\n",
    "        plt.text(pca.components_[x, i] + 0.05,\n",
    "                pca.components_[y, i] + 0.05,\n",
    "                features[i])\n",
    "        \n",
    "    # Affichage des lignes horizontales et verticales\n",
    "    plt.plot([-1, 1], [0, 0], color='grey', ls='--')\n",
    "    plt.plot([0, 0], [-1, 1], color='grey', ls='--')\n",
    "\n",
    "    # Nom des axes, avec le pourcentage d'inertie expliqué\n",
    "    plt.xlabel('F{} ({}%)'.format(x+1, round(100*pca.explained_variance_ratio_[x],1)))\n",
    "    plt.ylabel('F{} ({}%)'.format(y+1, round(100*pca.explained_variance_ratio_[y],1)))\n",
    "    plt.title(\"Cercle des corrélations (F{} et F{})\".format(x+1, y+1))\n",
    "\n",
    "    # Le cercle \n",
    "    an = np.linspace(0, 2 * np.pi, 100)\n",
    "    plt.plot(np.cos(an), np.sin(an))  # Add a unit circle for scale\n",
    "\n",
    "    # Axes et display\n",
    "    plt.axis('equal')\n",
    "    plt.show(block=False)\n",
    "    \n",
    "\n",
    "# Affichage des point projetés de l'acp\n",
    "def display_factorial_planes(   X_projected, \n",
    "                                x_y, \n",
    "                                pca=None, \n",
    "                                labels = None,\n",
    "                                clusters=None, \n",
    "                                alpha=1,\n",
    "                                figsize=[10,8], \n",
    "                                marker=\".\" ):\n",
    "    \"\"\"\n",
    "    Affiche la projection des individus\n",
    "\n",
    "    Positional arguments : \n",
    "    -------------------------------------\n",
    "    X_projected : np.array, pd.DataFrame, list of list : la matrice des points projetés\n",
    "    x_y : list ou tuple : le couple x,y des plans à afficher, exemple [0,1] pour F1, F2\n",
    "\n",
    "    Optional arguments : \n",
    "    -------------------------------------\n",
    "    pca : sklearn.decomposition.PCA : un objet PCA qui a été fit, cela nous permettra d'afficher la variance de chaque composante, default = None\n",
    "    labels : list ou tuple : les labels des individus à projeter, default = None\n",
    "    clusters : list ou tuple : la liste des clusters auquel appartient chaque individu, default = None\n",
    "    alpha : float in [0,1] : paramètre de transparence, 0=100% transparent, 1=0% transparent, default = 1\n",
    "    figsize : list ou tuple : couple width, height qui définit la taille de la figure en inches, default = [10,8] \n",
    "    marker : str : le type de marker utilisé pour représenter les individus, points croix etc etc, default = \".\"\n",
    "    \"\"\"\n",
    "\n",
    "    # Transforme X_projected en np.array\n",
    "    X_ = np.array(X_projected)\n",
    "\n",
    "    # On définit la forme de la figure si elle n'a pas été donnée\n",
    "    if not figsize: \n",
    "        figsize = (7,6)\n",
    "\n",
    "    # On gère les labels\n",
    "    if  labels is None : \n",
    "        labels = []\n",
    "    try : \n",
    "        len(labels)\n",
    "    except Exception as e : \n",
    "        raise e\n",
    "\n",
    "    # On vérifie la variable axis \n",
    "    if not len(x_y) ==2 : \n",
    "        raise AttributeError(\"2 axes sont demandées\")   \n",
    "    if max(x_y )>= X_.shape[1] : \n",
    "        raise AttributeError(\"la variable axis n'est pas bonne\")   \n",
    "\n",
    "    # on définit x et y \n",
    "    x, y = x_y\n",
    "\n",
    "    # Initialisation de la figure       \n",
    "    fig, ax = plt.subplots(1, 1, figsize=figsize)\n",
    "\n",
    "    # On vérifie s'il y a des clusters ou non\n",
    "    c = None if clusters is None else clusters\n",
    " \n",
    "    # Les points    \n",
    "    # plt.scatter(   X_[:, x], X_[:, y], alpha=alpha, \n",
    "    #                     c=c, cmap=\"Set1\", marker=marker)\n",
    "    sns.scatterplot(data=None, x=X_[:, x], y=X_[:, y], hue=c)\n",
    "\n",
    "    # Si la variable pca a été fournie, on peut calculer le % de variance de chaque axe \n",
    "    if pca : \n",
    "        v1 = str(round(100*pca.explained_variance_ratio_[x]))  + \" %\"\n",
    "        v2 = str(round(100*pca.explained_variance_ratio_[y]))  + \" %\"\n",
    "    else : \n",
    "        v1=v2= ''\n",
    "\n",
    "    # Nom des axes, avec le pourcentage d'inertie expliqué\n",
    "    ax.set_xlabel(f'F{x+1} {v1}')\n",
    "    ax.set_ylabel(f'F{y+1} {v2}')\n",
    "\n",
    "    # Valeur x max et y max\n",
    "    x_max = np.abs(X_[:, x]).max() *1.1\n",
    "    y_max = np.abs(X_[:, y]).max() *1.1\n",
    "\n",
    "    # On borne x et y \n",
    "    ax.set_xlim(left=-x_max, right=x_max)\n",
    "    ax.set_ylim(bottom= -y_max, top=y_max)\n",
    "\n",
    "    # Affichage des lignes horizontales et verticales\n",
    "    plt.plot([-x_max, x_max], [0, 0], color='grey', alpha=0.8)\n",
    "    plt.plot([0,0], [-y_max, y_max], color='grey', alpha=0.8)\n",
    "\n",
    "    # Affichage des labels des points\n",
    "    if len(labels) : \n",
    "        for i,(_x,_y) in enumerate(X_[:,[x,y]]):\n",
    "            try:\n",
    "                plt.text(_x, _y+0.05, labels[i], fontsize='14', ha='center',va='center', family=['DejaVu Sans', 'Segoe UI'],)\n",
    "            except:\n",
    "                print(\"An exception occurred\")\n",
    "\n",
    "    # Titre et display\n",
    "    plt.title(f\"Projection des individus (sur F{x+1} et F{y+1})\")\n",
    "    plt.show()\n",
    "\n"
   ]
  },
  {
   "cell_type": "markdown",
   "id": "f450cb5d-9cf8-4c84-9a54-111e6e675116",
   "metadata": {
    "tags": []
   },
   "source": [
    "# Application\n",
    "\n",
    "L'idée de l'application est de fournir aux agents de Santé Publique France la possibilité de visualiser graphiquement la composition energetique d'une catégorie d'aliments\n",
    "L'énergie se calcul grâce à la quantité de proteines/Lipides/Glucides: https://www.nutrisens.com/vitalites/comment-decrypter-les-valeurs-nutritionnelles/\n",
    "\n",
    "A savoir que:\n",
    "- Les lipides (Graisses) se nomme <b>\"fat\"</b> en anglais\n",
    "- Les glucides (Sucres) sont aussi nommées <b>\"carbohydrates\"</b> scientifiquement parlant\n",
    "\n",
    "Hypothèses à vérifier dans ce dataset:\n",
    "\n",
    "1. On peut extraire la liste des catégories dans lesquels sont déclarés les produits\n",
    "3. On va pouvoir extrapoler les données manquantes d'une des composantes en connaissant les autres\n",
    "4. On peut déduire des données que l'energie est correlée aux macronutriments (proteines, lipides glucides)"
   ]
  },
  {
   "cell_type": "markdown",
   "id": "8b680b4f-595c-4376-9d78-f739f481fe9f",
   "metadata": {
    "tags": []
   },
   "source": [
    "## Lecture et apperçu du dataset"
   ]
  },
  {
   "cell_type": "code",
   "execution_count": null,
   "id": "89d8a2cc-1476-43ed-be92-63ae6e244671",
   "metadata": {},
   "outputs": [],
   "source": [
    "url = 'https://s3-eu-west-1.amazonaws.com/static.oc-static.com/prod/courses/files/parcours-data-scientist/P2/fr.openfoodfacts.org.products.csv.zip'    \n",
    "df = load(url)\n",
    "df_original = df.copy()"
   ]
  },
  {
   "cell_type": "code",
   "execution_count": null,
   "id": "b292f228-f891-4060-ad03-58219c760753",
   "metadata": {},
   "outputs": [],
   "source": [
    "df.head()"
   ]
  },
  {
   "cell_type": "code",
   "execution_count": null,
   "id": "1d4a7045-6a52-4b2a-aae1-5c36e711e375",
   "metadata": {},
   "outputs": [],
   "source": [
    "infos(df)"
   ]
  },
  {
   "cell_type": "markdown",
   "id": "322d9914-4c91-409f-b32b-685410e6c536",
   "metadata": {},
   "source": [
    "## Filtrage des colonnes necessaires à l'étude\n",
    "\n",
    "Pour ce projet je garde le nom des produits, les macro-nutriments, energie et nutriscore/nutrigrade"
   ]
  },
  {
   "cell_type": "code",
   "execution_count": null,
   "id": "e0b6e02d-1505-4dec-a4bb-3fe629949813",
   "metadata": {},
   "outputs": [],
   "source": [
    "df = df.loc[:, ['product_name','energy_100g', 'proteins_100g', 'carbohydrates_100g', 'fat_100g', 'nutrition-score-fr_100g', 'nutrition_grade_fr', 'fiber_100g', 'categories_fr']]"
   ]
  },
  {
   "cell_type": "code",
   "execution_count": null,
   "id": "cc6375da-1410-459a-a266-21dca851792d",
   "metadata": {},
   "outputs": [],
   "source": [
    "df.describe()"
   ]
  },
  {
   "cell_type": "code",
   "execution_count": null,
   "id": "bb1346ac-9871-4af6-997f-97672b05d873",
   "metadata": {},
   "outputs": [],
   "source": [
    "remplissage(df)"
   ]
  },
  {
   "cell_type": "markdown",
   "id": "01ff30ca-16a6-4563-9a8a-79c897828ecf",
   "metadata": {
    "tags": []
   },
   "source": [
    "## Nettoyage"
   ]
  },
  {
   "cell_type": "markdown",
   "id": "b89f3977-afae-499d-911a-aedc5573de79",
   "metadata": {
    "tags": []
   },
   "source": [
    "### Suppressions des valeurs abérantes\n",
    "\n",
    "Mise à NaN des macro-nutriments dont des valeurs sont > 100 et < 0"
   ]
  },
  {
   "cell_type": "code",
   "execution_count": null,
   "id": "e8f0cc73-fa0c-4dc8-ac67-ac703955f950",
   "metadata": {},
   "outputs": [],
   "source": [
    "df.loc[df['proteins_100g'] < 0, 'proteins_100g'] = np.nan\n",
    "df.loc[df['carbohydrates_100g'] < 0, 'carbohydrates_100g'] = np.nan\n",
    "df.loc[df['fat_100g'] < 0, 'fat_100g'] = np.nan\n",
    "\n",
    "df.loc[df['proteins_100g'] > 100, 'proteins_100g'] = np.nan\n",
    "df.loc[df['carbohydrates_100g'] > 100, 'carbohydrates_100g'] = np.nan\n",
    "df.loc[df['fat_100g'] > 100, 'fat_100g'] = np.nan"
   ]
  },
  {
   "cell_type": "markdown",
   "id": "92ced9e6-6d66-469f-813c-5353f37f8e81",
   "metadata": {
    "tags": []
   },
   "source": [
    "### Suppression des lignes vides"
   ]
  },
  {
   "cell_type": "code",
   "execution_count": null,
   "id": "57b9cb31-1d47-45a8-ace0-75f32bcede22",
   "metadata": {},
   "outputs": [],
   "source": [
    "nb_lignes_vides = df.loc[df.isna().sum(axis=1) == df.shape[1], :]\n",
    "print(f'Suppression des {len(nb_lignes_vides)} lignes vides')\n",
    "df = df.loc[df.isna().sum(axis=1) != df.shape[1], :]\n",
    "infos(df)"
   ]
  },
  {
   "cell_type": "markdown",
   "id": "ba5f792f-16d8-416f-9901-b36c02719add",
   "metadata": {
    "tags": []
   },
   "source": [
    "### Extaction d'un subset permettant l'imputation de valeurs manquantes par regression lineaire\n",
    "\n",
    "L'energie étant proportionnelle aux proteines, glucides et lipides, on devrait pouvoir deduire les valeurs de chacunes d'elle en fonction de l'energie déclarée\n",
    "\n",
    "Pour consolider cette hypothese, on va recalculer une energie théorique et extraire un subset qui suit les règles suivantes:\n",
    "- au moins une donnée parmis proteine/glucide/lipide est présente et inclue dans les quantiles 0.25/0.75\n",
    "- L'energie déclarée est comprise entre 0 et 3800 pour 100g (3800Kcal etant le maximum théorique possible)\n",
    "- L'energie déclarée est à +- 0.5% de l'energie recalculée"
   ]
  },
  {
   "cell_type": "markdown",
   "id": "fdc13aab-594d-463e-9816-683befe8c9a4",
   "metadata": {},
   "source": [
    "visualisation des qantiles"
   ]
  },
  {
   "cell_type": "code",
   "execution_count": null,
   "id": "a3b3c865-92e4-4b57-95d5-4b27b4fd3da3",
   "metadata": {},
   "outputs": [],
   "source": [
    "sns.boxplot(data = df.loc[:, ['proteins_100g', 'carbohydrates_100g', 'fat_100g', 'fiber_100g']], showfliers=False, orient='h')\n",
    "plt.title('Distribution des macro-nutriments')\n",
    "plt.show()"
   ]
  },
  {
   "cell_type": "markdown",
   "id": "c1e23885-ffc8-4e08-8d0e-2d55b417c5e1",
   "metadata": {},
   "source": [
    "Extraction du subset suivant les règles énoncées"
   ]
  },
  {
   "cell_type": "code",
   "execution_count": null,
   "id": "c85773ab-4b30-4590-9c28-e574b428fb50",
   "metadata": {},
   "outputs": [],
   "source": [
    "sample = df.drop('categories_fr', axis=1).dropna()\n",
    "\n",
    "proteins = sample['proteins_100g']\n",
    "proteins_inliers = proteins.between(proteins.quantile(0.25), proteins.quantile(0.75))\n",
    "\n",
    "carbohydrates = sample['carbohydrates_100g']\n",
    "carbohydrates_inliers = carbohydrates.between(carbohydrates.quantile(0.25), carbohydrates.quantile(0.75))\n",
    "\n",
    "fat = sample['fat_100g']\n",
    "fat_inliers = fat.between(fat.quantile(0.25), fat.quantile(0.75))\n",
    "\n",
    "sample['calc_energy'] = sample['proteins_100g'] * 17 + sample['fat_100g'] * 38 + sample['carbohydrates_100g'] * 17\n",
    "\n",
    "cond1 = (sample['proteins_100g'] > 0) | (sample['carbohydrates_100g'] > 0) | (sample['fat_100g'] > 0)\n",
    "cond2 = (sample['energy_100g'] >= 0) & (sample['energy_100g'] <= 3800)\n",
    "cond3 = proteins_inliers & carbohydrates_inliers & fat_inliers\n",
    "cond4 = sample['energy_100g'].between(sample['calc_energy']*0.995, sample['calc_energy']*1.005)\n",
    "sample = sample.loc[cond1 & cond2 & cond3 & cond4, :]\n",
    "sample.head()"
   ]
  },
  {
   "cell_type": "code",
   "execution_count": null,
   "id": "f14722cc-0448-4018-b5dc-92c2c0014b5a",
   "metadata": {},
   "outputs": [],
   "source": [
    "sample.shape"
   ]
  },
  {
   "cell_type": "markdown",
   "id": "5a2689af-4341-40eb-be6c-f5926779c620",
   "metadata": {
    "tags": []
   },
   "source": [
    "### Visualisation des corrélations des données du subset"
   ]
  },
  {
   "cell_type": "code",
   "execution_count": null,
   "id": "0cba6762-5145-4c4e-9590-dd25f77cfe12",
   "metadata": {},
   "outputs": [],
   "source": [
    "g = sns.pairplot(sample, hue='nutrition_grade_fr', hue_order=['a', 'b', 'c', 'd', 'e'], corner=True,  diag_kws=dict(fill=False))\n",
    "g.fig.suptitle('Relations bivariées des differentes caractéristiques')\n",
    "plt.show()"
   ]
  },
  {
   "cell_type": "code",
   "execution_count": null,
   "id": "7ed3f697-27db-426a-8cc2-e652f06211f4",
   "metadata": {},
   "outputs": [],
   "source": [
    "correlations = sample.corr(numeric_only=True)\n",
    "figure = plt.figure(figsize=(6,6))\n",
    "sns.heatmap(correlations, square=True, linewidths=0.01, cmap=\"coolwarm\")\n",
    "plt.title('Correlation entre les differentes caractéristiques')\n",
    "plt.show()"
   ]
  },
  {
   "cell_type": "markdown",
   "id": "8d3f9b4b-ed07-4169-8313-3a320a9585a9",
   "metadata": {
    "jp-MarkdownHeadingCollapsed": true,
    "tags": []
   },
   "source": [
    "### Constat\n",
    "\n",
    "Malgré une amplitude importante, l'energie a une correlation lineaire avec les lipides et le carbohydrate.\n",
    "On va utiliser ces corrélations pour remplir les valeurs manquantes lorsque l'energie est déclarée.\n",
    "\n",
    "Le nutriscore est bien correlé au nutrigrade"
   ]
  },
  {
   "cell_type": "markdown",
   "id": "e8a80573-d33b-4642-b3ea-a3d770014b9c",
   "metadata": {
    "tags": []
   },
   "source": [
    "### Imputation des lipides par regression linéaire entre lipides et energie"
   ]
  },
  {
   "cell_type": "code",
   "execution_count": null,
   "id": "225dfcfd-3799-492b-8706-31b7db76ac79",
   "metadata": {},
   "outputs": [],
   "source": [
    "regr = linear_model.LinearRegression()\n",
    "regr.fit(np.array(sample['fat_100g'].to_list()).reshape(-1, 1), np.array(sample['energy_100g'].to_list()).reshape(-1, 1))"
   ]
  },
  {
   "cell_type": "code",
   "execution_count": null,
   "id": "0cf33be8-34cf-489d-8586-8c323e6db2f0",
   "metadata": {},
   "outputs": [],
   "source": [
    "score = regr.score(np.array(sample['fat_100g'].to_list()).reshape(-1, 1), np.array(sample['energy_100g'].to_list()).reshape(-1, 1))\n",
    "score = (score * 100).round(1)"
   ]
  },
  {
   "cell_type": "code",
   "execution_count": null,
   "id": "b4fcd21c-5df1-45e4-9e2f-cb2ab7a2c191",
   "metadata": {},
   "outputs": [],
   "source": [
    "sns.scatterplot(data=sample, x='fat_100g', y='energy_100g')\n",
    "plt.plot([0, 25], [regr.intercept_, regr.intercept_ + regr.coef_[0] * 25], '--', c='r')\n",
    "plt.title(f'Rapport Lipides/Energie et courbe de regression (score = {score}%)')\n",
    "plt.show"
   ]
  },
  {
   "cell_type": "markdown",
   "id": "6de819ad-2ee5-4812-a7d1-57113403faea",
   "metadata": {},
   "source": [
    "Le score de 64.3% n'est pas des meilleurs, mais je décide de garder cette méthode d'imputation"
   ]
  },
  {
   "cell_type": "code",
   "execution_count": null,
   "id": "47366a93-28b6-4282-b3ed-0abf775148ed",
   "metadata": {},
   "outputs": [],
   "source": [
    "fat_na = df['fat_100g'].isna() & ~df['energy_100g'].isna()\n",
    "energy = df.loc[fat_na, 'energy_100g']\n",
    "fat = np.clip((energy - regr.intercept_) / regr.coef_[0], 0, 100)\n",
    "df.loc[fat_na, 'fat_100g'] = fat"
   ]
  },
  {
   "cell_type": "markdown",
   "id": "dbd241e0-0680-4752-8685-5705037acf8b",
   "metadata": {
    "tags": []
   },
   "source": [
    "### Imputation des carbohydrates par regression linéaire entre carbohydrates et energie"
   ]
  },
  {
   "cell_type": "code",
   "execution_count": null,
   "id": "742971b6-03d0-40fe-9d9c-a77b7c2e0bfb",
   "metadata": {},
   "outputs": [],
   "source": [
    "regr2 = linear_model.LinearRegression()\n",
    "regr2.fit(np.array(sample['carbohydrates_100g'].to_list()).reshape(-1, 1), np.array(sample['energy_100g'].to_list()).reshape(-1, 1))"
   ]
  },
  {
   "cell_type": "code",
   "execution_count": null,
   "id": "35ae9dcb-9125-4437-8cbc-2d2acceca1be",
   "metadata": {},
   "outputs": [],
   "source": [
    "score = regr2.score(np.array(sample['carbohydrates_100g'].to_list()).reshape(-1, 1), np.array(sample['energy_100g'].to_list()).reshape(-1, 1))\n",
    "score = (score * 100).round(1)"
   ]
  },
  {
   "cell_type": "code",
   "execution_count": null,
   "id": "818811c4-5f91-486f-9c48-83fedbfa4905",
   "metadata": {},
   "outputs": [],
   "source": [
    "sns.scatterplot(data=sample, x='carbohydrates_100g', y='energy_100g')\n",
    "plt.plot([0, 65], [regr2.intercept_, regr2.intercept_ + regr2.coef_[0] * 65], '--', c='r')\n",
    "plt.title(f'Rapport Carbohydrates/Energie et courbe de regression (score = {score}%)')\n",
    "plt.show"
   ]
  },
  {
   "cell_type": "markdown",
   "id": "3458f02d-239f-4ada-add7-9cfc4990cc8f",
   "metadata": {},
   "source": [
    "Le score de 75.3% est meilleur que pour les lipides.\n",
    "\n",
    "Imputation si valeur energie présente:"
   ]
  },
  {
   "cell_type": "code",
   "execution_count": null,
   "id": "3c5ad6ef-d702-4544-aedb-337129257613",
   "metadata": {},
   "outputs": [],
   "source": [
    "ch_na = df['carbohydrates_100g'].isna() & ~df['energy_100g'].isna()\n",
    "energy = df.loc[ch_na, 'energy_100g']\n",
    "ch = np.clip((energy - regr2.intercept_) / regr2.coef_[0], 0, 100)\n",
    "df.loc[ch_na, 'carbohydrates_100g'] = ch"
   ]
  },
  {
   "cell_type": "markdown",
   "id": "0c16d298-154b-4bff-a831-da1655973e3c",
   "metadata": {
    "tags": []
   },
   "source": [
    "### Bilan intermédiaire du taux de remplissage"
   ]
  },
  {
   "cell_type": "code",
   "execution_count": null,
   "id": "a327dba4-576d-4959-a814-7242407e2226",
   "metadata": {},
   "outputs": [],
   "source": [
    "remplissage(df)"
   ]
  },
  {
   "cell_type": "markdown",
   "id": "ece706da-1485-4f20-aa11-867e2fb361c3",
   "metadata": {},
   "source": [
    "### Imputation des valeurs numériques manquantes restantes par KNNImputer\n",
    "\n",
    "Je décide d'imputer les valeurs restantes grâce à un KNN imputer"
   ]
  },
  {
   "cell_type": "code",
   "execution_count": null,
   "id": "fc33a616-ce7a-4de8-9c60-d9f9e1e8b953",
   "metadata": {},
   "outputs": [],
   "source": [
    "filename = 'X_imputed_knn'\n",
    "numeric_cols = df.select_dtypes('number').columns\n",
    "X = df.loc[:, numeric_cols].values\n",
    "\n",
    "if not os.path.isfile(filename): \n",
    "    print('Knn execution, waiting please, and be happy!')\n",
    "    imputer = KNNImputer(n_neighbors=5)\n",
    "    X_imputed = imputer.fit_transform(X)\n",
    "    pickle.dump(X_imputed, open(filename, 'wb'))\n",
    "else:\n",
    "    print(f'Knn was already executed. be happy! (if dataset has changed please remove file {filename} and reexecute cell)')\n",
    "\n",
    "X_imputed = pickle.load(open(filename, 'rb'))    \n",
    "df[numeric_cols] = pd.DataFrame(X_imputed, columns=numeric_cols, index=df.index)[numeric_cols]"
   ]
  },
  {
   "cell_type": "markdown",
   "id": "7e577088-0b47-4224-8ab5-01249134cd6d",
   "metadata": {},
   "source": [
    "Vérifications si des valeurs abérantes ont été imputées par le KNN"
   ]
  },
  {
   "cell_type": "code",
   "execution_count": null,
   "id": "dd6a5cfd-38b5-4e4d-8ff7-621abe1f960c",
   "metadata": {},
   "outputs": [],
   "source": [
    "sns.boxplot(data = df.loc[:, ['proteins_100g', 'carbohydrates_100g', 'fat_100g', 'fiber_100g']], showfliers=False, orient='h')\n",
    "plt.title('Distribution des macro-nutriments')\n",
    "plt.show()"
   ]
  },
  {
   "cell_type": "markdown",
   "id": "c41b1e3d-1697-474b-ab9a-64aff05027b8",
   "metadata": {},
   "source": [
    "### affectation des nutrigrades manquants\n",
    "\n",
    "informations ici: https://nutriscore.impag.ch"
   ]
  },
  {
   "cell_type": "code",
   "execution_count": null,
   "id": "68715989-2c4a-43ad-8a8e-d1fddc27ccd2",
   "metadata": {},
   "outputs": [],
   "source": [
    "df.loc[df['nutrition_grade_fr'].isna() & (df['nutrition-score-fr_100g'] < 0), 'nutrition_grade_fr'] = 'a'\n",
    "df.loc[df['nutrition_grade_fr'].isna() & (df['nutrition-score-fr_100g'] >= 0) & (df['nutrition-score-fr_100g'] <= 2), 'nutrition_grade_fr'] = 'b'\n",
    "df.loc[df['nutrition_grade_fr'].isna() & (df['nutrition-score-fr_100g'] > 2) & (df['nutrition-score-fr_100g'] <= 10), 'nutrition_grade_fr'] = 'c'\n",
    "df.loc[df['nutrition_grade_fr'].isna() & (df['nutrition-score-fr_100g'] > 10) & (df['nutrition-score-fr_100g'] <= 18), 'nutrition_grade_fr'] = 'd'\n",
    "df.loc[df['nutrition_grade_fr'].isna() & (df['nutrition-score-fr_100g'] > 18), 'nutrition_grade_fr'] = 'e'"
   ]
  },
  {
   "cell_type": "code",
   "execution_count": null,
   "id": "6687b399-d36c-4621-9157-0ad6221bb5d2",
   "metadata": {},
   "outputs": [],
   "source": [
    "remplissage(df)"
   ]
  },
  {
   "cell_type": "code",
   "execution_count": null,
   "id": "57624e12-fd7f-4fc6-ba21-444fa988cd4f",
   "metadata": {},
   "outputs": [],
   "source": [
    "infos(df)"
   ]
  },
  {
   "cell_type": "markdown",
   "id": "764f641a-3739-4e0f-a19a-043b8a9a2999",
   "metadata": {},
   "source": [
    "### Suppression des lignes dupliquées"
   ]
  },
  {
   "cell_type": "code",
   "execution_count": null,
   "id": "f0f6261f-428d-4506-a674-919c765dbdd5",
   "metadata": {},
   "outputs": [],
   "source": [
    "print(f'Suppression de {df.duplicated().sum()} lignes duppliquées')\n",
    "df.drop_duplicates(inplace=True)\n",
    "infos(df)"
   ]
  },
  {
   "cell_type": "markdown",
   "id": "0351b64d-9c92-4ecc-b9c3-e391b05950fb",
   "metadata": {},
   "source": [
    "Fin du nettoyage des données"
   ]
  },
  {
   "cell_type": "markdown",
   "id": "18a74a6c-1772-4bab-88c8-f4575cd50223",
   "metadata": {},
   "source": [
    "on peut donc imaginer extraire les catégories et proceder à des comparaisons dans la future application"
   ]
  },
  {
   "cell_type": "markdown",
   "id": "6cc5318a-daa2-43de-9887-4e8397f5ed61",
   "metadata": {},
   "source": [
    "## Exploration des données"
   ]
  },
  {
   "cell_type": "markdown",
   "id": "89450333-1f5e-4411-bf53-527be3b3f31f",
   "metadata": {},
   "source": [
    "### Répartition des macro-nutriments par nutrigrade"
   ]
  },
  {
   "cell_type": "code",
   "execution_count": null,
   "id": "e01f002e-0613-4da2-b514-99a90546ecfb",
   "metadata": {},
   "outputs": [],
   "source": [
    "sns.boxplot(data=df, x='proteins_100g', y='nutrition_grade_fr', orient='h', order=['a','b','c','d','e'], showfliers=False)\n",
    "plt.title('Répartition des proteïnes par nutrigrade')\n",
    "plt.show()\n",
    "\n",
    "sns.boxplot(data=df, x='carbohydrates_100g', y='nutrition_grade_fr', orient='h', order=['a','b','c','d','e'], showfliers=False)\n",
    "plt.title('Répartition des carbohydrates par nutrigrade')\n",
    "plt.show()\n",
    "\n",
    "sns.boxplot(data=df, x='fat_100g', y='nutrition_grade_fr', orient='h', order=['a','b','c','d','e'], showfliers=False)\n",
    "plt.title('Répartition des lipides par nutrigrade')\n",
    "plt.show()"
   ]
  },
  {
   "cell_type": "markdown",
   "id": "46104f64-45b0-4657-8f3f-ec0724e80d02",
   "metadata": {},
   "source": [
    "Plus les lipides et glucides sont importants plus le nutrigrade est élévé"
   ]
  },
  {
   "cell_type": "markdown",
   "id": "a57100b3-c71b-44a3-8f71-e55dbc41428d",
   "metadata": {},
   "source": [
    "### Analyse des composantes principales"
   ]
  },
  {
   "cell_type": "code",
   "execution_count": null,
   "id": "a16c2ff2-10f5-45be-ade7-4647fb8ac97f",
   "metadata": {},
   "outputs": [],
   "source": [
    "values = df[numeric_cols].values\n",
    "scaled_values = scale(values)"
   ]
  },
  {
   "cell_type": "code",
   "execution_count": null,
   "id": "0278e292-6b89-47f1-b375-728f01915130",
   "metadata": {},
   "outputs": [],
   "source": [
    "scaled_df = pd.DataFrame(scaled_values, columns=numeric_cols)\n",
    "scaled_df.describe().round(2).loc[['mean', 'std'], :]"
   ]
  },
  {
   "cell_type": "code",
   "execution_count": null,
   "id": "e7f30a22-2e8f-4fc3-b833-e821d3eb26b4",
   "metadata": {},
   "outputs": [],
   "source": [
    "result = acp(scaled_values=scaled_values, n_components=6)"
   ]
  },
  {
   "cell_type": "code",
   "execution_count": null,
   "id": "709e8d17-1637-4122-ab65-b4ee0f7c65d3",
   "metadata": {},
   "outputs": [],
   "source": [
    "result['pca'].explained_variance_ratio_"
   ]
  },
  {
   "cell_type": "code",
   "execution_count": null,
   "id": "98410821-160c-4dae-ac2e-0a3447b45108",
   "metadata": {},
   "outputs": [],
   "source": [
    "acp_eboulis(pca=result['pca'])"
   ]
  },
  {
   "cell_type": "code",
   "execution_count": null,
   "id": "994b96b1-59f1-472b-86df-5bfc3090f96e",
   "metadata": {},
   "outputs": [],
   "source": [
    "correlation_graph(result['pca'], (0,1), numeric_cols)"
   ]
  },
  {
   "cell_type": "markdown",
   "id": "36b41298-8922-41b2-b988-27dac82e1258",
   "metadata": {},
   "source": [
    "Axe 1: On constate que le nutriscore et les lipides composent ce axe. Il est le reflet de la politique du nutriscore qui consiste à préférer exclure les lipides de l'alimentation. \n",
    "\n",
    "Axe 2: C'est la composante des glucides. Elle n'a quasiment pas d'influence sur le nutriscore. Et l'on constate que les proteines sont anti corrélées à cet axe. Un produit est donc plutôt soit proteïnique soit glucidique, mais difficilement les 2 ensembles"
   ]
  },
  {
   "cell_type": "code",
   "execution_count": null,
   "id": "a61a8e3f-1bdd-452b-aa44-619f33165f38",
   "metadata": {},
   "outputs": [],
   "source": [
    "correlation_graph(result['pca'], (2,3), numeric_cols)"
   ]
  },
  {
   "cell_type": "code",
   "execution_count": null,
   "id": "56a86ba9-a6ef-4a3e-9ee1-e40a056658b0",
   "metadata": {},
   "outputs": [],
   "source": [
    "display_factorial_planes(result['X_proj'], (0,1), result['pca'])"
   ]
  },
  {
   "cell_type": "markdown",
   "id": "ad836f24-c327-4269-8f44-bbfb3f0e8a32",
   "metadata": {},
   "source": [
    "### Analyse des categories"
   ]
  },
  {
   "cell_type": "code",
   "execution_count": null,
   "id": "ab10d04c-e08c-4ad1-acae-9a01c6bdfaa3",
   "metadata": {},
   "outputs": [],
   "source": [
    "df.loc[:, 'categories_fr'].dropna().unique()[:10]"
   ]
  },
  {
   "cell_type": "markdown",
   "id": "85e6c98b-8bb0-4c70-97db-b00a03222e00",
   "metadata": {},
   "source": [
    "Certaine valeurs apparaissent plusieurs fois, je crée et utilise une fonction generique qui renverra une serie basée sur une colonne avec leur nombre d'apparitions\n",
    "\n",
    "Je garde celles qui concernent au moins 1000 produits"
   ]
  },
  {
   "cell_type": "code",
   "execution_count": null,
   "id": "9405eb96-1c3a-4f26-a1d0-318a491fb27d",
   "metadata": {},
   "outputs": [],
   "source": [
    "categories = extract_serie(df, 'categories_fr')"
   ]
  },
  {
   "cell_type": "code",
   "execution_count": null,
   "id": "53bc61d4-37fb-4a2c-9e28-9bab56e2162d",
   "metadata": {},
   "outputs": [],
   "source": [
    "categories_subset = categories.loc[categories >=1000]"
   ]
  },
  {
   "cell_type": "code",
   "execution_count": null,
   "id": "0d87ccdd-e972-415b-8350-20b2a62b04e1",
   "metadata": {},
   "outputs": [],
   "source": [
    "plt.figure(figsize=(10,14))\n",
    "sns.barplot(x=categories_subset.values, y=categories_subset.index, orient='h')\n",
    "plt.title('Nombre de produits par catégorie')\n",
    "plt.show()"
   ]
  },
  {
   "cell_type": "markdown",
   "id": "3d2aa708-eb48-4592-89db-eeadcd7f1857",
   "metadata": {},
   "source": [
    "## Composition energetique d'une catégorie d'aliments"
   ]
  },
  {
   "cell_type": "code",
   "execution_count": null,
   "id": "941a3325-57b2-47d4-be9c-ff4ad809fa02",
   "metadata": {},
   "outputs": [],
   "source": [
    "dd1 = widgets.Dropdown(options=categories_subset.index.to_list(), value=categories_subset.index.to_list()[0], description='Categorie')\n",
    "dd2 = widgets.SelectMultiple(options={'Energie': 'energy_100g', 'Proteïnes': 'proteins_100g', 'Lipides': 'fat_100g', 'Glucides': 'carbohydrates_100g', 'Fibres': 'fiber_100g', 'Nutriscore': 'nutrition-score-fr_100g'}, value=['energy_100g'], description='Valeur observée')\n",
    "dd3 = widgets.IntSlider(min=5, max=20, step=1, description='Découpage')\n",
    "ui = widgets.HBox([dd1, dd2, dd3])\n",
    "\n",
    "def draw(categorie, x, bins):\n",
    "    plt.figure(figsize=(10,5))\n",
    "    data = df.loc[(~df['categories_fr'].isna()) & (df['energy_100g'] <= 3800), :]\n",
    "    data = data.loc[data['categories_fr'].str.contains(categorie), x]\n",
    "    sns.histplot(data=data, bins=bins, element=\"step\")\n",
    "    plt.title(f'Répartition de la valeur \"{x}\" pour la catégorie \"{categorie}\"')\n",
    "    plt.show()\n",
    "    \n",
    "out = widgets.interactive_output(draw, {'categorie': dd1, 'x':dd2, 'bins':dd3})\n",
    "display(ui, out)"
   ]
  }
 ],
 "metadata": {
  "kernelspec": {
   "display_name": "Python 3 (ipykernel)",
   "language": "python",
   "name": "python3"
  },
  "language_info": {
   "codemirror_mode": {
    "name": "ipython",
    "version": 3
   },
   "file_extension": ".py",
   "mimetype": "text/x-python",
   "name": "python",
   "nbconvert_exporter": "python",
   "pygments_lexer": "ipython3",
   "version": "3.10.10"
  }
 },
 "nbformat": 4,
 "nbformat_minor": 5
}
