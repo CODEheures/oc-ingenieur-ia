{
 "cells": [
  {
   "cell_type": "code",
   "execution_count": 4,
   "id": "3e4fa93f-ab74-4bdb-937f-dc1544a15ccb",
   "metadata": {},
   "outputs": [
    {
     "name": "stdout",
     "output_type": "stream",
     "text": [
      "^C\n"
     ]
    }
   ],
   "source": [
    "! voila projet_p3.ipynb"
   ]
  },
  {
   "cell_type": "code",
   "execution_count": null,
   "id": "75811484-b0b9-4b6c-8a4a-d4015cac3a4c",
   "metadata": {},
   "outputs": [],
   "source": []
  }
 ],
 "metadata": {
  "kernelspec": {
   "display_name": "Python 3 (ipykernel)",
   "language": "python",
   "name": "python3"
  },
  "language_info": {
   "codemirror_mode": {
    "name": "ipython",
    "version": 3
   },
   "file_extension": ".py",
   "mimetype": "text/x-python",
   "name": "python",
   "nbconvert_exporter": "python",
   "pygments_lexer": "ipython3",
   "version": "3.9.16"
  }
 },
 "nbformat": 4,
 "nbformat_minor": 5
}
