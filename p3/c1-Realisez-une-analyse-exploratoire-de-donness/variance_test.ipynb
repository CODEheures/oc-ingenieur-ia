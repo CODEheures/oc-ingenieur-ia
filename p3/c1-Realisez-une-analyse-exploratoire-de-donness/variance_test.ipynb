{
 "cells": [
  {
   "cell_type": "code",
   "execution_count": 6,
   "id": "079a7c11-d6a9-41f5-9955-2eb9e4bb21f5",
   "metadata": {},
   "outputs": [
    {
     "data": {
      "text/plain": [
       "6.25"
      ]
     },
     "execution_count": 6,
     "metadata": {},
     "output_type": "execute_result"
    }
   ],
   "source": [
    "import numpy as np\n",
    "p=[100,95]\n",
    "\n",
    "mean = np.mean(p)\n",
    "variance = np.sum([(x - mean)**2 for x in p])/len(p)\n",
    "variance"
   ]
  },
  {
   "cell_type": "code",
   "execution_count": 8,
   "id": "e447655a-2eca-415c-91bd-3d8524b836a8",
   "metadata": {},
   "outputs": [
    {
     "data": {
      "text/plain": [
       "6.25"
      ]
     },
     "execution_count": 8,
     "metadata": {},
     "output_type": "execute_result"
    }
   ],
   "source": [
    "d=[70,65]\n",
    "\n",
    "mean = np.mean(d)\n",
    "variance = np.sum([(x - mean)**2 for x in d])/len(d)\n",
    "variance"
   ]
  },
  {
   "cell_type": "code",
   "execution_count": 10,
   "id": "e7f00f42-ac40-4252-837c-358d7e2dc19d",
   "metadata": {},
   "outputs": [
    {
     "data": {
      "text/plain": [
       "0.0625"
      ]
     },
     "execution_count": 10,
     "metadata": {},
     "output_type": "execute_result"
    }
   ],
   "source": [
    "d2=[7,6.5]\n",
    "\n",
    "mean = np.mean(d2)\n",
    "variance = np.sum([(x - mean)**2 for x in d2])/len(d2)\n",
    "variance"
   ]
  },
  {
   "cell_type": "code",
   "execution_count": 16,
   "id": "96c1f1cd-17a4-45cb-9e0d-958ce43eec3a",
   "metadata": {},
   "outputs": [
    {
     "data": {
      "text/plain": [
       "0.6666666666666666"
      ]
     },
     "execution_count": 16,
     "metadata": {},
     "output_type": "execute_result"
    }
   ],
   "source": [
    "d3 = [4,5,6,5,4,6]\n",
    "mean = np.mean(d3)\n",
    "d3_c = np.array(d3) - mean\n",
    "d3_c\n",
    "var_d3_c = np.sum([(x - 0)**2 for x in d3_c])/len(d3_c)\n",
    "var_d3_c\n"
   ]
  },
  {
   "cell_type": "code",
   "execution_count": 18,
   "id": "a88de128-3d4e-4ba7-8f3c-2225d11cb43e",
   "metadata": {},
   "outputs": [
    {
     "data": {
      "text/plain": [
       "array([-1.22474487,  0.        ,  1.22474487,  0.        , -1.22474487,\n",
       "        1.22474487])"
      ]
     },
     "execution_count": 18,
     "metadata": {},
     "output_type": "execute_result"
    }
   ],
   "source": [
    "d3_cr = np.array(d3_c)/np.sqrt(var_d3_c)\n",
    "d3_cr"
   ]
  },
  {
   "cell_type": "code",
   "execution_count": 21,
   "id": "f759bde8-56e4-452c-a3af-3749421a7330",
   "metadata": {},
   "outputs": [],
   "source": [
    "var_d3_cr = np.sum([(x - 0)**2 for x in d3_cr])/len(d3_cr)"
   ]
  },
  {
   "cell_type": "code",
   "execution_count": 22,
   "id": "c12e323d-888c-4d88-a72c-fdd8d7a6201c",
   "metadata": {},
   "outputs": [
    {
     "data": {
      "text/plain": [
       "0.9999999999999999"
      ]
     },
     "execution_count": 22,
     "metadata": {},
     "output_type": "execute_result"
    }
   ],
   "source": [
    "var_d3_cr"
   ]
  },
  {
   "cell_type": "code",
   "execution_count": null,
   "id": "39d00ebc-c97d-4dd2-9b39-55498378a0f3",
   "metadata": {},
   "outputs": [],
   "source": []
  }
 ],
 "metadata": {
  "kernelspec": {
   "display_name": "Python 3 (ipykernel)",
   "language": "python",
   "name": "python3"
  },
  "language_info": {
   "codemirror_mode": {
    "name": "ipython",
    "version": 3
   },
   "file_extension": ".py",
   "mimetype": "text/x-python",
   "name": "python",
   "nbconvert_exporter": "python",
   "pygments_lexer": "ipython3",
   "version": "3.9.16"
  }
 },
 "nbformat": 4,
 "nbformat_minor": 5
}
