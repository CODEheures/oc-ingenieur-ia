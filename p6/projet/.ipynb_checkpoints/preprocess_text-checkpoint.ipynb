{
 "cells": [
  {
   "cell_type": "markdown",
   "id": "2117bb47-ddbf-49ba-a023-30ac88dee29b",
   "metadata": {},
   "source": [
    "# IMPORTS"
   ]
  },
  {
   "cell_type": "code",
   "execution_count": 1,
   "id": "be8c0797-df7f-4d69-8a57-e59ed791b9b3",
   "metadata": {},
   "outputs": [],
   "source": [
    "import pandas as pd\n",
    "import os\n",
    "from tabulate import tabulate\n",
    "from pandarallel import pandarallel\n",
    "from wordcloud import WordCloud\n",
    "import matplotlib.pyplot as plt"
   ]
  },
  {
   "cell_type": "markdown",
   "id": "4991b4a3-523e-4a10-a0e4-d233aef81941",
   "metadata": {},
   "source": [
    "# CONFIGURATION"
   ]
  },
  {
   "cell_type": "code",
   "execution_count": 2,
   "id": "8334fe1b-0eb8-4878-99bd-d130fe5afa1c",
   "metadata": {},
   "outputs": [],
   "source": [
    "# PREVIEW PHASE\n",
    "PREVIEW_SIZE = 1000\n",
    "\n",
    "# EXTRACT PHASE\n",
    "CHUNK_SIZE = 100000\n",
    "EXTRACT_PARQUET = False\n",
    "\n",
    "# ANALYSE PHASE\n",
    "SAMPLING_SIZE = 1000\n",
    "\n",
    "ORIGINAL_DATASET_DIR = 'data/original/yelp_dataset/'\n",
    "WORK_DATASET_DIR = 'data/work/yelp_dataset/'\n",
    "PREFIX_YELP = 'yelp_academic_dataset_'"
   ]
  },
  {
   "cell_type": "markdown",
   "id": "689c5dc8-faae-4b53-874a-59bcdc519aab",
   "metadata": {},
   "source": [
    "# FONCTIONS"
   ]
  },
  {
   "cell_type": "code",
   "execution_count": 28,
   "id": "b0ec643f-6a21-4f0f-9717-8855ab4b5ef9",
   "metadata": {},
   "outputs": [],
   "source": [
    "def list_files(dir, extension='json', print_result = True):\n",
    "    paths = {(file.split('.')[0]).split(PREFIX_YELP)[1]: dir + file for file in os.listdir(dir) if file.endswith('.' + extension)}\n",
    "    if print_result:\n",
    "        files = [[os.path.basename(paths[name]), file_size(paths[name])] for name in paths]\n",
    "        print(tabulate(files, headers=['Name', 'Size']))\n",
    "    return paths\n",
    "\n",
    "def file_size(path, unit='Gb', precision=2, only_value = False):\n",
    "    exp = 3\n",
    "    if (unit=='ko'):\n",
    "        exp = 1\n",
    "    elif (unit == 'Mb'):\n",
    "        exp = 2\n",
    "    else:\n",
    "        exp = 3\n",
    "        unit = 'Gb'\n",
    "\n",
    "    value = round((os.path.getsize(path)/(1024**exp)), precision)\n",
    "    if only_value:\n",
    "        return value\n",
    "    else:\n",
    "        return str(value) + unit\n",
    "\n",
    "def preview_dataset(path):\n",
    "    df = pd.read_json(path, lines=True, nrows=PREVIEW_SIZE)\n",
    "    display(df.sample(5))\n",
    "    display(df.dtypes)\n",
    "\n",
    "    return df\n",
    "\n",
    "def get_words_max_frequency(reviews: pd.DataFrame, max_frequency = 1):\n",
    "    words = {}\n",
    "    for index in reviews.index:\n",
    "        for token in reviews.loc[index, 'tokens']:\n",
    "            if not token in words:\n",
    "                words[token] = 1\n",
    "            else:\n",
    "                words[token] = words[token] + 1\n",
    "    under = [token for token, count in words.items() if count <= max_frequency]\n",
    "    upper = [token for token, count in words.items() if count > max_frequency]\n",
    "    \n",
    "    return [token for token, count in words.items() if count <= max_frequency], len(upper)      \n",
    "\n",
    "def drop_words(tokens, words):\n",
    "    return [token for token in tokens if token not in words]\n",
    "\n",
    "def preprocess_text(text):\n",
    "    from nltk import RegexpTokenizer\n",
    "    from nltk.corpus import stopwords\n",
    "    from nltk.stem import WordNetLemmatizer\n",
    "\n",
    "    # normalization\n",
    "    text = text.lower()\n",
    "\n",
    "    # Tokenization\n",
    "    tokenizer = RegexpTokenizer(r'\\w+')\n",
    "    tokens = tokenizer.tokenize(text)\n",
    "\n",
    "    # Stops Words\n",
    "    stops = stopwords.words('english')\n",
    "    tokens = [token for token in tokens if not token in stops]\n",
    "\n",
    "    # Lematization\n",
    "    lemmatizer = WordNetLemmatizer()\n",
    "    tokens = [lemmatizer.lemmatize(word, pos='a') for word in tokens]\n",
    "    tokens = [lemmatizer.lemmatize(word, pos='v') for word in tokens]\n",
    "    tokens = [lemmatizer.lemmatize(word, pos='n') for word in tokens]\n",
    "\n",
    "    return tokens\n",
    "\n",
    "def word_cloud(text):\n",
    "    wordcloud = WordCloud(background_color = 'white', max_words = 50).generate(text)\n",
    "    plt.imshow(wordcloud)\n",
    "    plt.axis(\"off\")\n",
    "    plt.show();"
   ]
  },
  {
   "cell_type": "markdown",
   "id": "44e8de37-f22d-4c52-814b-7916dd8cf6ce",
   "metadata": {},
   "source": [
    "# PREVISUALISATION DES DATASETS"
   ]
  },
  {
   "cell_type": "code",
   "execution_count": 4,
   "id": "868ec081-dafc-4650-b1c4-b78fee9bf9f0",
   "metadata": {},
   "outputs": [
    {
     "data": {
      "text/plain": [
       "{'business': 'data/original/yelp_dataset/yelp_academic_dataset_business.json',\n",
       " 'checkin': 'data/original/yelp_dataset/yelp_academic_dataset_checkin.json',\n",
       " 'review': 'data/original/yelp_dataset/yelp_academic_dataset_review.json',\n",
       " 'tip': 'data/original/yelp_dataset/yelp_academic_dataset_tip.json',\n",
       " 'user': 'data/original/yelp_dataset/yelp_academic_dataset_user.json'}"
      ]
     },
     "execution_count": 4,
     "metadata": {},
     "output_type": "execute_result"
    }
   ],
   "source": [
    "files = list_files(ORIGINAL_DATASET_DIR, print_result=False)\n",
    "files"
   ]
  },
  {
   "cell_type": "code",
   "execution_count": 5,
   "id": "f17c3ede-0013-42b4-a7b8-57ccaabd1bde",
   "metadata": {},
   "outputs": [
    {
     "name": "stdout",
     "output_type": "stream",
     "text": [
      "PREVIEW business\n",
      "=====================\n",
      "\n"
     ]
    },
    {
     "data": {
      "text/html": [
       "<div>\n",
       "<style scoped>\n",
       "    .dataframe tbody tr th:only-of-type {\n",
       "        vertical-align: middle;\n",
       "    }\n",
       "\n",
       "    .dataframe tbody tr th {\n",
       "        vertical-align: top;\n",
       "    }\n",
       "\n",
       "    .dataframe thead th {\n",
       "        text-align: right;\n",
       "    }\n",
       "</style>\n",
       "<table border=\"1\" class=\"dataframe\">\n",
       "  <thead>\n",
       "    <tr style=\"text-align: right;\">\n",
       "      <th></th>\n",
       "      <th>business_id</th>\n",
       "      <th>name</th>\n",
       "      <th>address</th>\n",
       "      <th>city</th>\n",
       "      <th>state</th>\n",
       "      <th>postal_code</th>\n",
       "      <th>latitude</th>\n",
       "      <th>longitude</th>\n",
       "      <th>stars</th>\n",
       "      <th>review_count</th>\n",
       "      <th>is_open</th>\n",
       "      <th>attributes</th>\n",
       "      <th>categories</th>\n",
       "      <th>hours</th>\n",
       "    </tr>\n",
       "  </thead>\n",
       "  <tbody>\n",
       "    <tr>\n",
       "      <th>135</th>\n",
       "      <td>qdYfHRsZdcz4Bun4f9Ijaw</td>\n",
       "      <td>Norristown Car Wash</td>\n",
       "      <td>10 E Germantown Pike</td>\n",
       "      <td>Norristown</td>\n",
       "      <td>PA</td>\n",
       "      <td>19401</td>\n",
       "      <td>40.140914</td>\n",
       "      <td>-75.312315</td>\n",
       "      <td>2.0</td>\n",
       "      <td>8</td>\n",
       "      <td>1</td>\n",
       "      <td>{'BusinessAcceptsCreditCards': 'True'}</td>\n",
       "      <td>Car Wash, Auto Detailing, Automotive</td>\n",
       "      <td>None</td>\n",
       "    </tr>\n",
       "    <tr>\n",
       "      <th>322</th>\n",
       "      <td>DeN5N6B78gysROm_Sq2kWA</td>\n",
       "      <td>Little V.I.P's Preschool</td>\n",
       "      <td>318 E Browning Rd</td>\n",
       "      <td>Bellmawr</td>\n",
       "      <td>NJ</td>\n",
       "      <td>08031</td>\n",
       "      <td>39.865426</td>\n",
       "      <td>-75.068073</td>\n",
       "      <td>3.5</td>\n",
       "      <td>7</td>\n",
       "      <td>1</td>\n",
       "      <td>None</td>\n",
       "      <td>Education, Preschools, Local Services, Child C...</td>\n",
       "      <td>{'Monday': '6:30-18:0', 'Tuesday': '6:30-18:0'...</td>\n",
       "    </tr>\n",
       "    <tr>\n",
       "      <th>483</th>\n",
       "      <td>VKwPAl11iuM_YkEwm07sYQ</td>\n",
       "      <td>Hibiscus Spa</td>\n",
       "      <td>400 Mandalay Ave</td>\n",
       "      <td>Clearwater</td>\n",
       "      <td>FL</td>\n",
       "      <td>33767</td>\n",
       "      <td>27.978877</td>\n",
       "      <td>-82.827961</td>\n",
       "      <td>4.5</td>\n",
       "      <td>14</td>\n",
       "      <td>1</td>\n",
       "      <td>{'WiFi': 'u'free'', 'ByAppointmentOnly': 'Fals...</td>\n",
       "      <td>Day Spas, Beauty &amp; Spas, Hair Salons</td>\n",
       "      <td>{'Monday': '10:0-16:0', 'Tuesday': '10:0-16:0'...</td>\n",
       "    </tr>\n",
       "    <tr>\n",
       "      <th>833</th>\n",
       "      <td>QjHGUvMNwb2NOidfcd1zLw</td>\n",
       "      <td>Oak Motors</td>\n",
       "      <td>3931 S E St</td>\n",
       "      <td>Indianapolis</td>\n",
       "      <td>IN</td>\n",
       "      <td>46227</td>\n",
       "      <td>39.708536</td>\n",
       "      <td>-86.148084</td>\n",
       "      <td>2.0</td>\n",
       "      <td>9</td>\n",
       "      <td>1</td>\n",
       "      <td>{'BusinessAcceptsCreditCards': 'True'}</td>\n",
       "      <td>Car Dealers, Auto Repair, Automotive, Used Car...</td>\n",
       "      <td>{'Monday': '10:0-19:0', 'Tuesday': '10:0-19:0'...</td>\n",
       "    </tr>\n",
       "    <tr>\n",
       "      <th>470</th>\n",
       "      <td>VeFfrEZ4iWaecrQg6Eq4cg</td>\n",
       "      <td>Cal Taco</td>\n",
       "      <td>7320 Hollister Ave, Ste 1</td>\n",
       "      <td>Goleta</td>\n",
       "      <td>CA</td>\n",
       "      <td>93117</td>\n",
       "      <td>34.430542</td>\n",
       "      <td>-119.882367</td>\n",
       "      <td>4.0</td>\n",
       "      <td>189</td>\n",
       "      <td>1</td>\n",
       "      <td>{'RestaurantsGoodForGroups': 'True', 'Business...</td>\n",
       "      <td>Burgers, Cafes, Restaurants, Mexican, American...</td>\n",
       "      <td>{'Monday': '0:0-0:0', 'Tuesday': '8:0-20:30', ...</td>\n",
       "    </tr>\n",
       "  </tbody>\n",
       "</table>\n",
       "</div>"
      ],
      "text/plain": [
       "                business_id                      name  \\\n",
       "135  qdYfHRsZdcz4Bun4f9Ijaw       Norristown Car Wash   \n",
       "322  DeN5N6B78gysROm_Sq2kWA  Little V.I.P's Preschool   \n",
       "483  VKwPAl11iuM_YkEwm07sYQ              Hibiscus Spa   \n",
       "833  QjHGUvMNwb2NOidfcd1zLw                Oak Motors   \n",
       "470  VeFfrEZ4iWaecrQg6Eq4cg                  Cal Taco   \n",
       "\n",
       "                       address          city state postal_code   latitude  \\\n",
       "135       10 E Germantown Pike    Norristown    PA       19401  40.140914   \n",
       "322          318 E Browning Rd      Bellmawr    NJ       08031  39.865426   \n",
       "483           400 Mandalay Ave    Clearwater    FL       33767  27.978877   \n",
       "833                3931 S E St  Indianapolis    IN       46227  39.708536   \n",
       "470  7320 Hollister Ave, Ste 1        Goleta    CA       93117  34.430542   \n",
       "\n",
       "      longitude  stars  review_count  is_open  \\\n",
       "135  -75.312315    2.0             8        1   \n",
       "322  -75.068073    3.5             7        1   \n",
       "483  -82.827961    4.5            14        1   \n",
       "833  -86.148084    2.0             9        1   \n",
       "470 -119.882367    4.0           189        1   \n",
       "\n",
       "                                            attributes  \\\n",
       "135             {'BusinessAcceptsCreditCards': 'True'}   \n",
       "322                                               None   \n",
       "483  {'WiFi': 'u'free'', 'ByAppointmentOnly': 'Fals...   \n",
       "833             {'BusinessAcceptsCreditCards': 'True'}   \n",
       "470  {'RestaurantsGoodForGroups': 'True', 'Business...   \n",
       "\n",
       "                                            categories  \\\n",
       "135               Car Wash, Auto Detailing, Automotive   \n",
       "322  Education, Preschools, Local Services, Child C...   \n",
       "483               Day Spas, Beauty & Spas, Hair Salons   \n",
       "833  Car Dealers, Auto Repair, Automotive, Used Car...   \n",
       "470  Burgers, Cafes, Restaurants, Mexican, American...   \n",
       "\n",
       "                                                 hours  \n",
       "135                                               None  \n",
       "322  {'Monday': '6:30-18:0', 'Tuesday': '6:30-18:0'...  \n",
       "483  {'Monday': '10:0-16:0', 'Tuesday': '10:0-16:0'...  \n",
       "833  {'Monday': '10:0-19:0', 'Tuesday': '10:0-19:0'...  \n",
       "470  {'Monday': '0:0-0:0', 'Tuesday': '8:0-20:30', ...  "
      ]
     },
     "metadata": {},
     "output_type": "display_data"
    },
    {
     "data": {
      "text/plain": [
       "business_id      object\n",
       "name             object\n",
       "address          object\n",
       "city             object\n",
       "state            object\n",
       "postal_code      object\n",
       "latitude        float64\n",
       "longitude       float64\n",
       "stars           float64\n",
       "review_count      int64\n",
       "is_open           int64\n",
       "attributes       object\n",
       "categories       object\n",
       "hours            object\n",
       "dtype: object"
      ]
     },
     "metadata": {},
     "output_type": "display_data"
    },
    {
     "name": "stdout",
     "output_type": "stream",
     "text": [
      "\n",
      "PREVIEW checkin\n",
      "=====================\n",
      "\n"
     ]
    },
    {
     "data": {
      "text/html": [
       "<div>\n",
       "<style scoped>\n",
       "    .dataframe tbody tr th:only-of-type {\n",
       "        vertical-align: middle;\n",
       "    }\n",
       "\n",
       "    .dataframe tbody tr th {\n",
       "        vertical-align: top;\n",
       "    }\n",
       "\n",
       "    .dataframe thead th {\n",
       "        text-align: right;\n",
       "    }\n",
       "</style>\n",
       "<table border=\"1\" class=\"dataframe\">\n",
       "  <thead>\n",
       "    <tr style=\"text-align: right;\">\n",
       "      <th></th>\n",
       "      <th>business_id</th>\n",
       "      <th>date</th>\n",
       "    </tr>\n",
       "  </thead>\n",
       "  <tbody>\n",
       "    <tr>\n",
       "      <th>285</th>\n",
       "      <td>-7SlRxSWoLDB5YaYlcNpSg</td>\n",
       "      <td>2016-10-25 08:42:59, 2016-10-26 07:06:32, 2017...</td>\n",
       "    </tr>\n",
       "    <tr>\n",
       "      <th>499</th>\n",
       "      <td>-DsC3cvCBEy_FNJ7U-i9zg</td>\n",
       "      <td>2010-04-07 16:54:45, 2010-04-27 16:06:34, 2010...</td>\n",
       "    </tr>\n",
       "    <tr>\n",
       "      <th>697</th>\n",
       "      <td>-KUu_Rl4UepNCIyWTJYbow</td>\n",
       "      <td>2014-02-06 23:40:16, 2014-03-25 16:28:21, 2014...</td>\n",
       "    </tr>\n",
       "    <tr>\n",
       "      <th>311</th>\n",
       "      <td>-85kJMtb9wqNWDT8yLbitw</td>\n",
       "      <td>2010-09-05 16:47:18, 2010-10-01 14:55:24, 2010...</td>\n",
       "    </tr>\n",
       "    <tr>\n",
       "      <th>446</th>\n",
       "      <td>-CJaGFoVnofRPKwl4NJaLg</td>\n",
       "      <td>2012-07-16 20:50:45, 2015-12-17 23:24:56, 2016...</td>\n",
       "    </tr>\n",
       "  </tbody>\n",
       "</table>\n",
       "</div>"
      ],
      "text/plain": [
       "                business_id                                               date\n",
       "285  -7SlRxSWoLDB5YaYlcNpSg  2016-10-25 08:42:59, 2016-10-26 07:06:32, 2017...\n",
       "499  -DsC3cvCBEy_FNJ7U-i9zg  2010-04-07 16:54:45, 2010-04-27 16:06:34, 2010...\n",
       "697  -KUu_Rl4UepNCIyWTJYbow  2014-02-06 23:40:16, 2014-03-25 16:28:21, 2014...\n",
       "311  -85kJMtb9wqNWDT8yLbitw  2010-09-05 16:47:18, 2010-10-01 14:55:24, 2010...\n",
       "446  -CJaGFoVnofRPKwl4NJaLg  2012-07-16 20:50:45, 2015-12-17 23:24:56, 2016..."
      ]
     },
     "metadata": {},
     "output_type": "display_data"
    },
    {
     "data": {
      "text/plain": [
       "business_id    object\n",
       "date           object\n",
       "dtype: object"
      ]
     },
     "metadata": {},
     "output_type": "display_data"
    },
    {
     "name": "stdout",
     "output_type": "stream",
     "text": [
      "\n",
      "PREVIEW review\n",
      "=====================\n",
      "\n"
     ]
    },
    {
     "data": {
      "text/html": [
       "<div>\n",
       "<style scoped>\n",
       "    .dataframe tbody tr th:only-of-type {\n",
       "        vertical-align: middle;\n",
       "    }\n",
       "\n",
       "    .dataframe tbody tr th {\n",
       "        vertical-align: top;\n",
       "    }\n",
       "\n",
       "    .dataframe thead th {\n",
       "        text-align: right;\n",
       "    }\n",
       "</style>\n",
       "<table border=\"1\" class=\"dataframe\">\n",
       "  <thead>\n",
       "    <tr style=\"text-align: right;\">\n",
       "      <th></th>\n",
       "      <th>review_id</th>\n",
       "      <th>user_id</th>\n",
       "      <th>business_id</th>\n",
       "      <th>stars</th>\n",
       "      <th>useful</th>\n",
       "      <th>funny</th>\n",
       "      <th>cool</th>\n",
       "      <th>text</th>\n",
       "      <th>date</th>\n",
       "    </tr>\n",
       "  </thead>\n",
       "  <tbody>\n",
       "    <tr>\n",
       "      <th>176</th>\n",
       "      <td>x-1wBBwja9l2Hr5bgqsG0A</td>\n",
       "      <td>L-2Qdi16eMRbATGDP6ADHg</td>\n",
       "      <td>mQvRi0nm84Www71d4qOheQ</td>\n",
       "      <td>5</td>\n",
       "      <td>1</td>\n",
       "      <td>0</td>\n",
       "      <td>1</td>\n",
       "      <td>Excellent food. We tried three appetizers and ...</td>\n",
       "      <td>2016-07-03 21:13:10</td>\n",
       "    </tr>\n",
       "    <tr>\n",
       "      <th>768</th>\n",
       "      <td>9qCZxJnJTSm1rvrAj2O6Og</td>\n",
       "      <td>ftXAwWq5_3AMSzVviheQSQ</td>\n",
       "      <td>gKPWC7F219oEbu5NXPzH4g</td>\n",
       "      <td>4</td>\n",
       "      <td>0</td>\n",
       "      <td>0</td>\n",
       "      <td>0</td>\n",
       "      <td>Our second favorite place to watch a sunset. I...</td>\n",
       "      <td>2015-07-03 22:49:14</td>\n",
       "    </tr>\n",
       "    <tr>\n",
       "      <th>955</th>\n",
       "      <td>UVyf-nDeSNrpJsDpbHJZGg</td>\n",
       "      <td>wMRABJye-vljUZxI2y7YTA</td>\n",
       "      <td>3pCdFDNxXEKCW0Y_r77Qpg</td>\n",
       "      <td>5</td>\n",
       "      <td>1</td>\n",
       "      <td>0</td>\n",
       "      <td>0</td>\n",
       "      <td>the best frozen yogurt i have found in the cen...</td>\n",
       "      <td>2012-12-04 22:35:11</td>\n",
       "    </tr>\n",
       "    <tr>\n",
       "      <th>194</th>\n",
       "      <td>_u331rYIp7qJ7aWvLup9Ug</td>\n",
       "      <td>BUpAhzsbbKbTqyBjT8YnNQ</td>\n",
       "      <td>wa_bwyY57etHjtJ2Fw0E3g</td>\n",
       "      <td>5</td>\n",
       "      <td>0</td>\n",
       "      <td>0</td>\n",
       "      <td>0</td>\n",
       "      <td>Called in a Mediterranean chicken shawarma. Go...</td>\n",
       "      <td>2014-04-01 05:00:09</td>\n",
       "    </tr>\n",
       "    <tr>\n",
       "      <th>772</th>\n",
       "      <td>5QXoOzlXejer6vBhLWkrbw</td>\n",
       "      <td>MEyPvp4jfT0qwsbR2kNepg</td>\n",
       "      <td>NT5S6JV5wPwKOd3s3Yh1zQ</td>\n",
       "      <td>3</td>\n",
       "      <td>2</td>\n",
       "      <td>0</td>\n",
       "      <td>0</td>\n",
       "      <td>I would eat here again, but mostly because it ...</td>\n",
       "      <td>2014-10-11 12:10:26</td>\n",
       "    </tr>\n",
       "  </tbody>\n",
       "</table>\n",
       "</div>"
      ],
      "text/plain": [
       "                  review_id                 user_id             business_id  \\\n",
       "176  x-1wBBwja9l2Hr5bgqsG0A  L-2Qdi16eMRbATGDP6ADHg  mQvRi0nm84Www71d4qOheQ   \n",
       "768  9qCZxJnJTSm1rvrAj2O6Og  ftXAwWq5_3AMSzVviheQSQ  gKPWC7F219oEbu5NXPzH4g   \n",
       "955  UVyf-nDeSNrpJsDpbHJZGg  wMRABJye-vljUZxI2y7YTA  3pCdFDNxXEKCW0Y_r77Qpg   \n",
       "194  _u331rYIp7qJ7aWvLup9Ug  BUpAhzsbbKbTqyBjT8YnNQ  wa_bwyY57etHjtJ2Fw0E3g   \n",
       "772  5QXoOzlXejer6vBhLWkrbw  MEyPvp4jfT0qwsbR2kNepg  NT5S6JV5wPwKOd3s3Yh1zQ   \n",
       "\n",
       "     stars  useful  funny  cool  \\\n",
       "176      5       1      0     1   \n",
       "768      4       0      0     0   \n",
       "955      5       1      0     0   \n",
       "194      5       0      0     0   \n",
       "772      3       2      0     0   \n",
       "\n",
       "                                                  text                date  \n",
       "176  Excellent food. We tried three appetizers and ... 2016-07-03 21:13:10  \n",
       "768  Our second favorite place to watch a sunset. I... 2015-07-03 22:49:14  \n",
       "955  the best frozen yogurt i have found in the cen... 2012-12-04 22:35:11  \n",
       "194  Called in a Mediterranean chicken shawarma. Go... 2014-04-01 05:00:09  \n",
       "772  I would eat here again, but mostly because it ... 2014-10-11 12:10:26  "
      ]
     },
     "metadata": {},
     "output_type": "display_data"
    },
    {
     "data": {
      "text/plain": [
       "review_id              object\n",
       "user_id                object\n",
       "business_id            object\n",
       "stars                   int64\n",
       "useful                  int64\n",
       "funny                   int64\n",
       "cool                    int64\n",
       "text                   object\n",
       "date           datetime64[ns]\n",
       "dtype: object"
      ]
     },
     "metadata": {},
     "output_type": "display_data"
    },
    {
     "name": "stdout",
     "output_type": "stream",
     "text": [
      "\n",
      "PREVIEW tip\n",
      "=====================\n",
      "\n"
     ]
    },
    {
     "data": {
      "text/html": [
       "<div>\n",
       "<style scoped>\n",
       "    .dataframe tbody tr th:only-of-type {\n",
       "        vertical-align: middle;\n",
       "    }\n",
       "\n",
       "    .dataframe tbody tr th {\n",
       "        vertical-align: top;\n",
       "    }\n",
       "\n",
       "    .dataframe thead th {\n",
       "        text-align: right;\n",
       "    }\n",
       "</style>\n",
       "<table border=\"1\" class=\"dataframe\">\n",
       "  <thead>\n",
       "    <tr style=\"text-align: right;\">\n",
       "      <th></th>\n",
       "      <th>user_id</th>\n",
       "      <th>business_id</th>\n",
       "      <th>text</th>\n",
       "      <th>date</th>\n",
       "      <th>compliment_count</th>\n",
       "    </tr>\n",
       "  </thead>\n",
       "  <tbody>\n",
       "    <tr>\n",
       "      <th>370</th>\n",
       "      <td>1bjo-xG3tKF5rQjRx5zW4Q</td>\n",
       "      <td>CsZJYRcHFzkhqGBBnoIKaA</td>\n",
       "      <td>Lovely locally-grown strawberries.  If you can...</td>\n",
       "      <td>2015-06-02 13:44:56</td>\n",
       "      <td>0</td>\n",
       "    </tr>\n",
       "    <tr>\n",
       "      <th>176</th>\n",
       "      <td>wJ57oQxkmdN2Milto9nOmw</td>\n",
       "      <td>KuQIzjzwhqykR3CMwqNBTA</td>\n",
       "      <td>Take your food to go it's too Hot inside with ...</td>\n",
       "      <td>2016-08-06 23:10:39</td>\n",
       "      <td>0</td>\n",
       "    </tr>\n",
       "    <tr>\n",
       "      <th>712</th>\n",
       "      <td>aWWU_LEDET6nW3AU8i08vA</td>\n",
       "      <td>WbxPdq_PgVvCI462l0vPEQ</td>\n",
       "      <td>I always get great service even if they are ou...</td>\n",
       "      <td>2013-05-28 02:54:01</td>\n",
       "      <td>0</td>\n",
       "    </tr>\n",
       "    <tr>\n",
       "      <th>206</th>\n",
       "      <td>ZSmUmmJ9Jxk3UeaVmWg4Eg</td>\n",
       "      <td>RkA7wLIxPweJn0HgLSNjHw</td>\n",
       "      <td>This place is fantastic!! The food is deliciou...</td>\n",
       "      <td>2018-03-24 23:28:57</td>\n",
       "      <td>0</td>\n",
       "    </tr>\n",
       "    <tr>\n",
       "      <th>329</th>\n",
       "      <td>NCK5nbNOxDD-730AHYdt1Q</td>\n",
       "      <td>WB-eQAgw88fbr15eY761CA</td>\n",
       "      <td>Always ask Spartaco for the evening's specials</td>\n",
       "      <td>2012-10-09 23:10:01</td>\n",
       "      <td>0</td>\n",
       "    </tr>\n",
       "  </tbody>\n",
       "</table>\n",
       "</div>"
      ],
      "text/plain": [
       "                    user_id             business_id  \\\n",
       "370  1bjo-xG3tKF5rQjRx5zW4Q  CsZJYRcHFzkhqGBBnoIKaA   \n",
       "176  wJ57oQxkmdN2Milto9nOmw  KuQIzjzwhqykR3CMwqNBTA   \n",
       "712  aWWU_LEDET6nW3AU8i08vA  WbxPdq_PgVvCI462l0vPEQ   \n",
       "206  ZSmUmmJ9Jxk3UeaVmWg4Eg  RkA7wLIxPweJn0HgLSNjHw   \n",
       "329  NCK5nbNOxDD-730AHYdt1Q  WB-eQAgw88fbr15eY761CA   \n",
       "\n",
       "                                                  text                date  \\\n",
       "370  Lovely locally-grown strawberries.  If you can... 2015-06-02 13:44:56   \n",
       "176  Take your food to go it's too Hot inside with ... 2016-08-06 23:10:39   \n",
       "712  I always get great service even if they are ou... 2013-05-28 02:54:01   \n",
       "206  This place is fantastic!! The food is deliciou... 2018-03-24 23:28:57   \n",
       "329     Always ask Spartaco for the evening's specials 2012-10-09 23:10:01   \n",
       "\n",
       "     compliment_count  \n",
       "370                 0  \n",
       "176                 0  \n",
       "712                 0  \n",
       "206                 0  \n",
       "329                 0  "
      ]
     },
     "metadata": {},
     "output_type": "display_data"
    },
    {
     "data": {
      "text/plain": [
       "user_id                     object\n",
       "business_id                 object\n",
       "text                        object\n",
       "date                datetime64[ns]\n",
       "compliment_count             int64\n",
       "dtype: object"
      ]
     },
     "metadata": {},
     "output_type": "display_data"
    },
    {
     "name": "stdout",
     "output_type": "stream",
     "text": [
      "\n",
      "PREVIEW user\n",
      "=====================\n",
      "\n"
     ]
    },
    {
     "data": {
      "text/html": [
       "<div>\n",
       "<style scoped>\n",
       "    .dataframe tbody tr th:only-of-type {\n",
       "        vertical-align: middle;\n",
       "    }\n",
       "\n",
       "    .dataframe tbody tr th {\n",
       "        vertical-align: top;\n",
       "    }\n",
       "\n",
       "    .dataframe thead th {\n",
       "        text-align: right;\n",
       "    }\n",
       "</style>\n",
       "<table border=\"1\" class=\"dataframe\">\n",
       "  <thead>\n",
       "    <tr style=\"text-align: right;\">\n",
       "      <th></th>\n",
       "      <th>user_id</th>\n",
       "      <th>name</th>\n",
       "      <th>review_count</th>\n",
       "      <th>yelping_since</th>\n",
       "      <th>useful</th>\n",
       "      <th>funny</th>\n",
       "      <th>cool</th>\n",
       "      <th>elite</th>\n",
       "      <th>friends</th>\n",
       "      <th>fans</th>\n",
       "      <th>...</th>\n",
       "      <th>compliment_more</th>\n",
       "      <th>compliment_profile</th>\n",
       "      <th>compliment_cute</th>\n",
       "      <th>compliment_list</th>\n",
       "      <th>compliment_note</th>\n",
       "      <th>compliment_plain</th>\n",
       "      <th>compliment_cool</th>\n",
       "      <th>compliment_funny</th>\n",
       "      <th>compliment_writer</th>\n",
       "      <th>compliment_photos</th>\n",
       "    </tr>\n",
       "  </thead>\n",
       "  <tbody>\n",
       "    <tr>\n",
       "      <th>456</th>\n",
       "      <td>0MP38Eo_X45oHNvcKTLkRA</td>\n",
       "      <td>Andrew</td>\n",
       "      <td>20</td>\n",
       "      <td>2007-08-14 16:06:36</td>\n",
       "      <td>45</td>\n",
       "      <td>12</td>\n",
       "      <td>24</td>\n",
       "      <td></td>\n",
       "      <td>ci-mepWGgsgGT3sFI2mhMg, kFMhZYjbQ6r_K9yMCcG_ig...</td>\n",
       "      <td>5</td>\n",
       "      <td>...</td>\n",
       "      <td>0</td>\n",
       "      <td>0</td>\n",
       "      <td>1</td>\n",
       "      <td>0</td>\n",
       "      <td>1</td>\n",
       "      <td>1</td>\n",
       "      <td>3</td>\n",
       "      <td>3</td>\n",
       "      <td>0</td>\n",
       "      <td>1</td>\n",
       "    </tr>\n",
       "    <tr>\n",
       "      <th>227</th>\n",
       "      <td>aA0WQpDdksKuDafTGzJf_A</td>\n",
       "      <td>Warren</td>\n",
       "      <td>161</td>\n",
       "      <td>2007-05-06 22:48:26</td>\n",
       "      <td>410</td>\n",
       "      <td>211</td>\n",
       "      <td>221</td>\n",
       "      <td>2007,2008,2009</td>\n",
       "      <td>qvmL6mp-rpIwVguxb5HuvQ, uDgz8pNy--SQm6Ae3uRiFg...</td>\n",
       "      <td>23</td>\n",
       "      <td>...</td>\n",
       "      <td>6</td>\n",
       "      <td>4</td>\n",
       "      <td>1</td>\n",
       "      <td>12</td>\n",
       "      <td>12</td>\n",
       "      <td>13</td>\n",
       "      <td>19</td>\n",
       "      <td>19</td>\n",
       "      <td>8</td>\n",
       "      <td>1</td>\n",
       "    </tr>\n",
       "    <tr>\n",
       "      <th>358</th>\n",
       "      <td>a6myQnEM2qdJMWcYqOQWlg</td>\n",
       "      <td>Judith</td>\n",
       "      <td>68</td>\n",
       "      <td>2006-07-22 14:46:15</td>\n",
       "      <td>87</td>\n",
       "      <td>25</td>\n",
       "      <td>37</td>\n",
       "      <td></td>\n",
       "      <td>BwuWVhAbU8uOQzN37PlO0A, 6Mv-qMJyxSokCu8YFM1o0A...</td>\n",
       "      <td>2</td>\n",
       "      <td>...</td>\n",
       "      <td>2</td>\n",
       "      <td>0</td>\n",
       "      <td>0</td>\n",
       "      <td>0</td>\n",
       "      <td>2</td>\n",
       "      <td>4</td>\n",
       "      <td>1</td>\n",
       "      <td>1</td>\n",
       "      <td>0</td>\n",
       "      <td>0</td>\n",
       "    </tr>\n",
       "    <tr>\n",
       "      <th>510</th>\n",
       "      <td>m1LzN8vRCuJYwrDfJA0fiw</td>\n",
       "      <td>Joe</td>\n",
       "      <td>27</td>\n",
       "      <td>2009-07-05 20:22:46</td>\n",
       "      <td>40</td>\n",
       "      <td>8</td>\n",
       "      <td>14</td>\n",
       "      <td></td>\n",
       "      <td>NMYtvhWWUuq8H3Jcu0ZF-w, hNJCY3goUx7opXmP5ioVBQ...</td>\n",
       "      <td>1</td>\n",
       "      <td>...</td>\n",
       "      <td>1</td>\n",
       "      <td>0</td>\n",
       "      <td>0</td>\n",
       "      <td>0</td>\n",
       "      <td>1</td>\n",
       "      <td>1</td>\n",
       "      <td>0</td>\n",
       "      <td>0</td>\n",
       "      <td>0</td>\n",
       "      <td>0</td>\n",
       "    </tr>\n",
       "    <tr>\n",
       "      <th>396</th>\n",
       "      <td>LJhQx48XHLggMDxkX4bePw</td>\n",
       "      <td>A</td>\n",
       "      <td>137</td>\n",
       "      <td>2007-06-19 03:02:43</td>\n",
       "      <td>504</td>\n",
       "      <td>224</td>\n",
       "      <td>308</td>\n",
       "      <td></td>\n",
       "      <td>2RtR1KrM1L85-KShwZ-9Kg, 4lacVJ97kY6Ofqibmx08AA...</td>\n",
       "      <td>5</td>\n",
       "      <td>...</td>\n",
       "      <td>2</td>\n",
       "      <td>0</td>\n",
       "      <td>4</td>\n",
       "      <td>0</td>\n",
       "      <td>3</td>\n",
       "      <td>6</td>\n",
       "      <td>10</td>\n",
       "      <td>10</td>\n",
       "      <td>1</td>\n",
       "      <td>0</td>\n",
       "    </tr>\n",
       "  </tbody>\n",
       "</table>\n",
       "<p>5 rows × 22 columns</p>\n",
       "</div>"
      ],
      "text/plain": [
       "                    user_id    name  review_count        yelping_since  \\\n",
       "456  0MP38Eo_X45oHNvcKTLkRA  Andrew            20  2007-08-14 16:06:36   \n",
       "227  aA0WQpDdksKuDafTGzJf_A  Warren           161  2007-05-06 22:48:26   \n",
       "358  a6myQnEM2qdJMWcYqOQWlg  Judith            68  2006-07-22 14:46:15   \n",
       "510  m1LzN8vRCuJYwrDfJA0fiw     Joe            27  2009-07-05 20:22:46   \n",
       "396  LJhQx48XHLggMDxkX4bePw       A           137  2007-06-19 03:02:43   \n",
       "\n",
       "     useful  funny  cool           elite  \\\n",
       "456      45     12    24                   \n",
       "227     410    211   221  2007,2008,2009   \n",
       "358      87     25    37                   \n",
       "510      40      8    14                   \n",
       "396     504    224   308                   \n",
       "\n",
       "                                               friends  fans  ...  \\\n",
       "456  ci-mepWGgsgGT3sFI2mhMg, kFMhZYjbQ6r_K9yMCcG_ig...     5  ...   \n",
       "227  qvmL6mp-rpIwVguxb5HuvQ, uDgz8pNy--SQm6Ae3uRiFg...    23  ...   \n",
       "358  BwuWVhAbU8uOQzN37PlO0A, 6Mv-qMJyxSokCu8YFM1o0A...     2  ...   \n",
       "510  NMYtvhWWUuq8H3Jcu0ZF-w, hNJCY3goUx7opXmP5ioVBQ...     1  ...   \n",
       "396  2RtR1KrM1L85-KShwZ-9Kg, 4lacVJ97kY6Ofqibmx08AA...     5  ...   \n",
       "\n",
       "     compliment_more  compliment_profile  compliment_cute  compliment_list  \\\n",
       "456                0                   0                1                0   \n",
       "227                6                   4                1               12   \n",
       "358                2                   0                0                0   \n",
       "510                1                   0                0                0   \n",
       "396                2                   0                4                0   \n",
       "\n",
       "     compliment_note  compliment_plain  compliment_cool  compliment_funny  \\\n",
       "456                1                 1                3                 3   \n",
       "227               12                13               19                19   \n",
       "358                2                 4                1                 1   \n",
       "510                1                 1                0                 0   \n",
       "396                3                 6               10                10   \n",
       "\n",
       "     compliment_writer  compliment_photos  \n",
       "456                  0                  1  \n",
       "227                  8                  1  \n",
       "358                  0                  0  \n",
       "510                  0                  0  \n",
       "396                  1                  0  \n",
       "\n",
       "[5 rows x 22 columns]"
      ]
     },
     "metadata": {},
     "output_type": "display_data"
    },
    {
     "data": {
      "text/plain": [
       "user_id                object\n",
       "name                   object\n",
       "review_count            int64\n",
       "yelping_since          object\n",
       "useful                  int64\n",
       "funny                   int64\n",
       "cool                    int64\n",
       "elite                  object\n",
       "friends                object\n",
       "fans                    int64\n",
       "average_stars         float64\n",
       "compliment_hot          int64\n",
       "compliment_more         int64\n",
       "compliment_profile      int64\n",
       "compliment_cute         int64\n",
       "compliment_list         int64\n",
       "compliment_note         int64\n",
       "compliment_plain        int64\n",
       "compliment_cool         int64\n",
       "compliment_funny        int64\n",
       "compliment_writer       int64\n",
       "compliment_photos       int64\n",
       "dtype: object"
      ]
     },
     "metadata": {},
     "output_type": "display_data"
    },
    {
     "name": "stdout",
     "output_type": "stream",
     "text": [
      "\n"
     ]
    }
   ],
   "source": [
    "preview_dfs = {}\n",
    "for name in files:\n",
    "    print(f'PREVIEW {name}\\n=====================\\n')\n",
    "    preview_dfs[name] = preview_dataset(files[name])\n",
    "    print('')"
   ]
  },
  {
   "cell_type": "code",
   "execution_count": 6,
   "id": "de2c2d0e-d549-48a7-8dd1-9b0388a6d467",
   "metadata": {},
   "outputs": [
    {
     "data": {
      "text/plain": [
       "<Axes: xlabel='stars'>"
      ]
     },
     "execution_count": 6,
     "metadata": {},
     "output_type": "execute_result"
    },
    {
     "data": {
      "image/png": "[encoded data removed]",
      "text/plain": [
       "<Figure size 640x480 with 1 Axes>"
      ]
     },
     "metadata": {},
     "output_type": "display_data"
    }
   ],
   "source": [
    "preview_dfs['review']['stars'].value_counts().sort_index().plot.bar()"
   ]
  },
  {
   "cell_type": "code",
   "execution_count": 7,
   "id": "81e26b3b-98f3-4e3e-a3f4-c4f7a18e41ad",
   "metadata": {},
   "outputs": [
    {
     "data": {
      "text/plain": [
       "array(['Doctors, Traditional Chinese Medicine, Naturopathic/Holistic, Acupuncture, Health & Medical, Nutritionists',\n",
       "       'Shipping Centers, Local Services, Notaries, Mailbox Centers, Printing Services',\n",
       "       'Department Stores, Shopping, Fashion, Home & Garden, Electronics, Furniture Stores',\n",
       "       'Restaurants, Food, Bubble Tea, Coffee & Tea, Bakeries',\n",
       "       'Brewpubs, Breweries, Food',\n",
       "       'Burgers, Fast Food, Sandwiches, Food, Ice Cream & Frozen Yogurt, Restaurants',\n",
       "       'Sporting Goods, Fashion, Shoe Stores, Shopping, Sports Wear, Accessories',\n",
       "       'Synagogues, Religious Organizations',\n",
       "       'Pubs, Restaurants, Italian, Bars, American (Traditional), Nightlife, Greek',\n",
       "       'Ice Cream & Frozen Yogurt, Fast Food, Burgers, Restaurants, Food',\n",
       "       'Department Stores, Shopping, Fashion',\n",
       "       'Vietnamese, Food, Restaurants, Food Trucks',\n",
       "       'American (Traditional), Restaurants, Diners, Breakfast & Brunch',\n",
       "       'General Dentistry, Dentists, Health & Medical, Cosmetic Dentists',\n",
       "       'Food, Delis, Italian, Bakeries, Restaurants',\n",
       "       'Sushi Bars, Restaurants, Japanese',\n",
       "       'Automotive, Auto Parts & Supplies, Auto Customization',\n",
       "       'Vape Shops, Tobacco Shops, Personal Shopping, Vitamins & Supplements, Shopping',\n",
       "       'Automotive, Car Rental, Hotels & Travel, Truck Rental',\n",
       "       'Korean, Restaurants'], dtype=object)"
      ]
     },
     "execution_count": 7,
     "metadata": {},
     "output_type": "execute_result"
    }
   ],
   "source": [
    "preview_dfs['business']['categories'].unique()[0:20]"
   ]
  },
  {
   "cell_type": "code",
   "execution_count": 8,
   "id": "178702fa-eb79-43de-8c33-129f9aca634c",
   "metadata": {},
   "outputs": [
    {
     "name": "stdout",
     "output_type": "stream",
     "text": [
      "Note = 1:\n",
      "=========\n",
      "\n",
      "They have the WORST service advisors! Used to be good before Kelly and her team left. Unfortunately, it's convenient to work if I need oil change before I can make it to another Honda dealer.\n",
      "\n",
      "\n",
      "It is unfortunate that with such a unique location and such a brand and product offering this specific store offers such lousy service. The wait is endless, no one is available to help and at Christmas time getting a gift wrap is act of God that requires endless wait. I bought gifts and knew that the wait for wrapping would be long SO I even left my items at the store to be gift wrapped at their leisure. They were not even moved from the counter where I bought them when I returned almost two hours later ready for pick up. This was a gift that needed to be given and The staff COMPLETELY \"dropped the ball\" on my time constraints! \n",
      "\n",
      "I love their stuff, but today was my last shopping experience at this location: couldn't get a gift wrapped after being assured that it could be done in a timely fashion???  I'll  cancel my card, do everything online and try not to go there if I can. It's really a shame!\n",
      "\n",
      "\n",
      "Worst place I've ever visited. The bouncer was rude and he didn't have to be. This place thinks just cause your on broadway you can treat people bad and over charge. \n",
      " I'm not a tourist I live here and will never visit or recommend\n",
      "\n",
      "\n",
      "Only giving a 1 because there is nothing lower!!! Angie\n",
      "Gave me the worst haircut I've ever had!!! I came in with 2 photos of the cut I wanted came out with my hair looking NOTHING like the photos!!  Even when pointed out to her she didn't not pay attention to what she was doing.  Came out basically having a mans flattop!  Would never go to this place again!!! Nothing like going into the Holidays with a crappie haircut. Thank you!! Angie and Regis Hair salon!!\n",
      "\n",
      "\n",
      "Note = 2:\n",
      "=========\n",
      "\n",
      "We arrived for lunch at 12p on a Friday - wasn't busy at all. It took FOREVER to get anything. We were really pleasant and kind but we had to complain several times to get any beverages that we ordered. It took them 40 minutes to let us know that a beer we ordered was no longer available. The food was great, but not worth the lengthy wait and slow service.\n",
      "\n",
      "\n",
      "This use to be a reliable place for sandwiches but the last two were not good at all.  Cheesesteak was light on the meat.  There are so many good rolls to pick from in the Philly area but this roll was one of the worst and stale.\n",
      "\n",
      "Hopefully it was just an off night. I'll try again but not for awhile.\n",
      "\n",
      "\n",
      "Ordered Caramel frappe at Drive thru, BIG MISTAKE! Took 30 min and there were only 2 cars in front of me.\n",
      "\n",
      "\n",
      "We won't be back. We got the Brussel sprouts and they tasted like pure salt. Our server sent them back and we got another batch and they tasted exactly the same. My husband got the burger and it was okay but the fries that came with it tasted like pure salt also. Maybe the cook working this night was just a little heavy handed on the salt, I don't know. I got the flank steak and it was okay. I wouldn't rave about it or ever get it again. Our cocktails were good and the atmosphere was nice, but we were really disappointed with the food :(\n",
      "\n",
      "\n",
      "Note = 3:\n",
      "=========\n",
      "\n",
      "Honestly the food doesn't knock my socks off but other people seem to love this place. I go because my husband likes it as for me I'd rather go to a different BBQ spot. I guess it also depends on what you order.\n",
      "\n",
      "\n",
      "If not for the pretentious, haughty, superior attitude of our waiter, I would have given this place four stars or possibly more... Seriously. That kind of attitude is exactly why I left New York. We wanted to order a bottle of wine, asked for his suggestion, and he answers with, \"How much do you want to spend?\" Ummm... Excuse me? How about, \"I'm happy to make some recommendations. Let's find a price point you're comfortable with...\" He didn't smile ONCE during the meal service and also found it necessary to correct us on several points of preference. Snob. The food is GOOD. The only thing that was great was the blueberry lasagna. And it is superb. So was the chocolate confection for dessert. I'd say go. And I hope you don't get that waiter.\n",
      "\n",
      "\n",
      "Definitely get in line before 8:30am. We waited about 30 minutes. Pancakes were fine. My friends got the raspberry pancakes, the sweet potato pancakes and the san antonio. I got the sugar and spice pancakes. All were well and fine, a bit dry. I don't understand the hype, but if the line isn't too long it's not bad for normal breakfast food. If the line is longer I would highly recommend skipping this place and heading down the street to Fido - insanely good coffee and great breakfast food.\n",
      "\n",
      "\n",
      "It's really a run of the middle as far as Cuban food goes. Not bad but not great either. I work close by so I end up there for lunch quite a bit. It's definitely worth checking out for lunch as their specials change every day and prepared freshly.\n",
      "\n",
      "\n",
      "Note = 4:\n",
      "=========\n",
      "\n",
      "I love the concept of this place. One half of it a café that serves different types of coffees and teas, and breakfast type items, and the other world where it serves bar type apps, salads, and sandwiches,  Can't forget that they also serve a wide variety of beers that they serve on tap, bottled, or in can.  \n",
      "\n",
      "This place is pretty darn casual, and one can hang out here for hours with their friends.  Reminds me of the good ol' college days when no time could pass especially on a chill out Sunday Fun day.\n",
      "\n",
      "Bring your four legged friend too.  They are totally welcome.\n",
      "\n",
      "\n",
      "We had an alumni event here and I really enjoyed it. It's dimly lit, very cozy inside - it's decorated kind of like an old library. It was a great quiet,casual spot if you're looking for a low key place to have good drinks. \n",
      "\n",
      "They have a few beers and wines, but we focused mostly on the happy hour cocktails - moscow mules, old fashioneds, etc. Everyone loved theirs, no complaints!\n",
      "\n",
      "\n",
      "Few years ago this used to be the best. Wasnt that price they had a ton of stuff staff always helpful and friendly. I bough a part once it was faulty returned it they gave me my money back no question about it. Another time I bough a part I didnt need returned that too money in hand no question. Starting to go down now but still pretty decent place\n",
      "\n",
      "\n",
      "We ate at the bar on a Friday night, where the extremely charming bartender made us the best Manhattans I've ever had, using Carpano Antica Formula vermouth.  We ordered the lamb meatballs, which were okay, and the spring rolls, which were excellent. \n",
      "\n",
      "This is a perfect place to stop for a drink in the Quarter, if you need a nice civilized break.  The drinks were extremely expensive, but well worth it for the occasional night out.\n",
      "\n",
      "The manager, Eric, could not have been more professional and friendly.  We will definitely go back.\n",
      "\n",
      "\n",
      "Note = 5:\n",
      "=========\n",
      "\n",
      "We sat at a pretty hectic lunch at Johnny rockets in the casino. Our server was Lyndel! She was awesome! Helped us at every needy request lol... Good was good, too! I'm too full\n",
      "\n",
      "\n",
      "Great store. Insane selection. Incredible customer service.\n",
      "\n",
      "Wish they could come to Ft. McMurray. \n",
      "\n",
      ":(\n",
      "\n",
      "\n",
      "I really like Franzone's. The owner is typically around, super friendly, and seems to really care about the product. While I'm not a big fan of sweet sauce, they also do a decent cheesesteak, fries, etc. Honestly, they may have been closer to a 4 if not that it's always just a really pleasant experience going in, which boosts their rating for me.\n",
      "\n",
      "\n",
      "Truly, I cannot say enough good things about this tiny, authentic, perfectly delicious eatery!  Growing up in the panhandle of Texas, we had plenty of authentic Mexican food in our home, and I'm always searching for good Mexican restaurants. El Limon is the best I've ever had in the state of Pennsylvania!  Sopes, tostadas, enchiladas, fajitas, burritos, fish tacos....all excellent and sooooo reasonable!  Waitstaff is always pleasant and attentive.  Best two features: homemade tamales and free margaritas!!  Bring the entire family for an amazing Mexican feast!  Ole!\n",
      "\n",
      "\n"
     ]
    }
   ],
   "source": [
    "review = preview_dfs['review']\n",
    "for star in range(1,6):\n",
    "    print(f'Note = {star}:\\n=========\\n')\n",
    "    for index in review[review['stars']==star].sample(4, random_state=0).index:\n",
    "        stars, text = review.loc[index, ['stars', 'text']].values\n",
    "        print(f'{text}\\n\\n')"
   ]
  },
  {
   "cell_type": "code",
   "execution_count": 9,
   "id": "378a20bd-b411-437b-8d0e-26aa09155ad3",
   "metadata": {},
   "outputs": [
    {
     "data": {
      "text/plain": [
       "<Axes: xlabel='class'>"
      ]
     },
     "execution_count": 9,
     "metadata": {},
     "output_type": "execute_result"
    },
    {
     "data": {
      "image/png": "[encoded data removed]",
      "text/plain": [
       "<Figure size 640x480 with 1 Axes>"
      ]
     },
     "metadata": {},
     "output_type": "display_data"
    }
   ],
   "source": [
    "preview_dfs['review']['class'] = preview_dfs['review']['stars'] > 3\n",
    "preview_dfs['review']['class'].value_counts().sort_index().plot.bar()"
   ]
  },
  {
   "cell_type": "markdown",
   "id": "e24e55e2-8915-49c5-9a40-4caae8829701",
   "metadata": {},
   "source": [
    "# EXTRACTION GOOD/BAD REVIEWS DES RESTAURANTS"
   ]
  },
  {
   "cell_type": "markdown",
   "id": "a457a513-3b99-4954-b821-a656187625d8",
   "metadata": {},
   "source": [
    "## CATEGORIES DE BUSINESS"
   ]
  },
  {
   "cell_type": "code",
   "execution_count": 10,
   "id": "a8944ed4-2277-44de-bdb6-e469e03b8ced",
   "metadata": {},
   "outputs": [
    {
     "data": {
      "text/plain": [
       "65046    [Nurseries & Gardening, Home Services, Lawn Se...\n",
       "58888    [Automotive, Auto Repair, Body Shops, Auto Det...\n",
       "95459                    [Burgers, Restaurants, Fast Food]\n",
       "77103    [Seafood Markets, Food, Restaurants, Seafood, ...\n",
       "33572    [Flooring, Home Services, Carpet Installation,...\n",
       "Name: _cats, dtype: object"
      ]
     },
     "execution_count": 10,
     "metadata": {},
     "output_type": "execute_result"
    }
   ],
   "source": [
    "business = pd.read_json(ORIGINAL_DATASET_DIR + PREFIX_YELP + 'business.json', lines=True)\n",
    "business['_cats'] = business['categories'].apply(lambda x: [cat.strip() for cat in x.split(',')] if x else [])\n",
    "business['_cats'].sample(5)"
   ]
  },
  {
   "cell_type": "code",
   "execution_count": 11,
   "id": "c62037b7-610f-4f87-805b-231eceac1847",
   "metadata": {},
   "outputs": [],
   "source": [
    "categories = set()\n",
    "for index in business.index:\n",
    "    categories.update(business.loc[index, '_cats'])"
   ]
  },
  {
   "cell_type": "code",
   "execution_count": 12,
   "id": "c6fb55f7-93a8-49ef-9557-9a5bb862eccb",
   "metadata": {},
   "outputs": [
    {
     "data": {
      "text/plain": [
       "['Pop-Up Restaurants', 'Restaurants', 'Restaurant Supplies']"
      ]
     },
     "execution_count": 12,
     "metadata": {},
     "output_type": "execute_result"
    }
   ],
   "source": [
    "[categorie for categorie in categories if 'restaurant' in categorie.lower()]"
   ]
  },
  {
   "cell_type": "code",
   "execution_count": 13,
   "id": "5addd077-8d19-404a-a889-ab55b5b8ca1f",
   "metadata": {},
   "outputs": [
    {
     "data": {
      "text/plain": [
       "['Food Banks',\n",
       " 'Ethnic Food',\n",
       " 'Specialty Food',\n",
       " 'Food Stands',\n",
       " 'Do-It-Yourself Food',\n",
       " 'Food Delivery Services',\n",
       " 'Food Tours',\n",
       " 'Imported Food',\n",
       " 'Seafood Markets',\n",
       " 'Seafood',\n",
       " 'Food',\n",
       " 'Food Trucks',\n",
       " 'Soul Food',\n",
       " 'Food Court',\n",
       " 'Fast Food',\n",
       " 'Comfort Food',\n",
       " 'Live/Raw Food']"
      ]
     },
     "execution_count": 13,
     "metadata": {},
     "output_type": "execute_result"
    }
   ],
   "source": [
    "[categorie for categorie in categories if 'food' in categorie.lower()]"
   ]
  },
  {
   "cell_type": "markdown",
   "id": "0575a828-cc20-42e4-bccc-8ab0284edb00",
   "metadata": {},
   "source": [
    "## REDUCTION DU DATAFRAME REVIEW ET SAUVEGARDE"
   ]
  },
  {
   "cell_type": "markdown",
   "id": "b5a7103c-4b23-440b-80d1-465de7c90400",
   "metadata": {},
   "source": [
    "- par chunk de 100000\n",
    "- Filtrage des reviews sur categorie \"restaurants\"\n",
    "- Séparation en bad/good reviews (bad <= stars = 3 < good)\n",
    "- Ne garder que text et séparer en 2 fichiers good/bad news"
   ]
  },
  {
   "cell_type": "code",
   "execution_count": 14,
   "id": "708caef0-50d3-45c1-977b-b55583db4d59",
   "metadata": {},
   "outputs": [
    {
     "data": {
      "text/plain": [
       "['MTSW4McQd7CbVtyjqoe9mw',\n",
       " 'CF33F8-E6oudUQ46HnavjQ',\n",
       " 'k0hlBqXX-Bt0vf1op7Jr1w',\n",
       " 'bBDDEgkFA1Otx9Lfe7BZUQ',\n",
       " 'eEOYSgkmpB90uNA7lDOMRA',\n",
       " 'il_Ro8jwPlHresjw9EGmBg',\n",
       " '0bPLkL0QhhPO5kt1_EXmNQ',\n",
       " 'MUTTqe8uqyMdBl186RmNeA',\n",
       " 'ROeacJQwBeh05Rqg7F6TCg',\n",
       " 'WKMJwqnfZKsAae75RMP6jA']"
      ]
     },
     "execution_count": 14,
     "metadata": {},
     "output_type": "execute_result"
    }
   ],
   "source": [
    "restaurants_ids = business[~business['categories'].isna() & business['categories'].str.contains('Restaurants')]['business_id'].to_list()\n",
    "restaurants_ids[0:10]"
   ]
  },
  {
   "cell_type": "code",
   "execution_count": 15,
   "id": "8fae5d1f-a1ea-4c83-9340-2f32b3b14ddf",
   "metadata": {},
   "outputs": [],
   "source": [
    "append = False\n",
    "good_reviews_file = WORK_DATASET_DIR + 'good_reviews.parquet'\n",
    "bad_reviews_file = WORK_DATASET_DIR + 'bad_reviews.parquet'\n",
    "\n",
    "if EXTRACT_PARQUET:\n",
    "    for chunk in pd.read_json(ORIGINAL_DATASET_DIR + PREFIX_YELP + 'review.json', lines=True, chunksize=100000):\n",
    "        restaurant_reviews = chunk[chunk['business_id'].isin(restaurants_ids)].copy()\n",
    "        restaurant_reviews['class'] = restaurant_reviews['stars'] > 3\n",
    "        restaurant_reviews = restaurant_reviews.loc[:, ['text', 'class']]\n",
    "    \n",
    "        good_reviews = pd.DataFrame(restaurant_reviews[restaurant_reviews['class'] == True]['text'])\n",
    "        bad_reviews = pd.DataFrame(restaurant_reviews[restaurant_reviews['class'] == False]['text'])\n",
    "    \n",
    "        good_reviews.to_parquet(good_reviews_file, engine='fastparquet', append=append)\n",
    "        bad_reviews.to_parquet(bad_reviews_file, engine='fastparquet', append=append)\n",
    "        append = True"
   ]
  },
  {
   "cell_type": "markdown",
   "id": "e9f1e498-b092-42f8-889d-5385784dc3fa",
   "metadata": {},
   "source": [
    "# TOKENIZATION ET ANALYSE DES BAD REVIEWS "
   ]
  },
  {
   "cell_type": "code",
   "execution_count": 26,
   "id": "2ade22fe-2b94-41b7-99a0-0cde98dbe3ff",
   "metadata": {},
   "outputs": [],
   "source": [
    "def treat_reviews(reviews_file, min_words_frequency = 4):\n",
    "\n",
    "    # load dataframe and display head\n",
    "    reviews = pd.read_parquet(reviews_file)\n",
    "    display(reviews.head())\n",
    "\n",
    "    # Initialize paralellize and sampling\n",
    "    pandarallel.initialize(progress_bar=True)\n",
    "    if SAMPLING_SIZE:\n",
    "        reviews = reviews.sample(SAMPLING_SIZE, random_state=0)\n",
    "    \n",
    "    # Preprocess (tokenize, lower, lemmatization)\n",
    "    reviews['tokens'] = reviews['text'].parallel_apply(preprocess_text)\n",
    "    reviews.drop(columns=['text'], inplace=True)\n",
    "    \n",
    "    # Remove words by frequency\n",
    "    words_to_drop, nb_tokens = get_words_max_frequency(reviews, min_words_frequency - 1)\n",
    "    reviews['tokens'] = reviews['tokens'].parallel_apply(drop_words, args=(words_to_drop,))\n",
    "\n",
    "    # View result sample\n",
    "    display(reviews.sample(5))\n",
    "\n",
    "    # Calc and view text lengths\n",
    "    reviews['text_len'] = reviews['tokens'].str.join(' ').str.len()\n",
    "    reviews.boxplot(column='text_len', showfliers=True)\n",
    "\n",
    "    total_text_len = reviews['text_len'].sum()\n",
    "\n",
    "    print(f'Nombre de tokens dans le dataframe: {nb_tokens}')\n",
    "    print(f'Longeur total du texte dans le dataframe: {total_text_len}')\n",
    "    print('')\n",
    "\n",
    "    # Visualisation Word clound on sample\n",
    "    sample_text = ' '.join(reviews.sample(SAMPLING_SIZE, random_state=0)['tokens'].str.join(' ').values)\n",
    "    word_cloud(text=sample_text)"
   ]
  },
  {
   "cell_type": "code",
   "execution_count": 30,
   "id": "347b46d5-ed95-499a-ab9c-c8adb2897a1c",
   "metadata": {},
   "outputs": [
    {
     "data": {
      "text/html": [
       "<div>\n",
       "<style scoped>\n",
       "    .dataframe tbody tr th:only-of-type {\n",
       "        vertical-align: middle;\n",
       "    }\n",
       "\n",
       "    .dataframe tbody tr th {\n",
       "        vertical-align: top;\n",
       "    }\n",
       "\n",
       "    .dataframe thead th {\n",
       "        text-align: right;\n",
       "    }\n",
       "</style>\n",
       "<table border=\"1\" class=\"dataframe\">\n",
       "  <thead>\n",
       "    <tr style=\"text-align: right;\">\n",
       "      <th></th>\n",
       "      <th>text</th>\n",
       "    </tr>\n",
       "    <tr>\n",
       "      <th>index</th>\n",
       "      <th></th>\n",
       "    </tr>\n",
       "  </thead>\n",
       "  <tbody>\n",
       "    <tr>\n",
       "      <th>0</th>\n",
       "      <td>If you decide to eat here, just be aware it is...</td>\n",
       "    </tr>\n",
       "    <tr>\n",
       "      <th>2</th>\n",
       "      <td>Family diner. Had the buffet. Eclectic assortm...</td>\n",
       "    </tr>\n",
       "    <tr>\n",
       "      <th>5</th>\n",
       "      <td>I am a long term frequent customer of this est...</td>\n",
       "    </tr>\n",
       "    <tr>\n",
       "      <th>9</th>\n",
       "      <td>Had a party of 6 here for hibachi. Our waitres...</td>\n",
       "    </tr>\n",
       "    <tr>\n",
       "      <th>21</th>\n",
       "      <td>Upland is a brewery based out of Bloomington, ...</td>\n",
       "    </tr>\n",
       "  </tbody>\n",
       "</table>\n",
       "</div>"
      ],
      "text/plain": [
       "                                                    text\n",
       "index                                                   \n",
       "0      If you decide to eat here, just be aware it is...\n",
       "2      Family diner. Had the buffet. Eclectic assortm...\n",
       "5      I am a long term frequent customer of this est...\n",
       "9      Had a party of 6 here for hibachi. Our waitres...\n",
       "21     Upland is a brewery based out of Bloomington, ..."
      ]
     },
     "metadata": {},
     "output_type": "display_data"
    },
    {
     "name": "stdout",
     "output_type": "stream",
     "text": [
      "INFO: Pandarallel will run on 2 workers.\n",
      "INFO: Pandarallel will use standard multiprocessing data transfer (pipe) to transfer data between the main process and workers.\n",
      "\n",
      "WARNING: You are on Windows. If you detect any issue with pandarallel, be sure you checked out the Troubleshooting page:\n",
      "https://nalepae.github.io/pandarallel/troubleshooting/\n"
     ]
    },
    {
     "data": {
      "application/vnd.jupyter.widget-view+json": {
       "model_id": "3bf233fe3eb94679a5294fe0b0322341",
       "version_major": 2,
       "version_minor": 0
      },
      "text/plain": [
       "VBox(children=(HBox(children=(IntProgress(value=0, description='0.00%', max=500), Label(value='0 / 500'))), HB…"
      ]
     },
     "metadata": {},
     "output_type": "display_data"
    },
    {
     "data": {
      "application/vnd.jupyter.widget-view+json": {
       "model_id": "62c68df1f46c4328b85755accdb64b2e",
       "version_major": 2,
       "version_minor": 0
      },
      "text/plain": [
       "VBox(children=(HBox(children=(IntProgress(value=0, description='0.00%', max=500), Label(value='0 / 500'))), HB…"
      ]
     },
     "metadata": {},
     "output_type": "display_data"
    },
    {
     "data": {
      "text/html": [
       "<div>\n",
       "<style scoped>\n",
       "    .dataframe tbody tr th:only-of-type {\n",
       "        vertical-align: middle;\n",
       "    }\n",
       "\n",
       "    .dataframe tbody tr th {\n",
       "        vertical-align: top;\n",
       "    }\n",
       "\n",
       "    .dataframe thead th {\n",
       "        text-align: right;\n",
       "    }\n",
       "</style>\n",
       "<table border=\"1\" class=\"dataframe\">\n",
       "  <thead>\n",
       "    <tr style=\"text-align: right;\">\n",
       "      <th></th>\n",
       "      <th>tokens</th>\n",
       "    </tr>\n",
       "    <tr>\n",
       "      <th>index</th>\n",
       "      <th></th>\n",
       "    </tr>\n",
       "  </thead>\n",
       "  <tbody>\n",
       "    <tr>\n",
       "      <th>3199178</th>\n",
       "      <td>[boyfriend, come, day, read, lot, review, yelp...</td>\n",
       "    </tr>\n",
       "    <tr>\n",
       "      <th>1902719</th>\n",
       "      <td>[one, bad, experience, restaurant, one, waitre...</td>\n",
       "    </tr>\n",
       "    <tr>\n",
       "      <th>5691249</th>\n",
       "      <td>[good, solid, staff, high, within, 3, 4, visit...</td>\n",
       "    </tr>\n",
       "    <tr>\n",
       "      <th>1187580</th>\n",
       "      <td>[yesterday, daughter, stop, honest, expensive,...</td>\n",
       "    </tr>\n",
       "    <tr>\n",
       "      <th>1105989</th>\n",
       "      <td>[sorry, miss, eat, dinner, come, like, late, a...</td>\n",
       "    </tr>\n",
       "  </tbody>\n",
       "</table>\n",
       "</div>"
      ],
      "text/plain": [
       "                                                    tokens\n",
       "index                                                     \n",
       "3199178  [boyfriend, come, day, read, lot, review, yelp...\n",
       "1902719  [one, bad, experience, restaurant, one, waitre...\n",
       "5691249  [good, solid, staff, high, within, 3, 4, visit...\n",
       "1187580  [yesterday, daughter, stop, honest, expensive,...\n",
       "1105989  [sorry, miss, eat, dinner, come, like, late, a..."
      ]
     },
     "metadata": {},
     "output_type": "display_data"
    },
    {
     "name": "stdout",
     "output_type": "stream",
     "text": [
      "Nombre de tokens dans le dataframe: 1683\n",
      "Longeur total du texte dans le dataframe: 324980\n",
      "\n"
     ]
    },
    {
     "data": {
      "image/png": "[encoded data removed]",
      "text/plain": [
       "<Figure size 640x480 with 1 Axes>"
      ]
     },
     "metadata": {},
     "output_type": "display_data"
    }
   ],
   "source": [
    "treat_reviews(bad_reviews_file, 5)"
   ]
  },
  {
   "cell_type": "code",
   "execution_count": null,
   "id": "569cded3-5cda-45d4-ba88-8b60d3b04d81",
   "metadata": {},
   "outputs": [],
   "source": []
  }
 ],
 "metadata": {
  "kernelspec": {
   "display_name": "Python 3 (ipykernel)",
   "language": "python",
   "name": "python3"
  },
  "language_info": {
   "codemirror_mode": {
    "name": "ipython",
    "version": 3
   },
   "file_extension": ".py",
   "mimetype": "text/x-python",
   "name": "python",
   "nbconvert_exporter": "python",
   "pygments_lexer": "ipython3",
   "version": "3.10.11"
  }
 },
 "nbformat": 4,
 "nbformat_minor": 5
}
