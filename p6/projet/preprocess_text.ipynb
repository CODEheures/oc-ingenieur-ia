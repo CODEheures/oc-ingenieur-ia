{
 "cells": [
  {
   "cell_type": "markdown",
   "id": "2117bb47-ddbf-49ba-a023-30ac88dee29b",
   "metadata": {},
   "source": [
    "# IMPORTS"
   ]
  },
  {
   "cell_type": "code",
   "execution_count": 7,
   "id": "be8c0797-df7f-4d69-8a57-e59ed791b9b3",
   "metadata": {},
   "outputs": [],
   "source": [
    "import pandas as pd\n",
    "import os\n",
    "from tabulate import tabulate\n",
    "from pandarallel import pandarallel\n",
    "from wordcloud import WordCloud\n",
    "import matplotlib.pyplot as plt"
   ]
  },
  {
   "cell_type": "markdown",
   "id": "4991b4a3-523e-4a10-a0e4-d233aef81941",
   "metadata": {},
   "source": [
    "# CONFIGURATION"
   ]
  },
  {
   "cell_type": "code",
   "execution_count": 8,
   "id": "8334fe1b-0eb8-4878-99bd-d130fe5afa1c",
   "metadata": {},
   "outputs": [],
   "source": [
    "# PREVIEW PHASE\n",
    "PREVIEW_SIZE = 1000\n",
    "\n",
    "# EXTRACT PHASE\n",
    "CHUNK_SIZE = 100000\n",
    "EXTRACT_PARQUET = False\n",
    "\n",
    "# ANALYSE PHASE\n",
    "SAMPLING_SIZE = 1000\n",
    "\n",
    "ORIGINAL_DATASET_DIR = 'data/original/yelp_dataset/'\n",
    "WORK_DATASET_DIR = 'data/work/yelp_dataset/'\n",
    "PREFIX_YELP = 'yelp_academic_dataset_'"
   ]
  },
  {
   "cell_type": "markdown",
   "id": "689c5dc8-faae-4b53-874a-59bcdc519aab",
   "metadata": {},
   "source": [
    "# FONCTIONS"
   ]
  },
  {
   "cell_type": "code",
   "execution_count": 9,
   "id": "b0ec643f-6a21-4f0f-9717-8855ab4b5ef9",
   "metadata": {},
   "outputs": [],
   "source": [
    "def list_files(dir, extension='json', print_result = True):\n",
    "    paths = {(file.split('.')[0]).split(PREFIX_YELP)[1]: dir + file for file in os.listdir(dir) if file.endswith('.' + extension)}\n",
    "    if print_result:\n",
    "        files = [[os.path.basename(paths[name]), file_size(paths[name])] for name in paths]\n",
    "        print(tabulate(files, headers=['Name', 'Size']))\n",
    "    return paths\n",
    "\n",
    "def file_size(path, unit='Gb', precision=2, only_value = False):\n",
    "    exp = 3\n",
    "    if (unit=='ko'):\n",
    "        exp = 1\n",
    "    elif (unit == 'Mb'):\n",
    "        exp = 2\n",
    "    else:\n",
    "        exp = 3\n",
    "        unit = 'Gb'\n",
    "\n",
    "    value = round((os.path.getsize(path)/(1024**exp)), precision)\n",
    "    if only_value:\n",
    "        return value\n",
    "    else:\n",
    "        return str(value) + unit\n",
    "\n",
    "def preview_dataset(path):\n",
    "    df = pd.read_json(path, lines=True, nrows=PREVIEW_SIZE)\n",
    "    display(df.sample(5))\n",
    "    display(df.dtypes)\n",
    "\n",
    "    return df\n",
    "\n",
    "def get_words_max_frequency(reviews: pd.DataFrame, max_frequency = 1):\n",
    "    words = {}\n",
    "    for index in reviews.index:\n",
    "        for token in reviews.loc[index, 'tokens']:\n",
    "            if not token in words:\n",
    "                words[token] = 1\n",
    "            else:\n",
    "                words[token] = words[token] + 1\n",
    "    under = [token for token, count in words.items() if count <= max_frequency]\n",
    "    upper = [token for token, count in words.items() if count > max_frequency]\n",
    "    \n",
    "    return [token for token, count in words.items() if count <= max_frequency], len(upper)      \n",
    "\n",
    "def drop_words(tokens, words):\n",
    "    return [token for token in tokens if token not in words]\n",
    "\n",
    "def preprocess_text(text):\n",
    "    from nltk import RegexpTokenizer\n",
    "    from nltk.corpus import stopwords\n",
    "    from nltk.stem import WordNetLemmatizer\n",
    "\n",
    "    # normalization\n",
    "    text = text.lower()\n",
    "\n",
    "    # Tokenization\n",
    "    tokenizer = RegexpTokenizer(r'\\w+')\n",
    "    tokens = tokenizer.tokenize(text)\n",
    "\n",
    "    # Stops Words\n",
    "    stops = stopwords.words('english')\n",
    "    tokens = [token for token in tokens if not token in stops]\n",
    "\n",
    "    # Lematization\n",
    "    lemmatizer = WordNetLemmatizer()\n",
    "    tokens = [lemmatizer.lemmatize(word, pos='a') for word in tokens]\n",
    "    tokens = [lemmatizer.lemmatize(word, pos='v') for word in tokens]\n",
    "    tokens = [lemmatizer.lemmatize(word, pos='n') for word in tokens]\n",
    "\n",
    "    return tokens\n",
    "\n",
    "def word_cloud(text):\n",
    "    wordcloud = WordCloud(background_color = 'white', max_words = 50).generate(text)\n",
    "    plt.imshow(wordcloud)\n",
    "    plt.axis(\"off\")\n",
    "    plt.show();"
   ]
  },
  {
   "cell_type": "markdown",
   "id": "44e8de37-f22d-4c52-814b-7916dd8cf6ce",
   "metadata": {},
   "source": [
    "# PREVISUALISATION DES DATASETS"
   ]
  },
  {
   "cell_type": "code",
   "execution_count": 10,
   "id": "868ec081-dafc-4650-b1c4-b78fee9bf9f0",
   "metadata": {},
   "outputs": [
    {
     "name": "stdout",
     "output_type": "stream",
     "text": [
      "Name                                 Size\n",
      "-----------------------------------  ------\n",
      "yelp_academic_dataset_business.json  0.11Gb\n",
      "yelp_academic_dataset_checkin.json   0.27Gb\n",
      "yelp_academic_dataset_review.json    4.98Gb\n",
      "yelp_academic_dataset_tip.json       0.17Gb\n",
      "yelp_academic_dataset_user.json      3.13Gb\n"
     ]
    },
    {
     "data": {
      "text/plain": [
       "{'business': 'data/original/yelp_dataset/yelp_academic_dataset_business.json',\n",
       " 'checkin': 'data/original/yelp_dataset/yelp_academic_dataset_checkin.json',\n",
       " 'review': 'data/original/yelp_dataset/yelp_academic_dataset_review.json',\n",
       " 'tip': 'data/original/yelp_dataset/yelp_academic_dataset_tip.json',\n",
       " 'user': 'data/original/yelp_dataset/yelp_academic_dataset_user.json'}"
      ]
     },
     "execution_count": 10,
     "metadata": {},
     "output_type": "execute_result"
    }
   ],
   "source": [
    "files = list_files(ORIGINAL_DATASET_DIR)\n",
    "files"
   ]
  },
  {
   "cell_type": "code",
   "execution_count": 11,
   "id": "f17c3ede-0013-42b4-a7b8-57ccaabd1bde",
   "metadata": {},
   "outputs": [
    {
     "name": "stdout",
     "output_type": "stream",
     "text": [
      "PREVIEW business\n",
      "=====================\n",
      "\n"
     ]
    },
    {
     "data": {
      "text/html": [
       "<div>\n",
       "<style scoped>\n",
       "    .dataframe tbody tr th:only-of-type {\n",
       "        vertical-align: middle;\n",
       "    }\n",
       "\n",
       "    .dataframe tbody tr th {\n",
       "        vertical-align: top;\n",
       "    }\n",
       "\n",
       "    .dataframe thead th {\n",
       "        text-align: right;\n",
       "    }\n",
       "</style>\n",
       "<table border=\"1\" class=\"dataframe\">\n",
       "  <thead>\n",
       "    <tr style=\"text-align: right;\">\n",
       "      <th></th>\n",
       "      <th>business_id</th>\n",
       "      <th>name</th>\n",
       "      <th>address</th>\n",
       "      <th>city</th>\n",
       "      <th>state</th>\n",
       "      <th>postal_code</th>\n",
       "      <th>latitude</th>\n",
       "      <th>longitude</th>\n",
       "      <th>stars</th>\n",
       "      <th>review_count</th>\n",
       "      <th>is_open</th>\n",
       "      <th>attributes</th>\n",
       "      <th>categories</th>\n",
       "      <th>hours</th>\n",
       "    </tr>\n",
       "  </thead>\n",
       "  <tbody>\n",
       "    <tr>\n",
       "      <th>771</th>\n",
       "      <td>sWCCxY1-9B1FGlSVeQvnHg</td>\n",
       "      <td>CD Roma Restaurant</td>\n",
       "      <td>1462 66th St N</td>\n",
       "      <td>St Petersburg</td>\n",
       "      <td>FL</td>\n",
       "      <td>33710</td>\n",
       "      <td>27.785489</td>\n",
       "      <td>-82.730295</td>\n",
       "      <td>4.0</td>\n",
       "      <td>125</td>\n",
       "      <td>1</td>\n",
       "      <td>{'RestaurantsDelivery': 'True', 'WiFi': 'u'fre...</td>\n",
       "      <td>Restaurants, Wine Bars, Italian, Food, Sandwic...</td>\n",
       "      <td>{'Monday': '0:0-0:0', 'Tuesday': '11:0-21:0', ...</td>\n",
       "    </tr>\n",
       "    <tr>\n",
       "      <th>478</th>\n",
       "      <td>fCRGXD-TTLgNhaC4mVFFJQ</td>\n",
       "      <td>El Con Health &amp; Wellness Center</td>\n",
       "      <td>3402 E Broadway Blvd</td>\n",
       "      <td>Tucson</td>\n",
       "      <td>AZ</td>\n",
       "      <td>85716</td>\n",
       "      <td>32.221262</td>\n",
       "      <td>-110.920068</td>\n",
       "      <td>4.5</td>\n",
       "      <td>18</td>\n",
       "      <td>1</td>\n",
       "      <td>{'AcceptsInsurance': 'True', 'WheelchairAccess...</td>\n",
       "      <td>Beauty &amp; Spas, Nutritionists, Medical Spas, La...</td>\n",
       "      <td>{'Tuesday': '8:0-17:0', 'Wednesday': '8:0-17:0...</td>\n",
       "    </tr>\n",
       "    <tr>\n",
       "      <th>74</th>\n",
       "      <td>9Rww8yE6Dm4dSMEq09nwXg</td>\n",
       "      <td>Holly Nails &amp; Spa</td>\n",
       "      <td>9101 Belcher Rd</td>\n",
       "      <td>Pinellas Park</td>\n",
       "      <td>FL</td>\n",
       "      <td>33782</td>\n",
       "      <td>27.855347</td>\n",
       "      <td>-82.736308</td>\n",
       "      <td>4.5</td>\n",
       "      <td>16</td>\n",
       "      <td>1</td>\n",
       "      <td>{'BusinessAcceptsCreditCards': 'True', 'BikePa...</td>\n",
       "      <td>Health &amp; Medical, Personal Care Services, Beau...</td>\n",
       "      <td>{'Tuesday': '9:30-19:0', 'Wednesday': '9:30-19...</td>\n",
       "    </tr>\n",
       "    <tr>\n",
       "      <th>981</th>\n",
       "      <td>g7GCbnZC_HKO0ybNt7NXBw</td>\n",
       "      <td>Popeyes Louisiana Kitchen</td>\n",
       "      <td>443 Opry Mills Dr</td>\n",
       "      <td>Nashville</td>\n",
       "      <td>TN</td>\n",
       "      <td>37214</td>\n",
       "      <td>36.202427</td>\n",
       "      <td>-86.692898</td>\n",
       "      <td>1.0</td>\n",
       "      <td>6</td>\n",
       "      <td>1</td>\n",
       "      <td>{'RestaurantsDelivery': 'None', 'RestaurantsTa...</td>\n",
       "      <td>Chicken Wings, Fast Food, Restaurants</td>\n",
       "      <td>None</td>\n",
       "    </tr>\n",
       "    <tr>\n",
       "      <th>507</th>\n",
       "      <td>cvrIE1rLPWk-Nxb_ZNv5lA</td>\n",
       "      <td>Candlewood Suites Tucson</td>\n",
       "      <td>1995 W River Rd</td>\n",
       "      <td>Tucson</td>\n",
       "      <td>AZ</td>\n",
       "      <td>85704</td>\n",
       "      <td>32.303742</td>\n",
       "      <td>-111.009324</td>\n",
       "      <td>4.5</td>\n",
       "      <td>29</td>\n",
       "      <td>1</td>\n",
       "      <td>{'BusinessAcceptsCreditCards': 'True', 'WiFi':...</td>\n",
       "      <td>Party &amp; Event Planning, Event Planning &amp; Servi...</td>\n",
       "      <td>{'Monday': '0:0-0:0', 'Tuesday': '0:0-0:0', 'W...</td>\n",
       "    </tr>\n",
       "  </tbody>\n",
       "</table>\n",
       "</div>"
      ],
      "text/plain": [
       "                business_id                             name  \\\n",
       "771  sWCCxY1-9B1FGlSVeQvnHg               CD Roma Restaurant   \n",
       "478  fCRGXD-TTLgNhaC4mVFFJQ  El Con Health & Wellness Center   \n",
       "74   9Rww8yE6Dm4dSMEq09nwXg                Holly Nails & Spa   \n",
       "981  g7GCbnZC_HKO0ybNt7NXBw        Popeyes Louisiana Kitchen   \n",
       "507  cvrIE1rLPWk-Nxb_ZNv5lA         Candlewood Suites Tucson   \n",
       "\n",
       "                  address           city state postal_code   latitude  \\\n",
       "771        1462 66th St N  St Petersburg    FL       33710  27.785489   \n",
       "478  3402 E Broadway Blvd         Tucson    AZ       85716  32.221262   \n",
       "74        9101 Belcher Rd  Pinellas Park    FL       33782  27.855347   \n",
       "981     443 Opry Mills Dr      Nashville    TN       37214  36.202427   \n",
       "507       1995 W River Rd         Tucson    AZ       85704  32.303742   \n",
       "\n",
       "      longitude  stars  review_count  is_open  \\\n",
       "771  -82.730295    4.0           125        1   \n",
       "478 -110.920068    4.5            18        1   \n",
       "74   -82.736308    4.5            16        1   \n",
       "981  -86.692898    1.0             6        1   \n",
       "507 -111.009324    4.5            29        1   \n",
       "\n",
       "                                            attributes  \\\n",
       "771  {'RestaurantsDelivery': 'True', 'WiFi': 'u'fre...   \n",
       "478  {'AcceptsInsurance': 'True', 'WheelchairAccess...   \n",
       "74   {'BusinessAcceptsCreditCards': 'True', 'BikePa...   \n",
       "981  {'RestaurantsDelivery': 'None', 'RestaurantsTa...   \n",
       "507  {'BusinessAcceptsCreditCards': 'True', 'WiFi':...   \n",
       "\n",
       "                                            categories  \\\n",
       "771  Restaurants, Wine Bars, Italian, Food, Sandwic...   \n",
       "478  Beauty & Spas, Nutritionists, Medical Spas, La...   \n",
       "74   Health & Medical, Personal Care Services, Beau...   \n",
       "981              Chicken Wings, Fast Food, Restaurants   \n",
       "507  Party & Event Planning, Event Planning & Servi...   \n",
       "\n",
       "                                                 hours  \n",
       "771  {'Monday': '0:0-0:0', 'Tuesday': '11:0-21:0', ...  \n",
       "478  {'Tuesday': '8:0-17:0', 'Wednesday': '8:0-17:0...  \n",
       "74   {'Tuesday': '9:30-19:0', 'Wednesday': '9:30-19...  \n",
       "981                                               None  \n",
       "507  {'Monday': '0:0-0:0', 'Tuesday': '0:0-0:0', 'W...  "
      ]
     },
     "metadata": {},
     "output_type": "display_data"
    },
    {
     "data": {
      "text/plain": [
       "business_id      object\n",
       "name             object\n",
       "address          object\n",
       "city             object\n",
       "state            object\n",
       "postal_code      object\n",
       "latitude        float64\n",
       "longitude       float64\n",
       "stars           float64\n",
       "review_count      int64\n",
       "is_open           int64\n",
       "attributes       object\n",
       "categories       object\n",
       "hours            object\n",
       "dtype: object"
      ]
     },
     "metadata": {},
     "output_type": "display_data"
    },
    {
     "name": "stdout",
     "output_type": "stream",
     "text": [
      "\n",
      "PREVIEW checkin\n",
      "=====================\n",
      "\n"
     ]
    },
    {
     "data": {
      "text/html": [
       "<div>\n",
       "<style scoped>\n",
       "    .dataframe tbody tr th:only-of-type {\n",
       "        vertical-align: middle;\n",
       "    }\n",
       "\n",
       "    .dataframe tbody tr th {\n",
       "        vertical-align: top;\n",
       "    }\n",
       "\n",
       "    .dataframe thead th {\n",
       "        text-align: right;\n",
       "    }\n",
       "</style>\n",
       "<table border=\"1\" class=\"dataframe\">\n",
       "  <thead>\n",
       "    <tr style=\"text-align: right;\">\n",
       "      <th></th>\n",
       "      <th>business_id</th>\n",
       "      <th>date</th>\n",
       "    </tr>\n",
       "  </thead>\n",
       "  <tbody>\n",
       "    <tr>\n",
       "      <th>343</th>\n",
       "      <td>-99aS7t1izJrDtgSUyvoxg</td>\n",
       "      <td>2010-11-11 18:07:10, 2010-11-12 14:50:08, 2011...</td>\n",
       "    </tr>\n",
       "    <tr>\n",
       "      <th>719</th>\n",
       "      <td>-L3E_h6OUJ7kRW2EDMFESQ</td>\n",
       "      <td>2015-02-26 04:16:09, 2015-04-04 03:35:21, 2015...</td>\n",
       "    </tr>\n",
       "    <tr>\n",
       "      <th>873</th>\n",
       "      <td>-Q99xmgUqlJ38jdUNOiYLw</td>\n",
       "      <td>2011-05-15 01:10:34, 2011-05-22 04:44:37, 2011...</td>\n",
       "    </tr>\n",
       "    <tr>\n",
       "      <th>697</th>\n",
       "      <td>-KUu_Rl4UepNCIyWTJYbow</td>\n",
       "      <td>2014-02-06 23:40:16, 2014-03-25 16:28:21, 2014...</td>\n",
       "    </tr>\n",
       "    <tr>\n",
       "      <th>718</th>\n",
       "      <td>-KyQ_Bu21JNphNtxz-Jj-g</td>\n",
       "      <td>2010-06-25 19:03:58, 2010-07-18 00:20:26, 2010...</td>\n",
       "    </tr>\n",
       "  </tbody>\n",
       "</table>\n",
       "</div>"
      ],
      "text/plain": [
       "                business_id                                               date\n",
       "343  -99aS7t1izJrDtgSUyvoxg  2010-11-11 18:07:10, 2010-11-12 14:50:08, 2011...\n",
       "719  -L3E_h6OUJ7kRW2EDMFESQ  2015-02-26 04:16:09, 2015-04-04 03:35:21, 2015...\n",
       "873  -Q99xmgUqlJ38jdUNOiYLw  2011-05-15 01:10:34, 2011-05-22 04:44:37, 2011...\n",
       "697  -KUu_Rl4UepNCIyWTJYbow  2014-02-06 23:40:16, 2014-03-25 16:28:21, 2014...\n",
       "718  -KyQ_Bu21JNphNtxz-Jj-g  2010-06-25 19:03:58, 2010-07-18 00:20:26, 2010..."
      ]
     },
     "metadata": {},
     "output_type": "display_data"
    },
    {
     "data": {
      "text/plain": [
       "business_id    object\n",
       "date           object\n",
       "dtype: object"
      ]
     },
     "metadata": {},
     "output_type": "display_data"
    },
    {
     "name": "stdout",
     "output_type": "stream",
     "text": [
      "\n",
      "PREVIEW review\n",
      "=====================\n",
      "\n"
     ]
    },
    {
     "data": {
      "text/html": [
       "<div>\n",
       "<style scoped>\n",
       "    .dataframe tbody tr th:only-of-type {\n",
       "        vertical-align: middle;\n",
       "    }\n",
       "\n",
       "    .dataframe tbody tr th {\n",
       "        vertical-align: top;\n",
       "    }\n",
       "\n",
       "    .dataframe thead th {\n",
       "        text-align: right;\n",
       "    }\n",
       "</style>\n",
       "<table border=\"1\" class=\"dataframe\">\n",
       "  <thead>\n",
       "    <tr style=\"text-align: right;\">\n",
       "      <th></th>\n",
       "      <th>review_id</th>\n",
       "      <th>user_id</th>\n",
       "      <th>business_id</th>\n",
       "      <th>stars</th>\n",
       "      <th>useful</th>\n",
       "      <th>funny</th>\n",
       "      <th>cool</th>\n",
       "      <th>text</th>\n",
       "      <th>date</th>\n",
       "    </tr>\n",
       "  </thead>\n",
       "  <tbody>\n",
       "    <tr>\n",
       "      <th>483</th>\n",
       "      <td>e_f_4_U6Hlr0znVQfUbzEg</td>\n",
       "      <td>6mnrwzi5HM-WMUfXL7EYgg</td>\n",
       "      <td>cdqTpsr110wSNPMtLCPh7A</td>\n",
       "      <td>5</td>\n",
       "      <td>0</td>\n",
       "      <td>1</td>\n",
       "      <td>0</td>\n",
       "      <td>SRS is truly an exceptional management company...</td>\n",
       "      <td>2016-11-22 03:53:44</td>\n",
       "    </tr>\n",
       "    <tr>\n",
       "      <th>230</th>\n",
       "      <td>lt-tsizQin_wNCkQv71YPQ</td>\n",
       "      <td>qWSAH4MzFbHV6UsseJVlZg</td>\n",
       "      <td>dUctvEfHQccW_uxtRup2QQ</td>\n",
       "      <td>1</td>\n",
       "      <td>0</td>\n",
       "      <td>0</td>\n",
       "      <td>0</td>\n",
       "      <td>I had a horrible experience here. The waiter w...</td>\n",
       "      <td>2015-12-20 20:36:40</td>\n",
       "    </tr>\n",
       "    <tr>\n",
       "      <th>624</th>\n",
       "      <td>Rzxws4o77wDp3dGw7Y1V0A</td>\n",
       "      <td>_kcHxYPXRYjU4hk2xtCO0w</td>\n",
       "      <td>jtsckI_01hlbGLpEFwJu0A</td>\n",
       "      <td>5</td>\n",
       "      <td>5</td>\n",
       "      <td>1</td>\n",
       "      <td>2</td>\n",
       "      <td>We came here for an early mothers day celebrat...</td>\n",
       "      <td>2015-06-09 16:39:35</td>\n",
       "    </tr>\n",
       "    <tr>\n",
       "      <th>33</th>\n",
       "      <td>xdQe2E8jR6pLA07p1aYtKA</td>\n",
       "      <td>yFuE8SPF-d1GXJUWYgKtzg</td>\n",
       "      <td>X8lfGPagfLzfOsx0k08NRQ</td>\n",
       "      <td>5</td>\n",
       "      <td>0</td>\n",
       "      <td>0</td>\n",
       "      <td>0</td>\n",
       "      <td>Took my vehicle here for some work a few years...</td>\n",
       "      <td>2017-05-13 14:15:29</td>\n",
       "    </tr>\n",
       "    <tr>\n",
       "      <th>140</th>\n",
       "      <td>27CYrDqJIUjbOLNeKTfjDg</td>\n",
       "      <td>k3Q0ZcVuMdvA_9iDcSDWIA</td>\n",
       "      <td>pym7c6ZFEtmoH16xN2ApBg</td>\n",
       "      <td>4</td>\n",
       "      <td>0</td>\n",
       "      <td>0</td>\n",
       "      <td>0</td>\n",
       "      <td>It seems to me that whenever we have out of to...</td>\n",
       "      <td>2016-06-22 20:10:18</td>\n",
       "    </tr>\n",
       "  </tbody>\n",
       "</table>\n",
       "</div>"
      ],
      "text/plain": [
       "                  review_id                 user_id             business_id  \\\n",
       "483  e_f_4_U6Hlr0znVQfUbzEg  6mnrwzi5HM-WMUfXL7EYgg  cdqTpsr110wSNPMtLCPh7A   \n",
       "230  lt-tsizQin_wNCkQv71YPQ  qWSAH4MzFbHV6UsseJVlZg  dUctvEfHQccW_uxtRup2QQ   \n",
       "624  Rzxws4o77wDp3dGw7Y1V0A  _kcHxYPXRYjU4hk2xtCO0w  jtsckI_01hlbGLpEFwJu0A   \n",
       "33   xdQe2E8jR6pLA07p1aYtKA  yFuE8SPF-d1GXJUWYgKtzg  X8lfGPagfLzfOsx0k08NRQ   \n",
       "140  27CYrDqJIUjbOLNeKTfjDg  k3Q0ZcVuMdvA_9iDcSDWIA  pym7c6ZFEtmoH16xN2ApBg   \n",
       "\n",
       "     stars  useful  funny  cool  \\\n",
       "483      5       0      1     0   \n",
       "230      1       0      0     0   \n",
       "624      5       5      1     2   \n",
       "33       5       0      0     0   \n",
       "140      4       0      0     0   \n",
       "\n",
       "                                                  text                date  \n",
       "483  SRS is truly an exceptional management company... 2016-11-22 03:53:44  \n",
       "230  I had a horrible experience here. The waiter w... 2015-12-20 20:36:40  \n",
       "624  We came here for an early mothers day celebrat... 2015-06-09 16:39:35  \n",
       "33   Took my vehicle here for some work a few years... 2017-05-13 14:15:29  \n",
       "140  It seems to me that whenever we have out of to... 2016-06-22 20:10:18  "
      ]
     },
     "metadata": {},
     "output_type": "display_data"
    },
    {
     "data": {
      "text/plain": [
       "review_id              object\n",
       "user_id                object\n",
       "business_id            object\n",
       "stars                   int64\n",
       "useful                  int64\n",
       "funny                   int64\n",
       "cool                    int64\n",
       "text                   object\n",
       "date           datetime64[ns]\n",
       "dtype: object"
      ]
     },
     "metadata": {},
     "output_type": "display_data"
    },
    {
     "name": "stdout",
     "output_type": "stream",
     "text": [
      "\n",
      "PREVIEW tip\n",
      "=====================\n",
      "\n"
     ]
    },
    {
     "data": {
      "text/html": [
       "<div>\n",
       "<style scoped>\n",
       "    .dataframe tbody tr th:only-of-type {\n",
       "        vertical-align: middle;\n",
       "    }\n",
       "\n",
       "    .dataframe tbody tr th {\n",
       "        vertical-align: top;\n",
       "    }\n",
       "\n",
       "    .dataframe thead th {\n",
       "        text-align: right;\n",
       "    }\n",
       "</style>\n",
       "<table border=\"1\" class=\"dataframe\">\n",
       "  <thead>\n",
       "    <tr style=\"text-align: right;\">\n",
       "      <th></th>\n",
       "      <th>user_id</th>\n",
       "      <th>business_id</th>\n",
       "      <th>text</th>\n",
       "      <th>date</th>\n",
       "      <th>compliment_count</th>\n",
       "    </tr>\n",
       "  </thead>\n",
       "  <tbody>\n",
       "    <tr>\n",
       "      <th>38</th>\n",
       "      <td>_YBX0Fy9pI0ktOQ9RtFhAg</td>\n",
       "      <td>nzqx3NJ1Yf-1bugLNikSCg</td>\n",
       "      <td>Hours are incorrect on Yelp. They close at 3PM...</td>\n",
       "      <td>2016-07-30 20:44:04</td>\n",
       "      <td>0</td>\n",
       "    </tr>\n",
       "    <tr>\n",
       "      <th>291</th>\n",
       "      <td>JnSlKs__M6IL_r_yet1_9g</td>\n",
       "      <td>Bxmhm659VqrQYHc0hiku5w</td>\n",
       "      <td>Love there pizza!!!!!</td>\n",
       "      <td>2016-12-18 19:23:09</td>\n",
       "      <td>0</td>\n",
       "    </tr>\n",
       "    <tr>\n",
       "      <th>513</th>\n",
       "      <td>jjHZxlSWU6hh66U9_LUB_A</td>\n",
       "      <td>KQHqDPUaAd4412_6vbRk0g</td>\n",
       "      <td>Ask for your pita toasted well done. Yum</td>\n",
       "      <td>2011-07-26 16:37:26</td>\n",
       "      <td>0</td>\n",
       "    </tr>\n",
       "    <tr>\n",
       "      <th>140</th>\n",
       "      <td>iNZuWjfkYJb1GvyqghOj6w</td>\n",
       "      <td>sTI1emOwk2eJPw7ka_YPXQ</td>\n",
       "      <td>Great! Rachel was awesome.</td>\n",
       "      <td>2017-09-25 15:17:08</td>\n",
       "      <td>0</td>\n",
       "    </tr>\n",
       "    <tr>\n",
       "      <th>939</th>\n",
       "      <td>MRa2O7cX1507JEOkijR8Ig</td>\n",
       "      <td>F7pG70kxLYt_HR6OnylgMQ</td>\n",
       "      <td>Oh yeah...Swedish Fish</td>\n",
       "      <td>2012-03-29 18:06:52</td>\n",
       "      <td>0</td>\n",
       "    </tr>\n",
       "  </tbody>\n",
       "</table>\n",
       "</div>"
      ],
      "text/plain": [
       "                    user_id             business_id  \\\n",
       "38   _YBX0Fy9pI0ktOQ9RtFhAg  nzqx3NJ1Yf-1bugLNikSCg   \n",
       "291  JnSlKs__M6IL_r_yet1_9g  Bxmhm659VqrQYHc0hiku5w   \n",
       "513  jjHZxlSWU6hh66U9_LUB_A  KQHqDPUaAd4412_6vbRk0g   \n",
       "140  iNZuWjfkYJb1GvyqghOj6w  sTI1emOwk2eJPw7ka_YPXQ   \n",
       "939  MRa2O7cX1507JEOkijR8Ig  F7pG70kxLYt_HR6OnylgMQ   \n",
       "\n",
       "                                                  text                date  \\\n",
       "38   Hours are incorrect on Yelp. They close at 3PM... 2016-07-30 20:44:04   \n",
       "291                              Love there pizza!!!!! 2016-12-18 19:23:09   \n",
       "513           Ask for your pita toasted well done. Yum 2011-07-26 16:37:26   \n",
       "140                         Great! Rachel was awesome. 2017-09-25 15:17:08   \n",
       "939                             Oh yeah...Swedish Fish 2012-03-29 18:06:52   \n",
       "\n",
       "     compliment_count  \n",
       "38                  0  \n",
       "291                 0  \n",
       "513                 0  \n",
       "140                 0  \n",
       "939                 0  "
      ]
     },
     "metadata": {},
     "output_type": "display_data"
    },
    {
     "data": {
      "text/plain": [
       "user_id                     object\n",
       "business_id                 object\n",
       "text                        object\n",
       "date                datetime64[ns]\n",
       "compliment_count             int64\n",
       "dtype: object"
      ]
     },
     "metadata": {},
     "output_type": "display_data"
    },
    {
     "name": "stdout",
     "output_type": "stream",
     "text": [
      "\n",
      "PREVIEW user\n",
      "=====================\n",
      "\n"
     ]
    },
    {
     "data": {
      "text/html": [
       "<div>\n",
       "<style scoped>\n",
       "    .dataframe tbody tr th:only-of-type {\n",
       "        vertical-align: middle;\n",
       "    }\n",
       "\n",
       "    .dataframe tbody tr th {\n",
       "        vertical-align: top;\n",
       "    }\n",
       "\n",
       "    .dataframe thead th {\n",
       "        text-align: right;\n",
       "    }\n",
       "</style>\n",
       "<table border=\"1\" class=\"dataframe\">\n",
       "  <thead>\n",
       "    <tr style=\"text-align: right;\">\n",
       "      <th></th>\n",
       "      <th>user_id</th>\n",
       "      <th>name</th>\n",
       "      <th>review_count</th>\n",
       "      <th>yelping_since</th>\n",
       "      <th>useful</th>\n",
       "      <th>funny</th>\n",
       "      <th>cool</th>\n",
       "      <th>elite</th>\n",
       "      <th>friends</th>\n",
       "      <th>fans</th>\n",
       "      <th>...</th>\n",
       "      <th>compliment_more</th>\n",
       "      <th>compliment_profile</th>\n",
       "      <th>compliment_cute</th>\n",
       "      <th>compliment_list</th>\n",
       "      <th>compliment_note</th>\n",
       "      <th>compliment_plain</th>\n",
       "      <th>compliment_cool</th>\n",
       "      <th>compliment_funny</th>\n",
       "      <th>compliment_writer</th>\n",
       "      <th>compliment_photos</th>\n",
       "    </tr>\n",
       "  </thead>\n",
       "  <tbody>\n",
       "    <tr>\n",
       "      <th>776</th>\n",
       "      <td>gvyYZgFdBbcT3xGjWOvZag</td>\n",
       "      <td>Frances</td>\n",
       "      <td>282</td>\n",
       "      <td>2007-05-17 01:47:17</td>\n",
       "      <td>1412</td>\n",
       "      <td>738</td>\n",
       "      <td>1129</td>\n",
       "      <td>2010,2011,2012,2013</td>\n",
       "      <td>NvUeb5G_mSSxgKhEE_Hueg, r6dKOf0mcEZsryd7L4ZlvA...</td>\n",
       "      <td>180</td>\n",
       "      <td>...</td>\n",
       "      <td>107</td>\n",
       "      <td>89</td>\n",
       "      <td>28</td>\n",
       "      <td>70</td>\n",
       "      <td>181</td>\n",
       "      <td>389</td>\n",
       "      <td>681</td>\n",
       "      <td>681</td>\n",
       "      <td>437</td>\n",
       "      <td>89</td>\n",
       "    </tr>\n",
       "    <tr>\n",
       "      <th>631</th>\n",
       "      <td>TvsPmBJt_Ei1RdOtVhjjiQ</td>\n",
       "      <td>Frank</td>\n",
       "      <td>621</td>\n",
       "      <td>2008-05-13 03:05:02</td>\n",
       "      <td>701</td>\n",
       "      <td>254</td>\n",
       "      <td>279</td>\n",
       "      <td></td>\n",
       "      <td>AlMrV8fUuGHKLpgLmqk-Bw, HMp1Y1cSVHsIPClJBx_6lw...</td>\n",
       "      <td>27</td>\n",
       "      <td>...</td>\n",
       "      <td>3</td>\n",
       "      <td>0</td>\n",
       "      <td>0</td>\n",
       "      <td>0</td>\n",
       "      <td>14</td>\n",
       "      <td>34</td>\n",
       "      <td>15</td>\n",
       "      <td>15</td>\n",
       "      <td>9</td>\n",
       "      <td>6</td>\n",
       "    </tr>\n",
       "    <tr>\n",
       "      <th>480</th>\n",
       "      <td>XcwBT1a_5ZjdaPZTZOhN-Q</td>\n",
       "      <td>Tung</td>\n",
       "      <td>528</td>\n",
       "      <td>2011-04-03 09:22:14</td>\n",
       "      <td>571</td>\n",
       "      <td>141</td>\n",
       "      <td>259</td>\n",
       "      <td>2016,2017,2018,2019,20,20,2021</td>\n",
       "      <td>xHo6dPuUoRyaYbqSKEh12w, B_94GAv3TTejBkYzZRhZrg...</td>\n",
       "      <td>25</td>\n",
       "      <td>...</td>\n",
       "      <td>0</td>\n",
       "      <td>0</td>\n",
       "      <td>0</td>\n",
       "      <td>0</td>\n",
       "      <td>9</td>\n",
       "      <td>36</td>\n",
       "      <td>13</td>\n",
       "      <td>13</td>\n",
       "      <td>7</td>\n",
       "      <td>4</td>\n",
       "    </tr>\n",
       "    <tr>\n",
       "      <th>111</th>\n",
       "      <td>I7YQFiIsO82eliq8nqsLfA</td>\n",
       "      <td>Michelle</td>\n",
       "      <td>885</td>\n",
       "      <td>2010-04-26 20:45:56</td>\n",
       "      <td>2501</td>\n",
       "      <td>485</td>\n",
       "      <td>767</td>\n",
       "      <td>2012,2013,2014,2015,2016,2017,2018,2019,20,20,...</td>\n",
       "      <td>sMIFUM1v-dxzO8_iPwVBKw, 3xFGPEzgK-WNlYnO2QOzdQ...</td>\n",
       "      <td>50</td>\n",
       "      <td>...</td>\n",
       "      <td>13</td>\n",
       "      <td>1</td>\n",
       "      <td>1</td>\n",
       "      <td>4</td>\n",
       "      <td>29</td>\n",
       "      <td>40</td>\n",
       "      <td>72</td>\n",
       "      <td>72</td>\n",
       "      <td>26</td>\n",
       "      <td>7</td>\n",
       "    </tr>\n",
       "    <tr>\n",
       "      <th>675</th>\n",
       "      <td>Wttx9bqHkOnRXokSrAjY_w</td>\n",
       "      <td>Adam</td>\n",
       "      <td>222</td>\n",
       "      <td>2010-01-03 11:18:29</td>\n",
       "      <td>284</td>\n",
       "      <td>38</td>\n",
       "      <td>68</td>\n",
       "      <td>2015,2016,2017</td>\n",
       "      <td>T4e0ERTywJaCyxty19ZGrQ, IQTEZwxCSuEuDykrLiltRQ...</td>\n",
       "      <td>4</td>\n",
       "      <td>...</td>\n",
       "      <td>1</td>\n",
       "      <td>1</td>\n",
       "      <td>0</td>\n",
       "      <td>0</td>\n",
       "      <td>2</td>\n",
       "      <td>3</td>\n",
       "      <td>0</td>\n",
       "      <td>0</td>\n",
       "      <td>3</td>\n",
       "      <td>0</td>\n",
       "    </tr>\n",
       "  </tbody>\n",
       "</table>\n",
       "<p>5 rows × 22 columns</p>\n",
       "</div>"
      ],
      "text/plain": [
       "                    user_id      name  review_count        yelping_since  \\\n",
       "776  gvyYZgFdBbcT3xGjWOvZag   Frances           282  2007-05-17 01:47:17   \n",
       "631  TvsPmBJt_Ei1RdOtVhjjiQ     Frank           621  2008-05-13 03:05:02   \n",
       "480  XcwBT1a_5ZjdaPZTZOhN-Q      Tung           528  2011-04-03 09:22:14   \n",
       "111  I7YQFiIsO82eliq8nqsLfA  Michelle           885  2010-04-26 20:45:56   \n",
       "675  Wttx9bqHkOnRXokSrAjY_w      Adam           222  2010-01-03 11:18:29   \n",
       "\n",
       "     useful  funny  cool                                              elite  \\\n",
       "776    1412    738  1129                                2010,2011,2012,2013   \n",
       "631     701    254   279                                                      \n",
       "480     571    141   259                     2016,2017,2018,2019,20,20,2021   \n",
       "111    2501    485   767  2012,2013,2014,2015,2016,2017,2018,2019,20,20,...   \n",
       "675     284     38    68                                     2015,2016,2017   \n",
       "\n",
       "                                               friends  fans  ...  \\\n",
       "776  NvUeb5G_mSSxgKhEE_Hueg, r6dKOf0mcEZsryd7L4ZlvA...   180  ...   \n",
       "631  AlMrV8fUuGHKLpgLmqk-Bw, HMp1Y1cSVHsIPClJBx_6lw...    27  ...   \n",
       "480  xHo6dPuUoRyaYbqSKEh12w, B_94GAv3TTejBkYzZRhZrg...    25  ...   \n",
       "111  sMIFUM1v-dxzO8_iPwVBKw, 3xFGPEzgK-WNlYnO2QOzdQ...    50  ...   \n",
       "675  T4e0ERTywJaCyxty19ZGrQ, IQTEZwxCSuEuDykrLiltRQ...     4  ...   \n",
       "\n",
       "     compliment_more  compliment_profile  compliment_cute  compliment_list  \\\n",
       "776              107                  89               28               70   \n",
       "631                3                   0                0                0   \n",
       "480                0                   0                0                0   \n",
       "111               13                   1                1                4   \n",
       "675                1                   1                0                0   \n",
       "\n",
       "     compliment_note  compliment_plain  compliment_cool  compliment_funny  \\\n",
       "776              181               389              681               681   \n",
       "631               14                34               15                15   \n",
       "480                9                36               13                13   \n",
       "111               29                40               72                72   \n",
       "675                2                 3                0                 0   \n",
       "\n",
       "     compliment_writer  compliment_photos  \n",
       "776                437                 89  \n",
       "631                  9                  6  \n",
       "480                  7                  4  \n",
       "111                 26                  7  \n",
       "675                  3                  0  \n",
       "\n",
       "[5 rows x 22 columns]"
      ]
     },
     "metadata": {},
     "output_type": "display_data"
    },
    {
     "data": {
      "text/plain": [
       "user_id                object\n",
       "name                   object\n",
       "review_count            int64\n",
       "yelping_since          object\n",
       "useful                  int64\n",
       "funny                   int64\n",
       "cool                    int64\n",
       "elite                  object\n",
       "friends                object\n",
       "fans                    int64\n",
       "average_stars         float64\n",
       "compliment_hot          int64\n",
       "compliment_more         int64\n",
       "compliment_profile      int64\n",
       "compliment_cute         int64\n",
       "compliment_list         int64\n",
       "compliment_note         int64\n",
       "compliment_plain        int64\n",
       "compliment_cool         int64\n",
       "compliment_funny        int64\n",
       "compliment_writer       int64\n",
       "compliment_photos       int64\n",
       "dtype: object"
      ]
     },
     "metadata": {},
     "output_type": "display_data"
    },
    {
     "name": "stdout",
     "output_type": "stream",
     "text": [
      "\n"
     ]
    }
   ],
   "source": [
    "preview_dfs = {}\n",
    "for name in files:\n",
    "    print(f'PREVIEW {name}\\n=====================\\n')\n",
    "    preview_dfs[name] = preview_dataset(files[name])\n",
    "    print('')"
   ]
  },
  {
   "cell_type": "code",
   "execution_count": 12,
   "id": "de2c2d0e-d549-48a7-8dd1-9b0388a6d467",
   "metadata": {},
   "outputs": [
    {
     "data": {
      "text/plain": [
       "<Axes: xlabel='stars'>"
      ]
     },
     "execution_count": 12,
     "metadata": {},
     "output_type": "execute_result"
    },
    {
     "data": {
      "image/png": "[encoded data removed]",
      "text/plain": [
       "<Figure size 640x480 with 1 Axes>"
      ]
     },
     "metadata": {},
     "output_type": "display_data"
    }
   ],
   "source": [
    "preview_dfs['review']['stars'].value_counts().sort_index().plot.bar()"
   ]
  },
  {
   "cell_type": "code",
   "execution_count": 13,
   "id": "81e26b3b-98f3-4e3e-a3f4-c4f7a18e41ad",
   "metadata": {},
   "outputs": [
    {
     "data": {
      "text/plain": [
       "array(['Doctors, Traditional Chinese Medicine, Naturopathic/Holistic, Acupuncture, Health & Medical, Nutritionists',\n",
       "       'Shipping Centers, Local Services, Notaries, Mailbox Centers, Printing Services',\n",
       "       'Department Stores, Shopping, Fashion, Home & Garden, Electronics, Furniture Stores',\n",
       "       'Restaurants, Food, Bubble Tea, Coffee & Tea, Bakeries',\n",
       "       'Brewpubs, Breweries, Food',\n",
       "       'Burgers, Fast Food, Sandwiches, Food, Ice Cream & Frozen Yogurt, Restaurants',\n",
       "       'Sporting Goods, Fashion, Shoe Stores, Shopping, Sports Wear, Accessories',\n",
       "       'Synagogues, Religious Organizations',\n",
       "       'Pubs, Restaurants, Italian, Bars, American (Traditional), Nightlife, Greek',\n",
       "       'Ice Cream & Frozen Yogurt, Fast Food, Burgers, Restaurants, Food',\n",
       "       'Department Stores, Shopping, Fashion',\n",
       "       'Vietnamese, Food, Restaurants, Food Trucks',\n",
       "       'American (Traditional), Restaurants, Diners, Breakfast & Brunch',\n",
       "       'General Dentistry, Dentists, Health & Medical, Cosmetic Dentists',\n",
       "       'Food, Delis, Italian, Bakeries, Restaurants',\n",
       "       'Sushi Bars, Restaurants, Japanese',\n",
       "       'Automotive, Auto Parts & Supplies, Auto Customization',\n",
       "       'Vape Shops, Tobacco Shops, Personal Shopping, Vitamins & Supplements, Shopping',\n",
       "       'Automotive, Car Rental, Hotels & Travel, Truck Rental',\n",
       "       'Korean, Restaurants'], dtype=object)"
      ]
     },
     "execution_count": 13,
     "metadata": {},
     "output_type": "execute_result"
    }
   ],
   "source": [
    "preview_dfs['business']['categories'].unique()[0:20]"
   ]
  },
  {
   "cell_type": "code",
   "execution_count": 14,
   "id": "178702fa-eb79-43de-8c33-129f9aca634c",
   "metadata": {},
   "outputs": [
    {
     "name": "stdout",
     "output_type": "stream",
     "text": [
      "Note = 1:\n",
      "=========\n",
      "\n",
      "They have the WORST service advisors! Used to be good before Kelly and her team left. Unfortunately, it's convenient to work if I need oil change before I can make it to another Honda dealer.\n",
      "\n",
      "\n",
      "It is unfortunate that with such a unique location and such a brand and product offering this specific store offers such lousy service. The wait is endless, no one is available to help and at Christmas time getting a gift wrap is act of God that requires endless wait. I bought gifts and knew that the wait for wrapping would be long SO I even left my items at the store to be gift wrapped at their leisure. They were not even moved from the counter where I bought them when I returned almost two hours later ready for pick up. This was a gift that needed to be given and The staff COMPLETELY \"dropped the ball\" on my time constraints! \n",
      "\n",
      "I love their stuff, but today was my last shopping experience at this location: couldn't get a gift wrapped after being assured that it could be done in a timely fashion???  I'll  cancel my card, do everything online and try not to go there if I can. It's really a shame!\n",
      "\n",
      "\n",
      "Worst place I've ever visited. The bouncer was rude and he didn't have to be. This place thinks just cause your on broadway you can treat people bad and over charge. \n",
      " I'm not a tourist I live here and will never visit or recommend\n",
      "\n",
      "\n",
      "Only giving a 1 because there is nothing lower!!! Angie\n",
      "Gave me the worst haircut I've ever had!!! I came in with 2 photos of the cut I wanted came out with my hair looking NOTHING like the photos!!  Even when pointed out to her she didn't not pay attention to what she was doing.  Came out basically having a mans flattop!  Would never go to this place again!!! Nothing like going into the Holidays with a crappie haircut. Thank you!! Angie and Regis Hair salon!!\n",
      "\n",
      "\n",
      "Note = 2:\n",
      "=========\n",
      "\n",
      "We arrived for lunch at 12p on a Friday - wasn't busy at all. It took FOREVER to get anything. We were really pleasant and kind but we had to complain several times to get any beverages that we ordered. It took them 40 minutes to let us know that a beer we ordered was no longer available. The food was great, but not worth the lengthy wait and slow service.\n",
      "\n",
      "\n",
      "This use to be a reliable place for sandwiches but the last two were not good at all.  Cheesesteak was light on the meat.  There are so many good rolls to pick from in the Philly area but this roll was one of the worst and stale.\n",
      "\n",
      "Hopefully it was just an off night. I'll try again but not for awhile.\n",
      "\n",
      "\n",
      "Ordered Caramel frappe at Drive thru, BIG MISTAKE! Took 30 min and there were only 2 cars in front of me.\n",
      "\n",
      "\n",
      "We won't be back. We got the Brussel sprouts and they tasted like pure salt. Our server sent them back and we got another batch and they tasted exactly the same. My husband got the burger and it was okay but the fries that came with it tasted like pure salt also. Maybe the cook working this night was just a little heavy handed on the salt, I don't know. I got the flank steak and it was okay. I wouldn't rave about it or ever get it again. Our cocktails were good and the atmosphere was nice, but we were really disappointed with the food :(\n",
      "\n",
      "\n",
      "Note = 3:\n",
      "=========\n",
      "\n",
      "Honestly the food doesn't knock my socks off but other people seem to love this place. I go because my husband likes it as for me I'd rather go to a different BBQ spot. I guess it also depends on what you order.\n",
      "\n",
      "\n",
      "If not for the pretentious, haughty, superior attitude of our waiter, I would have given this place four stars or possibly more... Seriously. That kind of attitude is exactly why I left New York. We wanted to order a bottle of wine, asked for his suggestion, and he answers with, \"How much do you want to spend?\" Ummm... Excuse me? How about, \"I'm happy to make some recommendations. Let's find a price point you're comfortable with...\" He didn't smile ONCE during the meal service and also found it necessary to correct us on several points of preference. Snob. The food is GOOD. The only thing that was great was the blueberry lasagna. And it is superb. So was the chocolate confection for dessert. I'd say go. And I hope you don't get that waiter.\n",
      "\n",
      "\n",
      "Definitely get in line before 8:30am. We waited about 30 minutes. Pancakes were fine. My friends got the raspberry pancakes, the sweet potato pancakes and the san antonio. I got the sugar and spice pancakes. All were well and fine, a bit dry. I don't understand the hype, but if the line isn't too long it's not bad for normal breakfast food. If the line is longer I would highly recommend skipping this place and heading down the street to Fido - insanely good coffee and great breakfast food.\n",
      "\n",
      "\n",
      "It's really a run of the middle as far as Cuban food goes. Not bad but not great either. I work close by so I end up there for lunch quite a bit. It's definitely worth checking out for lunch as their specials change every day and prepared freshly.\n",
      "\n",
      "\n",
      "Note = 4:\n",
      "=========\n",
      "\n",
      "I love the concept of this place. One half of it a café that serves different types of coffees and teas, and breakfast type items, and the other world where it serves bar type apps, salads, and sandwiches,  Can't forget that they also serve a wide variety of beers that they serve on tap, bottled, or in can.  \n",
      "\n",
      "This place is pretty darn casual, and one can hang out here for hours with their friends.  Reminds me of the good ol' college days when no time could pass especially on a chill out Sunday Fun day.\n",
      "\n",
      "Bring your four legged friend too.  They are totally welcome.\n",
      "\n",
      "\n",
      "We had an alumni event here and I really enjoyed it. It's dimly lit, very cozy inside - it's decorated kind of like an old library. It was a great quiet,casual spot if you're looking for a low key place to have good drinks. \n",
      "\n",
      "They have a few beers and wines, but we focused mostly on the happy hour cocktails - moscow mules, old fashioneds, etc. Everyone loved theirs, no complaints!\n",
      "\n",
      "\n",
      "Few years ago this used to be the best. Wasnt that price they had a ton of stuff staff always helpful and friendly. I bough a part once it was faulty returned it they gave me my money back no question about it. Another time I bough a part I didnt need returned that too money in hand no question. Starting to go down now but still pretty decent place\n",
      "\n",
      "\n",
      "We ate at the bar on a Friday night, where the extremely charming bartender made us the best Manhattans I've ever had, using Carpano Antica Formula vermouth.  We ordered the lamb meatballs, which were okay, and the spring rolls, which were excellent. \n",
      "\n",
      "This is a perfect place to stop for a drink in the Quarter, if you need a nice civilized break.  The drinks were extremely expensive, but well worth it for the occasional night out.\n",
      "\n",
      "The manager, Eric, could not have been more professional and friendly.  We will definitely go back.\n",
      "\n",
      "\n",
      "Note = 5:\n",
      "=========\n",
      "\n",
      "We sat at a pretty hectic lunch at Johnny rockets in the casino. Our server was Lyndel! She was awesome! Helped us at every needy request lol... Good was good, too! I'm too full\n",
      "\n",
      "\n",
      "Great store. Insane selection. Incredible customer service.\n",
      "\n",
      "Wish they could come to Ft. McMurray. \n",
      "\n",
      ":(\n",
      "\n",
      "\n",
      "I really like Franzone's. The owner is typically around, super friendly, and seems to really care about the product. While I'm not a big fan of sweet sauce, they also do a decent cheesesteak, fries, etc. Honestly, they may have been closer to a 4 if not that it's always just a really pleasant experience going in, which boosts their rating for me.\n",
      "\n",
      "\n",
      "Truly, I cannot say enough good things about this tiny, authentic, perfectly delicious eatery!  Growing up in the panhandle of Texas, we had plenty of authentic Mexican food in our home, and I'm always searching for good Mexican restaurants. El Limon is the best I've ever had in the state of Pennsylvania!  Sopes, tostadas, enchiladas, fajitas, burritos, fish tacos....all excellent and sooooo reasonable!  Waitstaff is always pleasant and attentive.  Best two features: homemade tamales and free margaritas!!  Bring the entire family for an amazing Mexican feast!  Ole!\n",
      "\n",
      "\n"
     ]
    }
   ],
   "source": [
    "review = preview_dfs['review']\n",
    "for star in range(1,6):\n",
    "    print(f'Note = {star}:\\n=========\\n')\n",
    "    for index in review[review['stars']==star].sample(4, random_state=0).index:\n",
    "        stars, text = review.loc[index, ['stars', 'text']].values\n",
    "        print(f'{text}\\n\\n')"
   ]
  },
  {
   "cell_type": "code",
   "execution_count": 15,
   "id": "378a20bd-b411-437b-8d0e-26aa09155ad3",
   "metadata": {},
   "outputs": [
    {
     "data": {
      "text/plain": [
       "<Axes: xlabel='class'>"
      ]
     },
     "execution_count": 15,
     "metadata": {},
     "output_type": "execute_result"
    },
    {
     "data": {
      "image/png": "[encoded data removed]",
      "text/plain": [
       "<Figure size 640x480 with 1 Axes>"
      ]
     },
     "metadata": {},
     "output_type": "display_data"
    }
   ],
   "source": [
    "preview_dfs['review']['class'] = preview_dfs['review']['stars'] > 3\n",
    "preview_dfs['review']['class'].value_counts().sort_index().plot.bar()"
   ]
  },
  {
   "cell_type": "markdown",
   "id": "e24e55e2-8915-49c5-9a40-4caae8829701",
   "metadata": {},
   "source": [
    "# EXTRACTION GOOD/BAD REVIEWS DES RESTAURANTS"
   ]
  },
  {
   "cell_type": "markdown",
   "id": "a457a513-3b99-4954-b821-a656187625d8",
   "metadata": {},
   "source": [
    "## CATEGORIES DE BUSINESS"
   ]
  },
  {
   "cell_type": "code",
   "execution_count": 16,
   "id": "a8944ed4-2277-44de-bdb6-e469e03b8ced",
   "metadata": {},
   "outputs": [
    {
     "data": {
      "text/plain": [
       "28258     [Coffee & Tea, Breakfast & Brunch, Restaurants...\n",
       "53461     [Shopping, Fashion, Building Supplies, Home Se...\n",
       "134989    [Oil Change Stations, Tires, Auto Repair, Auto...\n",
       "73159     [Event Planning & Services, Local Flavor, Food...\n",
       "59181     [Oral Surgeons, Dentists, Health & Medical, Ge...\n",
       "Name: _cats, dtype: object"
      ]
     },
     "execution_count": 16,
     "metadata": {},
     "output_type": "execute_result"
    }
   ],
   "source": [
    "business = pd.read_json(ORIGINAL_DATASET_DIR + PREFIX_YELP + 'business.json', lines=True)\n",
    "business['_cats'] = business['categories'].apply(lambda x: [cat.strip() for cat in x.split(',')] if x else [])\n",
    "business['_cats'].sample(5)"
   ]
  },
  {
   "cell_type": "code",
   "execution_count": 17,
   "id": "c62037b7-610f-4f87-805b-231eceac1847",
   "metadata": {},
   "outputs": [],
   "source": [
    "categories = set()\n",
    "for index in business.index:\n",
    "    categories.update(business.loc[index, '_cats'])"
   ]
  },
  {
   "cell_type": "code",
   "execution_count": 18,
   "id": "c6fb55f7-93a8-49ef-9557-9a5bb862eccb",
   "metadata": {},
   "outputs": [
    {
     "data": {
      "text/plain": [
       "['Pop-Up Restaurants', 'Restaurant Supplies', 'Restaurants']"
      ]
     },
     "execution_count": 18,
     "metadata": {},
     "output_type": "execute_result"
    }
   ],
   "source": [
    "[categorie for categorie in categories if 'restaurant' in categorie.lower()]"
   ]
  },
  {
   "cell_type": "code",
   "execution_count": 19,
   "id": "5addd077-8d19-404a-a889-ab55b5b8ca1f",
   "metadata": {},
   "outputs": [
    {
     "data": {
      "text/plain": [
       "['Comfort Food',\n",
       " 'Food',\n",
       " 'Food Court',\n",
       " 'Ethnic Food',\n",
       " 'Food Delivery Services',\n",
       " 'Seafood Markets',\n",
       " 'Seafood',\n",
       " 'Specialty Food',\n",
       " 'Food Stands',\n",
       " 'Food Trucks',\n",
       " 'Live/Raw Food',\n",
       " 'Imported Food',\n",
       " 'Food Tours',\n",
       " 'Food Banks',\n",
       " 'Do-It-Yourself Food',\n",
       " 'Fast Food',\n",
       " 'Soul Food']"
      ]
     },
     "execution_count": 19,
     "metadata": {},
     "output_type": "execute_result"
    }
   ],
   "source": [
    "[categorie for categorie in categories if 'food' in categorie.lower()]"
   ]
  },
  {
   "cell_type": "markdown",
   "id": "0575a828-cc20-42e4-bccc-8ab0284edb00",
   "metadata": {},
   "source": [
    "## REDUCTION DU DATAFRAME REVIEW ET SAUVEGARDE"
   ]
  },
  {
   "cell_type": "markdown",
   "id": "b5a7103c-4b23-440b-80d1-465de7c90400",
   "metadata": {},
   "source": [
    "- par chunk de 100000\n",
    "- Filtrage des reviews sur categorie \"restaurants\"\n",
    "- Séparation en bad/good reviews (bad <= stars = 3 < good)\n",
    "- Ne garder que text et séparer en 2 fichiers good/bad news"
   ]
  },
  {
   "cell_type": "code",
   "execution_count": 20,
   "id": "708caef0-50d3-45c1-977b-b55583db4d59",
   "metadata": {},
   "outputs": [
    {
     "data": {
      "text/plain": [
       "['MTSW4McQd7CbVtyjqoe9mw',\n",
       " 'CF33F8-E6oudUQ46HnavjQ',\n",
       " 'k0hlBqXX-Bt0vf1op7Jr1w',\n",
       " 'bBDDEgkFA1Otx9Lfe7BZUQ',\n",
       " 'eEOYSgkmpB90uNA7lDOMRA',\n",
       " 'il_Ro8jwPlHresjw9EGmBg',\n",
       " '0bPLkL0QhhPO5kt1_EXmNQ',\n",
       " 'MUTTqe8uqyMdBl186RmNeA',\n",
       " 'ROeacJQwBeh05Rqg7F6TCg',\n",
       " 'WKMJwqnfZKsAae75RMP6jA']"
      ]
     },
     "execution_count": 20,
     "metadata": {},
     "output_type": "execute_result"
    }
   ],
   "source": [
    "restaurants_ids = business[~business['categories'].isna() & business['categories'].str.contains('Restaurants')]['business_id'].to_list()\n",
    "restaurants_ids[0:10]"
   ]
  },
  {
   "cell_type": "code",
   "execution_count": 21,
   "id": "8fae5d1f-a1ea-4c83-9340-2f32b3b14ddf",
   "metadata": {},
   "outputs": [],
   "source": [
    "append = False\n",
    "good_reviews_file = WORK_DATASET_DIR + 'good_reviews.parquet'\n",
    "bad_reviews_file = WORK_DATASET_DIR + 'bad_reviews.parquet'\n",
    "\n",
    "if EXTRACT_PARQUET:\n",
    "    for chunk in pd.read_json(ORIGINAL_DATASET_DIR + PREFIX_YELP + 'review.json', lines=True, chunksize=100000):\n",
    "        restaurant_reviews = chunk[chunk['business_id'].isin(restaurants_ids)].copy()\n",
    "        restaurant_reviews['class'] = restaurant_reviews['stars'] > 3\n",
    "        restaurant_reviews = restaurant_reviews.loc[:, ['text', 'class']]\n",
    "    \n",
    "        good_reviews = pd.DataFrame(restaurant_reviews[restaurant_reviews['class'] == True]['text'])\n",
    "        bad_reviews = pd.DataFrame(restaurant_reviews[restaurant_reviews['class'] == False]['text'])\n",
    "    \n",
    "        good_reviews.to_parquet(good_reviews_file, engine='fastparquet', append=append)\n",
    "        bad_reviews.to_parquet(bad_reviews_file, engine='fastparquet', append=append)\n",
    "        append = True"
   ]
  },
  {
   "cell_type": "markdown",
   "id": "e9f1e498-b092-42f8-889d-5385784dc3fa",
   "metadata": {},
   "source": [
    "# TOKENIZATION ET ANALYSE DES BAD REVIEWS "
   ]
  },
  {
   "cell_type": "code",
   "execution_count": 23,
   "id": "2ade22fe-2b94-41b7-99a0-0cde98dbe3ff",
   "metadata": {},
   "outputs": [],
   "source": [
    "def treat_reviews(reviews_file, min_words_frequency = 4):\n",
    "\n",
    "    # load dataframe and display head\n",
    "    print('Chargement du dataset\\n=================\\n')\n",
    "    reviews = pd.read_parquet(reviews_file)\n",
    "    display(reviews.head())\n",
    "\n",
    "    # Initialize paralellize and sampling\n",
    "    print('\\nTokenizisation\\n=================\\n')\n",
    "    pandarallel.initialize(progress_bar=True)\n",
    "    if SAMPLING_SIZE:\n",
    "        reviews = reviews.sample(SAMPLING_SIZE, random_state=0)\n",
    "    \n",
    "    # Preprocess (tokenize, lower, lemmatization)\n",
    "    reviews['tokens'] = reviews['text'].parallel_apply(preprocess_text)\n",
    "    reviews.drop(columns=['text'], inplace=True)\n",
    "    \n",
    "    # Remove words by frequency\n",
    "    print(f'\\nSuppression des mot par fréquence d\\'apparation (minimun={min_words_frequency})\\n=================\\n')\n",
    "    words_to_drop, nb_tokens = get_words_max_frequency(reviews, min_words_frequency - 1)\n",
    "    reviews['tokens'] = reviews['tokens'].parallel_apply(drop_words, args=(words_to_drop,))\n",
    "\n",
    "    # View result sample\n",
    "    print('\\nEchantillon du resultat\\n=================\\n')\n",
    "    display(reviews.sample(5))\n",
    "\n",
    "    # Calc and view text lengths\n",
    "    print('\\nAnalyse des longeurs de text\\n=================\\n')\n",
    "    reviews['text_len'] = reviews['tokens'].str.join(' ').str.len()\n",
    "    reviews.boxplot(column='text_len', showfliers=True)\n",
    "\n",
    "    total_text_len = reviews['text_len'].sum()\n",
    "\n",
    "    print(f'Nombre de tokens dans le dataframe: {nb_tokens}')\n",
    "    print(f'Longeur total du texte dans le dataframe: {total_text_len}')\n",
    "    print('')\n",
    "\n",
    "    # Visualisation Word clound on sample\n",
    "    print(f'\\nVisualisation du nuage de mot d\\'un échantillon de {SAMPLING_SIZE} lignes\\n=================\\n')\n",
    "    sample_text = ' '.join(reviews.sample(SAMPLING_SIZE, random_state=0)['tokens'].str.join(' ').values)\n",
    "    word_cloud(text=sample_text)"
   ]
  },
  {
   "cell_type": "code",
   "execution_count": 24,
   "id": "347b46d5-ed95-499a-ab9c-c8adb2897a1c",
   "metadata": {},
   "outputs": [
    {
     "name": "stdout",
     "output_type": "stream",
     "text": [
      "Chargement du dataset\n",
      "=================\n",
      "\n"
     ]
    },
    {
     "data": {
      "text/html": [
       "<div>\n",
       "<style scoped>\n",
       "    .dataframe tbody tr th:only-of-type {\n",
       "        vertical-align: middle;\n",
       "    }\n",
       "\n",
       "    .dataframe tbody tr th {\n",
       "        vertical-align: top;\n",
       "    }\n",
       "\n",
       "    .dataframe thead th {\n",
       "        text-align: right;\n",
       "    }\n",
       "</style>\n",
       "<table border=\"1\" class=\"dataframe\">\n",
       "  <thead>\n",
       "    <tr style=\"text-align: right;\">\n",
       "      <th></th>\n",
       "      <th>text</th>\n",
       "    </tr>\n",
       "    <tr>\n",
       "      <th>index</th>\n",
       "      <th></th>\n",
       "    </tr>\n",
       "  </thead>\n",
       "  <tbody>\n",
       "    <tr>\n",
       "      <th>0</th>\n",
       "      <td>If you decide to eat here, just be aware it is...</td>\n",
       "    </tr>\n",
       "    <tr>\n",
       "      <th>2</th>\n",
       "      <td>Family diner. Had the buffet. Eclectic assortm...</td>\n",
       "    </tr>\n",
       "    <tr>\n",
       "      <th>5</th>\n",
       "      <td>I am a long term frequent customer of this est...</td>\n",
       "    </tr>\n",
       "    <tr>\n",
       "      <th>9</th>\n",
       "      <td>Had a party of 6 here for hibachi. Our waitres...</td>\n",
       "    </tr>\n",
       "    <tr>\n",
       "      <th>21</th>\n",
       "      <td>Upland is a brewery based out of Bloomington, ...</td>\n",
       "    </tr>\n",
       "  </tbody>\n",
       "</table>\n",
       "</div>"
      ],
      "text/plain": [
       "                                                    text\n",
       "index                                                   \n",
       "0      If you decide to eat here, just be aware it is...\n",
       "2      Family diner. Had the buffet. Eclectic assortm...\n",
       "5      I am a long term frequent customer of this est...\n",
       "9      Had a party of 6 here for hibachi. Our waitres...\n",
       "21     Upland is a brewery based out of Bloomington, ..."
      ]
     },
     "metadata": {},
     "output_type": "display_data"
    },
    {
     "name": "stdout",
     "output_type": "stream",
     "text": [
      "\n",
      "Tokenizisation\n",
      "=================\n",
      "\n",
      "INFO: Pandarallel will run on 4 workers.\n",
      "INFO: Pandarallel will use standard multiprocessing data transfer (pipe) to transfer data between the main process and workers.\n",
      "\n",
      "WARNING: You are on Windows. If you detect any issue with pandarallel, be sure you checked out the Troubleshooting page:\n",
      "https://nalepae.github.io/pandarallel/troubleshooting/\n"
     ]
    },
    {
     "data": {
      "application/vnd.jupyter.widget-view+json": {
       "model_id": "abf9890bc17a46669a093bfc907f32c2",
       "version_major": 2,
       "version_minor": 0
      },
      "text/plain": [
       "VBox(children=(HBox(children=(IntProgress(value=0, description='0.00%', max=250), Label(value='0 / 250'))), HB…"
      ]
     },
     "metadata": {},
     "output_type": "display_data"
    },
    {
     "name": "stdout",
     "output_type": "stream",
     "text": [
      "\n",
      "Suppression des mot par fréquence d'apparation (minimun=5)\n",
      "=================\n",
      "\n"
     ]
    },
    {
     "data": {
      "application/vnd.jupyter.widget-view+json": {
       "model_id": "86350a44338442f580d3af116b73dd57",
       "version_major": 2,
       "version_minor": 0
      },
      "text/plain": [
       "VBox(children=(HBox(children=(IntProgress(value=0, description='0.00%', max=250), Label(value='0 / 250'))), HB…"
      ]
     },
     "metadata": {},
     "output_type": "display_data"
    },
    {
     "name": "stdout",
     "output_type": "stream",
     "text": [
      "\n",
      "Echantillon du resultat\n",
      "=================\n",
      "\n"
     ]
    },
    {
     "data": {
      "text/html": [
       "<div>\n",
       "<style scoped>\n",
       "    .dataframe tbody tr th:only-of-type {\n",
       "        vertical-align: middle;\n",
       "    }\n",
       "\n",
       "    .dataframe tbody tr th {\n",
       "        vertical-align: top;\n",
       "    }\n",
       "\n",
       "    .dataframe thead th {\n",
       "        text-align: right;\n",
       "    }\n",
       "</style>\n",
       "<table border=\"1\" class=\"dataframe\">\n",
       "  <thead>\n",
       "    <tr style=\"text-align: right;\">\n",
       "      <th></th>\n",
       "      <th>tokens</th>\n",
       "    </tr>\n",
       "    <tr>\n",
       "      <th>index</th>\n",
       "      <th></th>\n",
       "    </tr>\n",
       "  </thead>\n",
       "  <tbody>\n",
       "    <tr>\n",
       "      <th>3243540</th>\n",
       "      <td>[recently, stop, mother, day, brunch, say, sur...</td>\n",
       "    </tr>\n",
       "    <tr>\n",
       "      <th>2974795</th>\n",
       "      <td>[really, want, like, place, great, thing, hear...</td>\n",
       "    </tr>\n",
       "    <tr>\n",
       "      <th>6178758</th>\n",
       "      <td>[call, place, go, order, guy, rude, like, job,...</td>\n",
       "    </tr>\n",
       "    <tr>\n",
       "      <th>3564293</th>\n",
       "      <td>[family, visit, location, day, sesame, place, ...</td>\n",
       "    </tr>\n",
       "    <tr>\n",
       "      <th>6515153</th>\n",
       "      <td>[two, reason, come, 1, trip, diner, close, 2, ...</td>\n",
       "    </tr>\n",
       "  </tbody>\n",
       "</table>\n",
       "</div>"
      ],
      "text/plain": [
       "                                                    tokens\n",
       "index                                                     \n",
       "3243540  [recently, stop, mother, day, brunch, say, sur...\n",
       "2974795  [really, want, like, place, great, thing, hear...\n",
       "6178758  [call, place, go, order, guy, rude, like, job,...\n",
       "3564293  [family, visit, location, day, sesame, place, ...\n",
       "6515153  [two, reason, come, 1, trip, diner, close, 2, ..."
      ]
     },
     "metadata": {},
     "output_type": "display_data"
    },
    {
     "name": "stdout",
     "output_type": "stream",
     "text": [
      "\n",
      "Analyse des longeurs de text\n",
      "=================\n",
      "\n",
      "Nombre de tokens dans le dataframe: 1683\n",
      "Longeur total du texte dans le dataframe: 324980\n",
      "\n",
      "\n",
      "Visualisation du nuage de mot d'un échantillon de 1000 lignes\n",
      "=================\n",
      "\n"
     ]
    },
    {
     "data": {
      "image/png": "[encoded data removed]",
      "text/plain": [
       "<Figure size 640x480 with 1 Axes>"
      ]
     },
     "metadata": {},
     "output_type": "display_data"
    }
   ],
   "source": [
    "treat_reviews(bad_reviews_file, 5)"
   ]
  },
  {
   "cell_type": "code",
   "execution_count": null,
   "id": "569cded3-5cda-45d4-ba88-8b60d3b04d81",
   "metadata": {},
   "outputs": [],
   "source": []
  }
 ],
 "metadata": {
  "kernelspec": {
   "display_name": "Python 3 (ipykernel)",
   "language": "python",
   "name": "python3"
  },
  "language_info": {
   "codemirror_mode": {
    "name": "ipython",
    "version": 3
   },
   "file_extension": ".py",
   "mimetype": "text/x-python",
   "name": "python",
   "nbconvert_exporter": "python",
   "pygments_lexer": "ipython3",
   "version": "3.10.11"
  }
 },
 "nbformat": 4,
 "nbformat_minor": 5
}
