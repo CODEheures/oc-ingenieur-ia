{
 "cells": [
  {
   "cell_type": "markdown",
   "id": "2117bb47-ddbf-49ba-a023-30ac88dee29b",
   "metadata": {},
   "source": [
    "# IMPORTS"
   ]
  },
  {
   "cell_type": "code",
   "execution_count": 2,
   "id": "be8c0797-df7f-4d69-8a57-e59ed791b9b3",
   "metadata": {},
   "outputs": [],
   "source": [
    "import pandas as pd\n",
    "import os\n",
    "from tabulate import tabulate\n",
    "from pandarallel import pandarallel"
   ]
  },
  {
   "cell_type": "markdown",
   "id": "4991b4a3-523e-4a10-a0e4-d233aef81941",
   "metadata": {},
   "source": [
    "# CONFIGURATION"
   ]
  },
  {
   "cell_type": "code",
   "execution_count": 3,
   "id": "8334fe1b-0eb8-4878-99bd-d130fe5afa1c",
   "metadata": {},
   "outputs": [],
   "source": [
    "# PREVIEW PHASE\n",
    "PREVIEW_SIZE = 1000\n",
    "\n",
    "# EXTRACT PHASE\n",
    "CHUNK_SIZE = 100000\n",
    "EXTRACT_PARQUET = False\n",
    "\n",
    "# ANALYSE PHASE\n",
    "SAMPLING_SIZE = 10000\n",
    "\n",
    "ORIGINAL_DATASET_DIR = 'data/original/yelp_dataset/'\n",
    "WORK_DATASET_DIR = 'data/work/yelp_dataset/'\n",
    "PREFIX_YELP = 'yelp_academic_dataset_'"
   ]
  },
  {
   "cell_type": "markdown",
   "id": "689c5dc8-faae-4b53-874a-59bcdc519aab",
   "metadata": {},
   "source": [
    "# FONCTIONS"
   ]
  },
  {
   "cell_type": "code",
   "execution_count": 4,
   "id": "b0ec643f-6a21-4f0f-9717-8855ab4b5ef9",
   "metadata": {},
   "outputs": [],
   "source": [
    "def list_files(dir, extension='json', print_result = True):\n",
    "    paths = {(file.split('.')[0]).split(PREFIX_YELP)[1]: dir + file for file in os.listdir(dir) if file.endswith('.' + extension)}\n",
    "    if print_result:\n",
    "        files = [[os.path.basename(paths[name]), file_size(paths[name])] for name in paths]\n",
    "        print(tabulate(files, headers=['Name', 'Size']))\n",
    "    return paths\n",
    "\n",
    "def file_size(path, unit='Gb', precision=2, only_value = False):\n",
    "    exp = 3\n",
    "    if (unit=='ko'):\n",
    "        exp = 1\n",
    "    elif (unit == 'Mb'):\n",
    "        exp = 2\n",
    "    else:\n",
    "        exp = 3\n",
    "        unit = 'Gb'\n",
    "\n",
    "    value = round((os.path.getsize(path)/(1024**exp)), precision)\n",
    "    if only_value:\n",
    "        return value\n",
    "    else:\n",
    "        return str(value) + unit\n",
    "\n",
    "def preview_dataset(path):\n",
    "    df = pd.read_json(path, lines=True, nrows=PREVIEW_SIZE)\n",
    "    display(df.sample(5))\n",
    "    display(df.dtypes)\n",
    "\n",
    "    return df\n",
    "\n",
    "def preprocess_text(text):\n",
    "    from nltk import word_tokenize\n",
    "    from nltk.corpus import stopwords\n",
    "    from nltk.stem import WordNetLemmatizer\n",
    "\n",
    "    # normalization\n",
    "    text = text.lower()\n",
    "\n",
    "    # Tokenization\n",
    "    tokens = word_tokenize(text)\n",
    "\n",
    "    # Stops Words\n",
    "    stops = stopwords.words('english')\n",
    "    tokens = [token for token in tokens if not token in stops]\n",
    "\n",
    "    # Lematization\n",
    "    lemmatizer = WordNetLemmatizer()\n",
    "    tokens = [lemmatizer.lemmatize(word, pos='a') for word in tokens]\n",
    "    tokens = [lemmatizer.lemmatize(word, pos='v') for word in tokens]\n",
    "    tokens = [lemmatizer.lemmatize(word, pos='n') for word in tokens]\n",
    "\n",
    "    return ' '.join(tokens)"
   ]
  },
  {
   "cell_type": "markdown",
   "id": "44e8de37-f22d-4c52-814b-7916dd8cf6ce",
   "metadata": {},
   "source": [
    "# PREVISUALISATION DES DATASETS"
   ]
  },
  {
   "cell_type": "code",
   "execution_count": 5,
   "id": "868ec081-dafc-4650-b1c4-b78fee9bf9f0",
   "metadata": {},
   "outputs": [
    {
     "data": {
      "text/plain": [
       "{'business': 'data/original/yelp_dataset/yelp_academic_dataset_business.json',\n",
       " 'checkin': 'data/original/yelp_dataset/yelp_academic_dataset_checkin.json',\n",
       " 'review': 'data/original/yelp_dataset/yelp_academic_dataset_review.json',\n",
       " 'tip': 'data/original/yelp_dataset/yelp_academic_dataset_tip.json',\n",
       " 'user': 'data/original/yelp_dataset/yelp_academic_dataset_user.json'}"
      ]
     },
     "execution_count": 5,
     "metadata": {},
     "output_type": "execute_result"
    }
   ],
   "source": [
    "files = list_files(ORIGINAL_DATASET_DIR, print_result=False)\n",
    "files"
   ]
  },
  {
   "cell_type": "code",
   "execution_count": 6,
   "id": "f17c3ede-0013-42b4-a7b8-57ccaabd1bde",
   "metadata": {},
   "outputs": [
    {
     "name": "stdout",
     "output_type": "stream",
     "text": [
      "PREVIEW business\n",
      "=====================\n",
      "\n"
     ]
    },
    {
     "data": {
      "text/html": [
       "<div>\n",
       "<style scoped>\n",
       "    .dataframe tbody tr th:only-of-type {\n",
       "        vertical-align: middle;\n",
       "    }\n",
       "\n",
       "    .dataframe tbody tr th {\n",
       "        vertical-align: top;\n",
       "    }\n",
       "\n",
       "    .dataframe thead th {\n",
       "        text-align: right;\n",
       "    }\n",
       "</style>\n",
       "<table border=\"1\" class=\"dataframe\">\n",
       "  <thead>\n",
       "    <tr style=\"text-align: right;\">\n",
       "      <th></th>\n",
       "      <th>business_id</th>\n",
       "      <th>name</th>\n",
       "      <th>address</th>\n",
       "      <th>city</th>\n",
       "      <th>state</th>\n",
       "      <th>postal_code</th>\n",
       "      <th>latitude</th>\n",
       "      <th>longitude</th>\n",
       "      <th>stars</th>\n",
       "      <th>review_count</th>\n",
       "      <th>is_open</th>\n",
       "      <th>attributes</th>\n",
       "      <th>categories</th>\n",
       "      <th>hours</th>\n",
       "    </tr>\n",
       "  </thead>\n",
       "  <tbody>\n",
       "    <tr>\n",
       "      <th>884</th>\n",
       "      <td>YmldZ34wq5v1Y4yLclNQ5g</td>\n",
       "      <td>Sport Clips Haircuts of Exton</td>\n",
       "      <td>60 E Uwchlan Ave</td>\n",
       "      <td>Exton</td>\n",
       "      <td>PA</td>\n",
       "      <td>19341</td>\n",
       "      <td>40.058584</td>\n",
       "      <td>-75.654468</td>\n",
       "      <td>4.0</td>\n",
       "      <td>11</td>\n",
       "      <td>1</td>\n",
       "      <td>{'BikeParking': 'False', 'ByAppointmentOnly': ...</td>\n",
       "      <td>Men's Hair Salons, Hair Salons, Barbers, Beaut...</td>\n",
       "      <td>{'Monday': '0:0-0:0', 'Tuesday': '10:0-18:0', ...</td>\n",
       "    </tr>\n",
       "    <tr>\n",
       "      <th>995</th>\n",
       "      <td>iNMdSi5bmvGSGeRQiUW4dw</td>\n",
       "      <td>Wendy's</td>\n",
       "      <td>3535 E. Irvington Road</td>\n",
       "      <td>Tucson</td>\n",
       "      <td>AZ</td>\n",
       "      <td>85714</td>\n",
       "      <td>32.163740</td>\n",
       "      <td>-110.916722</td>\n",
       "      <td>2.5</td>\n",
       "      <td>14</td>\n",
       "      <td>1</td>\n",
       "      <td>{'BusinessAcceptsCreditCards': 'True', 'Restau...</td>\n",
       "      <td>Fast Food, Burgers, Restaurants</td>\n",
       "      <td>{'Monday': '10:0-23:0', 'Tuesday': '10:0-23:0'...</td>\n",
       "    </tr>\n",
       "    <tr>\n",
       "      <th>579</th>\n",
       "      <td>DwkUcTFaFhqcW-RDJ5rnNQ</td>\n",
       "      <td>Children's Dental And Orthodontic Associates</td>\n",
       "      <td>7847 Old York Rd</td>\n",
       "      <td>Elkins Park</td>\n",
       "      <td>PA</td>\n",
       "      <td>19027</td>\n",
       "      <td>40.072714</td>\n",
       "      <td>-75.131515</td>\n",
       "      <td>2.5</td>\n",
       "      <td>6</td>\n",
       "      <td>0</td>\n",
       "      <td>{'ByAppointmentOnly': 'True'}</td>\n",
       "      <td>Orthodontists, Health &amp; Medical, Pediatric Den...</td>\n",
       "      <td>{'Monday': '8:30-17:0', 'Wednesday': '8:30-17:...</td>\n",
       "    </tr>\n",
       "    <tr>\n",
       "      <th>848</th>\n",
       "      <td>61oyIzeFjG977kMhMxVznw</td>\n",
       "      <td>Distler's Auto Repair</td>\n",
       "      <td>100 N Main St</td>\n",
       "      <td>O Fallon</td>\n",
       "      <td>IL</td>\n",
       "      <td>62269</td>\n",
       "      <td>38.561634</td>\n",
       "      <td>-89.896862</td>\n",
       "      <td>4.0</td>\n",
       "      <td>5</td>\n",
       "      <td>1</td>\n",
       "      <td>None</td>\n",
       "      <td>Towing, Automotive, Auto Parts &amp; Supplies, Aut...</td>\n",
       "      <td>{'Monday': '8:0-17:0', 'Tuesday': '8:0-17:0', ...</td>\n",
       "    </tr>\n",
       "    <tr>\n",
       "      <th>518</th>\n",
       "      <td>pJB63RaQpkTIKBhfTsLQQg</td>\n",
       "      <td>Biryani Hut</td>\n",
       "      <td>14350 Mundy Dr, Ste  700</td>\n",
       "      <td>Noblesville</td>\n",
       "      <td>IN</td>\n",
       "      <td>46060</td>\n",
       "      <td>39.997088</td>\n",
       "      <td>-86.002312</td>\n",
       "      <td>4.0</td>\n",
       "      <td>83</td>\n",
       "      <td>1</td>\n",
       "      <td>{'GoodForKids': 'True', 'BusinessAcceptsCredit...</td>\n",
       "      <td>Restaurants, Indian</td>\n",
       "      <td>{'Tuesday': '17:0-21:30', 'Wednesday': '17:0-2...</td>\n",
       "    </tr>\n",
       "  </tbody>\n",
       "</table>\n",
       "</div>"
      ],
      "text/plain": [
       "                business_id                                          name  \\\n",
       "884  YmldZ34wq5v1Y4yLclNQ5g                 Sport Clips Haircuts of Exton   \n",
       "995  iNMdSi5bmvGSGeRQiUW4dw                                       Wendy's   \n",
       "579  DwkUcTFaFhqcW-RDJ5rnNQ  Children's Dental And Orthodontic Associates   \n",
       "848  61oyIzeFjG977kMhMxVznw                         Distler's Auto Repair   \n",
       "518  pJB63RaQpkTIKBhfTsLQQg                                   Biryani Hut   \n",
       "\n",
       "                      address         city state postal_code   latitude  \\\n",
       "884          60 E Uwchlan Ave        Exton    PA       19341  40.058584   \n",
       "995    3535 E. Irvington Road       Tucson    AZ       85714  32.163740   \n",
       "579          7847 Old York Rd  Elkins Park    PA       19027  40.072714   \n",
       "848             100 N Main St     O Fallon    IL       62269  38.561634   \n",
       "518  14350 Mundy Dr, Ste  700  Noblesville    IN       46060  39.997088   \n",
       "\n",
       "      longitude  stars  review_count  is_open  \\\n",
       "884  -75.654468    4.0            11        1   \n",
       "995 -110.916722    2.5            14        1   \n",
       "579  -75.131515    2.5             6        0   \n",
       "848  -89.896862    4.0             5        1   \n",
       "518  -86.002312    4.0            83        1   \n",
       "\n",
       "                                            attributes  \\\n",
       "884  {'BikeParking': 'False', 'ByAppointmentOnly': ...   \n",
       "995  {'BusinessAcceptsCreditCards': 'True', 'Restau...   \n",
       "579                      {'ByAppointmentOnly': 'True'}   \n",
       "848                                               None   \n",
       "518  {'GoodForKids': 'True', 'BusinessAcceptsCredit...   \n",
       "\n",
       "                                            categories  \\\n",
       "884  Men's Hair Salons, Hair Salons, Barbers, Beaut...   \n",
       "995                    Fast Food, Burgers, Restaurants   \n",
       "579  Orthodontists, Health & Medical, Pediatric Den...   \n",
       "848  Towing, Automotive, Auto Parts & Supplies, Aut...   \n",
       "518                                Restaurants, Indian   \n",
       "\n",
       "                                                 hours  \n",
       "884  {'Monday': '0:0-0:0', 'Tuesday': '10:0-18:0', ...  \n",
       "995  {'Monday': '10:0-23:0', 'Tuesday': '10:0-23:0'...  \n",
       "579  {'Monday': '8:30-17:0', 'Wednesday': '8:30-17:...  \n",
       "848  {'Monday': '8:0-17:0', 'Tuesday': '8:0-17:0', ...  \n",
       "518  {'Tuesday': '17:0-21:30', 'Wednesday': '17:0-2...  "
      ]
     },
     "metadata": {},
     "output_type": "display_data"
    },
    {
     "data": {
      "text/plain": [
       "business_id      object\n",
       "name             object\n",
       "address          object\n",
       "city             object\n",
       "state            object\n",
       "postal_code      object\n",
       "latitude        float64\n",
       "longitude       float64\n",
       "stars           float64\n",
       "review_count      int64\n",
       "is_open           int64\n",
       "attributes       object\n",
       "categories       object\n",
       "hours            object\n",
       "dtype: object"
      ]
     },
     "metadata": {},
     "output_type": "display_data"
    },
    {
     "name": "stdout",
     "output_type": "stream",
     "text": [
      "\n",
      "PREVIEW checkin\n",
      "=====================\n",
      "\n"
     ]
    },
    {
     "data": {
      "text/html": [
       "<div>\n",
       "<style scoped>\n",
       "    .dataframe tbody tr th:only-of-type {\n",
       "        vertical-align: middle;\n",
       "    }\n",
       "\n",
       "    .dataframe tbody tr th {\n",
       "        vertical-align: top;\n",
       "    }\n",
       "\n",
       "    .dataframe thead th {\n",
       "        text-align: right;\n",
       "    }\n",
       "</style>\n",
       "<table border=\"1\" class=\"dataframe\">\n",
       "  <thead>\n",
       "    <tr style=\"text-align: right;\">\n",
       "      <th></th>\n",
       "      <th>business_id</th>\n",
       "      <th>date</th>\n",
       "    </tr>\n",
       "  </thead>\n",
       "  <tbody>\n",
       "    <tr>\n",
       "      <th>712</th>\n",
       "      <td>-KncfNxXHo2DA46fR39K5w</td>\n",
       "      <td>2011-08-01 00:45:21, 2011-08-01 12:26:10, 2011...</td>\n",
       "    </tr>\n",
       "    <tr>\n",
       "      <th>882</th>\n",
       "      <td>-QbKo-L0oRtGDX8usj75Dw</td>\n",
       "      <td>2010-07-31 16:03:47, 2012-12-27 17:54:44, 2013...</td>\n",
       "    </tr>\n",
       "    <tr>\n",
       "      <th>194</th>\n",
       "      <td>-4VQum5gCgEfSZcFycmAHw</td>\n",
       "      <td>2017-04-21 21:59:54, 2017-09-17 19:39:50, 2017...</td>\n",
       "    </tr>\n",
       "    <tr>\n",
       "      <th>421</th>\n",
       "      <td>-BdYhP-12elmFV7oB1iv4A</td>\n",
       "      <td>2020-07-12 21:11:56, 2020-07-27 18:12:43, 2020...</td>\n",
       "    </tr>\n",
       "    <tr>\n",
       "      <th>16</th>\n",
       "      <td>--SJXpAa0E-GCp2smaHf0A</td>\n",
       "      <td>2014-04-06 22:23:56, 2014-07-19 16:40:24, 2014...</td>\n",
       "    </tr>\n",
       "  </tbody>\n",
       "</table>\n",
       "</div>"
      ],
      "text/plain": [
       "                business_id                                               date\n",
       "712  -KncfNxXHo2DA46fR39K5w  2011-08-01 00:45:21, 2011-08-01 12:26:10, 2011...\n",
       "882  -QbKo-L0oRtGDX8usj75Dw  2010-07-31 16:03:47, 2012-12-27 17:54:44, 2013...\n",
       "194  -4VQum5gCgEfSZcFycmAHw  2017-04-21 21:59:54, 2017-09-17 19:39:50, 2017...\n",
       "421  -BdYhP-12elmFV7oB1iv4A  2020-07-12 21:11:56, 2020-07-27 18:12:43, 2020...\n",
       "16   --SJXpAa0E-GCp2smaHf0A  2014-04-06 22:23:56, 2014-07-19 16:40:24, 2014..."
      ]
     },
     "metadata": {},
     "output_type": "display_data"
    },
    {
     "data": {
      "text/plain": [
       "business_id    object\n",
       "date           object\n",
       "dtype: object"
      ]
     },
     "metadata": {},
     "output_type": "display_data"
    },
    {
     "name": "stdout",
     "output_type": "stream",
     "text": [
      "\n",
      "PREVIEW review\n",
      "=====================\n",
      "\n"
     ]
    },
    {
     "data": {
      "text/html": [
       "<div>\n",
       "<style scoped>\n",
       "    .dataframe tbody tr th:only-of-type {\n",
       "        vertical-align: middle;\n",
       "    }\n",
       "\n",
       "    .dataframe tbody tr th {\n",
       "        vertical-align: top;\n",
       "    }\n",
       "\n",
       "    .dataframe thead th {\n",
       "        text-align: right;\n",
       "    }\n",
       "</style>\n",
       "<table border=\"1\" class=\"dataframe\">\n",
       "  <thead>\n",
       "    <tr style=\"text-align: right;\">\n",
       "      <th></th>\n",
       "      <th>review_id</th>\n",
       "      <th>user_id</th>\n",
       "      <th>business_id</th>\n",
       "      <th>stars</th>\n",
       "      <th>useful</th>\n",
       "      <th>funny</th>\n",
       "      <th>cool</th>\n",
       "      <th>text</th>\n",
       "      <th>date</th>\n",
       "    </tr>\n",
       "  </thead>\n",
       "  <tbody>\n",
       "    <tr>\n",
       "      <th>754</th>\n",
       "      <td>H9qRr0lRUG-Bmol-Lw2Iiw</td>\n",
       "      <td>njh1nsVTKP2gCfUvbnCn8w</td>\n",
       "      <td>qEBL7U0kW4lkptcd_4wWbg</td>\n",
       "      <td>5</td>\n",
       "      <td>0</td>\n",
       "      <td>0</td>\n",
       "      <td>0</td>\n",
       "      <td>This place is so lovely! I went for a sweet an...</td>\n",
       "      <td>2017-07-08 19:35:16</td>\n",
       "    </tr>\n",
       "    <tr>\n",
       "      <th>460</th>\n",
       "      <td>0aC3eVgDQFE6gH2Fk-MrDg</td>\n",
       "      <td>gL0PnnFMmJbWphaOh_6BsQ</td>\n",
       "      <td>Mha77MN_BYGB-w7DONZ5YA</td>\n",
       "      <td>4</td>\n",
       "      <td>3</td>\n",
       "      <td>0</td>\n",
       "      <td>1</td>\n",
       "      <td>This review is mainly chicken talk as Cuenelli...</td>\n",
       "      <td>2013-11-14 01:23:03</td>\n",
       "    </tr>\n",
       "    <tr>\n",
       "      <th>376</th>\n",
       "      <td>5GNDjFV7Vi7Uganf6OlAbg</td>\n",
       "      <td>7OUAzKZj6LUrQ3G7g7yUSw</td>\n",
       "      <td>S3Kl763P-wKnDLFy0iirqA</td>\n",
       "      <td>2</td>\n",
       "      <td>2</td>\n",
       "      <td>2</td>\n",
       "      <td>0</td>\n",
       "      <td>Let's be honest, this place needs a face lift....</td>\n",
       "      <td>2014-11-30 00:39:26</td>\n",
       "    </tr>\n",
       "    <tr>\n",
       "      <th>80</th>\n",
       "      <td>RGV9GWhAAfAAlYyd4vho7g</td>\n",
       "      <td>Zs8Zk3sgh5JxRmoZW4PJcg</td>\n",
       "      <td>3ZynJ94VpIdDlaArmEp2Rg</td>\n",
       "      <td>3</td>\n",
       "      <td>0</td>\n",
       "      <td>0</td>\n",
       "      <td>0</td>\n",
       "      <td>A couple friends and I stopped by for some lat...</td>\n",
       "      <td>2013-10-03 16:24:30</td>\n",
       "    </tr>\n",
       "    <tr>\n",
       "      <th>26</th>\n",
       "      <td>G_5UczbCBJriUAbxz3J7Tw</td>\n",
       "      <td>clWLI5OZP2ad25ugMVI8gg</td>\n",
       "      <td>x4XdNhp0Xn8lOivzc77J-g</td>\n",
       "      <td>5</td>\n",
       "      <td>0</td>\n",
       "      <td>0</td>\n",
       "      <td>0</td>\n",
       "      <td>Best thai food in the area.  Everything was au...</td>\n",
       "      <td>2013-08-15 15:27:51</td>\n",
       "    </tr>\n",
       "  </tbody>\n",
       "</table>\n",
       "</div>"
      ],
      "text/plain": [
       "                  review_id                 user_id             business_id  \\\n",
       "754  H9qRr0lRUG-Bmol-Lw2Iiw  njh1nsVTKP2gCfUvbnCn8w  qEBL7U0kW4lkptcd_4wWbg   \n",
       "460  0aC3eVgDQFE6gH2Fk-MrDg  gL0PnnFMmJbWphaOh_6BsQ  Mha77MN_BYGB-w7DONZ5YA   \n",
       "376  5GNDjFV7Vi7Uganf6OlAbg  7OUAzKZj6LUrQ3G7g7yUSw  S3Kl763P-wKnDLFy0iirqA   \n",
       "80   RGV9GWhAAfAAlYyd4vho7g  Zs8Zk3sgh5JxRmoZW4PJcg  3ZynJ94VpIdDlaArmEp2Rg   \n",
       "26   G_5UczbCBJriUAbxz3J7Tw  clWLI5OZP2ad25ugMVI8gg  x4XdNhp0Xn8lOivzc77J-g   \n",
       "\n",
       "     stars  useful  funny  cool  \\\n",
       "754      5       0      0     0   \n",
       "460      4       3      0     1   \n",
       "376      2       2      2     0   \n",
       "80       3       0      0     0   \n",
       "26       5       0      0     0   \n",
       "\n",
       "                                                  text                date  \n",
       "754  This place is so lovely! I went for a sweet an... 2017-07-08 19:35:16  \n",
       "460  This review is mainly chicken talk as Cuenelli... 2013-11-14 01:23:03  \n",
       "376  Let's be honest, this place needs a face lift.... 2014-11-30 00:39:26  \n",
       "80   A couple friends and I stopped by for some lat... 2013-10-03 16:24:30  \n",
       "26   Best thai food in the area.  Everything was au... 2013-08-15 15:27:51  "
      ]
     },
     "metadata": {},
     "output_type": "display_data"
    },
    {
     "data": {
      "text/plain": [
       "review_id              object\n",
       "user_id                object\n",
       "business_id            object\n",
       "stars                   int64\n",
       "useful                  int64\n",
       "funny                   int64\n",
       "cool                    int64\n",
       "text                   object\n",
       "date           datetime64[ns]\n",
       "dtype: object"
      ]
     },
     "metadata": {},
     "output_type": "display_data"
    },
    {
     "name": "stdout",
     "output_type": "stream",
     "text": [
      "\n",
      "PREVIEW tip\n",
      "=====================\n",
      "\n"
     ]
    },
    {
     "data": {
      "text/html": [
       "<div>\n",
       "<style scoped>\n",
       "    .dataframe tbody tr th:only-of-type {\n",
       "        vertical-align: middle;\n",
       "    }\n",
       "\n",
       "    .dataframe tbody tr th {\n",
       "        vertical-align: top;\n",
       "    }\n",
       "\n",
       "    .dataframe thead th {\n",
       "        text-align: right;\n",
       "    }\n",
       "</style>\n",
       "<table border=\"1\" class=\"dataframe\">\n",
       "  <thead>\n",
       "    <tr style=\"text-align: right;\">\n",
       "      <th></th>\n",
       "      <th>user_id</th>\n",
       "      <th>business_id</th>\n",
       "      <th>text</th>\n",
       "      <th>date</th>\n",
       "      <th>compliment_count</th>\n",
       "    </tr>\n",
       "  </thead>\n",
       "  <tbody>\n",
       "    <tr>\n",
       "      <th>893</th>\n",
       "      <td>sjhfo0pdn2zCAYTFChWevQ</td>\n",
       "      <td>o8JeOB8HTa5HYHg6hfqTHw</td>\n",
       "      <td>There is no dining area this is take away.</td>\n",
       "      <td>2013-02-17 11:56:26</td>\n",
       "      <td>0</td>\n",
       "    </tr>\n",
       "    <tr>\n",
       "      <th>500</th>\n",
       "      <td>EpJ7t6PL6aEXvkvTiftjtw</td>\n",
       "      <td>AixPbZxJkgRyjxVqrpPAmw</td>\n",
       "      <td>Don't be afraid if there's a wait...stick arou...</td>\n",
       "      <td>2012-10-21 13:54:03</td>\n",
       "      <td>0</td>\n",
       "    </tr>\n",
       "    <tr>\n",
       "      <th>518</th>\n",
       "      <td>cynJeGho1spyXikHubXIoQ</td>\n",
       "      <td>xdy61kO_r5p6Zw30dsZ-ng</td>\n",
       "      <td>Yelp event!!!</td>\n",
       "      <td>2013-12-05 00:34:09</td>\n",
       "      <td>0</td>\n",
       "    </tr>\n",
       "    <tr>\n",
       "      <th>69</th>\n",
       "      <td>VWJ8PSz6Sg5_AlBvQyGvpw</td>\n",
       "      <td>PcX8zGIJ_XHTAQAcEOwhLw</td>\n",
       "      <td>Nice resort, right by the powder white beach!</td>\n",
       "      <td>2013-06-14 22:54:16</td>\n",
       "      <td>0</td>\n",
       "    </tr>\n",
       "    <tr>\n",
       "      <th>167</th>\n",
       "      <td>irIWWqUSS06qYH8kSrGqrg</td>\n",
       "      <td>BcWx80K4i0LjIkH40o_Kkg</td>\n",
       "      <td>Love it there been going for years.  Chelsea i...</td>\n",
       "      <td>2015-01-21 03:47:26</td>\n",
       "      <td>0</td>\n",
       "    </tr>\n",
       "  </tbody>\n",
       "</table>\n",
       "</div>"
      ],
      "text/plain": [
       "                    user_id             business_id  \\\n",
       "893  sjhfo0pdn2zCAYTFChWevQ  o8JeOB8HTa5HYHg6hfqTHw   \n",
       "500  EpJ7t6PL6aEXvkvTiftjtw  AixPbZxJkgRyjxVqrpPAmw   \n",
       "518  cynJeGho1spyXikHubXIoQ  xdy61kO_r5p6Zw30dsZ-ng   \n",
       "69   VWJ8PSz6Sg5_AlBvQyGvpw  PcX8zGIJ_XHTAQAcEOwhLw   \n",
       "167  irIWWqUSS06qYH8kSrGqrg  BcWx80K4i0LjIkH40o_Kkg   \n",
       "\n",
       "                                                  text                date  \\\n",
       "893         There is no dining area this is take away. 2013-02-17 11:56:26   \n",
       "500  Don't be afraid if there's a wait...stick arou... 2012-10-21 13:54:03   \n",
       "518                                      Yelp event!!! 2013-12-05 00:34:09   \n",
       "69       Nice resort, right by the powder white beach! 2013-06-14 22:54:16   \n",
       "167  Love it there been going for years.  Chelsea i... 2015-01-21 03:47:26   \n",
       "\n",
       "     compliment_count  \n",
       "893                 0  \n",
       "500                 0  \n",
       "518                 0  \n",
       "69                  0  \n",
       "167                 0  "
      ]
     },
     "metadata": {},
     "output_type": "display_data"
    },
    {
     "data": {
      "text/plain": [
       "user_id                     object\n",
       "business_id                 object\n",
       "text                        object\n",
       "date                datetime64[ns]\n",
       "compliment_count             int64\n",
       "dtype: object"
      ]
     },
     "metadata": {},
     "output_type": "display_data"
    },
    {
     "name": "stdout",
     "output_type": "stream",
     "text": [
      "\n",
      "PREVIEW user\n",
      "=====================\n",
      "\n"
     ]
    },
    {
     "data": {
      "text/html": [
       "<div>\n",
       "<style scoped>\n",
       "    .dataframe tbody tr th:only-of-type {\n",
       "        vertical-align: middle;\n",
       "    }\n",
       "\n",
       "    .dataframe tbody tr th {\n",
       "        vertical-align: top;\n",
       "    }\n",
       "\n",
       "    .dataframe thead th {\n",
       "        text-align: right;\n",
       "    }\n",
       "</style>\n",
       "<table border=\"1\" class=\"dataframe\">\n",
       "  <thead>\n",
       "    <tr style=\"text-align: right;\">\n",
       "      <th></th>\n",
       "      <th>user_id</th>\n",
       "      <th>name</th>\n",
       "      <th>review_count</th>\n",
       "      <th>yelping_since</th>\n",
       "      <th>useful</th>\n",
       "      <th>funny</th>\n",
       "      <th>cool</th>\n",
       "      <th>elite</th>\n",
       "      <th>friends</th>\n",
       "      <th>fans</th>\n",
       "      <th>...</th>\n",
       "      <th>compliment_more</th>\n",
       "      <th>compliment_profile</th>\n",
       "      <th>compliment_cute</th>\n",
       "      <th>compliment_list</th>\n",
       "      <th>compliment_note</th>\n",
       "      <th>compliment_plain</th>\n",
       "      <th>compliment_cool</th>\n",
       "      <th>compliment_funny</th>\n",
       "      <th>compliment_writer</th>\n",
       "      <th>compliment_photos</th>\n",
       "    </tr>\n",
       "  </thead>\n",
       "  <tbody>\n",
       "    <tr>\n",
       "      <th>874</th>\n",
       "      <td>f4dLioOMUxpLq9a1ph0REw</td>\n",
       "      <td>Ange</td>\n",
       "      <td>111</td>\n",
       "      <td>2009-03-29 01:33:33</td>\n",
       "      <td>210</td>\n",
       "      <td>97</td>\n",
       "      <td>55</td>\n",
       "      <td>2011</td>\n",
       "      <td>c75zarK3JTDvi_mVbEGgRA, K4MIJl1lenGlO1Agse7JWQ...</td>\n",
       "      <td>7</td>\n",
       "      <td>...</td>\n",
       "      <td>0</td>\n",
       "      <td>0</td>\n",
       "      <td>0</td>\n",
       "      <td>0</td>\n",
       "      <td>4</td>\n",
       "      <td>12</td>\n",
       "      <td>6</td>\n",
       "      <td>6</td>\n",
       "      <td>5</td>\n",
       "      <td>0</td>\n",
       "    </tr>\n",
       "    <tr>\n",
       "      <th>509</th>\n",
       "      <td>YUFqbfAePA8tgT2zE2y4xQ</td>\n",
       "      <td>Annie</td>\n",
       "      <td>191</td>\n",
       "      <td>2008-04-10 02:46:54</td>\n",
       "      <td>942</td>\n",
       "      <td>447</td>\n",
       "      <td>685</td>\n",
       "      <td>2008,2009,2010,2011,2012</td>\n",
       "      <td>dLldOSUWXhC76awQEn4qhg, 8Ces6YdT6j7BYycnZLrSng...</td>\n",
       "      <td>36</td>\n",
       "      <td>...</td>\n",
       "      <td>10</td>\n",
       "      <td>3</td>\n",
       "      <td>25</td>\n",
       "      <td>10</td>\n",
       "      <td>39</td>\n",
       "      <td>82</td>\n",
       "      <td>174</td>\n",
       "      <td>174</td>\n",
       "      <td>23</td>\n",
       "      <td>17</td>\n",
       "    </tr>\n",
       "    <tr>\n",
       "      <th>52</th>\n",
       "      <td>qsHZ6_yT870pmm4Oxvw5Og</td>\n",
       "      <td>Debbie</td>\n",
       "      <td>39</td>\n",
       "      <td>2011-06-16 01:55:54</td>\n",
       "      <td>68</td>\n",
       "      <td>14</td>\n",
       "      <td>19</td>\n",
       "      <td></td>\n",
       "      <td>z5owge5-GGcotX92-_XKDg, ow_8z-yarVPitiDq2YfjnQ...</td>\n",
       "      <td>5</td>\n",
       "      <td>...</td>\n",
       "      <td>1</td>\n",
       "      <td>0</td>\n",
       "      <td>0</td>\n",
       "      <td>0</td>\n",
       "      <td>0</td>\n",
       "      <td>1</td>\n",
       "      <td>0</td>\n",
       "      <td>0</td>\n",
       "      <td>0</td>\n",
       "      <td>0</td>\n",
       "    </tr>\n",
       "    <tr>\n",
       "      <th>557</th>\n",
       "      <td>RFTVBFlgM0cqvl1daywfjQ</td>\n",
       "      <td>Kara</td>\n",
       "      <td>465</td>\n",
       "      <td>2007-12-25 05:03:41</td>\n",
       "      <td>354</td>\n",
       "      <td>111</td>\n",
       "      <td>198</td>\n",
       "      <td>2008,2009,2010,2011,2012,2019,20,20,2021</td>\n",
       "      <td>3Vd_ATdvvuVVgn_YCpz8fw, yFLNHDlCriteboCVKjtpbA...</td>\n",
       "      <td>24</td>\n",
       "      <td>...</td>\n",
       "      <td>3</td>\n",
       "      <td>1</td>\n",
       "      <td>5</td>\n",
       "      <td>0</td>\n",
       "      <td>9</td>\n",
       "      <td>18</td>\n",
       "      <td>27</td>\n",
       "      <td>27</td>\n",
       "      <td>12</td>\n",
       "      <td>1</td>\n",
       "    </tr>\n",
       "    <tr>\n",
       "      <th>354</th>\n",
       "      <td>SZ8qITipYmexfotE5_UaQg</td>\n",
       "      <td>Beth</td>\n",
       "      <td>417</td>\n",
       "      <td>2007-03-07 23:01:49</td>\n",
       "      <td>2039</td>\n",
       "      <td>1391</td>\n",
       "      <td>1570</td>\n",
       "      <td>2007,2008,2009,2010</td>\n",
       "      <td>XH7vjN6QuL9Cedet3j4vEQ, VaVzAV3Bp3Vv7g6J3NmEGA...</td>\n",
       "      <td>93</td>\n",
       "      <td>...</td>\n",
       "      <td>32</td>\n",
       "      <td>19</td>\n",
       "      <td>74</td>\n",
       "      <td>22</td>\n",
       "      <td>105</td>\n",
       "      <td>185</td>\n",
       "      <td>343</td>\n",
       "      <td>343</td>\n",
       "      <td>90</td>\n",
       "      <td>40</td>\n",
       "    </tr>\n",
       "  </tbody>\n",
       "</table>\n",
       "<p>5 rows × 22 columns</p>\n",
       "</div>"
      ],
      "text/plain": [
       "                    user_id    name  review_count        yelping_since  \\\n",
       "874  f4dLioOMUxpLq9a1ph0REw    Ange           111  2009-03-29 01:33:33   \n",
       "509  YUFqbfAePA8tgT2zE2y4xQ   Annie           191  2008-04-10 02:46:54   \n",
       "52   qsHZ6_yT870pmm4Oxvw5Og  Debbie            39  2011-06-16 01:55:54   \n",
       "557  RFTVBFlgM0cqvl1daywfjQ    Kara           465  2007-12-25 05:03:41   \n",
       "354  SZ8qITipYmexfotE5_UaQg    Beth           417  2007-03-07 23:01:49   \n",
       "\n",
       "     useful  funny  cool                                     elite  \\\n",
       "874     210     97    55                                      2011   \n",
       "509     942    447   685                  2008,2009,2010,2011,2012   \n",
       "52       68     14    19                                             \n",
       "557     354    111   198  2008,2009,2010,2011,2012,2019,20,20,2021   \n",
       "354    2039   1391  1570                       2007,2008,2009,2010   \n",
       "\n",
       "                                               friends  fans  ...  \\\n",
       "874  c75zarK3JTDvi_mVbEGgRA, K4MIJl1lenGlO1Agse7JWQ...     7  ...   \n",
       "509  dLldOSUWXhC76awQEn4qhg, 8Ces6YdT6j7BYycnZLrSng...    36  ...   \n",
       "52   z5owge5-GGcotX92-_XKDg, ow_8z-yarVPitiDq2YfjnQ...     5  ...   \n",
       "557  3Vd_ATdvvuVVgn_YCpz8fw, yFLNHDlCriteboCVKjtpbA...    24  ...   \n",
       "354  XH7vjN6QuL9Cedet3j4vEQ, VaVzAV3Bp3Vv7g6J3NmEGA...    93  ...   \n",
       "\n",
       "     compliment_more  compliment_profile  compliment_cute  compliment_list  \\\n",
       "874                0                   0                0                0   \n",
       "509               10                   3               25               10   \n",
       "52                 1                   0                0                0   \n",
       "557                3                   1                5                0   \n",
       "354               32                  19               74               22   \n",
       "\n",
       "     compliment_note  compliment_plain  compliment_cool  compliment_funny  \\\n",
       "874                4                12                6                 6   \n",
       "509               39                82              174               174   \n",
       "52                 0                 1                0                 0   \n",
       "557                9                18               27                27   \n",
       "354              105               185              343               343   \n",
       "\n",
       "     compliment_writer  compliment_photos  \n",
       "874                  5                  0  \n",
       "509                 23                 17  \n",
       "52                   0                  0  \n",
       "557                 12                  1  \n",
       "354                 90                 40  \n",
       "\n",
       "[5 rows x 22 columns]"
      ]
     },
     "metadata": {},
     "output_type": "display_data"
    },
    {
     "data": {
      "text/plain": [
       "user_id                object\n",
       "name                   object\n",
       "review_count            int64\n",
       "yelping_since          object\n",
       "useful                  int64\n",
       "funny                   int64\n",
       "cool                    int64\n",
       "elite                  object\n",
       "friends                object\n",
       "fans                    int64\n",
       "average_stars         float64\n",
       "compliment_hot          int64\n",
       "compliment_more         int64\n",
       "compliment_profile      int64\n",
       "compliment_cute         int64\n",
       "compliment_list         int64\n",
       "compliment_note         int64\n",
       "compliment_plain        int64\n",
       "compliment_cool         int64\n",
       "compliment_funny        int64\n",
       "compliment_writer       int64\n",
       "compliment_photos       int64\n",
       "dtype: object"
      ]
     },
     "metadata": {},
     "output_type": "display_data"
    },
    {
     "name": "stdout",
     "output_type": "stream",
     "text": [
      "\n"
     ]
    }
   ],
   "source": [
    "preview_dfs = {}\n",
    "for name in files:\n",
    "    print(f'PREVIEW {name}\\n=====================\\n')\n",
    "    preview_dfs[name] = preview_dataset(files[name])\n",
    "    print('')"
   ]
  },
  {
   "cell_type": "code",
   "execution_count": 7,
   "id": "de2c2d0e-d549-48a7-8dd1-9b0388a6d467",
   "metadata": {},
   "outputs": [
    {
     "data": {
      "text/plain": [
       "<Axes: xlabel='stars'>"
      ]
     },
     "execution_count": 7,
     "metadata": {},
     "output_type": "execute_result"
    },
    {
     "data": {
      "image/png": "[encoded data removed]",
      "text/plain": [
       "<Figure size 640x480 with 1 Axes>"
      ]
     },
     "metadata": {},
     "output_type": "display_data"
    }
   ],
   "source": [
    "preview_dfs['review']['stars'].value_counts().sort_index().plot.bar()"
   ]
  },
  {
   "cell_type": "code",
   "execution_count": 8,
   "id": "81e26b3b-98f3-4e3e-a3f4-c4f7a18e41ad",
   "metadata": {},
   "outputs": [
    {
     "data": {
      "text/plain": [
       "array(['Doctors, Traditional Chinese Medicine, Naturopathic/Holistic, Acupuncture, Health & Medical, Nutritionists',\n",
       "       'Shipping Centers, Local Services, Notaries, Mailbox Centers, Printing Services',\n",
       "       'Department Stores, Shopping, Fashion, Home & Garden, Electronics, Furniture Stores',\n",
       "       'Restaurants, Food, Bubble Tea, Coffee & Tea, Bakeries',\n",
       "       'Brewpubs, Breweries, Food',\n",
       "       'Burgers, Fast Food, Sandwiches, Food, Ice Cream & Frozen Yogurt, Restaurants',\n",
       "       'Sporting Goods, Fashion, Shoe Stores, Shopping, Sports Wear, Accessories',\n",
       "       'Synagogues, Religious Organizations',\n",
       "       'Pubs, Restaurants, Italian, Bars, American (Traditional), Nightlife, Greek',\n",
       "       'Ice Cream & Frozen Yogurt, Fast Food, Burgers, Restaurants, Food',\n",
       "       'Department Stores, Shopping, Fashion',\n",
       "       'Vietnamese, Food, Restaurants, Food Trucks',\n",
       "       'American (Traditional), Restaurants, Diners, Breakfast & Brunch',\n",
       "       'General Dentistry, Dentists, Health & Medical, Cosmetic Dentists',\n",
       "       'Food, Delis, Italian, Bakeries, Restaurants',\n",
       "       'Sushi Bars, Restaurants, Japanese',\n",
       "       'Automotive, Auto Parts & Supplies, Auto Customization',\n",
       "       'Vape Shops, Tobacco Shops, Personal Shopping, Vitamins & Supplements, Shopping',\n",
       "       'Automotive, Car Rental, Hotels & Travel, Truck Rental',\n",
       "       'Korean, Restaurants'], dtype=object)"
      ]
     },
     "execution_count": 8,
     "metadata": {},
     "output_type": "execute_result"
    }
   ],
   "source": [
    "preview_dfs['business']['categories'].unique()[0:20]"
   ]
  },
  {
   "cell_type": "code",
   "execution_count": 9,
   "id": "178702fa-eb79-43de-8c33-129f9aca634c",
   "metadata": {},
   "outputs": [
    {
     "name": "stdout",
     "output_type": "stream",
     "text": [
      "Note = 1:\n",
      "=========\n",
      "\n",
      "They have the WORST service advisors! Used to be good before Kelly and her team left. Unfortunately, it's convenient to work if I need oil change before I can make it to another Honda dealer.\n",
      "\n",
      "\n",
      "It is unfortunate that with such a unique location and such a brand and product offering this specific store offers such lousy service. The wait is endless, no one is available to help and at Christmas time getting a gift wrap is act of God that requires endless wait. I bought gifts and knew that the wait for wrapping would be long SO I even left my items at the store to be gift wrapped at their leisure. They were not even moved from the counter where I bought them when I returned almost two hours later ready for pick up. This was a gift that needed to be given and The staff COMPLETELY \"dropped the ball\" on my time constraints! \n",
      "\n",
      "I love their stuff, but today was my last shopping experience at this location: couldn't get a gift wrapped after being assured that it could be done in a timely fashion???  I'll  cancel my card, do everything online and try not to go there if I can. It's really a shame!\n",
      "\n",
      "\n",
      "Worst place I've ever visited. The bouncer was rude and he didn't have to be. This place thinks just cause your on broadway you can treat people bad and over charge. \n",
      " I'm not a tourist I live here and will never visit or recommend\n",
      "\n",
      "\n",
      "Only giving a 1 because there is nothing lower!!! Angie\n",
      "Gave me the worst haircut I've ever had!!! I came in with 2 photos of the cut I wanted came out with my hair looking NOTHING like the photos!!  Even when pointed out to her she didn't not pay attention to what she was doing.  Came out basically having a mans flattop!  Would never go to this place again!!! Nothing like going into the Holidays with a crappie haircut. Thank you!! Angie and Regis Hair salon!!\n",
      "\n",
      "\n",
      "Note = 2:\n",
      "=========\n",
      "\n",
      "We arrived for lunch at 12p on a Friday - wasn't busy at all. It took FOREVER to get anything. We were really pleasant and kind but we had to complain several times to get any beverages that we ordered. It took them 40 minutes to let us know that a beer we ordered was no longer available. The food was great, but not worth the lengthy wait and slow service.\n",
      "\n",
      "\n",
      "This use to be a reliable place for sandwiches but the last two were not good at all.  Cheesesteak was light on the meat.  There are so many good rolls to pick from in the Philly area but this roll was one of the worst and stale.\n",
      "\n",
      "Hopefully it was just an off night. I'll try again but not for awhile.\n",
      "\n",
      "\n",
      "Ordered Caramel frappe at Drive thru, BIG MISTAKE! Took 30 min and there were only 2 cars in front of me.\n",
      "\n",
      "\n",
      "We won't be back. We got the Brussel sprouts and they tasted like pure salt. Our server sent them back and we got another batch and they tasted exactly the same. My husband got the burger and it was okay but the fries that came with it tasted like pure salt also. Maybe the cook working this night was just a little heavy handed on the salt, I don't know. I got the flank steak and it was okay. I wouldn't rave about it or ever get it again. Our cocktails were good and the atmosphere was nice, but we were really disappointed with the food :(\n",
      "\n",
      "\n",
      "Note = 3:\n",
      "=========\n",
      "\n",
      "Honestly the food doesn't knock my socks off but other people seem to love this place. I go because my husband likes it as for me I'd rather go to a different BBQ spot. I guess it also depends on what you order.\n",
      "\n",
      "\n",
      "If not for the pretentious, haughty, superior attitude of our waiter, I would have given this place four stars or possibly more... Seriously. That kind of attitude is exactly why I left New York. We wanted to order a bottle of wine, asked for his suggestion, and he answers with, \"How much do you want to spend?\" Ummm... Excuse me? How about, \"I'm happy to make some recommendations. Let's find a price point you're comfortable with...\" He didn't smile ONCE during the meal service and also found it necessary to correct us on several points of preference. Snob. The food is GOOD. The only thing that was great was the blueberry lasagna. And it is superb. So was the chocolate confection for dessert. I'd say go. And I hope you don't get that waiter.\n",
      "\n",
      "\n",
      "Definitely get in line before 8:30am. We waited about 30 minutes. Pancakes were fine. My friends got the raspberry pancakes, the sweet potato pancakes and the san antonio. I got the sugar and spice pancakes. All were well and fine, a bit dry. I don't understand the hype, but if the line isn't too long it's not bad for normal breakfast food. If the line is longer I would highly recommend skipping this place and heading down the street to Fido - insanely good coffee and great breakfast food.\n",
      "\n",
      "\n",
      "It's really a run of the middle as far as Cuban food goes. Not bad but not great either. I work close by so I end up there for lunch quite a bit. It's definitely worth checking out for lunch as their specials change every day and prepared freshly.\n",
      "\n",
      "\n",
      "Note = 4:\n",
      "=========\n",
      "\n",
      "I love the concept of this place. One half of it a café that serves different types of coffees and teas, and breakfast type items, and the other world where it serves bar type apps, salads, and sandwiches,  Can't forget that they also serve a wide variety of beers that they serve on tap, bottled, or in can.  \n",
      "\n",
      "This place is pretty darn casual, and one can hang out here for hours with their friends.  Reminds me of the good ol' college days when no time could pass especially on a chill out Sunday Fun day.\n",
      "\n",
      "Bring your four legged friend too.  They are totally welcome.\n",
      "\n",
      "\n",
      "We had an alumni event here and I really enjoyed it. It's dimly lit, very cozy inside - it's decorated kind of like an old library. It was a great quiet,casual spot if you're looking for a low key place to have good drinks. \n",
      "\n",
      "They have a few beers and wines, but we focused mostly on the happy hour cocktails - moscow mules, old fashioneds, etc. Everyone loved theirs, no complaints!\n",
      "\n",
      "\n",
      "Few years ago this used to be the best. Wasnt that price they had a ton of stuff staff always helpful and friendly. I bough a part once it was faulty returned it they gave me my money back no question about it. Another time I bough a part I didnt need returned that too money in hand no question. Starting to go down now but still pretty decent place\n",
      "\n",
      "\n",
      "We ate at the bar on a Friday night, where the extremely charming bartender made us the best Manhattans I've ever had, using Carpano Antica Formula vermouth.  We ordered the lamb meatballs, which were okay, and the spring rolls, which were excellent. \n",
      "\n",
      "This is a perfect place to stop for a drink in the Quarter, if you need a nice civilized break.  The drinks were extremely expensive, but well worth it for the occasional night out.\n",
      "\n",
      "The manager, Eric, could not have been more professional and friendly.  We will definitely go back.\n",
      "\n",
      "\n",
      "Note = 5:\n",
      "=========\n",
      "\n",
      "We sat at a pretty hectic lunch at Johnny rockets in the casino. Our server was Lyndel! She was awesome! Helped us at every needy request lol... Good was good, too! I'm too full\n",
      "\n",
      "\n",
      "Great store. Insane selection. Incredible customer service.\n",
      "\n",
      "Wish they could come to Ft. McMurray. \n",
      "\n",
      ":(\n",
      "\n",
      "\n",
      "I really like Franzone's. The owner is typically around, super friendly, and seems to really care about the product. While I'm not a big fan of sweet sauce, they also do a decent cheesesteak, fries, etc. Honestly, they may have been closer to a 4 if not that it's always just a really pleasant experience going in, which boosts their rating for me.\n",
      "\n",
      "\n",
      "Truly, I cannot say enough good things about this tiny, authentic, perfectly delicious eatery!  Growing up in the panhandle of Texas, we had plenty of authentic Mexican food in our home, and I'm always searching for good Mexican restaurants. El Limon is the best I've ever had in the state of Pennsylvania!  Sopes, tostadas, enchiladas, fajitas, burritos, fish tacos....all excellent and sooooo reasonable!  Waitstaff is always pleasant and attentive.  Best two features: homemade tamales and free margaritas!!  Bring the entire family for an amazing Mexican feast!  Ole!\n",
      "\n",
      "\n"
     ]
    }
   ],
   "source": [
    "review = preview_dfs['review']\n",
    "for star in range(1,6):\n",
    "    print(f'Note = {star}:\\n=========\\n')\n",
    "    for index in review[review['stars']==star].sample(4, random_state=0).index:\n",
    "        stars, text = review.loc[index, ['stars', 'text']].values\n",
    "        print(f'{text}\\n\\n')"
   ]
  },
  {
   "cell_type": "code",
   "execution_count": 10,
   "id": "378a20bd-b411-437b-8d0e-26aa09155ad3",
   "metadata": {},
   "outputs": [
    {
     "data": {
      "text/plain": [
       "<Axes: xlabel='class'>"
      ]
     },
     "execution_count": 10,
     "metadata": {},
     "output_type": "execute_result"
    },
    {
     "data": {
      "image/png": "[encoded data removed]",
      "text/plain": [
       "<Figure size 640x480 with 1 Axes>"
      ]
     },
     "metadata": {},
     "output_type": "display_data"
    }
   ],
   "source": [
    "preview_dfs['review']['class'] = preview_dfs['review']['stars'] > 3\n",
    "preview_dfs['review']['class'].value_counts().sort_index().plot.bar()"
   ]
  },
  {
   "cell_type": "markdown",
   "id": "e24e55e2-8915-49c5-9a40-4caae8829701",
   "metadata": {},
   "source": [
    "# EXTRACTION GOOD/BAD REVIEWS DES RESTAURANTS"
   ]
  },
  {
   "cell_type": "markdown",
   "id": "a457a513-3b99-4954-b821-a656187625d8",
   "metadata": {},
   "source": [
    "## CATEGORIES DE BUSINESS"
   ]
  },
  {
   "cell_type": "code",
   "execution_count": 11,
   "id": "a8944ed4-2277-44de-bdb6-e469e03b8ced",
   "metadata": {},
   "outputs": [
    {
     "data": {
      "text/plain": [
       "149268    [Nurseries & Gardening, Landscape Architects, ...\n",
       "9929      [Hotels, Event Planning & Services, Hotels & T...\n",
       "42545                 [Restaurants, American (Traditional)]\n",
       "29703     [Botanical Gardens, Event Planning & Services,...\n",
       "124282                     [Sandwiches, Delis, Restaurants]\n",
       "Name: _cats, dtype: object"
      ]
     },
     "execution_count": 11,
     "metadata": {},
     "output_type": "execute_result"
    }
   ],
   "source": [
    "business = pd.read_json(ORIGINAL_DATASET_DIR + PREFIX_YELP + 'business.json', lines=True)\n",
    "business['_cats'] = business['categories'].apply(lambda x: [cat.strip() for cat in x.split(',')] if x else [])\n",
    "business['_cats'].sample(5)"
   ]
  },
  {
   "cell_type": "code",
   "execution_count": 12,
   "id": "c62037b7-610f-4f87-805b-231eceac1847",
   "metadata": {},
   "outputs": [],
   "source": [
    "categories = set()\n",
    "for index in business.index:\n",
    "    categories.update(business.loc[index, '_cats'])"
   ]
  },
  {
   "cell_type": "code",
   "execution_count": 13,
   "id": "c6fb55f7-93a8-49ef-9557-9a5bb862eccb",
   "metadata": {},
   "outputs": [
    {
     "data": {
      "text/plain": [
       "['Restaurants', 'Pop-Up Restaurants', 'Restaurant Supplies']"
      ]
     },
     "execution_count": 13,
     "metadata": {},
     "output_type": "execute_result"
    }
   ],
   "source": [
    "[categorie for categorie in categories if 'restaurant' in categorie.lower()]"
   ]
  },
  {
   "cell_type": "code",
   "execution_count": 14,
   "id": "5addd077-8d19-404a-a889-ab55b5b8ca1f",
   "metadata": {},
   "outputs": [
    {
     "data": {
      "text/plain": [
       "['Food Stands',\n",
       " 'Food',\n",
       " 'Food Trucks',\n",
       " 'Seafood',\n",
       " 'Do-It-Yourself Food',\n",
       " 'Food Tours',\n",
       " 'Fast Food',\n",
       " 'Food Court',\n",
       " 'Food Delivery Services',\n",
       " 'Ethnic Food',\n",
       " 'Imported Food',\n",
       " 'Food Banks',\n",
       " 'Live/Raw Food',\n",
       " 'Seafood Markets',\n",
       " 'Comfort Food',\n",
       " 'Specialty Food',\n",
       " 'Soul Food']"
      ]
     },
     "execution_count": 14,
     "metadata": {},
     "output_type": "execute_result"
    }
   ],
   "source": [
    "[categorie for categorie in categories if 'food' in categorie.lower()]"
   ]
  },
  {
   "cell_type": "markdown",
   "id": "0575a828-cc20-42e4-bccc-8ab0284edb00",
   "metadata": {},
   "source": [
    "## REDUCTION DU DATAFRAME REVIEW ET SAUVEGARDE"
   ]
  },
  {
   "cell_type": "markdown",
   "id": "b5a7103c-4b23-440b-80d1-465de7c90400",
   "metadata": {},
   "source": [
    "- par chunk de 100000\n",
    "- Filtrage des reviews sur categorie \"restaurants\"\n",
    "- Séparation en bad/good reviews (bad <= stars = 3 < good)\n",
    "- Ne garder que text et séparer en 2 fichiers good/bad news"
   ]
  },
  {
   "cell_type": "code",
   "execution_count": 15,
   "id": "708caef0-50d3-45c1-977b-b55583db4d59",
   "metadata": {},
   "outputs": [
    {
     "data": {
      "text/plain": [
       "['MTSW4McQd7CbVtyjqoe9mw',\n",
       " 'CF33F8-E6oudUQ46HnavjQ',\n",
       " 'k0hlBqXX-Bt0vf1op7Jr1w',\n",
       " 'bBDDEgkFA1Otx9Lfe7BZUQ',\n",
       " 'eEOYSgkmpB90uNA7lDOMRA',\n",
       " 'il_Ro8jwPlHresjw9EGmBg',\n",
       " '0bPLkL0QhhPO5kt1_EXmNQ',\n",
       " 'MUTTqe8uqyMdBl186RmNeA',\n",
       " 'ROeacJQwBeh05Rqg7F6TCg',\n",
       " 'WKMJwqnfZKsAae75RMP6jA']"
      ]
     },
     "execution_count": 15,
     "metadata": {},
     "output_type": "execute_result"
    }
   ],
   "source": [
    "restaurants_ids = business[~business['categories'].isna() & business['categories'].str.contains('Restaurants')]['business_id'].to_list()\n",
    "restaurants_ids[0:10]"
   ]
  },
  {
   "cell_type": "code",
   "execution_count": 16,
   "id": "8fae5d1f-a1ea-4c83-9340-2f32b3b14ddf",
   "metadata": {},
   "outputs": [],
   "source": [
    "append = False\n",
    "good_reviews_file = WORK_DATASET_DIR + 'good_reviews.parquet'\n",
    "bad_reviews_file = WORK_DATASET_DIR + 'bad_reviews.parquet'\n",
    "\n",
    "if EXTRACT_PARQUET:\n",
    "    for chunk in pd.read_json(ORIGINAL_DATASET_DIR + PREFIX_YELP + 'review.json', lines=True, chunksize=100000):\n",
    "        restaurant_reviews = chunk[chunk['business_id'].isin(restaurants_ids)].copy()\n",
    "        restaurant_reviews['class'] = restaurant_reviews['stars'] > 3\n",
    "        restaurant_reviews = restaurant_reviews.loc[:, ['text', 'class']]\n",
    "    \n",
    "        good_reviews = pd.DataFrame(restaurant_reviews[restaurant_reviews['class'] == True]['text'])\n",
    "        bad_reviews = pd.DataFrame(restaurant_reviews[restaurant_reviews['class'] == False]['text'])\n",
    "    \n",
    "        good_reviews.to_parquet(WORK_DATASET_DIR + 'good_reviews.parquet', engine='fastparquet', append=append)\n",
    "        bad_reviews.to_parquet(WORK_DATASET_DIR + 'bad_reviews.parquet', engine='fastparquet', append=append)\n",
    "        append = True"
   ]
  },
  {
   "cell_type": "code",
   "execution_count": 17,
   "id": "62fc51f8-cc85-4b25-b63e-86cf3bf56940",
   "metadata": {},
   "outputs": [],
   "source": [
    "bad_reviews = pd.read_parquet(bad_reviews_file)"
   ]
  },
  {
   "cell_type": "code",
   "execution_count": 18,
   "id": "b9227443-295c-4f42-b37f-79bc77fb3252",
   "metadata": {},
   "outputs": [
    {
     "data": {
      "text/html": [
       "<div>\n",
       "<style scoped>\n",
       "    .dataframe tbody tr th:only-of-type {\n",
       "        vertical-align: middle;\n",
       "    }\n",
       "\n",
       "    .dataframe tbody tr th {\n",
       "        vertical-align: top;\n",
       "    }\n",
       "\n",
       "    .dataframe thead th {\n",
       "        text-align: right;\n",
       "    }\n",
       "</style>\n",
       "<table border=\"1\" class=\"dataframe\">\n",
       "  <thead>\n",
       "    <tr style=\"text-align: right;\">\n",
       "      <th></th>\n",
       "      <th>text</th>\n",
       "    </tr>\n",
       "    <tr>\n",
       "      <th>index</th>\n",
       "      <th></th>\n",
       "    </tr>\n",
       "  </thead>\n",
       "  <tbody>\n",
       "    <tr>\n",
       "      <th>0</th>\n",
       "      <td>If you decide to eat here, just be aware it is...</td>\n",
       "    </tr>\n",
       "    <tr>\n",
       "      <th>2</th>\n",
       "      <td>Family diner. Had the buffet. Eclectic assortm...</td>\n",
       "    </tr>\n",
       "    <tr>\n",
       "      <th>5</th>\n",
       "      <td>I am a long term frequent customer of this est...</td>\n",
       "    </tr>\n",
       "    <tr>\n",
       "      <th>9</th>\n",
       "      <td>Had a party of 6 here for hibachi. Our waitres...</td>\n",
       "    </tr>\n",
       "    <tr>\n",
       "      <th>21</th>\n",
       "      <td>Upland is a brewery based out of Bloomington, ...</td>\n",
       "    </tr>\n",
       "  </tbody>\n",
       "</table>\n",
       "</div>"
      ],
      "text/plain": [
       "                                                    text\n",
       "index                                                   \n",
       "0      If you decide to eat here, just be aware it is...\n",
       "2      Family diner. Had the buffet. Eclectic assortm...\n",
       "5      I am a long term frequent customer of this est...\n",
       "9      Had a party of 6 here for hibachi. Our waitres...\n",
       "21     Upland is a brewery based out of Bloomington, ..."
      ]
     },
     "execution_count": 18,
     "metadata": {},
     "output_type": "execute_result"
    }
   ],
   "source": [
    "bad_reviews.head()"
   ]
  },
  {
   "cell_type": "code",
   "execution_count": 19,
   "id": "3d04ec56-7dc0-4579-a4df-7e54b0b88d28",
   "metadata": {},
   "outputs": [
    {
     "name": "stdout",
     "output_type": "stream",
     "text": [
      "INFO: Pandarallel will run on 2 workers.\n",
      "INFO: Pandarallel will use standard multiprocessing data transfer (pipe) to transfer data between the main process and workers.\n",
      "\n",
      "WARNING: You are on Windows. If you detect any issue with pandarallel, be sure you checked out the Troubleshooting page:\n",
      "https://nalepae.github.io/pandarallel/troubleshooting/\n"
     ]
    },
    {
     "data": {
      "application/vnd.jupyter.widget-view+json": {
       "model_id": "195e637ab61c4cd5b2707ea10899e7f4",
       "version_major": 2,
       "version_minor": 0
      },
      "text/plain": [
       "VBox(children=(HBox(children=(IntProgress(value=0, description='0.00%', max=5000), Label(value='0 / 5000'))), …"
      ]
     },
     "metadata": {},
     "output_type": "display_data"
    },
    {
     "data": {
      "text/html": [
       "<div>\n",
       "<style scoped>\n",
       "    .dataframe tbody tr th:only-of-type {\n",
       "        vertical-align: middle;\n",
       "    }\n",
       "\n",
       "    .dataframe tbody tr th {\n",
       "        vertical-align: top;\n",
       "    }\n",
       "\n",
       "    .dataframe thead th {\n",
       "        text-align: right;\n",
       "    }\n",
       "</style>\n",
       "<table border=\"1\" class=\"dataframe\">\n",
       "  <thead>\n",
       "    <tr style=\"text-align: right;\">\n",
       "      <th></th>\n",
       "      <th>text</th>\n",
       "    </tr>\n",
       "    <tr>\n",
       "      <th>index</th>\n",
       "      <th></th>\n",
       "    </tr>\n",
       "  </thead>\n",
       "  <tbody>\n",
       "    <tr>\n",
       "      <th>2801606</th>\n",
       "      <td>go &amp; b 's today . sit bar hand menu . place pr...</td>\n",
       "    </tr>\n",
       "    <tr>\n",
       "      <th>306312</th>\n",
       "      <td>airport renovation stay away absolutely airpor...</td>\n",
       "    </tr>\n",
       "    <tr>\n",
       "      <th>4894051</th>\n",
       "      <td>simple breakfast . small cross ihop , denny 's...</td>\n",
       "    </tr>\n",
       "    <tr>\n",
       "      <th>4396184</th>\n",
       "      <td>great happy hour sushi , kind food pretty good...</td>\n",
       "    </tr>\n",
       "    <tr>\n",
       "      <th>5478629</th>\n",
       "      <td>total fail mother 's day brunch ... check yelp...</td>\n",
       "    </tr>\n",
       "  </tbody>\n",
       "</table>\n",
       "</div>"
      ],
      "text/plain": [
       "                                                      text\n",
       "index                                                     \n",
       "2801606  go & b 's today . sit bar hand menu . place pr...\n",
       "306312   airport renovation stay away absolutely airpor...\n",
       "4894051  simple breakfast . small cross ihop , denny 's...\n",
       "4396184  great happy hour sushi , kind food pretty good...\n",
       "5478629  total fail mother 's day brunch ... check yelp..."
      ]
     },
     "execution_count": 19,
     "metadata": {},
     "output_type": "execute_result"
    }
   ],
   "source": [
    "pandarallel.initialize(progress_bar=True)\n",
    "\n",
    "if SAMPLING_SIZE:\n",
    "    bad_reviews = bad_reviews.sample(SAMPLING_SIZE, random_state=0)\n",
    "\n",
    "bad_reviews['text'] = bad_reviews['text'].parallel_apply(preprocess_text)\n",
    "bad_reviews.sample(5)"
   ]
  },
  {
   "cell_type": "code",
   "execution_count": null,
   "id": "07b61656-b26e-4455-b1c1-1cebef290666",
   "metadata": {},
   "outputs": [],
   "source": []
  }
 ],
 "metadata": {
  "kernelspec": {
   "display_name": "Python 3 (ipykernel)",
   "language": "python",
   "name": "python3"
  },
  "language_info": {
   "codemirror_mode": {
    "name": "ipython",
    "version": 3
   },
   "file_extension": ".py",
   "mimetype": "text/x-python",
   "name": "python",
   "nbconvert_exporter": "python",
   "pygments_lexer": "ipython3",
   "version": "3.10.11"
  }
 },
 "nbformat": 4,
 "nbformat_minor": 5
}
