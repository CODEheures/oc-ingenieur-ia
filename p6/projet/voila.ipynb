{
 "cells": [
  {
   "cell_type": "code",
   "execution_count": null,
   "id": "f22e6278-1b34-49d6-a0f2-daa4eac8c01c",
   "metadata": {},
   "outputs": [],
   "source": [
    "! voila avis_restau-light.ipynb"
   ]
  },
  {
   "cell_type": "code",
   "execution_count": null,
   "id": "5940cff2-8f58-42ba-b7c2-33cc60d49082",
   "metadata": {},
   "outputs": [],
   "source": [
    "! jupyter nbconvert --HTMLExporter.exclude_input=True --execute --to html avis_restau-light.ipynb"
   ]
  }
 ],
 "metadata": {
  "kernelspec": {
   "display_name": "Python 3 (ipykernel)",
   "language": "python",
   "name": "python3"
  },
  "language_info": {
   "codemirror_mode": {
    "name": "ipython",
    "version": 3
   },
   "file_extension": ".py",
   "mimetype": "text/x-python",
   "name": "python",
   "nbconvert_exporter": "python",
   "pygments_lexer": "ipython3",
   "version": "3.10.11"
  }
 },
 "nbformat": 4,
 "nbformat_minor": 5
}
