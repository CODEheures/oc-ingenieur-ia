{
 "cells": [
  {
   "cell_type": "code",
   "execution_count": null,
   "id": "f22e6278-1b34-49d6-a0f2-daa4eac8c01c",
   "metadata": {},
   "outputs": [],
   "source": [
    "! voila avis_restau-light.ipynb"
   ]
  },
  {
   "cell_type": "code",
   "execution_count": 2,
   "id": "5940cff2-8f58-42ba-b7c2-33cc60d49082",
   "metadata": {},
   "outputs": [
    {
     "name": "stderr",
     "output_type": "stream",
     "text": [
      "[NbConvertApp] Converting notebook avis_restau-light.ipynb to html\n",
      "[ WARN:0@0.065] global shadow_sift.hpp:15 cv::xfeatures2d::SIFT_create DEPRECATED: cv.xfeatures2d.SIFT_create() is deprecated due SIFT tranfer to the main repository. https://github.com/opencv/opencv/issues/16736\n",
      "[ WARN:0@0.066] global shadow_sift.hpp:15 cv::xfeatures2d::SIFT_create DEPRECATED: cv.xfeatures2d.SIFT_create() is deprecated due SIFT tranfer to the main repository. https://github.com/opencv/opencv/issues/16736\n",
      "[ WARN:0@0.068] global shadow_sift.hpp:15 cv::xfeatures2d::SIFT_create DEPRECATED: cv.xfeatures2d.SIFT_create() is deprecated due SIFT tranfer to the main repository. https://github.com/opencv/opencv/issues/16736\n",
      "[ WARN:0@0.067] global shadow_sift.hpp:15 cv::xfeatures2d::SIFT_create DEPRECATED: cv.xfeatures2d.SIFT_create() is deprecated due SIFT tranfer to the main repository. https://github.com/opencv/opencv/issues/16736\n",
      "[ WARN:0@0.074] global shadow_sift.hpp:15 cv::xfeatures2d::SIFT_create DEPRECATED: cv.xfeatures2d.SIFT_create() is deprecated due SIFT tranfer to the main repository. https://github.com/opencv/opencv/issues/16736\n",
      "2023-11-18 13:49:12.910852: W tensorflow/stream_executor/platform/default/dso_loader.cc:64] Could not load dynamic library 'nvcuda.dll'; dlerror: nvcuda.dll not found\n",
      "2023-11-18 13:49:12.910907: W tensorflow/stream_executor/cuda/cuda_driver.cc:269] failed call to cuInit: UNKNOWN ERROR (303)\n",
      "2023-11-18 13:49:12.911134: I tensorflow/stream_executor/cuda/cuda_diagnostics.cc:169] retrieving CUDA diagnostic information for host: GERONIMO\n",
      "2023-11-18 13:49:12.911296: I tensorflow/stream_executor/cuda/cuda_diagnostics.cc:176] hostname: GERONIMO\n",
      "2023-11-18 13:49:12.911583: I tensorflow/core/platform/cpu_feature_guard.cc:193] This TensorFlow binary is optimized with oneAPI Deep Neural Network Library (oneDNN) to use the following CPU instructions in performance-critical operations:  AVX\n",
      "To enable them in other operations, rebuild TensorFlow with the appropriate compiler flags.\n",
      "[NbConvertApp] WARNING | Alternative text is missing on 27 image(s).\n",
      "[NbConvertApp] Writing 5264041 bytes to avis_restau-light.html\n"
     ]
    }
   ],
   "source": [
    "! jupyter nbconvert --HTMLExporter.exclude_input=True --execute --to html avis_restau-light.ipynb"
   ]
  },
  {
   "cell_type": "code",
   "execution_count": null,
   "id": "fb0a1f56-9e12-4f62-b22e-10e1762ac189",
   "metadata": {},
   "outputs": [],
   "source": []
  }
 ],
 "metadata": {
  "kernelspec": {
   "display_name": "Python 3 (ipykernel)",
   "language": "python",
   "name": "python3"
  },
  "language_info": {
   "codemirror_mode": {
    "name": "ipython",
    "version": 3
   },
   "file_extension": ".py",
   "mimetype": "text/x-python",
   "name": "python",
   "nbconvert_exporter": "python",
   "pygments_lexer": "ipython3",
   "version": "3.10.11"
  }
 },
 "nbformat": 4,
 "nbformat_minor": 5
}
