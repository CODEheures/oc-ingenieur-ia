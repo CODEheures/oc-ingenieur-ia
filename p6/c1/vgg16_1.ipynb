{
 "cells": [
  {
   "cell_type": "code",
   "execution_count": 2,
   "id": "82f12730-6e2e-467d-91fe-fc797292cbfc",
   "metadata": {},
   "outputs": [],
   "source": [
    "from tensorflow import keras"
   ]
  },
  {
   "cell_type": "code",
   "execution_count": 6,
   "id": "a57a0d45-c6d1-45c4-822f-99a07f7c4145",
   "metadata": {},
   "outputs": [],
   "source": [
    "model = keras.models.Sequential()"
   ]
  },
  {
   "cell_type": "code",
   "execution_count": 7,
   "id": "269808d3-dc7d-4872-a0be-bef24b350823",
   "metadata": {},
   "outputs": [
    {
     "name": "stdout",
     "output_type": "stream",
     "text": [
      "Model: \"sequential_1\"\n",
      "_________________________________________________________________\n",
      " Layer (type)                Output Shape              Param #   \n",
      "=================================================================\n",
      " conv2d_13 (Conv2D)          (None, 254, 254, 64)      1792      \n",
      "                                                                 \n",
      " conv2d_14 (Conv2D)          (None, 254, 254, 64)      36928     \n",
      "                                                                 \n",
      " max_pooling2d_5 (MaxPooling  (None, 127, 127, 64)     0         \n",
      " 2D)                                                             \n",
      "                                                                 \n",
      " conv2d_15 (Conv2D)          (None, 127, 127, 128)     73856     \n",
      "                                                                 \n",
      " conv2d_16 (Conv2D)          (None, 127, 127, 128)     147584    \n",
      "                                                                 \n",
      " max_pooling2d_6 (MaxPooling  (None, 63, 63, 128)      0         \n",
      " 2D)                                                             \n",
      "                                                                 \n",
      " conv2d_17 (Conv2D)          (None, 63, 63, 256)       295168    \n",
      "                                                                 \n",
      " conv2d_18 (Conv2D)          (None, 63, 63, 256)       590080    \n",
      "                                                                 \n",
      " conv2d_19 (Conv2D)          (None, 63, 63, 256)       590080    \n",
      "                                                                 \n",
      " max_pooling2d_7 (MaxPooling  (None, 31, 31, 256)      0         \n",
      " 2D)                                                             \n",
      "                                                                 \n",
      " conv2d_20 (Conv2D)          (None, 31, 31, 512)       1180160   \n",
      "                                                                 \n",
      " conv2d_21 (Conv2D)          (None, 31, 31, 512)       2359808   \n",
      "                                                                 \n",
      " conv2d_22 (Conv2D)          (None, 31, 31, 512)       2359808   \n",
      "                                                                 \n",
      " max_pooling2d_8 (MaxPooling  (None, 15, 15, 512)      0         \n",
      " 2D)                                                             \n",
      "                                                                 \n",
      " conv2d_23 (Conv2D)          (None, 15, 15, 512)       2359808   \n",
      "                                                                 \n",
      " conv2d_24 (Conv2D)          (None, 15, 15, 512)       2359808   \n",
      "                                                                 \n",
      " conv2d_25 (Conv2D)          (None, 15, 15, 512)       2359808   \n",
      "                                                                 \n",
      " max_pooling2d_9 (MaxPooling  (None, 7, 7, 512)        0         \n",
      " 2D)                                                             \n",
      "                                                                 \n",
      " flatten_1 (Flatten)         (None, 25088)             0         \n",
      "                                                                 \n",
      " dense_3 (Dense)             (None, 4096)              102764544 \n",
      "                                                                 \n",
      " dense_4 (Dense)             (None, 4096)              16781312  \n",
      "                                                                 \n",
      " dense_5 (Dense)             (None, 1000)              4097000   \n",
      "                                                                 \n",
      "=================================================================\n",
      "Total params: 138,357,544\n",
      "Trainable params: 138,357,544\n",
      "Non-trainable params: 0\n",
      "_________________________________________________________________\n"
     ]
    }
   ],
   "source": [
    "model.add(keras.layers.Input(shape=(254,254,3), name='Input'))\n",
    "\n",
    "# Couche 1\n",
    "model.add(keras.layers.Conv2D(filters=64, kernel_size=(3,3), padding='same', activation='relu'))\n",
    "model.add(keras.layers.Conv2D(filters=64, kernel_size=(3,3), padding='same', activation='relu'))\n",
    "model.add(keras.layers.MaxPooling2D(pool_size=(2,2), strides=(2,2)))\n",
    "\n",
    "# Couche 2\n",
    "model.add(keras.layers.Conv2D(filters=128, kernel_size=(3,3), padding='same', activation='relu'))\n",
    "model.add(keras.layers.Conv2D(filters=128, kernel_size=(3,3), padding='same', activation='relu'))\n",
    "model.add(keras.layers.MaxPooling2D(pool_size=(2,2), strides=(2,2)))\n",
    "\n",
    "# Couche 3\n",
    "model.add(keras.layers.Conv2D(filters=256, kernel_size=(3,3), padding='same', activation='relu'))\n",
    "model.add(keras.layers.Conv2D(filters=256, kernel_size=(3,3), padding='same', activation='relu'))\n",
    "model.add(keras.layers.Conv2D(filters=256, kernel_size=(3,3), padding='same', activation='relu'))\n",
    "model.add(keras.layers.MaxPooling2D(pool_size=(2,2), strides=(2,2)))\n",
    "\n",
    "# Couche 4\n",
    "model.add(keras.layers.Conv2D(filters=512, kernel_size=(3,3), padding='same', activation='relu'))\n",
    "model.add(keras.layers.Conv2D(filters=512, kernel_size=(3,3), padding='same', activation='relu'))\n",
    "model.add(keras.layers.Conv2D(filters=512, kernel_size=(3,3), padding='same', activation='relu'))\n",
    "model.add(keras.layers.MaxPooling2D(pool_size=(2,2), strides=(2,2)))\n",
    "\n",
    "# Couche 5\n",
    "model.add(keras.layers.Conv2D(filters=512, kernel_size=(3,3), padding='same', activation='relu'))\n",
    "model.add(keras.layers.Conv2D(filters=512, kernel_size=(3,3), padding='same', activation='relu'))\n",
    "model.add(keras.layers.Conv2D(filters=512, kernel_size=(3,3), padding='same', activation='relu'))\n",
    "model.add(keras.layers.MaxPooling2D(pool_size=(2,2), strides=(2,2)))\n",
    "\n",
    "# Flatten\n",
    "model.add(keras.layers.Flatten())\n",
    "\n",
    "# Dense\n",
    "model.add(keras.layers.Dense(units=4096, activation='relu'))\n",
    "model.add(keras.layers.Dense(units=4096, activation='relu'))\n",
    "\n",
    "# Softmax\n",
    "model.add(keras.layers.Dense(units=1000, activation='softmax'))\n",
    "\n",
    "model.compile()\n",
    "model.summary()"
   ]
  },
  {
   "cell_type": "code",
   "execution_count": null,
   "id": "d680bdf4-bf20-4903-95d0-6d013458631e",
   "metadata": {},
   "outputs": [],
   "source": []
  }
 ],
 "metadata": {
  "kernelspec": {
   "display_name": "Python 3 (ipykernel)",
   "language": "python",
   "name": "python3"
  },
  "language_info": {
   "codemirror_mode": {
    "name": "ipython",
    "version": 3
   },
   "file_extension": ".py",
   "mimetype": "text/x-python",
   "name": "python",
   "nbconvert_exporter": "python",
   "pygments_lexer": "ipython3",
   "version": "3.10.11"
  }
 },
 "nbformat": 4,
 "nbformat_minor": 5
}
