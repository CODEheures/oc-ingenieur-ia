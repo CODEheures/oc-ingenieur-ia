{
 "cells": [
  {
   "cell_type": "code",
   "execution_count": 1,
   "id": "3222352e-f0ab-4b57-a641-3642265ee06d",
   "metadata": {},
   "outputs": [],
   "source": [
    "from keras.applications.vgg16 import VGG16"
   ]
  },
  {
   "cell_type": "code",
   "execution_count": 2,
   "id": "f1314948-e8e7-459a-bdd8-78e4eacce677",
   "metadata": {},
   "outputs": [
    {
     "name": "stdout",
     "output_type": "stream",
     "text": [
      "Downloading data from https://storage.googleapis.com/tensorflow/keras-applications/vgg16/vgg16_weights_tf_dim_ordering_tf_kernels.h5\n",
      "553467096/553467096 [==============================] - 14s 0us/step\n"
     ]
    }
   ],
   "source": [
    "model = VGG16()"
   ]
  },
  {
   "cell_type": "code",
   "execution_count": 7,
   "id": "070a4a63-9a2d-4abc-b210-54d5d1e383d3",
   "metadata": {},
   "outputs": [],
   "source": [
    "from keras.utils import load_img, img_to_array\n",
    "from keras.applications.vgg16 import preprocess_input"
   ]
  },
  {
   "cell_type": "code",
   "execution_count": 31,
   "id": "6f66da5e-392e-4043-99b5-f0c7ff6b60ee",
   "metadata": {},
   "outputs": [],
   "source": [
    "img = load_img('tour_e.jpg', target_size=(224,224,3))"
   ]
  },
  {
   "cell_type": "code",
   "execution_count": 32,
   "id": "5952b754-2de9-43da-942d-eef874e2e3b4",
   "metadata": {},
   "outputs": [],
   "source": [
    "img = img_to_array(img)"
   ]
  },
  {
   "cell_type": "code",
   "execution_count": 33,
   "id": "a889e9a7-cda5-4cce-bc40-ff21a16d631b",
   "metadata": {},
   "outputs": [],
   "source": [
    "img = img.reshape(1, img.shape[0],img.shape[1],img.shape[2])"
   ]
  },
  {
   "cell_type": "code",
   "execution_count": 34,
   "id": "7e394bd0-58a3-4974-ab65-81156db0487e",
   "metadata": {},
   "outputs": [
    {
     "data": {
      "text/plain": [
       "(1, 224, 224, 3)"
      ]
     },
     "execution_count": 34,
     "metadata": {},
     "output_type": "execute_result"
    }
   ],
   "source": [
    "img.shape"
   ]
  },
  {
   "cell_type": "code",
   "execution_count": 35,
   "id": "de71347f-bb03-4df2-9d79-3162dfb8ea34",
   "metadata": {},
   "outputs": [],
   "source": [
    "img = preprocess_input(img)"
   ]
  },
  {
   "cell_type": "code",
   "execution_count": 36,
   "id": "485a085c-a6fa-4480-8fb2-33a9ffbdca2f",
   "metadata": {},
   "outputs": [
    {
     "name": "stdout",
     "output_type": "stream",
     "text": [
      "1/1 [==============================] - 1s 511ms/step\n"
     ]
    }
   ],
   "source": [
    "y = model.predict(img)"
   ]
  },
  {
   "cell_type": "code",
   "execution_count": 37,
   "id": "d4e72563-9d8e-44e0-8c6b-927b71bd25ec",
   "metadata": {},
   "outputs": [
    {
     "data": {
      "text/plain": [
       "[[('n04346328', 'stupa', 0.2973005),\n",
       "  ('n03877845', 'palace', 0.21345854),\n",
       "  ('n02980441', 'castle', 0.19593811)]]"
      ]
     },
     "execution_count": 37,
     "metadata": {},
     "output_type": "execute_result"
    }
   ],
   "source": [
    "from keras.applications.vgg16 import decode_predictions\n",
    "\n",
    "decode_predictions(preds=y, top=3)"
   ]
  },
  {
   "cell_type": "code",
   "execution_count": null,
   "id": "708e323f-9800-4ac9-ad49-b8fe03fc7bb4",
   "metadata": {},
   "outputs": [],
   "source": []
  }
 ],
 "metadata": {
  "kernelspec": {
   "display_name": "Python 3 (ipykernel)",
   "language": "python",
   "name": "python3"
  },
  "language_info": {
   "codemirror_mode": {
    "name": "ipython",
    "version": 3
   },
   "file_extension": ".py",
   "mimetype": "text/x-python",
   "name": "python",
   "nbconvert_exporter": "python",
   "pygments_lexer": "ipython3",
   "version": "3.10.11"
  }
 },
 "nbformat": 4,
 "nbformat_minor": 5
}
