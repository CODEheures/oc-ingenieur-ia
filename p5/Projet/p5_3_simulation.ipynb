{
 "cells": [
  {
   "cell_type": "markdown",
   "id": "273e083d-bec4-4919-8060-4482174e9e8f",
   "metadata": {
    "tags": []
   },
   "source": [
    "# Imports"
   ]
  },
  {
   "cell_type": "code",
   "execution_count": 2,
   "id": "3c5f5f2a-234f-480d-9151-82205d0c1ce6",
   "metadata": {
    "_cell_guid": "b1076dfc-b9ad-4769-8c92-a6c4dae69d19",
    "_uuid": "8f2839f25d086af736a60e9eeb907d3b93b6e0e5",
    "tags": []
   },
   "outputs": [],
   "source": [
    "import numpy as np\n",
    "import pandas as pd\n",
    "import matplotlib.pyplot as plt\n",
    "import seaborn as sns\n",
    "from tabulate import tabulate\n",
    "\n",
    "from sklearn import preprocessing\n",
    "from sklearn.cluster import KMeans\n",
    "from sklearn import metrics\n",
    "\n",
    "import time\n",
    "from contextlib import contextmanager\n",
    "import gc\n",
    "import warnings\n",
    "import pprint\n",
    "from IPython.display import clear_output"
   ]
  },
  {
   "cell_type": "markdown",
   "id": "defc0592-2e81-43cb-97cb-6fd49985f8b9",
   "metadata": {
    "tags": []
   },
   "source": [
    "# Configuration"
   ]
  },
  {
   "cell_type": "code",
   "execution_count": 3,
   "id": "d65eb49d-0ef2-45eb-88ac-1f1cd7b06a50",
   "metadata": {
    "tags": []
   },
   "outputs": [],
   "source": [
    "RANDOM_STATE= 190276\n",
    "ROOT_INPUT = './data/work/'\n",
    "\n",
    "warnings.simplefilter(action='ignore', category=FutureWarning)\n",
    "warnings.simplefilter(action='ignore', category=UserWarning)\n",
    "sns.set()"
   ]
  },
  {
   "cell_type": "markdown",
   "id": "5542d4e9-9a16-4d07-858e-d46b74f617bc",
   "metadata": {
    "tags": []
   },
   "source": [
    "# Fonctions"
   ]
  },
  {
   "cell_type": "code",
   "execution_count": 4,
   "id": "b9c48473-455c-433e-b0b3-0e4e99d0e0d1",
   "metadata": {
    "tags": []
   },
   "outputs": [],
   "source": [
    "def scale(df: pd.DataFrame, robust = True) -> pd.DataFrame:\n",
    "    \n",
    "    if robust:\n",
    "        scaler = preprocessing.RobustScaler()\n",
    "    else:\n",
    "        scaler = preprocessing.StandardScaler()\n",
    "    columns = df.columns\n",
    "    index = df.index\n",
    "    df_scaled = scaler.fit_transform(df)\n",
    "    \n",
    "    df_scaled = pd.DataFrame(df_scaled, columns=columns, index=index)\n",
    "    \n",
    "    return df_scaled"
   ]
  },
  {
   "cell_type": "markdown",
   "id": "cf213369-27da-4b8b-9674-057430adceb0",
   "metadata": {},
   "source": [
    "# Model"
   ]
  },
  {
   "cell_type": "code",
   "execution_count": 5,
   "id": "2e541e51-7b92-4045-9893-15a7729b8e7f",
   "metadata": {
    "tags": []
   },
   "outputs": [],
   "source": [
    "def model_kmean(df, n_clusters, random_state = None, base_centers = None):\n",
    "    \n",
    "    # Selection des types number uniquement\n",
    "    df_kmean = df.select_dtypes('number')\n",
    "    \n",
    "    # Robust scale\n",
    "    df_scaled = scale(df_kmean)\n",
    "    \n",
    "    # Fit\n",
    "    init = base_centers if (type(base_centers) == np.ndarray) else 'k-means++'\n",
    "    n_init = 1 if (type(base_centers) == np.ndarray) else 10\n",
    "    kmeans = KMeans(n_clusters=n_clusters, random_state=random_state, init=init, n_init=1)\n",
    "    kmeans.fit(df_scaled)\n",
    "    \n",
    "    return kmeans"
   ]
  },
  {
   "cell_type": "markdown",
   "id": "0c323476-7f4b-4578-b6b7-a6057b84ffaf",
   "metadata": {
    "tags": []
   },
   "source": [
    "# Load DataFrame"
   ]
  },
  {
   "cell_type": "code",
   "execution_count": 6,
   "id": "796fca1e-27aa-4b01-bca8-696f266871f2",
   "metadata": {
    "tags": []
   },
   "outputs": [],
   "source": [
    "df = pd.read_pickle(ROOT_INPUT + 'rfm.pickle')\n",
    "df = df.sort_values(by='order_purchase_timestamp_max', ascending=True)\n",
    "df.reset_index(inplace=True)"
   ]
  },
  {
   "cell_type": "code",
   "execution_count": 7,
   "id": "ba84edc6-d8d2-4f43-8bbb-f82dbe9f1c13",
   "metadata": {
    "tags": []
   },
   "outputs": [
    {
     "data": {
      "text/html": [
       "<div>\n",
       "<style scoped>\n",
       "    .dataframe tbody tr th:only-of-type {\n",
       "        vertical-align: middle;\n",
       "    }\n",
       "\n",
       "    .dataframe tbody tr th {\n",
       "        vertical-align: top;\n",
       "    }\n",
       "\n",
       "    .dataframe thead th {\n",
       "        text-align: right;\n",
       "    }\n",
       "</style>\n",
       "<table border=\"1\" class=\"dataframe\">\n",
       "  <thead>\n",
       "    <tr style=\"text-align: right;\">\n",
       "      <th></th>\n",
       "      <th>customer_unique_id</th>\n",
       "      <th>recence</th>\n",
       "      <th>frequence</th>\n",
       "      <th>montant</th>\n",
       "      <th>order_purchase_timestamp_max</th>\n",
       "      <th>order_period_year_max</th>\n",
       "      <th>order_period_quarter_max</th>\n",
       "      <th>order_period_month_max</th>\n",
       "    </tr>\n",
       "  </thead>\n",
       "  <tbody>\n",
       "    <tr>\n",
       "      <th>0</th>\n",
       "      <td>b7d76e111c89f7ebf14761390f0f7d17</td>\n",
       "      <td>2551</td>\n",
       "      <td>0.0</td>\n",
       "      <td>72.89</td>\n",
       "      <td>2016-09-04 21:15:19</td>\n",
       "      <td>2016</td>\n",
       "      <td>2016Q3</td>\n",
       "      <td>2016-09</td>\n",
       "    </tr>\n",
       "    <tr>\n",
       "      <th>1</th>\n",
       "      <td>4854e9b3feff728c13ee5fc7d1547e92</td>\n",
       "      <td>2550</td>\n",
       "      <td>0.0</td>\n",
       "      <td>59.50</td>\n",
       "      <td>2016-09-05 00:15:34</td>\n",
       "      <td>2016</td>\n",
       "      <td>2016Q3</td>\n",
       "      <td>2016-09</td>\n",
       "    </tr>\n",
       "    <tr>\n",
       "      <th>2</th>\n",
       "      <td>0eb1ee9dba87f5b36b4613a65074337c</td>\n",
       "      <td>2523</td>\n",
       "      <td>0.0</td>\n",
       "      <td>100.00</td>\n",
       "      <td>2016-10-02 22:07:52</td>\n",
       "      <td>2016</td>\n",
       "      <td>2016Q4</td>\n",
       "      <td>2016-10</td>\n",
       "    </tr>\n",
       "    <tr>\n",
       "      <th>3</th>\n",
       "      <td>2f64e403852e6893ae37485d5fcacdaf</td>\n",
       "      <td>2522</td>\n",
       "      <td>0.0</td>\n",
       "      <td>21.90</td>\n",
       "      <td>2016-10-03 16:56:50</td>\n",
       "      <td>2016</td>\n",
       "      <td>2016Q4</td>\n",
       "      <td>2016-10</td>\n",
       "    </tr>\n",
       "    <tr>\n",
       "      <th>4</th>\n",
       "      <td>b8b8726af116a5cfb35b0315ecef9172</td>\n",
       "      <td>2522</td>\n",
       "      <td>0.0</td>\n",
       "      <td>21.50</td>\n",
       "      <td>2016-10-03 21:01:41</td>\n",
       "      <td>2016</td>\n",
       "      <td>2016Q4</td>\n",
       "      <td>2016-10</td>\n",
       "    </tr>\n",
       "    <tr>\n",
       "      <th>...</th>\n",
       "      <td>...</td>\n",
       "      <td>...</td>\n",
       "      <td>...</td>\n",
       "      <td>...</td>\n",
       "      <td>...</td>\n",
       "      <td>...</td>\n",
       "      <td>...</td>\n",
       "      <td>...</td>\n",
       "    </tr>\n",
       "    <tr>\n",
       "      <th>92953</th>\n",
       "      <td>9c3af16efacb7aa06aa3bc674556c5d6</td>\n",
       "      <td>1800</td>\n",
       "      <td>26.5</td>\n",
       "      <td>190.00</td>\n",
       "      <td>2018-09-25 11:59:18</td>\n",
       "      <td>2018</td>\n",
       "      <td>2018Q3</td>\n",
       "      <td>2018-09</td>\n",
       "    </tr>\n",
       "    <tr>\n",
       "      <th>92954</th>\n",
       "      <td>ba84da8c159659f116329563a0a981dd</td>\n",
       "      <td>1799</td>\n",
       "      <td>5.0</td>\n",
       "      <td>76.00</td>\n",
       "      <td>2018-09-26 08:40:15</td>\n",
       "      <td>2018</td>\n",
       "      <td>2018Q3</td>\n",
       "      <td>2018-09</td>\n",
       "    </tr>\n",
       "    <tr>\n",
       "      <th>92955</th>\n",
       "      <td>634420a0ea42302205032ed44ac7fccc</td>\n",
       "      <td>1794</td>\n",
       "      <td>23.0</td>\n",
       "      <td>65.00</td>\n",
       "      <td>2018-10-01 15:30:09</td>\n",
       "      <td>2018</td>\n",
       "      <td>2018Q4</td>\n",
       "      <td>2018-10</td>\n",
       "    </tr>\n",
       "    <tr>\n",
       "      <th>92956</th>\n",
       "      <td>af5454198a97379394cacf676e1e96cb</td>\n",
       "      <td>1792</td>\n",
       "      <td>9.0</td>\n",
       "      <td>178.00</td>\n",
       "      <td>2018-10-03 18:55:29</td>\n",
       "      <td>2018</td>\n",
       "      <td>2018Q4</td>\n",
       "      <td>2018-10</td>\n",
       "    </tr>\n",
       "    <tr>\n",
       "      <th>92957</th>\n",
       "      <td>262e1f1e26e92e86375f86840b4ffd63</td>\n",
       "      <td>1779</td>\n",
       "      <td>63.5</td>\n",
       "      <td>197.50</td>\n",
       "      <td>2018-10-16 20:16:02</td>\n",
       "      <td>2018</td>\n",
       "      <td>2018Q4</td>\n",
       "      <td>2018-10</td>\n",
       "    </tr>\n",
       "  </tbody>\n",
       "</table>\n",
       "<p>92958 rows × 8 columns</p>\n",
       "</div>"
      ],
      "text/plain": [
       "                     customer_unique_id  recence  frequence  montant  \\\n",
       "0      b7d76e111c89f7ebf14761390f0f7d17     2551        0.0    72.89   \n",
       "1      4854e9b3feff728c13ee5fc7d1547e92     2550        0.0    59.50   \n",
       "2      0eb1ee9dba87f5b36b4613a65074337c     2523        0.0   100.00   \n",
       "3      2f64e403852e6893ae37485d5fcacdaf     2522        0.0    21.90   \n",
       "4      b8b8726af116a5cfb35b0315ecef9172     2522        0.0    21.50   \n",
       "...                                 ...      ...        ...      ...   \n",
       "92953  9c3af16efacb7aa06aa3bc674556c5d6     1800       26.5   190.00   \n",
       "92954  ba84da8c159659f116329563a0a981dd     1799        5.0    76.00   \n",
       "92955  634420a0ea42302205032ed44ac7fccc     1794       23.0    65.00   \n",
       "92956  af5454198a97379394cacf676e1e96cb     1792        9.0   178.00   \n",
       "92957  262e1f1e26e92e86375f86840b4ffd63     1779       63.5   197.50   \n",
       "\n",
       "      order_purchase_timestamp_max order_period_year_max  \\\n",
       "0              2016-09-04 21:15:19                  2016   \n",
       "1              2016-09-05 00:15:34                  2016   \n",
       "2              2016-10-02 22:07:52                  2016   \n",
       "3              2016-10-03 16:56:50                  2016   \n",
       "4              2016-10-03 21:01:41                  2016   \n",
       "...                            ...                   ...   \n",
       "92953          2018-09-25 11:59:18                  2018   \n",
       "92954          2018-09-26 08:40:15                  2018   \n",
       "92955          2018-10-01 15:30:09                  2018   \n",
       "92956          2018-10-03 18:55:29                  2018   \n",
       "92957          2018-10-16 20:16:02                  2018   \n",
       "\n",
       "      order_period_quarter_max order_period_month_max  \n",
       "0                       2016Q3                2016-09  \n",
       "1                       2016Q3                2016-09  \n",
       "2                       2016Q4                2016-10  \n",
       "3                       2016Q4                2016-10  \n",
       "4                       2016Q4                2016-10  \n",
       "...                        ...                    ...  \n",
       "92953                   2018Q3                2018-09  \n",
       "92954                   2018Q3                2018-09  \n",
       "92955                   2018Q4                2018-10  \n",
       "92956                   2018Q4                2018-10  \n",
       "92957                   2018Q4                2018-10  \n",
       "\n",
       "[92958 rows x 8 columns]"
      ]
     },
     "execution_count": 7,
     "metadata": {},
     "output_type": "execute_result"
    }
   ],
   "source": [
    "df"
   ]
  },
  {
   "cell_type": "code",
   "execution_count": 8,
   "id": "d13822a6-d52f-464c-8548-035962bf4826",
   "metadata": {
    "tags": []
   },
   "outputs": [],
   "source": [
    "# Colonnes RFM\n",
    "rfm = ['recence', 'frequence', 'montant']"
   ]
  },
  {
   "cell_type": "markdown",
   "id": "4d820535-a1b6-4dba-bd3e-81bd99f3594a",
   "metadata": {},
   "source": [
    "# Recherche de la période optimale de reactualisation du model de clustering"
   ]
  },
  {
   "cell_type": "markdown",
   "id": "0a7895c3-d2f0-4f0d-b591-dda81db467f0",
   "metadata": {},
   "source": [
    "## Test par ajout incrémental"
   ]
  },
  {
   "cell_type": "markdown",
   "id": "362dacd3-e4df-44d7-ae3c-cbf4d81c1b2f",
   "metadata": {},
   "source": [
    "### Clustering avec 1 an de données\n"
   ]
  },
  {
   "cell_type": "markdown",
   "id": "077c6a2d-2063-45ee-adf0-bcfcbd386322",
   "metadata": {},
   "source": [
    "Le principe est le suivant:\n",
    "\n",
    "- Un clustering de base est réalisé sur 1 an de data\n",
    "- On crée une boucle de calcul dans laquelle:\n",
    "  - On ajoute un jour de data\n",
    "  - on refait un clustering sur ce nouveau jeu de données elargie (en prenant garde d'utiliser les mêmes centroïds que le clustering de base afin de ne pas changer l'index des clusters)\n",
    "  - on calcul l'evolution des clusters par rapport au clustering de base avec la metric Adjusted Rand Index\n",
    "- On observe la courbe d'évolution journalière de l'ARI pour en déduire la période optimale de réactualisation du model"
   ]
  },
  {
   "cell_type": "markdown",
   "id": "d139860f-10f5-4b61-a7e4-61e26281d66e",
   "metadata": {},
   "source": [
    "#### Extraction du dataframe RFM de la 1ere année"
   ]
  },
  {
   "cell_type": "code",
   "execution_count": 9,
   "id": "c6325b46-7cc6-4acd-a864-6e2c5290a8a3",
   "metadata": {
    "tags": []
   },
   "outputs": [],
   "source": [
    "base_days = 365"
   ]
  },
  {
   "cell_type": "code",
   "execution_count": 10,
   "id": "1a6337c0-ce8e-4100-9f22-fe627af750d1",
   "metadata": {
    "tags": []
   },
   "outputs": [],
   "source": [
    "date_base_max = (pd.to_datetime(df['order_purchase_timestamp_max'].min()) + pd.Timedelta(unit='days', value=base_days)).round('d')\n",
    "df_base = df.loc[df['order_purchase_timestamp_max'] < date_base_max, rfm]"
   ]
  },
  {
   "cell_type": "code",
   "execution_count": 11,
   "id": "1cbac5eb-147f-4750-8c5f-d6b2617a5fdf",
   "metadata": {
    "tags": []
   },
   "outputs": [
    {
     "data": {
      "text/html": [
       "<div>\n",
       "<style scoped>\n",
       "    .dataframe tbody tr th:only-of-type {\n",
       "        vertical-align: middle;\n",
       "    }\n",
       "\n",
       "    .dataframe tbody tr th {\n",
       "        vertical-align: top;\n",
       "    }\n",
       "\n",
       "    .dataframe thead th {\n",
       "        text-align: right;\n",
       "    }\n",
       "</style>\n",
       "<table border=\"1\" class=\"dataframe\">\n",
       "  <thead>\n",
       "    <tr style=\"text-align: right;\">\n",
       "      <th></th>\n",
       "      <th>recence</th>\n",
       "      <th>frequence</th>\n",
       "      <th>montant</th>\n",
       "    </tr>\n",
       "  </thead>\n",
       "  <tbody>\n",
       "    <tr>\n",
       "      <th>0</th>\n",
       "      <td>2551</td>\n",
       "      <td>0.0</td>\n",
       "      <td>72.89</td>\n",
       "    </tr>\n",
       "    <tr>\n",
       "      <th>1</th>\n",
       "      <td>2550</td>\n",
       "      <td>0.0</td>\n",
       "      <td>59.50</td>\n",
       "    </tr>\n",
       "    <tr>\n",
       "      <th>2</th>\n",
       "      <td>2523</td>\n",
       "      <td>0.0</td>\n",
       "      <td>100.00</td>\n",
       "    </tr>\n",
       "    <tr>\n",
       "      <th>3</th>\n",
       "      <td>2522</td>\n",
       "      <td>0.0</td>\n",
       "      <td>21.90</td>\n",
       "    </tr>\n",
       "    <tr>\n",
       "      <th>4</th>\n",
       "      <td>2522</td>\n",
       "      <td>0.0</td>\n",
       "      <td>21.50</td>\n",
       "    </tr>\n",
       "    <tr>\n",
       "      <th>...</th>\n",
       "      <td>...</td>\n",
       "      <td>...</td>\n",
       "      <td>...</td>\n",
       "    </tr>\n",
       "    <tr>\n",
       "      <th>21594</th>\n",
       "      <td>2186</td>\n",
       "      <td>0.0</td>\n",
       "      <td>59.90</td>\n",
       "    </tr>\n",
       "    <tr>\n",
       "      <th>21595</th>\n",
       "      <td>2186</td>\n",
       "      <td>0.0</td>\n",
       "      <td>179.90</td>\n",
       "    </tr>\n",
       "    <tr>\n",
       "      <th>21596</th>\n",
       "      <td>2186</td>\n",
       "      <td>0.0</td>\n",
       "      <td>59.90</td>\n",
       "    </tr>\n",
       "    <tr>\n",
       "      <th>21597</th>\n",
       "      <td>2186</td>\n",
       "      <td>0.0</td>\n",
       "      <td>339.90</td>\n",
       "    </tr>\n",
       "    <tr>\n",
       "      <th>21598</th>\n",
       "      <td>2186</td>\n",
       "      <td>0.0</td>\n",
       "      <td>59.90</td>\n",
       "    </tr>\n",
       "  </tbody>\n",
       "</table>\n",
       "<p>21599 rows × 3 columns</p>\n",
       "</div>"
      ],
      "text/plain": [
       "       recence  frequence  montant\n",
       "0         2551        0.0    72.89\n",
       "1         2550        0.0    59.50\n",
       "2         2523        0.0   100.00\n",
       "3         2522        0.0    21.90\n",
       "4         2522        0.0    21.50\n",
       "...        ...        ...      ...\n",
       "21594     2186        0.0    59.90\n",
       "21595     2186        0.0   179.90\n",
       "21596     2186        0.0    59.90\n",
       "21597     2186        0.0   339.90\n",
       "21598     2186        0.0    59.90\n",
       "\n",
       "[21599 rows x 3 columns]"
      ]
     },
     "execution_count": 11,
     "metadata": {},
     "output_type": "execute_result"
    }
   ],
   "source": [
    "df_base"
   ]
  },
  {
   "cell_type": "markdown",
   "id": "bc0ae3df-1a5f-4073-bd84-0445fba10c48",
   "metadata": {
    "tags": []
   },
   "source": [
    "#### Clustering et recuperations des centroïds"
   ]
  },
  {
   "cell_type": "code",
   "execution_count": 12,
   "id": "70d527be-a78e-401c-bcfa-7db70ab11e08",
   "metadata": {
    "tags": []
   },
   "outputs": [],
   "source": [
    "model_base = model_kmean(df_base, 4, RANDOM_STATE)"
   ]
  },
  {
   "cell_type": "code",
   "execution_count": 13,
   "id": "137ada38-56f6-4bbf-a23b-bd0d11802f40",
   "metadata": {},
   "outputs": [],
   "source": [
    "base_centers = model_base.cluster_centers_"
   ]
  },
  {
   "cell_type": "code",
   "execution_count": 14,
   "id": "2a6b229d-e6f6-4f71-9fc3-ce7521c007b4",
   "metadata": {
    "tags": []
   },
   "outputs": [],
   "source": [
    "df_base['label'] = model_base.labels_"
   ]
  },
  {
   "cell_type": "code",
   "execution_count": 15,
   "id": "a2b72335-386f-4f42-9921-85bd04f15b23",
   "metadata": {
    "tags": []
   },
   "outputs": [
    {
     "data": {
      "text/html": [
       "<div>\n",
       "<style scoped>\n",
       "    .dataframe tbody tr th:only-of-type {\n",
       "        vertical-align: middle;\n",
       "    }\n",
       "\n",
       "    .dataframe tbody tr th {\n",
       "        vertical-align: top;\n",
       "    }\n",
       "\n",
       "    .dataframe thead th {\n",
       "        text-align: right;\n",
       "    }\n",
       "</style>\n",
       "<table border=\"1\" class=\"dataframe\">\n",
       "  <thead>\n",
       "    <tr style=\"text-align: right;\">\n",
       "      <th></th>\n",
       "      <th>recence</th>\n",
       "      <th>frequence</th>\n",
       "      <th>montant</th>\n",
       "      <th>label</th>\n",
       "    </tr>\n",
       "  </thead>\n",
       "  <tbody>\n",
       "    <tr>\n",
       "      <th>0</th>\n",
       "      <td>2551</td>\n",
       "      <td>0.0</td>\n",
       "      <td>72.89</td>\n",
       "      <td>0</td>\n",
       "    </tr>\n",
       "    <tr>\n",
       "      <th>1</th>\n",
       "      <td>2550</td>\n",
       "      <td>0.0</td>\n",
       "      <td>59.50</td>\n",
       "      <td>0</td>\n",
       "    </tr>\n",
       "    <tr>\n",
       "      <th>2</th>\n",
       "      <td>2523</td>\n",
       "      <td>0.0</td>\n",
       "      <td>100.00</td>\n",
       "      <td>0</td>\n",
       "    </tr>\n",
       "    <tr>\n",
       "      <th>3</th>\n",
       "      <td>2522</td>\n",
       "      <td>0.0</td>\n",
       "      <td>21.90</td>\n",
       "      <td>0</td>\n",
       "    </tr>\n",
       "    <tr>\n",
       "      <th>4</th>\n",
       "      <td>2522</td>\n",
       "      <td>0.0</td>\n",
       "      <td>21.50</td>\n",
       "      <td>0</td>\n",
       "    </tr>\n",
       "    <tr>\n",
       "      <th>...</th>\n",
       "      <td>...</td>\n",
       "      <td>...</td>\n",
       "      <td>...</td>\n",
       "      <td>...</td>\n",
       "    </tr>\n",
       "    <tr>\n",
       "      <th>21594</th>\n",
       "      <td>2186</td>\n",
       "      <td>0.0</td>\n",
       "      <td>59.90</td>\n",
       "      <td>0</td>\n",
       "    </tr>\n",
       "    <tr>\n",
       "      <th>21595</th>\n",
       "      <td>2186</td>\n",
       "      <td>0.0</td>\n",
       "      <td>179.90</td>\n",
       "      <td>0</td>\n",
       "    </tr>\n",
       "    <tr>\n",
       "      <th>21596</th>\n",
       "      <td>2186</td>\n",
       "      <td>0.0</td>\n",
       "      <td>59.90</td>\n",
       "      <td>0</td>\n",
       "    </tr>\n",
       "    <tr>\n",
       "      <th>21597</th>\n",
       "      <td>2186</td>\n",
       "      <td>0.0</td>\n",
       "      <td>339.90</td>\n",
       "      <td>0</td>\n",
       "    </tr>\n",
       "    <tr>\n",
       "      <th>21598</th>\n",
       "      <td>2186</td>\n",
       "      <td>0.0</td>\n",
       "      <td>59.90</td>\n",
       "      <td>0</td>\n",
       "    </tr>\n",
       "  </tbody>\n",
       "</table>\n",
       "<p>21599 rows × 4 columns</p>\n",
       "</div>"
      ],
      "text/plain": [
       "       recence  frequence  montant  label\n",
       "0         2551        0.0    72.89      0\n",
       "1         2550        0.0    59.50      0\n",
       "2         2523        0.0   100.00      0\n",
       "3         2522        0.0    21.90      0\n",
       "4         2522        0.0    21.50      0\n",
       "...        ...        ...      ...    ...\n",
       "21594     2186        0.0    59.90      0\n",
       "21595     2186        0.0   179.90      0\n",
       "21596     2186        0.0    59.90      0\n",
       "21597     2186        0.0   339.90      0\n",
       "21598     2186        0.0    59.90      0\n",
       "\n",
       "[21599 rows x 4 columns]"
      ]
     },
     "execution_count": 15,
     "metadata": {},
     "output_type": "execute_result"
    }
   ],
   "source": [
    "df_base"
   ]
  },
  {
   "cell_type": "code",
   "execution_count": 16,
   "id": "d758de10-7104-42df-b1c8-875a06fc347c",
   "metadata": {
    "tags": []
   },
   "outputs": [
    {
     "data": {
      "text/plain": [
       "label\n",
       "0    20728\n",
       "3      744\n",
       "2       85\n",
       "1       42\n",
       "Name: count, dtype: int64"
      ]
     },
     "execution_count": 16,
     "metadata": {},
     "output_type": "execute_result"
    }
   ],
   "source": [
    "df_base['label'].value_counts()"
   ]
  },
  {
   "cell_type": "code",
   "execution_count": 17,
   "id": "fd21bf58-fd92-4d4f-a1c7-9977de9186bf",
   "metadata": {
    "tags": []
   },
   "outputs": [
    {
     "name": "stdout",
     "output_type": "stream",
     "text": [
      "Calcul du l'Adjusted Rand Score avec 406 jours de données supplémentaires à la base de travail\n"
     ]
    }
   ],
   "source": [
    "max_days = (pd.to_datetime(df['order_purchase_timestamp_max'].max()) - pd.to_datetime(df['order_purchase_timestamp_max'].min())).days\n",
    "\n",
    "test_days = base_days + 1\n",
    "\n",
    "ARS = []\n",
    "while test_days <= max_days:\n",
    "    date_test_max = (pd.to_datetime(df['order_purchase_timestamp_max'].min()) + pd.Timedelta(unit='days', value=test_days)).round('d')\n",
    "    df_test = df.loc[df['order_purchase_timestamp_max'] < date_test_max, rfm]\n",
    "\n",
    "    print(f'Calcul du l\\'Adjusted Rand Score avec {test_days - base_days} jours de données supplémentaires à la base de travail', end='\\r')\n",
    "        \n",
    "    model_test = model_kmean(df_test, 4, RANDOM_STATE, base_centers)\n",
    "    new_labels = model_test.labels_[0:df_base.index.max()+1]\n",
    "    ARS.append(metrics.adjusted_rand_score(df_base['label'].to_list(), new_labels))\n",
    "\n",
    "    test_days = test_days + 1\n",
    "        \n",
    "print('')"
   ]
  },
  {
   "cell_type": "markdown",
   "id": "aaefe5c5-edff-4bb1-bec6-b8037dd97bad",
   "metadata": {},
   "source": [
    "#### Observation de l'evolution de l'ARI"
   ]
  },
  {
   "cell_type": "code",
   "execution_count": 18,
   "id": "022cea36-d51e-4177-9dd1-b0b8f208c410",
   "metadata": {
    "tags": []
   },
   "outputs": [
    {
     "data": {
      "image/png": "[encoded data removed]",
      "text/plain": [
       "<Figure size 640x480 with 1 Axes>"
      ]
     },
     "metadata": {},
     "output_type": "display_data"
    }
   ],
   "source": [
    "from scipy.interpolate import make_interp_spline\n",
    "\n",
    "serie_ars = pd.Series(ARS)\n",
    "\n",
    "X_Y_Spline = make_interp_spline(serie_ars.index, serie_ars.values)\n",
    "\n",
    "\n",
    "serie_spline_index = np.arange(serie_ars.index.min(), serie_ars.index.max(), 10)\n",
    "serie_spline=pd.Series(X_Y_Spline(serie_spline_index), index=serie_spline_index)\n",
    "\n",
    "fig = plt.figure()\n",
    "\n",
    "serie_ars.plot()\n",
    "serie_spline.plot()\n",
    "\n",
    "plt.vlines(180, 0.94,1, linestyles='dashed', color='r')\n",
    "plt.title('Evolution Adjusted Rand Score')\n",
    "plt.xlabel('Nombre de jour de data ajoutés à la base')\n",
    "plt.ylabel('Adjusted Rand Score')\n",
    "plt.show()"
   ]
  },
  {
   "cell_type": "markdown",
   "id": "5d21875c-dc5d-4416-b3f6-753ec225d4c7",
   "metadata": {},
   "source": [
    "#### Conclusion"
   ]
  },
  {
   "cell_type": "markdown",
   "id": "c531e7db-0643-4036-8ecb-90594610c2f9",
   "metadata": {},
   "source": [
    "A partir de 180 jours de données supplémentaires on atteint un palier pour lequel les clusters stagnent sur une évolution par rapport à leur état initial à 0.95 de l'Adjusted Rand Score.\n",
    "\n",
    "La recommandation est donc de mettre le model à jour tous les 6 mois"
   ]
  },
  {
   "cell_type": "markdown",
   "id": "6f57cc0c-a462-400f-aa38-96a1c5e04aa0",
   "metadata": {},
   "source": [
    "## Test par glissement incrémental"
   ]
  },
  {
   "cell_type": "markdown",
   "id": "d474375c-344e-41e2-a85b-1c14b18f1326",
   "metadata": {
    "tags": []
   },
   "source": [
    "Le principe est le suivant:\n",
    "\n",
    "- Un clustering de base est réalisé sur 1 an de data\n",
    "- On crée une boucle de calcul dans laquelle:\n",
    "  - On selectionne les data avec 7 jours de décalage sur le précédent\n",
    "  - on fait un clustering sur ce nouveau jeu de données elargie (en prenant garde d'utiliser les mêmes centroïds que le clustering de base afin de ne pas changer l'index des clusters)\n",
    "  - on refait une prediction du clustering de base avec ce nouveau model décalé\n",
    "  - on calcul l'evolution des clusters par rapport au clustering de base avec la metric Adjusted Rand Index\n",
    "- On observe la courbe d'évolution journalière de l'ARI pour en déduire la période optimale de réactualisation du model"
   ]
  },
  {
   "cell_type": "code",
   "execution_count": 60,
   "id": "faf49bcd-9589-4921-b54e-0c5694177857",
   "metadata": {
    "tags": []
   },
   "outputs": [
    {
     "name": "stdout",
     "output_type": "stream",
     "text": [
      "Calcul du l'Adjusted Rand Score avec 400 jours de données de décalage à la base de travail\n",
      "Nombre de cluster min prédits: 2 | Nombre de cluster max prédits: 4\n"
     ]
    }
   ],
   "source": [
    "max_days = (pd.to_datetime(df['order_purchase_timestamp_max'].max()) - pd.to_datetime(df['order_purchase_timestamp_max'].min())).days\n",
    "\n",
    "min_test_days = 1\n",
    "max_test_days = base_days + 1\n",
    "\n",
    "ARS = []\n",
    "new_labels_count = {'min': 5, 'max': 0}\n",
    "while max_test_days <= max_days:\n",
    "    date_test_min = (pd.to_datetime(df['order_purchase_timestamp_max'].min()) + pd.Timedelta(unit='days', value=min_test_days)).round('d')\n",
    "    date_test_max = (pd.to_datetime(df['order_purchase_timestamp_max'].min()) + pd.Timedelta(unit='days', value=max_test_days)).round('d')\n",
    "    \n",
    "    df_test = df.loc[(df['order_purchase_timestamp_max'] >= date_test_min) & (df['order_purchase_timestamp_max'] < date_test_max), rfm]\n",
    "\n",
    "    print(f'Calcul du l\\'Adjusted Rand Score avec {min_test_days} jours de données de décalage à la base de travail', end='\\r')\n",
    "        \n",
    "    model_test = model_kmean(df_test, 4, RANDOM_STATE)\n",
    "    \n",
    "    new_labels = model_test.predict(df_base.loc[:, rfm])\n",
    "    \n",
    "    count_labels = len(np.unique(new_labels))\n",
    "    if (count_labels < new_labels_count['min']): new_labels_count['min'] = count_labels\n",
    "    if (count_labels > new_labels_count['max']): new_labels_count['max'] = count_labels\n",
    "    \n",
    "    ARS.append(metrics.adjusted_rand_score(df_base['label'].to_list(), new_labels))\n",
    "\n",
    "    min_test_days = min_test_days + 7\n",
    "    max_test_days = max_test_days + 7\n",
    "        \n",
    "print('')\n",
    "l_min = new_labels_count['min']\n",
    "l_max = new_labels_count['max']\n",
    "print(f'Nombre de cluster min prédits: {l_min} | Nombre de cluster max prédits: {l_max}')"
   ]
  },
  {
   "cell_type": "markdown",
   "id": "63f31774-0a0e-4a5b-87cc-39867ecbb894",
   "metadata": {},
   "source": [
    "### Observation de l'évolution de l'ARI"
   ]
  },
  {
   "cell_type": "code",
   "execution_count": 61,
   "id": "9141d70f-458c-47ae-8f5e-b3f936a7fc18",
   "metadata": {
    "tags": []
   },
   "outputs": [
    {
     "data": {
      "image/png": "[encoded data removed]",
      "text/plain": [
       "<Figure size 640x480 with 1 Axes>"
      ]
     },
     "metadata": {},
     "output_type": "display_data"
    }
   ],
   "source": [
    "from scipy.interpolate import make_interp_spline\n",
    "\n",
    "serie_ars = pd.Series(ARS)\n",
    "\n",
    "#serie_spline_index = np.arange(serie_ars.index.min(), serie_ars.index.max(), 3)\n",
    "#serie_spline=pd.Series(X_Y_Spline(serie_spline_index), index=serie_spline_index)\n",
    "\n",
    "fig = plt.figure()\n",
    "\n",
    "serie_ars.plot()\n",
    "#serie_spline.plot()\n",
    "\n",
    "plt.title('Evolution Adjusted Rand Score')\n",
    "plt.xlabel('Nombre de semaines de glissement')\n",
    "plt.ylabel('Adjusted Rand Score')\n",
    "plt.show()"
   ]
  },
  {
   "cell_type": "markdown",
   "id": "fae2c3fd-8f65-4bfe-9284-590dd733c4c2",
   "metadata": {
    "tags": []
   },
   "source": [
    "### Conclusion"
   ]
  },
  {
   "cell_type": "markdown",
   "id": "f7c31620-b73a-4784-b92e-d2bd9a549f03",
   "metadata": {},
   "source": [
    "Cette méthode par glissement est moins convainquante, l'ARI est très bas et très fluctuan, notament dû au fait que certaines prédictions ne prédisent que 2 ou 3 clusters au lieu des 4 initiaux\n",
    "\n",
    "On constate tout de même un point d'inflexion vers la 30ieme semaine (210ieme jour). \n",
    "\n",
    "On peut consolider le résultat précédent, c'est à dire qu'une période de l'ordre de 6 mois serait idéale pour une mise à jour du model"
   ]
  },
  {
   "cell_type": "code",
   "execution_count": null,
   "id": "4270d44b-9144-484a-9a6d-9aaffe3bf6aa",
   "metadata": {},
   "outputs": [],
   "source": []
  }
 ],
 "metadata": {
  "kernelspec": {
   "display_name": "Python 3 (ipykernel)",
   "language": "python",
   "name": "python3"
  },
  "language_info": {
   "codemirror_mode": {
    "name": "ipython",
    "version": 3
   },
   "file_extension": ".py",
   "mimetype": "text/x-python",
   "name": "python",
   "nbconvert_exporter": "python",
   "pygments_lexer": "ipython3",
   "version": "3.9.16"
  }
 },
 "nbformat": 4,
 "nbformat_minor": 5
}
