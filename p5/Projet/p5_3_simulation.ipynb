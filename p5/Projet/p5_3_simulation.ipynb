{
 "cells": [
  {
   "cell_type": "markdown",
   "id": "273e083d-bec4-4919-8060-4482174e9e8f",
   "metadata": {
    "tags": []
   },
   "source": [
    "# Imports"
   ]
  },
  {
   "cell_type": "code",
   "execution_count": 20,
   "id": "3c5f5f2a-234f-480d-9151-82205d0c1ce6",
   "metadata": {
    "_cell_guid": "b1076dfc-b9ad-4769-8c92-a6c4dae69d19",
    "_uuid": "8f2839f25d086af736a60e9eeb907d3b93b6e0e5",
    "tags": []
   },
   "outputs": [],
   "source": [
    "import numpy as np\n",
    "import pandas as pd\n",
    "import matplotlib.pyplot as plt\n",
    "import seaborn as sns\n",
    "from tabulate import tabulate\n",
    "\n",
    "from sklearn import preprocessing\n",
    "from sklearn.cluster import KMeans\n",
    "from sklearn import metrics\n",
    "\n",
    "import time\n",
    "from contextlib import contextmanager\n",
    "import gc\n",
    "import warnings\n",
    "import pprint\n",
    "from IPython.display import clear_output"
   ]
  },
  {
   "cell_type": "markdown",
   "id": "defc0592-2e81-43cb-97cb-6fd49985f8b9",
   "metadata": {
    "tags": []
   },
   "source": [
    "# Configuration"
   ]
  },
  {
   "cell_type": "code",
   "execution_count": 21,
   "id": "d65eb49d-0ef2-45eb-88ac-1f1cd7b06a50",
   "metadata": {
    "tags": []
   },
   "outputs": [],
   "source": [
    "RANDOM_STATE= 190276\n",
    "ROOT_INPUT = './data/work/'\n",
    "\n",
    "warnings.simplefilter(action='ignore', category=FutureWarning)\n",
    "warnings.simplefilter(action='ignore', category=UserWarning)\n",
    "sns.set()"
   ]
  },
  {
   "cell_type": "markdown",
   "id": "5542d4e9-9a16-4d07-858e-d46b74f617bc",
   "metadata": {
    "tags": []
   },
   "source": [
    "# Fonctions"
   ]
  },
  {
   "cell_type": "code",
   "execution_count": 22,
   "id": "b9c48473-455c-433e-b0b3-0e4e99d0e0d1",
   "metadata": {
    "tags": []
   },
   "outputs": [],
   "source": [
    "def scale(df: pd.DataFrame, robust = True) -> pd.DataFrame:\n",
    "    \n",
    "    if robust:\n",
    "        scaler = preprocessing.RobustScaler()\n",
    "    else:\n",
    "        scaler = preprocessing.StandardScaler()\n",
    "    columns = df.columns\n",
    "    index = df.index\n",
    "    df_scaled = scaler.fit_transform(df)\n",
    "    \n",
    "    df_scaled = pd.DataFrame(df_scaled, columns=columns, index=index)\n",
    "    \n",
    "    return df_scaled"
   ]
  },
  {
   "cell_type": "markdown",
   "id": "cf213369-27da-4b8b-9674-057430adceb0",
   "metadata": {},
   "source": [
    "# Model"
   ]
  },
  {
   "cell_type": "code",
   "execution_count": 23,
   "id": "2e541e51-7b92-4045-9893-15a7729b8e7f",
   "metadata": {
    "tags": []
   },
   "outputs": [],
   "source": [
    "def model_kmean(df, n_clusters, random_state = None):\n",
    "    \n",
    "    # Selection des types number uniquement\n",
    "    df_kmean = df.select_dtypes('number')\n",
    "    \n",
    "    # Robust scale\n",
    "    df_scaled = scale(df_kmean)\n",
    "    \n",
    "    # Fit\n",
    "    kmeans = KMeans(n_clusters=n_clusters, random_state=random_state)\n",
    "    kmeans.fit(df_scaled)\n",
    "    \n",
    "    return kmeans"
   ]
  },
  {
   "cell_type": "markdown",
   "id": "0c323476-7f4b-4578-b6b7-a6057b84ffaf",
   "metadata": {
    "tags": []
   },
   "source": [
    "# Load DataFrame"
   ]
  },
  {
   "cell_type": "code",
   "execution_count": 24,
   "id": "796fca1e-27aa-4b01-bca8-696f266871f2",
   "metadata": {
    "tags": []
   },
   "outputs": [
    {
     "data": {
      "text/html": [
       "<div>\n",
       "<style scoped>\n",
       "    .dataframe tbody tr th:only-of-type {\n",
       "        vertical-align: middle;\n",
       "    }\n",
       "\n",
       "    .dataframe tbody tr th {\n",
       "        vertical-align: top;\n",
       "    }\n",
       "\n",
       "    .dataframe thead th {\n",
       "        text-align: right;\n",
       "    }\n",
       "</style>\n",
       "<table border=\"1\" class=\"dataframe\">\n",
       "  <thead>\n",
       "    <tr style=\"text-align: right;\">\n",
       "      <th></th>\n",
       "      <th>recence</th>\n",
       "      <th>frequence</th>\n",
       "      <th>montant</th>\n",
       "      <th>order_purchase_timestamp_max</th>\n",
       "      <th>order_period_year_max</th>\n",
       "      <th>order_period_quarter_max</th>\n",
       "      <th>order_period_month_max</th>\n",
       "    </tr>\n",
       "    <tr>\n",
       "      <th>customer_unique_id</th>\n",
       "      <th></th>\n",
       "      <th></th>\n",
       "      <th></th>\n",
       "      <th></th>\n",
       "      <th></th>\n",
       "      <th></th>\n",
       "      <th></th>\n",
       "    </tr>\n",
       "  </thead>\n",
       "  <tbody>\n",
       "    <tr>\n",
       "      <th>0000366f3b9a7992bf8c76cfdf3221e2</th>\n",
       "      <td>1938</td>\n",
       "      <td>0.0</td>\n",
       "      <td>129.90</td>\n",
       "      <td>2018-05-10 10:56:27</td>\n",
       "      <td>2018</td>\n",
       "      <td>2018Q2</td>\n",
       "      <td>2018-05</td>\n",
       "    </tr>\n",
       "    <tr>\n",
       "      <th>0000b849f77a49e4a4ce2b2a4ca5be3f</th>\n",
       "      <td>1941</td>\n",
       "      <td>0.0</td>\n",
       "      <td>18.90</td>\n",
       "      <td>2018-05-07 11:11:27</td>\n",
       "      <td>2018</td>\n",
       "      <td>2018Q2</td>\n",
       "      <td>2018-05</td>\n",
       "    </tr>\n",
       "    <tr>\n",
       "      <th>0000f46a3911fa3c0805444483337064</th>\n",
       "      <td>2364</td>\n",
       "      <td>0.0</td>\n",
       "      <td>69.00</td>\n",
       "      <td>2017-03-10 21:05:03</td>\n",
       "      <td>2017</td>\n",
       "      <td>2017Q1</td>\n",
       "      <td>2017-03</td>\n",
       "    </tr>\n",
       "    <tr>\n",
       "      <th>0000f6ccb0745a6a4b88665a16c9f078</th>\n",
       "      <td>2148</td>\n",
       "      <td>0.0</td>\n",
       "      <td>25.99</td>\n",
       "      <td>2017-10-12 20:29:41</td>\n",
       "      <td>2017</td>\n",
       "      <td>2017Q4</td>\n",
       "      <td>2017-10</td>\n",
       "    </tr>\n",
       "    <tr>\n",
       "      <th>0004aac84e0df4da2b147fca70cf8255</th>\n",
       "      <td>2115</td>\n",
       "      <td>0.0</td>\n",
       "      <td>180.00</td>\n",
       "      <td>2017-11-14 19:45:42</td>\n",
       "      <td>2017</td>\n",
       "      <td>2017Q4</td>\n",
       "      <td>2017-11</td>\n",
       "    </tr>\n",
       "    <tr>\n",
       "      <th>...</th>\n",
       "      <td>...</td>\n",
       "      <td>...</td>\n",
       "      <td>...</td>\n",
       "      <td>...</td>\n",
       "      <td>...</td>\n",
       "      <td>...</td>\n",
       "      <td>...</td>\n",
       "    </tr>\n",
       "    <tr>\n",
       "      <th>fffcf5a5ff07b0908bd4e2dbc735a684</th>\n",
       "      <td>2274</td>\n",
       "      <td>0.0</td>\n",
       "      <td>1570.00</td>\n",
       "      <td>2017-06-08 21:00:36</td>\n",
       "      <td>2017</td>\n",
       "      <td>2017Q2</td>\n",
       "      <td>2017-06</td>\n",
       "    </tr>\n",
       "    <tr>\n",
       "      <th>fffea47cd6d3cc0a88bd621562a9d061</th>\n",
       "      <td>2089</td>\n",
       "      <td>0.0</td>\n",
       "      <td>64.89</td>\n",
       "      <td>2017-12-10 20:07:56</td>\n",
       "      <td>2017</td>\n",
       "      <td>2017Q4</td>\n",
       "      <td>2017-12</td>\n",
       "    </tr>\n",
       "    <tr>\n",
       "      <th>ffff371b4d645b6ecea244b27531430a</th>\n",
       "      <td>2395</td>\n",
       "      <td>0.0</td>\n",
       "      <td>89.90</td>\n",
       "      <td>2017-02-07 15:49:16</td>\n",
       "      <td>2017</td>\n",
       "      <td>2017Q1</td>\n",
       "      <td>2017-02</td>\n",
       "    </tr>\n",
       "    <tr>\n",
       "      <th>ffff5962728ec6157033ef9805bacc48</th>\n",
       "      <td>1946</td>\n",
       "      <td>0.0</td>\n",
       "      <td>115.00</td>\n",
       "      <td>2018-05-02 15:17:41</td>\n",
       "      <td>2018</td>\n",
       "      <td>2018Q2</td>\n",
       "      <td>2018-05</td>\n",
       "    </tr>\n",
       "    <tr>\n",
       "      <th>ffffd2657e2aad2907e67c3e9daecbeb</th>\n",
       "      <td>2311</td>\n",
       "      <td>0.0</td>\n",
       "      <td>56.99</td>\n",
       "      <td>2017-05-02 20:18:45</td>\n",
       "      <td>2017</td>\n",
       "      <td>2017Q2</td>\n",
       "      <td>2017-05</td>\n",
       "    </tr>\n",
       "  </tbody>\n",
       "</table>\n",
       "<p>92958 rows × 7 columns</p>\n",
       "</div>"
      ],
      "text/plain": [
       "                                  recence  frequence  montant  \\\n",
       "customer_unique_id                                              \n",
       "0000366f3b9a7992bf8c76cfdf3221e2     1938        0.0   129.90   \n",
       "0000b849f77a49e4a4ce2b2a4ca5be3f     1941        0.0    18.90   \n",
       "0000f46a3911fa3c0805444483337064     2364        0.0    69.00   \n",
       "0000f6ccb0745a6a4b88665a16c9f078     2148        0.0    25.99   \n",
       "0004aac84e0df4da2b147fca70cf8255     2115        0.0   180.00   \n",
       "...                                   ...        ...      ...   \n",
       "fffcf5a5ff07b0908bd4e2dbc735a684     2274        0.0  1570.00   \n",
       "fffea47cd6d3cc0a88bd621562a9d061     2089        0.0    64.89   \n",
       "ffff371b4d645b6ecea244b27531430a     2395        0.0    89.90   \n",
       "ffff5962728ec6157033ef9805bacc48     1946        0.0   115.00   \n",
       "ffffd2657e2aad2907e67c3e9daecbeb     2311        0.0    56.99   \n",
       "\n",
       "                                 order_purchase_timestamp_max  \\\n",
       "customer_unique_id                                              \n",
       "0000366f3b9a7992bf8c76cfdf3221e2          2018-05-10 10:56:27   \n",
       "0000b849f77a49e4a4ce2b2a4ca5be3f          2018-05-07 11:11:27   \n",
       "0000f46a3911fa3c0805444483337064          2017-03-10 21:05:03   \n",
       "0000f6ccb0745a6a4b88665a16c9f078          2017-10-12 20:29:41   \n",
       "0004aac84e0df4da2b147fca70cf8255          2017-11-14 19:45:42   \n",
       "...                                                       ...   \n",
       "fffcf5a5ff07b0908bd4e2dbc735a684          2017-06-08 21:00:36   \n",
       "fffea47cd6d3cc0a88bd621562a9d061          2017-12-10 20:07:56   \n",
       "ffff371b4d645b6ecea244b27531430a          2017-02-07 15:49:16   \n",
       "ffff5962728ec6157033ef9805bacc48          2018-05-02 15:17:41   \n",
       "ffffd2657e2aad2907e67c3e9daecbeb          2017-05-02 20:18:45   \n",
       "\n",
       "                                 order_period_year_max  \\\n",
       "customer_unique_id                                       \n",
       "0000366f3b9a7992bf8c76cfdf3221e2                  2018   \n",
       "0000b849f77a49e4a4ce2b2a4ca5be3f                  2018   \n",
       "0000f46a3911fa3c0805444483337064                  2017   \n",
       "0000f6ccb0745a6a4b88665a16c9f078                  2017   \n",
       "0004aac84e0df4da2b147fca70cf8255                  2017   \n",
       "...                                                ...   \n",
       "fffcf5a5ff07b0908bd4e2dbc735a684                  2017   \n",
       "fffea47cd6d3cc0a88bd621562a9d061                  2017   \n",
       "ffff371b4d645b6ecea244b27531430a                  2017   \n",
       "ffff5962728ec6157033ef9805bacc48                  2018   \n",
       "ffffd2657e2aad2907e67c3e9daecbeb                  2017   \n",
       "\n",
       "                                 order_period_quarter_max  \\\n",
       "customer_unique_id                                          \n",
       "0000366f3b9a7992bf8c76cfdf3221e2                   2018Q2   \n",
       "0000b849f77a49e4a4ce2b2a4ca5be3f                   2018Q2   \n",
       "0000f46a3911fa3c0805444483337064                   2017Q1   \n",
       "0000f6ccb0745a6a4b88665a16c9f078                   2017Q4   \n",
       "0004aac84e0df4da2b147fca70cf8255                   2017Q4   \n",
       "...                                                   ...   \n",
       "fffcf5a5ff07b0908bd4e2dbc735a684                   2017Q2   \n",
       "fffea47cd6d3cc0a88bd621562a9d061                   2017Q4   \n",
       "ffff371b4d645b6ecea244b27531430a                   2017Q1   \n",
       "ffff5962728ec6157033ef9805bacc48                   2018Q2   \n",
       "ffffd2657e2aad2907e67c3e9daecbeb                   2017Q2   \n",
       "\n",
       "                                 order_period_month_max  \n",
       "customer_unique_id                                       \n",
       "0000366f3b9a7992bf8c76cfdf3221e2                2018-05  \n",
       "0000b849f77a49e4a4ce2b2a4ca5be3f                2018-05  \n",
       "0000f46a3911fa3c0805444483337064                2017-03  \n",
       "0000f6ccb0745a6a4b88665a16c9f078                2017-10  \n",
       "0004aac84e0df4da2b147fca70cf8255                2017-11  \n",
       "...                                                 ...  \n",
       "fffcf5a5ff07b0908bd4e2dbc735a684                2017-06  \n",
       "fffea47cd6d3cc0a88bd621562a9d061                2017-12  \n",
       "ffff371b4d645b6ecea244b27531430a                2017-02  \n",
       "ffff5962728ec6157033ef9805bacc48                2018-05  \n",
       "ffffd2657e2aad2907e67c3e9daecbeb                2017-05  \n",
       "\n",
       "[92958 rows x 7 columns]"
      ]
     },
     "execution_count": 24,
     "metadata": {},
     "output_type": "execute_result"
    }
   ],
   "source": [
    "df = pd.read_pickle(ROOT_INPUT + 'rfm.pickle')\n",
    "df"
   ]
  },
  {
   "cell_type": "code",
   "execution_count": 25,
   "id": "1a6337c0-ce8e-4100-9f22-fe627af750d1",
   "metadata": {
    "tags": []
   },
   "outputs": [],
   "source": [
    "df_2017 = df[df['order_period_year_max']=='2017']"
   ]
  },
  {
   "cell_type": "code",
   "execution_count": 19,
   "id": "70d527be-a78e-401c-bcfa-7db70ab11e08",
   "metadata": {
    "tags": []
   },
   "outputs": [],
   "source": [
    "model_2017 = model_kmean(df_2017, 4, RANDOM_STATE)"
   ]
  },
  {
   "cell_type": "code",
   "execution_count": null,
   "id": "137ada38-56f6-4bbf-a23b-bd0d11802f40",
   "metadata": {},
   "outputs": [],
   "source": [
    "model_2017."
   ]
  }
 ],
 "metadata": {
  "kernelspec": {
   "display_name": "Python 3 (ipykernel)",
   "language": "python",
   "name": "python3"
  },
  "language_info": {
   "codemirror_mode": {
    "name": "ipython",
    "version": 3
   },
   "file_extension": ".py",
   "mimetype": "text/x-python",
   "name": "python",
   "nbconvert_exporter": "python",
   "pygments_lexer": "ipython3",
   "version": "3.9.16"
  }
 },
 "nbformat": 4,
 "nbformat_minor": 5
}
